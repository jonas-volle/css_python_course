{
 "cells": [
  {
   "cell_type": "markdown",
   "id": "b4be2aae",
   "metadata": {},
   "source": [
    "# Tag 3 - Übung 2"
   ]
  },
  {
   "cell_type": "code",
   "execution_count": 2,
   "id": "d4e7f24a",
   "metadata": {},
   "outputs": [],
   "source": [
    "import requests\n",
    "from bs4 import BeautifulSoup\n",
    "import pandas as pd\n",
    "import numpy as np"
   ]
  },
  {
   "cell_type": "code",
   "execution_count": 3,
   "id": "71bd90d7",
   "metadata": {},
   "outputs": [],
   "source": [
    "url = 'https://www.ovgu.de/Presse+_+Medien/Pressemitteilungen/PM+2023/Juni/PM+60_2023-p-133948.html'"
   ]
  },
  {
   "cell_type": "code",
   "execution_count": 4,
   "id": "dd7fab18",
   "metadata": {},
   "outputs": [],
   "source": [
    "soup = BeautifulSoup(requests.get(url).content, 'html.parser')"
   ]
  },
  {
   "cell_type": "markdown",
   "id": "3bbf62ce",
   "metadata": {},
   "source": [
    "Finden sie den Titel mit der Funktion `.find()`"
   ]
  },
  {
   "cell_type": "code",
   "execution_count": 13,
   "id": "b5609c88",
   "metadata": {},
   "outputs": [
    {
     "data": {
      "text/plain": [
       "'OVGU - Akademisches Orchester lädt zum Sommerkonzert'"
      ]
     },
     "execution_count": 13,
     "metadata": {},
     "output_type": "execute_result"
    }
   ],
   "source": [
    "# Titel\n",
    "soup.find('title').text"
   ]
  },
  {
   "cell_type": "code",
   "execution_count": 14,
   "id": "bef61f7b",
   "metadata": {},
   "outputs": [
    {
     "data": {
      "text/plain": [
       "'Akademisches Orchester lädt zum Sommerkonzert'"
      ]
     },
     "execution_count": 14,
     "metadata": {},
     "output_type": "execute_result"
    }
   ],
   "source": [
    "soup.find(\"h2\", {\"id\": \"page-title\"}).text"
   ]
  },
  {
   "cell_type": "markdown",
   "id": "7d2c772e",
   "metadata": {},
   "source": [
    "Extrahieren Sie das Datum des Eintrags"
   ]
  },
  {
   "cell_type": "code",
   "execution_count": 60,
   "id": "ade0c844",
   "metadata": {},
   "outputs": [
    {
     "data": {
      "text/plain": [
       "'08.06.2023'"
      ]
     },
     "execution_count": 60,
     "metadata": {},
     "output_type": "execute_result"
    }
   ],
   "source": [
    "soup.find(\"span\", {\"class\": \"aktuelles_eintrag_datum\"}).text.replace('\\xa0', '').replace('-', '').strip()"
   ]
  },
  {
   "cell_type": "markdown",
   "id": "c28d1400",
   "metadata": {},
   "source": [
    "Extrahieren Sie die Informationen hinter WAS? WANN? und WO?"
   ]
  },
  {
   "cell_type": "code",
   "execution_count": 31,
   "id": "bcade4ab",
   "metadata": {},
   "outputs": [
    {
     "data": {
      "text/plain": [
       "[<tr>\n",
       " <td style=\"width: 10%;\" valign=\"top\"><strong>WAS:</strong></td>\n",
       " <td valign=\"top\">Sommerkonzert des Akademischen Orchesters Magdeburg</td>\n",
       " </tr>,\n",
       " <tr>\n",
       " <td valign=\"top\"><strong>WANN:</strong></td>\n",
       " <td valign=\"top\">18. Juni 2023, 18 Uhr</td>\n",
       " </tr>,\n",
       " <tr>\n",
       " <td valign=\"top\"><strong>WO:</strong></td>\n",
       " <td valign=\"top\">St. Petri Kirche Magdeburg, Neustädter Str. 4, 39104 Magdeburg</td>\n",
       " </tr>]"
      ]
     },
     "execution_count": 31,
     "metadata": {},
     "output_type": "execute_result"
    }
   ],
   "source": [
    "soup.find('table').find_all('tr')"
   ]
  },
  {
   "cell_type": "code",
   "execution_count": 40,
   "id": "44f0afc3",
   "metadata": {},
   "outputs": [],
   "source": [
    "results = {}\n",
    "for row in soup.findAll('tr'):\n",
    "    aux = row.findAll('td')\n",
    "    results[aux[0].text.replace(':','').lower()] = aux[1].text"
   ]
  },
  {
   "cell_type": "code",
   "execution_count": 41,
   "id": "6569dd1c",
   "metadata": {},
   "outputs": [
    {
     "data": {
      "text/plain": [
       "{'was': 'Sommerkonzert des Akademischen Orchesters Magdeburg',\n",
       " 'wann': '18. Juni 2023, 18 Uhr',\n",
       " 'wo': 'St. Petri Kirche Magdeburg, Neustädter Str. 4, 39104 Magdeburg'}"
      ]
     },
     "execution_count": 41,
     "metadata": {},
     "output_type": "execute_result"
    }
   ],
   "source": [
    "results"
   ]
  },
  {
   "cell_type": "code",
   "execution_count": null,
   "id": "f52605ed",
   "metadata": {},
   "outputs": [],
   "source": []
  },
  {
   "cell_type": "code",
   "execution_count": 38,
   "id": "091096de",
   "metadata": {},
   "outputs": [],
   "source": [
    "table = soup.find_all('table')\n",
    "table_df = pd.read_html(str(table))[0]"
   ]
  },
  {
   "cell_type": "code",
   "execution_count": 39,
   "id": "9ac28aca",
   "metadata": {},
   "outputs": [
    {
     "data": {
      "text/html": [
       "<div>\n",
       "<style scoped>\n",
       "    .dataframe tbody tr th:only-of-type {\n",
       "        vertical-align: middle;\n",
       "    }\n",
       "\n",
       "    .dataframe tbody tr th {\n",
       "        vertical-align: top;\n",
       "    }\n",
       "\n",
       "    .dataframe thead th {\n",
       "        text-align: right;\n",
       "    }\n",
       "</style>\n",
       "<table border=\"1\" class=\"dataframe\">\n",
       "  <thead>\n",
       "    <tr style=\"text-align: right;\">\n",
       "      <th></th>\n",
       "      <th>0</th>\n",
       "      <th>1</th>\n",
       "    </tr>\n",
       "  </thead>\n",
       "  <tbody>\n",
       "    <tr>\n",
       "      <th>0</th>\n",
       "      <td>WAS:</td>\n",
       "      <td>Sommerkonzert des Akademischen Orchesters Magd...</td>\n",
       "    </tr>\n",
       "    <tr>\n",
       "      <th>1</th>\n",
       "      <td>WANN:</td>\n",
       "      <td>18. Juni 2023, 18 Uhr</td>\n",
       "    </tr>\n",
       "    <tr>\n",
       "      <th>2</th>\n",
       "      <td>WO:</td>\n",
       "      <td>St. Petri Kirche Magdeburg, Neustädter Str. 4,...</td>\n",
       "    </tr>\n",
       "  </tbody>\n",
       "</table>\n",
       "</div>"
      ],
      "text/plain": [
       "       0                                                  1\n",
       "0   WAS:  Sommerkonzert des Akademischen Orchesters Magd...\n",
       "1  WANN:                              18. Juni 2023, 18 Uhr\n",
       "2    WO:  St. Petri Kirche Magdeburg, Neustädter Str. 4,..."
      ]
     },
     "execution_count": 39,
     "metadata": {},
     "output_type": "execute_result"
    }
   ],
   "source": [
    "table_df"
   ]
  },
  {
   "cell_type": "code",
   "execution_count": null,
   "id": "2a782d49",
   "metadata": {},
   "outputs": [],
   "source": []
  },
  {
   "cell_type": "code",
   "execution_count": 42,
   "id": "7e122d7c",
   "metadata": {},
   "outputs": [
    {
     "data": {
      "text/plain": [
       "'Sommerkonzert des Akademischen Orchesters Magdeburg'"
      ]
     },
     "execution_count": 42,
     "metadata": {},
     "output_type": "execute_result"
    }
   ],
   "source": [
    "# Was?\n",
    "results['was']"
   ]
  },
  {
   "cell_type": "code",
   "execution_count": 43,
   "id": "c724d89f",
   "metadata": {},
   "outputs": [
    {
     "data": {
      "text/plain": [
       "'18. Juni 2023, 18 Uhr'"
      ]
     },
     "execution_count": 43,
     "metadata": {},
     "output_type": "execute_result"
    }
   ],
   "source": [
    "# wann?\n",
    "results['wann']"
   ]
  },
  {
   "cell_type": "code",
   "execution_count": 44,
   "id": "6fbb0eec",
   "metadata": {},
   "outputs": [
    {
     "data": {
      "text/plain": [
       "'St. Petri Kirche Magdeburg, Neustädter Str. 4, 39104 Magdeburg'"
      ]
     },
     "execution_count": 44,
     "metadata": {},
     "output_type": "execute_result"
    }
   ],
   "source": [
    "# wo?\n",
    "results['wo']"
   ]
  },
  {
   "cell_type": "markdown",
   "id": "fa86c766",
   "metadata": {},
   "source": [
    "Extrahieren Sie den Text auf der Webseite"
   ]
  },
  {
   "cell_type": "code",
   "execution_count": 46,
   "id": "61ad1078",
   "metadata": {},
   "outputs": [],
   "source": [
    "paragraphs = soup.findAll('p')"
   ]
  },
  {
   "cell_type": "code",
   "execution_count": 51,
   "id": "4cf1cc4c",
   "metadata": {},
   "outputs": [],
   "source": [
    "all_text = \" \".join(para.text.replace('\\n', ' ').replace('\\t', ' ') for para in paragraphs)"
   ]
  },
  {
   "cell_type": "code",
   "execution_count": 52,
   "id": "ddef3945",
   "metadata": {},
   "outputs": [
    {
     "data": {
      "text/plain": [
       "'Passend zum kommenden Sommeranfang lädt das Akademische Orchester der Otto-von-Guericke-Universität Magdeburg am 18. Juni 2023 um 18 Uhr zu seinem Sommerkonzert in der St. Petri Kirche in Magdeburg ein. Unter der Leitung des Dirigenten Mauro Mariani werden die rund 40 Musikerinnen und Musiker die „Italienische“ Sinfonie von Felix Mendelssohn Bartholdy, die „Londoner“ Sinfonie von Joseph Haydn und eine Filmmusik aufführen. Karten für das Sommerkonzert sind für 10 bzw. ermäßigt 5 Euro im Vorverkauf und an der Abendkasse erhältlich. Der Vorverkauf findet online sowie in der 24. KW 2023 auf dem Haupt- und Medizinercampus statt. Weitere Informationen finden Sie auf der Website des Akademischen Orchesters und den jeweiligen Social-Media-Kanälen.  Das Akademische Orchester wurde 1994 vom Dirigenten Peter Petkow, der Musikwissenschaftlerin Dr. Sigrid Hansen und dem Musikwissenschaftler Dr. Rüdiger Pfeiffer aus dem damaligen Institut für Musik der Universität Magdeburg gegründet. Seit 2012 steht es unter der Schirmherrschaft des Rektors der Otto-von-Guericke-Universität Magdeburg. Das Orchester besteht aus etwa 40 Musikerinnen und Musikern; hauptsächlich sind es Studierende, Mitarbeitende und Alumni der Otto-von-Guericke-Universität Magdeburg sowie der Hochschule Magdeburg-Stendal. Seit 2020 leitet Mauro Mariani, Student für Orchesterdirigieren an der Hochschule für Musik Franz Liszt in Weimar, das Akademische Orchester. Neben Studierenden und Mitarbeitenden der Otto-von-Guericke Universität und der Hochschule Magdeburg-Stendal sind Musikinteressierte aller Instrumentengruppen willkommen. Das Orchester probt immer mittwochs von 19:30 Uhr bis 21:30 Uhr. Interessierte Musikerinnen und Musiker können sich via E-Mail unter  an die Orchesterleitung wenden.  Akademisches Orchester Magdeburg  Orchesterratsmitglied für Öffentlichkeitsarbeit Klara Berndt     Akademisches Orchester der Universität Magdeburg lädt zum Sommerkonzert 2023 Tickets kaufen Website Akademisches Orchester      Letzte Änderung: 19.06.2023 - Ansprechpartner:       Katharina Vorwerk       Otto-von-Guericke-     Universität Magdeburg     Universitätsplatz 2 39106 Magdeburg       Tel.: +49 391 67-01     Fax:  +49 391 67-11156   Impressum Presse & Medien  Größere Karte anzeigen  Campusplan   Familie in der Hochschule Systemakkreditierung   Stipendien Studentenwerk Unishop   Beratung und Unterstützung Notrufnummern der Universität Infopoint & Fundbüro                 Tel.: +49 391 67-54444         Vorlesen       Drucken    Permalink'"
      ]
     },
     "execution_count": 52,
     "metadata": {},
     "output_type": "execute_result"
    }
   ],
   "source": [
    "all_text"
   ]
  },
  {
   "cell_type": "code",
   "execution_count": null,
   "id": "d40c2b4f",
   "metadata": {},
   "outputs": [],
   "source": []
  },
  {
   "cell_type": "markdown",
   "id": "186b83fd",
   "metadata": {},
   "source": [
    "Erstellen Sie eine Funktion, die eine url aufnimmt und die Titel, Datum und Text in einer Liste zurückgibt."
   ]
  },
  {
   "cell_type": "code",
   "execution_count": 61,
   "id": "fddda90a",
   "metadata": {},
   "outputs": [],
   "source": [
    "def ovgu_article(url):\n",
    "    \n",
    "    results = requests.get(url)\n",
    "    \n",
    "    if results.ok:\n",
    "        \n",
    "        soup = BeautifulSoup(results.content, 'html.parser')\n",
    "        \n",
    "        # Title\n",
    "        try:\n",
    "            title_tmp = soup.find(\"h2\", {\"id\": \"page-title\"}).text\n",
    "        except:\n",
    "            title_tmp = np.nan\n",
    "            \n",
    "        # Date\n",
    "        try:\n",
    "            date_tmp = soup.find(\"span\", {\"class\": \"aktuelles_eintrag_datum\"}).text.replace('\\xa0', '').replace('-', '').strip()\n",
    "        except:\n",
    "            date_tmp = np.nan\n",
    "            \n",
    "        # Text\n",
    "        try:\n",
    "            text_tmp = \" \".join(para.text.replace('\\n', ' ').replace('\\t', ' ') for para in soup.findAll('p'))\n",
    "        except:\n",
    "            text_tmp = np.nan\n",
    "\n",
    "        return [title_tmp, date_tmp, text_tmp]\n",
    "    \n",
    "    else:\n",
    "        return None"
   ]
  },
  {
   "cell_type": "code",
   "execution_count": 63,
   "id": "d01a5ac9",
   "metadata": {},
   "outputs": [
    {
     "data": {
      "text/plain": [
       "['Akademisches Orchester lädt zum Sommerkonzert',\n",
       " '08.06.2023',\n",
       " 'Passend zum kommenden Sommeranfang lädt das Akademische Orchester der Otto-von-Guericke-Universität Magdeburg am 18. Juni 2023 um 18 Uhr zu seinem Sommerkonzert in der St. Petri Kirche in Magdeburg ein. Unter der Leitung des Dirigenten Mauro Mariani werden die rund 40 Musikerinnen und Musiker die „Italienische“ Sinfonie von Felix Mendelssohn Bartholdy, die „Londoner“ Sinfonie von Joseph Haydn und eine Filmmusik aufführen. Karten für das Sommerkonzert sind für 10 bzw. ermäßigt 5 Euro im Vorverkauf und an der Abendkasse erhältlich. Der Vorverkauf findet online sowie in der 24. KW 2023 auf dem Haupt- und Medizinercampus statt. Weitere Informationen finden Sie auf der Website des Akademischen Orchesters und den jeweiligen Social-Media-Kanälen.  Das Akademische Orchester wurde 1994 vom Dirigenten Peter Petkow, der Musikwissenschaftlerin Dr. Sigrid Hansen und dem Musikwissenschaftler Dr. Rüdiger Pfeiffer aus dem damaligen Institut für Musik der Universität Magdeburg gegründet. Seit 2012 steht es unter der Schirmherrschaft des Rektors der Otto-von-Guericke-Universität Magdeburg. Das Orchester besteht aus etwa 40 Musikerinnen und Musikern; hauptsächlich sind es Studierende, Mitarbeitende und Alumni der Otto-von-Guericke-Universität Magdeburg sowie der Hochschule Magdeburg-Stendal. Seit 2020 leitet Mauro Mariani, Student für Orchesterdirigieren an der Hochschule für Musik Franz Liszt in Weimar, das Akademische Orchester. Neben Studierenden und Mitarbeitenden der Otto-von-Guericke Universität und der Hochschule Magdeburg-Stendal sind Musikinteressierte aller Instrumentengruppen willkommen. Das Orchester probt immer mittwochs von 19:30 Uhr bis 21:30 Uhr. Interessierte Musikerinnen und Musiker können sich via E-Mail unter  an die Orchesterleitung wenden.  Akademisches Orchester Magdeburg  Orchesterratsmitglied für Öffentlichkeitsarbeit Klara Berndt     Akademisches Orchester der Universität Magdeburg lädt zum Sommerkonzert 2023 Tickets kaufen Website Akademisches Orchester      Letzte Änderung: 19.06.2023 - Ansprechpartner:       Katharina Vorwerk       Otto-von-Guericke-     Universität Magdeburg     Universitätsplatz 2 39106 Magdeburg       Tel.: +49 391 67-01     Fax:  +49 391 67-11156   Impressum Presse & Medien  Größere Karte anzeigen  Campusplan   Familie in der Hochschule Systemakkreditierung   Stipendien Studentenwerk Unishop   Beratung und Unterstützung Notrufnummern der Universität Infopoint & Fundbüro                 Tel.: +49 391 67-54444         Vorlesen       Drucken    Permalink']"
      ]
     },
     "execution_count": 63,
     "metadata": {},
     "output_type": "execute_result"
    }
   ],
   "source": [
    "ovgu_article('https://www.ovgu.de/Presse+_+Medien/Pressemitteilungen/PM+2023/Juni/PM+60_2023-p-133948.html')"
   ]
  },
  {
   "cell_type": "code",
   "execution_count": null,
   "id": "34c87b61",
   "metadata": {},
   "outputs": [],
   "source": []
  },
  {
   "cell_type": "code",
   "execution_count": null,
   "id": "0e8dc047",
   "metadata": {},
   "outputs": [],
   "source": []
  }
 ],
 "metadata": {
  "kernelspec": {
   "display_name": "Python 3 (ipykernel)",
   "language": "python",
   "name": "python3"
  },
  "language_info": {
   "codemirror_mode": {
    "name": "ipython",
    "version": 3
   },
   "file_extension": ".py",
   "mimetype": "text/x-python",
   "name": "python",
   "nbconvert_exporter": "python",
   "pygments_lexer": "ipython3",
   "version": "3.8.16"
  }
 },
 "nbformat": 4,
 "nbformat_minor": 5
}
