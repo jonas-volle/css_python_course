{
 "cells": [
  {
   "cell_type": "markdown",
   "id": "630c85e1",
   "metadata": {},
   "source": [
    "# Tag 3 Übung 3"
   ]
  },
  {
   "cell_type": "markdown",
   "id": "88464577",
   "metadata": {},
   "source": [
    "Unter https://www.ovgu.de/aktuell-pos-0.html publiziert die OVGU aktuelle Pressemeldungen. Ziel ist es alle Pressemeldungen auf allen Seiten inklusive Text zu extrahieren und in einem DataFrame zu speichern."
   ]
  },
  {
   "cell_type": "code",
   "execution_count": null,
   "id": "e1e23dce",
   "metadata": {},
   "outputs": [],
   "source": [
    "import pandas as pd\n",
    "from bs4 import BeautifulSoup\n",
    "import requests\n",
    "import numpy as np\n",
    "import time"
   ]
  },
  {
   "cell_type": "markdown",
   "id": "e5fc6dcd",
   "metadata": {},
   "source": [
    "## Funktion für eine Seite"
   ]
  },
  {
   "cell_type": "markdown",
   "id": "2825d0df",
   "metadata": {},
   "source": [
    "Die Artikel unter 'https://www.ovgu.de/aktuell-pos-0.html' sind in `div` Container gespeichert. Extrahieren Sie eine Liste, die die fünf `div` Container enthält."
   ]
  },
  {
   "cell_type": "code",
   "execution_count": null,
   "id": "ce6d82a5",
   "metadata": {},
   "outputs": [],
   "source": [
    "url = 'https://www.ovgu.de/aktuell-pos-0.html'"
   ]
  },
  {
   "cell_type": "code",
   "execution_count": null,
   "id": "f071a510",
   "metadata": {},
   "outputs": [],
   "source": [
    "soup = "
   ]
  },
  {
   "cell_type": "code",
   "execution_count": null,
   "id": "eb7406d3",
   "metadata": {},
   "outputs": [],
   "source": [
    "article_list = "
   ]
  },
  {
   "cell_type": "code",
   "execution_count": null,
   "id": "300a61a8",
   "metadata": {},
   "outputs": [],
   "source": [
    "len(article_list)"
   ]
  },
  {
   "cell_type": "code",
   "execution_count": null,
   "id": "0534e93f",
   "metadata": {},
   "outputs": [],
   "source": []
  },
  {
   "cell_type": "markdown",
   "id": "7a4bcafc",
   "metadata": {},
   "source": [
    "Greifen Sie nun mit `.find()` aus dem Paket `Beautifulsoup` auf einen exemplarischen `div` Container (`article_list[0]`) zu und extrahieren Sie Titel, url und Datum."
   ]
  },
  {
   "cell_type": "code",
   "execution_count": null,
   "id": "f5741311",
   "metadata": {},
   "outputs": [],
   "source": [
    "# Title\n"
   ]
  },
  {
   "cell_type": "code",
   "execution_count": null,
   "id": "27e1844f",
   "metadata": {},
   "outputs": [],
   "source": [
    "# url\n"
   ]
  },
  {
   "cell_type": "code",
   "execution_count": null,
   "id": "11554b04",
   "metadata": {},
   "outputs": [],
   "source": [
    "# datum\n"
   ]
  },
  {
   "cell_type": "code",
   "execution_count": null,
   "id": "2d8b68f3",
   "metadata": {},
   "outputs": [],
   "source": []
  },
  {
   "cell_type": "markdown",
   "id": "238ddfd5",
   "metadata": {},
   "source": [
    "Schreiben Sie eine Funktion, die \n",
    "- eine url aufnimmt \n",
    "- eine Liste an `div` Container erstellt\n",
    "- über jeden `div` Container loopt und aus jedem Container eine Liste url, titel und datum extrahiert und an die Liste `article_list` anhängt\n",
    "- die Liste `article_list` zurückgibt\n",
    "- Benutzen Sie try/except statements\n",
    "- Orientieren Sie sich am Code aus dem Manuscript"
   ]
  },
  {
   "cell_type": "code",
   "execution_count": null,
   "id": "2c98acc1",
   "metadata": {},
   "outputs": [],
   "source": [
    "def ovgu_article_meta(url):\n"
   ]
  },
  {
   "cell_type": "markdown",
   "id": "3de0e9ac",
   "metadata": {},
   "source": [
    "Testen Sie Ihre Funktion an der url https://www.ovgu.de/aktuell-pos-0.html"
   ]
  },
  {
   "cell_type": "code",
   "execution_count": null,
   "id": "a37bba60",
   "metadata": {},
   "outputs": [],
   "source": [
    "ovgu_article_meta('https://www.ovgu.de/aktuell-pos-0.html')"
   ]
  },
  {
   "cell_type": "markdown",
   "id": "9eed58d2",
   "metadata": {},
   "source": [
    "## Loop"
   ]
  },
  {
   "cell_type": "markdown",
   "id": "9fd752d1",
   "metadata": {},
   "source": [
    "Erstellen Sie eine Liste mit den urls aller Seiten"
   ]
  },
  {
   "cell_type": "code",
   "execution_count": null,
   "id": "2b5b8993",
   "metadata": {
    "scrolled": true
   },
   "outputs": [],
   "source": [
    "# urls aller Seiten\n",
    "ovgu_pages = [ for  in ]\n",
    "ovgu_pages"
   ]
  },
  {
   "cell_type": "markdown",
   "id": "fda31ebe",
   "metadata": {},
   "source": [
    "Loopen Sie über jede url und wenden Sie Ihre eben erstellte Funktion an. Speichern Sie die zurückgegebenen Listen in der Liste `all_results`."
   ]
  },
  {
   "cell_type": "code",
   "execution_count": null,
   "id": "26600156",
   "metadata": {},
   "outputs": [],
   "source": [
    "# Loop über jede Seite:\n",
    "\n",
    "all_results = []\n",
    "\n",
    "for page_url in ovgu_pages:\n",
    "    "
   ]
  },
  {
   "cell_type": "code",
   "execution_count": null,
   "id": "b48925c9",
   "metadata": {},
   "outputs": [],
   "source": [
    "all_results"
   ]
  },
  {
   "cell_type": "markdown",
   "id": "5b6e6ff7",
   "metadata": {},
   "source": [
    "'flatten' Sie die Liste mit dem Code unten und wandeln Sie die Liste in einen DataFrame um."
   ]
  },
  {
   "cell_type": "code",
   "execution_count": null,
   "id": "8f6ecb74",
   "metadata": {},
   "outputs": [],
   "source": [
    "# flatten list\n",
    "all_results_flat = [i for s in all_results for i in s]\n",
    "all_results_flat"
   ]
  },
  {
   "cell_type": "code",
   "execution_count": null,
   "id": "6c359c4c",
   "metadata": {},
   "outputs": [],
   "source": [
    "all_results_df = "
   ]
  },
  {
   "cell_type": "code",
   "execution_count": null,
   "id": "8cb7b52d",
   "metadata": {},
   "outputs": [],
   "source": [
    "len(all_results_df)"
   ]
  },
  {
   "cell_type": "markdown",
   "id": "4220691b",
   "metadata": {},
   "source": [
    "## Text für jeden Eintrag"
   ]
  },
  {
   "cell_type": "markdown",
   "id": "2fda469d",
   "metadata": {},
   "source": [
    "Erstellen Sie nun eine Funktion, die eine url der Artikel-Webseite aufnimmt und die url und den Text zurückgibt."
   ]
  },
  {
   "cell_type": "code",
   "execution_count": null,
   "id": "b605f07c",
   "metadata": {},
   "outputs": [],
   "source": [
    "def ovgu_article_text(url):"
   ]
  },
  {
   "cell_type": "code",
   "execution_count": null,
   "id": "d7727656",
   "metadata": {},
   "outputs": [],
   "source": [
    "ovgu_article_text(all_results_df.url[0])"
   ]
  },
  {
   "cell_type": "markdown",
   "id": "b1355d50",
   "metadata": {},
   "source": [
    "Wenden Sie diese Funktion mit einem Loop auf jede url im eben erstellten DataFrame an und speichern Sie die Ergebnisse in der List `all_texts`."
   ]
  },
  {
   "cell_type": "code",
   "execution_count": null,
   "id": "2c76a4ea",
   "metadata": {},
   "outputs": [],
   "source": [
    "all_texts = []\n",
    "    \n",
    "for url in all_results_df.url:"
   ]
  },
  {
   "cell_type": "markdown",
   "id": "b13c1a9a",
   "metadata": {},
   "source": [
    "Wandeln Sie das Ergebnis in einen DataFrame um und speichern Sie diesen in `all_texts_df`."
   ]
  },
  {
   "cell_type": "code",
   "execution_count": null,
   "id": "f0e2f5e0",
   "metadata": {},
   "outputs": [],
   "source": [
    "all_texts_df = "
   ]
  },
  {
   "cell_type": "code",
   "execution_count": null,
   "id": "ea077e0c",
   "metadata": {},
   "outputs": [],
   "source": []
  },
  {
   "cell_type": "markdown",
   "id": "db374de7",
   "metadata": {},
   "source": [
    "## Merge"
   ]
  },
  {
   "cell_type": "markdown",
   "id": "ca1996f7",
   "metadata": {},
   "source": [
    "Mergen Sie den Metadata Dataframe mit dem Text-DataFrame über die Variable `url`."
   ]
  },
  {
   "cell_type": "code",
   "execution_count": null,
   "id": "03cd8673",
   "metadata": {},
   "outputs": [],
   "source": []
  },
  {
   "cell_type": "markdown",
   "id": "4e5f3fff",
   "metadata": {},
   "source": [
    "## Export"
   ]
  },
  {
   "cell_type": "markdown",
   "id": "9e72cec3",
   "metadata": {},
   "source": [
    "Speichern Sie das Ergebniss als csv Datei."
   ]
  },
  {
   "cell_type": "code",
   "execution_count": null,
   "id": "21634455",
   "metadata": {},
   "outputs": [],
   "source": []
  },
  {
   "cell_type": "code",
   "execution_count": null,
   "id": "c766d93c",
   "metadata": {},
   "outputs": [],
   "source": []
  },
  {
   "cell_type": "code",
   "execution_count": null,
   "id": "926386ae",
   "metadata": {},
   "outputs": [],
   "source": []
  }
 ],
 "metadata": {
  "kernelspec": {
   "display_name": "Python 3 (ipykernel)",
   "language": "python",
   "name": "python3"
  },
  "language_info": {
   "codemirror_mode": {
    "name": "ipython",
    "version": 3
   },
   "file_extension": ".py",
   "mimetype": "text/x-python",
   "name": "python",
   "nbconvert_exporter": "python",
   "pygments_lexer": "ipython3",
   "version": "3.8.16"
  }
 },
 "nbformat": 4,
 "nbformat_minor": 5
}
