{
 "cells": [
  {
   "cell_type": "markdown",
   "id": "630c85e1",
   "metadata": {},
   "source": [
    "# Tag 3 Übung 3"
   ]
  },
  {
   "cell_type": "markdown",
   "id": "88464577",
   "metadata": {},
   "source": [
    "Unter https://www.ovgu.de/aktuell-pos-0.html publiziert die OVGU aktuelle Pressemeldungen. Ziel ist es alle Pressemeldungen auf allen Seiten inklusive Text zu extrahieren und in einem DataFrame zu speichern."
   ]
  },
  {
   "cell_type": "code",
   "execution_count": 43,
   "id": "e1e23dce",
   "metadata": {},
   "outputs": [],
   "source": [
    "import pandas as pd\n",
    "from bs4 import BeautifulSoup\n",
    "import requests\n",
    "import numpy as np\n",
    "import time"
   ]
  },
  {
   "cell_type": "markdown",
   "id": "e5fc6dcd",
   "metadata": {},
   "source": [
    "## Funktion für eine Seite"
   ]
  },
  {
   "cell_type": "markdown",
   "id": "2825d0df",
   "metadata": {},
   "source": [
    "Die Artikel unter 'https://www.ovgu.de/aktuell-pos-0.html' sind in `div` Container gespeichert. Extrahieren Sie eine Liste, die die fünf `div` Container enthält."
   ]
  },
  {
   "cell_type": "code",
   "execution_count": 85,
   "id": "ce6d82a5",
   "metadata": {},
   "outputs": [],
   "source": [
    "url = 'https://www.ovgu.de/aktuell-pos-0.html'"
   ]
  },
  {
   "cell_type": "code",
   "execution_count": 86,
   "id": "f071a510",
   "metadata": {},
   "outputs": [],
   "source": [
    "soup = BeautifulSoup(requests.get(url).content, 'html.parser')"
   ]
  },
  {
   "cell_type": "code",
   "execution_count": 87,
   "id": "eb7406d3",
   "metadata": {},
   "outputs": [],
   "source": [
    "article_list = soup.find_all(\"div\", {\"class\": 'aktuelles_eintrag'})"
   ]
  },
  {
   "cell_type": "code",
   "execution_count": 88,
   "id": "300a61a8",
   "metadata": {},
   "outputs": [
    {
     "data": {
      "text/plain": [
       "5"
      ]
     },
     "execution_count": 88,
     "metadata": {},
     "output_type": "execute_result"
    }
   ],
   "source": [
    "len(article_list)"
   ]
  },
  {
   "cell_type": "code",
   "execution_count": 89,
   "id": "0534e93f",
   "metadata": {},
   "outputs": [
    {
     "data": {
      "text/plain": [
       "<div class=\"aktuelles_eintrag\">\n",
       "<h3 class=\"aktuelles_titel\"><a href=\"/Presse+_+Medien/Pressemitteilungen/PM+2023/Juni/PM+55_2023-p-133806.html\" target=\"_self\" title=\"Zur ganzen Meldung\"> Was ist zeitgemäßer Deutschunterricht?</a></h3>\n",
       "<div class=\"aktuelles_daten\">\n",
       "<div class=\"aktuelles_kurz\">\n",
       "<span class=\"aktuelles_eintrag_datum\"> 01.06.2023 - </span>\n",
       "<span><p>Wie muss der Deutschunterricht in Zukunft gestaltet sein, um Schüler*innen mit unterschiedlichem Wissensstand und unterschiedlicher Herkunft die beste Bildung ermöglichen zu können? Eine Frage, die (angehende) Deutschlehrkräfte beim Fachtag Deutsch an der Uni Magdeburg klären wollen und in Impulsvorträgen und Workshops neue Ideen und Konzepte für den Deutschunterricht diskutieren. Eine Anmeldung ist bis einschließlich 9. Juni 2023 notwendig.</p> </span>\n",
       "</div>\n",
       "<p><a href=\"/Presse+_+Medien/Pressemitteilungen/PM+2023/Juni/PM+55_2023-p-133806.html\" target=\"_self\" title=\"Zur ganzen Meldung\">mehr ... </a></p>\n",
       "</div>\n",
       "</div>"
      ]
     },
     "execution_count": 89,
     "metadata": {},
     "output_type": "execute_result"
    }
   ],
   "source": [
    "article_list[0]"
   ]
  },
  {
   "cell_type": "markdown",
   "id": "7a4bcafc",
   "metadata": {},
   "source": [
    "Greifen Sie nun mit `.find()` aus dem Paket `Beautifulsoup` auf einen exemplarischen `div` Container (`article_list[0]`) zu und extrahieren Sie Titel, url und Datum."
   ]
  },
  {
   "cell_type": "code",
   "execution_count": 90,
   "id": "f5741311",
   "metadata": {},
   "outputs": [
    {
     "data": {
      "text/plain": [
       "'Was ist zeitgemäßer Deutschunterricht?'"
      ]
     },
     "execution_count": 90,
     "metadata": {},
     "output_type": "execute_result"
    }
   ],
   "source": [
    "# Title\n",
    "article_list[0].find('h3', {\"class\":\"aktuelles_titel\"}).text.strip()"
   ]
  },
  {
   "cell_type": "code",
   "execution_count": 91,
   "id": "27e1844f",
   "metadata": {},
   "outputs": [
    {
     "data": {
      "text/plain": [
       "'https://ovgu.de/Presse+_+Medien/Pressemitteilungen/PM+2023/Juni/PM+55_2023-p-133806.html'"
      ]
     },
     "execution_count": 91,
     "metadata": {},
     "output_type": "execute_result"
    }
   ],
   "source": [
    "# url\n",
    "f\"https://ovgu.de{article_list[0].find('a').get('href')}\""
   ]
  },
  {
   "cell_type": "code",
   "execution_count": 92,
   "id": "11554b04",
   "metadata": {},
   "outputs": [
    {
     "data": {
      "text/plain": [
       "'01.06.2023'"
      ]
     },
     "execution_count": 92,
     "metadata": {},
     "output_type": "execute_result"
    }
   ],
   "source": [
    "# datum\n",
    "article_list[0].find('span', {\"class\":\"aktuelles_eintrag_datum\"}).text.replace('-', '').strip()"
   ]
  },
  {
   "cell_type": "code",
   "execution_count": null,
   "id": "2d8b68f3",
   "metadata": {},
   "outputs": [],
   "source": []
  },
  {
   "cell_type": "markdown",
   "id": "238ddfd5",
   "metadata": {},
   "source": [
    "Schreiben Sie eine Funktion, die \n",
    "- eine url aufnimmt \n",
    "- eine Liste an `div` Container erstellt\n",
    "- über jeden `div` Container loopt und aus jedem Container eine Liste url, titel und datum extrahiert und an die Liste `article_list` anhängt\n",
    "- die Liste `article_list` zurückgibt\n",
    "- Benutzen Sie try/except statements\n",
    "- Orientieren Sie sich am Code aus dem Manuscript"
   ]
  },
  {
   "cell_type": "code",
   "execution_count": 93,
   "id": "2c98acc1",
   "metadata": {},
   "outputs": [],
   "source": [
    "def ovgu_article_meta(url):\n",
    "    \n",
    "    results = requests.get(url)\n",
    "    \n",
    "    if results.ok:\n",
    "        \n",
    "        soup = BeautifulSoup(results.content, 'html.parser')\n",
    "        all_articles = soup.find_all(\"div\", {\"class\": 'aktuelles_eintrag'})\n",
    "    \n",
    "        article_list = []\n",
    "        for article in all_articles:\n",
    "\n",
    "            # link \n",
    "            try:\n",
    "                link_tmp = f\"https://ovgu.de{article.find('a').get('href')}\"\n",
    "            except:\n",
    "                link_tmp = np.nan\n",
    "\n",
    "            # title\n",
    "            try:\n",
    "                title_tmp = article.find('h3', {\"class\":\"aktuelles_titel\"}).text.strip()\n",
    "            except:\n",
    "                title_tmp = np.nan\n",
    "\n",
    "            # time\n",
    "            try:\n",
    "                time_tmp = article.find('span', {\"class\":\"aktuelles_eintrag_datum\"}).text.replace('-', '').strip()\n",
    "            except:\n",
    "                time_tmp = np.nan\n",
    "\n",
    "\n",
    "            article_list.append([link_tmp, title_tmp, time_tmp])\n",
    "\n",
    "        return article_list\n",
    "    \n",
    "    else:\n",
    "        return None"
   ]
  },
  {
   "cell_type": "markdown",
   "id": "3de0e9ac",
   "metadata": {},
   "source": [
    "Testen Sie Ihre Funktion an der url https://www.ovgu.de/aktuell-pos-0.html"
   ]
  },
  {
   "cell_type": "code",
   "execution_count": 94,
   "id": "a37bba60",
   "metadata": {},
   "outputs": [
    {
     "data": {
      "text/plain": [
       "[['https://ovgu.de/Presse+_+Medien/Pressemitteilungen/PM+2023/Juni/PM+55_2023-p-133806.html',\n",
       "  'Was ist zeitgemäßer Deutschunterricht?',\n",
       "  '01.06.2023'],\n",
       " ['https://ovgu.de/Presse+_+Medien/Pressemitteilungen/PM+2023/Juni/PM+56_2023-p-133880.html',\n",
       "  'Warum sind Menschen in Sachsen-Anhalt einsam?',\n",
       "  '05.06.2023'],\n",
       " ['https://ovgu.de/Presse+_+Medien/Pressemitteilungen/PM+2023/Juni/PM+57_2023-p-133912.html',\n",
       "  'Universität Magdeburg bewirbt sich um Exzellenz',\n",
       "  '05.06.2023'],\n",
       " ['https://ovgu.de/Presse+_+Medien/Pressemitteilungen/PM+2023/Juni/PM+58_2023-p-133920.html',\n",
       "  'Rektor hält Jubiläumsvorlesung der Kinder-Uni',\n",
       "  '06.06.2023'],\n",
       " ['https://ovgu.de/Presse+_+Medien/Pressemitteilungen/PM+2023/Juni/PM+59_2023-p-133934.html',\n",
       "  'Neue Stabsstelle für Mikrotechnologie eingerichtet',\n",
       "  '07.06.2023']]"
      ]
     },
     "execution_count": 94,
     "metadata": {},
     "output_type": "execute_result"
    }
   ],
   "source": [
    "ovgu_article_meta('https://www.ovgu.de/aktuell-pos-0.html')"
   ]
  },
  {
   "cell_type": "markdown",
   "id": "9eed58d2",
   "metadata": {},
   "source": [
    "## Loop"
   ]
  },
  {
   "cell_type": "markdown",
   "id": "9fd752d1",
   "metadata": {},
   "source": [
    "Erstellen Sie eine Liste mit den urls aller Seiten"
   ]
  },
  {
   "cell_type": "code",
   "execution_count": 95,
   "id": "2b5b8993",
   "metadata": {
    "scrolled": true
   },
   "outputs": [
    {
     "data": {
      "text/plain": [
       "['https://www.ovgu.de/aktuell-pos-0.html',\n",
       " 'https://www.ovgu.de/aktuell-pos-1.html',\n",
       " 'https://www.ovgu.de/aktuell-pos-2.html']"
      ]
     },
     "execution_count": 95,
     "metadata": {},
     "output_type": "execute_result"
    }
   ],
   "source": [
    "# urls aller Seiten\n",
    "ovgu_pages = [f\"https://www.ovgu.de/aktuell-pos-{i}.html\" for i in range(0,3)]\n",
    "ovgu_pages"
   ]
  },
  {
   "cell_type": "markdown",
   "id": "fda31ebe",
   "metadata": {},
   "source": [
    "Loopen Sie über jede url und wenden Sie Ihre eben erstellte Funktion an. Speichern Sie die zurückgegebenen Listen in der Liste `all_results`."
   ]
  },
  {
   "cell_type": "code",
   "execution_count": 96,
   "id": "26600156",
   "metadata": {},
   "outputs": [
    {
     "name": "stdout",
     "output_type": "stream",
     "text": [
      "https://www.ovgu.de/aktuell-pos-0.html\n",
      "scraped 5 articles!\n",
      "https://www.ovgu.de/aktuell-pos-1.html\n",
      "scraped 5 articles!\n",
      "https://www.ovgu.de/aktuell-pos-2.html\n",
      "scraped 3 articles!\n"
     ]
    }
   ],
   "source": [
    "# Loop über jede Seite:\n",
    "\n",
    "all_results = []\n",
    "\n",
    "for page_url in ovgu_pages:\n",
    "    print(page_url)\n",
    "    \n",
    "    # scrape current page\n",
    "    results_tmp = ovgu_article_meta(page_url)\n",
    "    print(f'scraped {len(results_tmp)} articles!')\n",
    "    \n",
    "    \n",
    "    # append results to list\n",
    "    all_results.append(results_tmp)\n",
    "    \n",
    "    # sleep\n",
    "    time.sleep(1)"
   ]
  },
  {
   "cell_type": "code",
   "execution_count": 97,
   "id": "b48925c9",
   "metadata": {},
   "outputs": [
    {
     "data": {
      "text/plain": [
       "[[['https://ovgu.de/Presse+_+Medien/Pressemitteilungen/PM+2023/Juni/PM+55_2023-p-133806.html',\n",
       "   'Was ist zeitgemäßer Deutschunterricht?',\n",
       "   '01.06.2023'],\n",
       "  ['https://ovgu.de/Presse+_+Medien/Pressemitteilungen/PM+2023/Juni/PM+56_2023-p-133880.html',\n",
       "   'Warum sind Menschen in Sachsen-Anhalt einsam?',\n",
       "   '05.06.2023'],\n",
       "  ['https://ovgu.de/Presse+_+Medien/Pressemitteilungen/PM+2023/Juni/PM+57_2023-p-133912.html',\n",
       "   'Universität Magdeburg bewirbt sich um Exzellenz',\n",
       "   '05.06.2023'],\n",
       "  ['https://ovgu.de/Presse+_+Medien/Pressemitteilungen/PM+2023/Juni/PM+58_2023-p-133920.html',\n",
       "   'Rektor hält Jubiläumsvorlesung der Kinder-Uni',\n",
       "   '06.06.2023'],\n",
       "  ['https://ovgu.de/Presse+_+Medien/Pressemitteilungen/PM+2023/Juni/PM+59_2023-p-133934.html',\n",
       "   'Neue Stabsstelle für Mikrotechnologie eingerichtet',\n",
       "   '07.06.2023']],\n",
       " [['https://ovgu.de/Presse+_+Medien/Pressemitteilungen/PM+2023/Juni/PM+60_2023-p-133948.html',\n",
       "   'Akademisches Orchester lädt zum Sommerkonzert',\n",
       "   '08.06.2023'],\n",
       "  ['https://ovgu.de/Presse+_+Medien/Pressemitteilungen/PM+2023/Juni/PM+61_2023-p-133992.html',\n",
       "   'Ehrendoktorwürde verliehen',\n",
       "   '09.06.2023'],\n",
       "  ['https://ovgu.de/Presse+_+Medien/Pressemitteilungen/PM+2023/Juni/PM+62_2023-p-134014.html',\n",
       "   'Nachhaltige und klimafreundliche Studiengänge',\n",
       "   '12.06.2023'],\n",
       "  ['https://ovgu.de/Presse+_+Medien/Pressemitteilungen/PM+2023/Juni/PM+63_2023-p-134084.html',\n",
       "   'Neue Weiterbildungen für Fachkräfte in der Wasserstoffwirtschaft',\n",
       "   '16.06.2023'],\n",
       "  ['https://ovgu.de/Presse+_+Medien/Pressemitteilungen/PM+2023/Juni/PM+64_2023-p-134098.html',\n",
       "   'Finanzmarktexpertin Lena Tonzer an Uni Magdeburg berufen',\n",
       "   '19.06.2023']],\n",
       " [['https://ovgu.de/Presse+_+Medien/Pressemitteilungen/PM+2023/Juni/PM+65_2023-p-134120.html',\n",
       "   'Musikalische Geburtstagsfeier zum Zwanzigsten',\n",
       "   '20.06.2023'],\n",
       "  ['https://ovgu.de/Presse+_+Medien/Pressemitteilungen/PM+2023/Juni/PM+66_2023-p-134160.html',\n",
       "   'Bewerbungszeitraum für Ausbildungsberuf Mikrotechnologie verlängert',\n",
       "   '27.06.2023'],\n",
       "  ['https://ovgu.de/Presse+_+Medien/Pressemitteilungen/PM+2023/Juni/PM+67_2023-p-134190.html',\n",
       "   'Infoveranstaltung zu neuem Master in Halbleiterindustrie',\n",
       "   '30.06.2023']]]"
      ]
     },
     "execution_count": 97,
     "metadata": {},
     "output_type": "execute_result"
    }
   ],
   "source": [
    "all_results"
   ]
  },
  {
   "cell_type": "markdown",
   "id": "5b6e6ff7",
   "metadata": {},
   "source": [
    "'flatten' Sie die Liste mit dem Code unten und wandeln Sie die Liste in einen DataFrame um."
   ]
  },
  {
   "cell_type": "code",
   "execution_count": 98,
   "id": "8f6ecb74",
   "metadata": {},
   "outputs": [
    {
     "data": {
      "text/plain": [
       "[['https://ovgu.de/Presse+_+Medien/Pressemitteilungen/PM+2023/Juni/PM+55_2023-p-133806.html',\n",
       "  'Was ist zeitgemäßer Deutschunterricht?',\n",
       "  '01.06.2023'],\n",
       " ['https://ovgu.de/Presse+_+Medien/Pressemitteilungen/PM+2023/Juni/PM+56_2023-p-133880.html',\n",
       "  'Warum sind Menschen in Sachsen-Anhalt einsam?',\n",
       "  '05.06.2023'],\n",
       " ['https://ovgu.de/Presse+_+Medien/Pressemitteilungen/PM+2023/Juni/PM+57_2023-p-133912.html',\n",
       "  'Universität Magdeburg bewirbt sich um Exzellenz',\n",
       "  '05.06.2023'],\n",
       " ['https://ovgu.de/Presse+_+Medien/Pressemitteilungen/PM+2023/Juni/PM+58_2023-p-133920.html',\n",
       "  'Rektor hält Jubiläumsvorlesung der Kinder-Uni',\n",
       "  '06.06.2023'],\n",
       " ['https://ovgu.de/Presse+_+Medien/Pressemitteilungen/PM+2023/Juni/PM+59_2023-p-133934.html',\n",
       "  'Neue Stabsstelle für Mikrotechnologie eingerichtet',\n",
       "  '07.06.2023'],\n",
       " ['https://ovgu.de/Presse+_+Medien/Pressemitteilungen/PM+2023/Juni/PM+60_2023-p-133948.html',\n",
       "  'Akademisches Orchester lädt zum Sommerkonzert',\n",
       "  '08.06.2023'],\n",
       " ['https://ovgu.de/Presse+_+Medien/Pressemitteilungen/PM+2023/Juni/PM+61_2023-p-133992.html',\n",
       "  'Ehrendoktorwürde verliehen',\n",
       "  '09.06.2023'],\n",
       " ['https://ovgu.de/Presse+_+Medien/Pressemitteilungen/PM+2023/Juni/PM+62_2023-p-134014.html',\n",
       "  'Nachhaltige und klimafreundliche Studiengänge',\n",
       "  '12.06.2023'],\n",
       " ['https://ovgu.de/Presse+_+Medien/Pressemitteilungen/PM+2023/Juni/PM+63_2023-p-134084.html',\n",
       "  'Neue Weiterbildungen für Fachkräfte in der Wasserstoffwirtschaft',\n",
       "  '16.06.2023'],\n",
       " ['https://ovgu.de/Presse+_+Medien/Pressemitteilungen/PM+2023/Juni/PM+64_2023-p-134098.html',\n",
       "  'Finanzmarktexpertin Lena Tonzer an Uni Magdeburg berufen',\n",
       "  '19.06.2023'],\n",
       " ['https://ovgu.de/Presse+_+Medien/Pressemitteilungen/PM+2023/Juni/PM+65_2023-p-134120.html',\n",
       "  'Musikalische Geburtstagsfeier zum Zwanzigsten',\n",
       "  '20.06.2023'],\n",
       " ['https://ovgu.de/Presse+_+Medien/Pressemitteilungen/PM+2023/Juni/PM+66_2023-p-134160.html',\n",
       "  'Bewerbungszeitraum für Ausbildungsberuf Mikrotechnologie verlängert',\n",
       "  '27.06.2023'],\n",
       " ['https://ovgu.de/Presse+_+Medien/Pressemitteilungen/PM+2023/Juni/PM+67_2023-p-134190.html',\n",
       "  'Infoveranstaltung zu neuem Master in Halbleiterindustrie',\n",
       "  '30.06.2023']]"
      ]
     },
     "execution_count": 98,
     "metadata": {},
     "output_type": "execute_result"
    }
   ],
   "source": [
    "# flatten list\n",
    "all_results_flat = [i for s in all_results for i in s]\n",
    "all_results_flat"
   ]
  },
  {
   "cell_type": "code",
   "execution_count": 99,
   "id": "6c359c4c",
   "metadata": {},
   "outputs": [
    {
     "data": {
      "text/html": [
       "<div>\n",
       "<style scoped>\n",
       "    .dataframe tbody tr th:only-of-type {\n",
       "        vertical-align: middle;\n",
       "    }\n",
       "\n",
       "    .dataframe tbody tr th {\n",
       "        vertical-align: top;\n",
       "    }\n",
       "\n",
       "    .dataframe thead th {\n",
       "        text-align: right;\n",
       "    }\n",
       "</style>\n",
       "<table border=\"1\" class=\"dataframe\">\n",
       "  <thead>\n",
       "    <tr style=\"text-align: right;\">\n",
       "      <th></th>\n",
       "      <th>url</th>\n",
       "      <th>title</th>\n",
       "      <th>date</th>\n",
       "    </tr>\n",
       "  </thead>\n",
       "  <tbody>\n",
       "    <tr>\n",
       "      <th>0</th>\n",
       "      <td>https://ovgu.de/Presse+_+Medien/Pressemitteilu...</td>\n",
       "      <td>Was ist zeitgemäßer Deutschunterricht?</td>\n",
       "      <td>01.06.2023</td>\n",
       "    </tr>\n",
       "    <tr>\n",
       "      <th>1</th>\n",
       "      <td>https://ovgu.de/Presse+_+Medien/Pressemitteilu...</td>\n",
       "      <td>Warum sind Menschen in Sachsen-Anhalt einsam?</td>\n",
       "      <td>05.06.2023</td>\n",
       "    </tr>\n",
       "    <tr>\n",
       "      <th>2</th>\n",
       "      <td>https://ovgu.de/Presse+_+Medien/Pressemitteilu...</td>\n",
       "      <td>Universität Magdeburg bewirbt sich um Exzellenz</td>\n",
       "      <td>05.06.2023</td>\n",
       "    </tr>\n",
       "    <tr>\n",
       "      <th>3</th>\n",
       "      <td>https://ovgu.de/Presse+_+Medien/Pressemitteilu...</td>\n",
       "      <td>Rektor hält Jubiläumsvorlesung der Kinder-Uni</td>\n",
       "      <td>06.06.2023</td>\n",
       "    </tr>\n",
       "    <tr>\n",
       "      <th>4</th>\n",
       "      <td>https://ovgu.de/Presse+_+Medien/Pressemitteilu...</td>\n",
       "      <td>Neue Stabsstelle für Mikrotechnologie eingeric...</td>\n",
       "      <td>07.06.2023</td>\n",
       "    </tr>\n",
       "  </tbody>\n",
       "</table>\n",
       "</div>"
      ],
      "text/plain": [
       "                                                 url   \n",
       "0  https://ovgu.de/Presse+_+Medien/Pressemitteilu...  \\\n",
       "1  https://ovgu.de/Presse+_+Medien/Pressemitteilu...   \n",
       "2  https://ovgu.de/Presse+_+Medien/Pressemitteilu...   \n",
       "3  https://ovgu.de/Presse+_+Medien/Pressemitteilu...   \n",
       "4  https://ovgu.de/Presse+_+Medien/Pressemitteilu...   \n",
       "\n",
       "                                               title        date  \n",
       "0             Was ist zeitgemäßer Deutschunterricht?  01.06.2023  \n",
       "1      Warum sind Menschen in Sachsen-Anhalt einsam?  05.06.2023  \n",
       "2    Universität Magdeburg bewirbt sich um Exzellenz  05.06.2023  \n",
       "3      Rektor hält Jubiläumsvorlesung der Kinder-Uni  06.06.2023  \n",
       "4  Neue Stabsstelle für Mikrotechnologie eingeric...  07.06.2023  "
      ]
     },
     "execution_count": 99,
     "metadata": {},
     "output_type": "execute_result"
    }
   ],
   "source": [
    "all_results_df = pd.DataFrame(all_results_flat, columns = ['url', 'title', 'date'])\n",
    "all_results_df.head()"
   ]
  },
  {
   "cell_type": "code",
   "execution_count": 100,
   "id": "8cb7b52d",
   "metadata": {},
   "outputs": [
    {
     "data": {
      "text/plain": [
       "13"
      ]
     },
     "execution_count": 100,
     "metadata": {},
     "output_type": "execute_result"
    }
   ],
   "source": [
    "len(all_results_df)"
   ]
  },
  {
   "cell_type": "markdown",
   "id": "4220691b",
   "metadata": {},
   "source": [
    "## Text für jeden Eintrag"
   ]
  },
  {
   "cell_type": "markdown",
   "id": "2fda469d",
   "metadata": {},
   "source": [
    "Erstellen Sie nun eine Funktion, die eine url der Artikel-Webseite aufnimmt und die url und den Text zurückgibt."
   ]
  },
  {
   "cell_type": "code",
   "execution_count": 102,
   "id": "b605f07c",
   "metadata": {},
   "outputs": [],
   "source": [
    "def ovgu_article_text(url):\n",
    "    \n",
    "    results = requests.get(url)\n",
    "    \n",
    "    if results.ok:\n",
    "        \n",
    "        soup = BeautifulSoup(results.content, 'html.parser')\n",
    "        all_articles = soup.find_all(\"div\", {\"class\": \"listingResult\"})\n",
    "            \n",
    "        # Text\n",
    "        try:\n",
    "            text_tmp = \" \".join(para.text.replace('\\n', ' ').replace('\\t', ' ') for para in soup.findAll('p'))\n",
    "            text_tmp = \" \".join(text_tmp.split())\n",
    "        except:\n",
    "            np.nan\n",
    "\n",
    "        return [url, text_tmp]\n",
    "    \n",
    "    else:\n",
    "        return None"
   ]
  },
  {
   "cell_type": "code",
   "execution_count": 103,
   "id": "d7727656",
   "metadata": {},
   "outputs": [
    {
     "data": {
      "text/plain": [
       "['https://ovgu.de/Presse+_+Medien/Pressemitteilungen/PM+2023/Juni/PM+55_2023-p-133806.html',\n",
       " 'Im Rahmen der Lehramtsausbildung an der Universität Magdeburg lädt die Fachdidaktik Deutsch der Otto-von-Guericke-Universität Lehramtsstudierende, Deutschlehrkräfte sowie Akteure der Lehreraus-, -fort- und –weiterbildung ein, um über neue Ideen und Konzepte des Deutschunterrichts zu diskutieren. Das Thema des diesjährigen Fachtages „Diversität und Nachhaltigkeit im kompetenzorientierten Deutschunterricht“ greift aktuelle Debatten auf, diskutiert etablierte Methoden kritisch und prüft sie auf ihre Wirksamkeit und Anwendbarkeit. Impulsvorträge und Workshops bieten Gelegenheit, sich mit neuen Unterrichtsideen und -entwürfen auseinanderzusetzen, die eine fächerübergreifende Arbeit zu den Nachhaltigkeitszielen ermöglichen und von Lehrkräften im Vorbereitungsdienst entwickelt und erprobt wurden. Vor dem Hintergrund zunehmend unterschiedlicher Lernvoraussetzungen und der Diversität der Schülerinnen und Schüler hinsichtlich ihrer sozio-ökonomischen, kulturellen und sozialen Hintergründe und Migrationserfahrungen werden Unterrichtsmaterialien und Romane aus rassismuskritischer Sicht diskutiert sowie Vorschläge für einen differenzierten Deutschunterricht vorgestellt. Eine Anmeldung ist bis einschließlich 9. Juni 2023 notwendig. „Wir müssen vor allem die viel zitierte Diversität in den Klassenzimmern künftig mehr als Chance begreifen und, zum Beispiel, Migrationssprachen nicht unterschiedlich bewerten“, so die Deutschdidaktikerin und Tagungsleiterin Juniorprofessorin Dr. Karina Becker. Englisch als Nichtmuttersprachler fließend zu sprechen, werde als Ausweis von Bildung angesehen, fließend Türkisch oder Arabisch zu sprechen, eher stigmatisiert beziehungsweise als gesellschaftlich oder arbeitsplatztechnisch als nicht relevant eingeschätzt. „Wir möchten auf dem Fachtag zusammen mit den Kolleginnen und Kollegen aus dem Staatlichen Seminar für Lehrämter Magdeburg Unterrichtskonzepte vorstellen, die Hierarchisierungen und Wertungen von Sprache kritisch reflektieren und Möglichkeiten bieten, diese zu dekonstruieren. So bietet sich die Chance, Lehrkräfte zu sensibilisieren“, fasst Ulrike Majstrak zusammen, die die Organisation des Fachtags übernommen hat. Der Fachtag Deutsch richtet sich insbesondere an Lehramtsstudierende und (angehende) Deutschlehrkräfte allgemein- und berufsbildender Schulen sowie an Lehrende und Nachwuchswissenschaftlerinnen und -wissenschaftler von Universitäten aus den Bereichen Deutschdidaktik und Deutsch als Fremd- bzw. Zweitsprache. Otto-von-Guericke-Universität Magdeburg Fakultät für Humanwissenschaften Bereich Germanistik Jun.-Prof. Dr. Karina Becker Tel.: +49 391 67-54853 Deutschdidaktiker der Uni Magdeburg diskutieren auf Fachtag neue Unterrichtsideen für einen nachhaltigkeitsorientierten und inklusiven Deutschunterricht Website Fachtag Deutsch Anmeldung Fachtag Deutsch Letzte Änderung: 12.06.2023 - Ansprechpartner: Katharina Vorwerk Otto-von-Guericke- Universität Magdeburg Universitätsplatz 2 39106 Magdeburg Tel.: +49 391 67-01 Fax: +49 391 67-11156 Impressum Presse & Medien Größere Karte anzeigen Campusplan Familie in der Hochschule Systemakkreditierung Stipendien Studentenwerk Unishop Beratung und Unterstützung Notrufnummern der Universität Infopoint & Fundbüro Tel.: +49 391 67-54444 Vorlesen Drucken Permalink']"
      ]
     },
     "execution_count": 103,
     "metadata": {},
     "output_type": "execute_result"
    }
   ],
   "source": [
    "ovgu_article_text(all_results_df.url[0])"
   ]
  },
  {
   "cell_type": "markdown",
   "id": "b1355d50",
   "metadata": {},
   "source": [
    "Wenden Sie diese Funktion mit einem Loop auf jede url im eben erstellten DataFrame an und speichern Sie die Ergebnisse in der List `all_texts`."
   ]
  },
  {
   "cell_type": "code",
   "execution_count": 104,
   "id": "2c76a4ea",
   "metadata": {},
   "outputs": [
    {
     "name": "stdout",
     "output_type": "stream",
     "text": [
      "https://ovgu.de/Presse+_+Medien/Pressemitteilungen/PM+2023/Juni/PM+55_2023-p-133806.html\n",
      "https://ovgu.de/Presse+_+Medien/Pressemitteilungen/PM+2023/Juni/PM+56_2023-p-133880.html\n",
      "https://ovgu.de/Presse+_+Medien/Pressemitteilungen/PM+2023/Juni/PM+57_2023-p-133912.html\n",
      "https://ovgu.de/Presse+_+Medien/Pressemitteilungen/PM+2023/Juni/PM+58_2023-p-133920.html\n",
      "https://ovgu.de/Presse+_+Medien/Pressemitteilungen/PM+2023/Juni/PM+59_2023-p-133934.html\n",
      "https://ovgu.de/Presse+_+Medien/Pressemitteilungen/PM+2023/Juni/PM+60_2023-p-133948.html\n",
      "https://ovgu.de/Presse+_+Medien/Pressemitteilungen/PM+2023/Juni/PM+61_2023-p-133992.html\n",
      "https://ovgu.de/Presse+_+Medien/Pressemitteilungen/PM+2023/Juni/PM+62_2023-p-134014.html\n",
      "https://ovgu.de/Presse+_+Medien/Pressemitteilungen/PM+2023/Juni/PM+63_2023-p-134084.html\n",
      "https://ovgu.de/Presse+_+Medien/Pressemitteilungen/PM+2023/Juni/PM+64_2023-p-134098.html\n",
      "https://ovgu.de/Presse+_+Medien/Pressemitteilungen/PM+2023/Juni/PM+65_2023-p-134120.html\n",
      "https://ovgu.de/Presse+_+Medien/Pressemitteilungen/PM+2023/Juni/PM+66_2023-p-134160.html\n",
      "https://ovgu.de/Presse+_+Medien/Pressemitteilungen/PM+2023/Juni/PM+67_2023-p-134190.html\n"
     ]
    }
   ],
   "source": [
    "all_texts = []\n",
    "    \n",
    "for url in all_results_df.url:\n",
    "    print(url)\n",
    "    try:\n",
    "        all_texts.append(ovgu_article_text(url))\n",
    "    except:\n",
    "        print('Error! Next')\n",
    "        next\n",
    "    time.sleep(1)"
   ]
  },
  {
   "cell_type": "markdown",
   "id": "b13c1a9a",
   "metadata": {},
   "source": [
    "Wandeln Sie das Ergebnis in einen DataFrame um und speichern Sie diesen in `all_texts_df`."
   ]
  },
  {
   "cell_type": "code",
   "execution_count": 105,
   "id": "f0e2f5e0",
   "metadata": {},
   "outputs": [],
   "source": [
    "all_texts_df = pd.DataFrame(all_texts, columns=['url', 'text'])"
   ]
  },
  {
   "cell_type": "code",
   "execution_count": 106,
   "id": "ea077e0c",
   "metadata": {},
   "outputs": [
    {
     "data": {
      "text/html": [
       "<div>\n",
       "<style scoped>\n",
       "    .dataframe tbody tr th:only-of-type {\n",
       "        vertical-align: middle;\n",
       "    }\n",
       "\n",
       "    .dataframe tbody tr th {\n",
       "        vertical-align: top;\n",
       "    }\n",
       "\n",
       "    .dataframe thead th {\n",
       "        text-align: right;\n",
       "    }\n",
       "</style>\n",
       "<table border=\"1\" class=\"dataframe\">\n",
       "  <thead>\n",
       "    <tr style=\"text-align: right;\">\n",
       "      <th></th>\n",
       "      <th>url</th>\n",
       "      <th>text</th>\n",
       "    </tr>\n",
       "  </thead>\n",
       "  <tbody>\n",
       "    <tr>\n",
       "      <th>0</th>\n",
       "      <td>https://ovgu.de/Presse+_+Medien/Pressemitteilu...</td>\n",
       "      <td>Im Rahmen der Lehramtsausbildung an der Univer...</td>\n",
       "    </tr>\n",
       "    <tr>\n",
       "      <th>1</th>\n",
       "      <td>https://ovgu.de/Presse+_+Medien/Pressemitteilu...</td>\n",
       "      <td>Soziologinnen und Soziologen der Otto-von-Guer...</td>\n",
       "    </tr>\n",
       "    <tr>\n",
       "      <th>2</th>\n",
       "      <td>https://ovgu.de/Presse+_+Medien/Pressemitteilu...</td>\n",
       "      <td>Die Otto-von-Guericke-Universität Magdeburg be...</td>\n",
       "    </tr>\n",
       "    <tr>\n",
       "      <th>3</th>\n",
       "      <td>https://ovgu.de/Presse+_+Medien/Pressemitteilu...</td>\n",
       "      <td>Zum 20-jährigen Bestehen der Kinder-Uni Magdeb...</td>\n",
       "    </tr>\n",
       "    <tr>\n",
       "      <th>4</th>\n",
       "      <td>https://ovgu.de/Presse+_+Medien/Pressemitteilu...</td>\n",
       "      <td>An der Otto-von-Guericke-Universität Magdeburg...</td>\n",
       "    </tr>\n",
       "  </tbody>\n",
       "</table>\n",
       "</div>"
      ],
      "text/plain": [
       "                                                 url   \n",
       "0  https://ovgu.de/Presse+_+Medien/Pressemitteilu...  \\\n",
       "1  https://ovgu.de/Presse+_+Medien/Pressemitteilu...   \n",
       "2  https://ovgu.de/Presse+_+Medien/Pressemitteilu...   \n",
       "3  https://ovgu.de/Presse+_+Medien/Pressemitteilu...   \n",
       "4  https://ovgu.de/Presse+_+Medien/Pressemitteilu...   \n",
       "\n",
       "                                                text  \n",
       "0  Im Rahmen der Lehramtsausbildung an der Univer...  \n",
       "1  Soziologinnen und Soziologen der Otto-von-Guer...  \n",
       "2  Die Otto-von-Guericke-Universität Magdeburg be...  \n",
       "3  Zum 20-jährigen Bestehen der Kinder-Uni Magdeb...  \n",
       "4  An der Otto-von-Guericke-Universität Magdeburg...  "
      ]
     },
     "execution_count": 106,
     "metadata": {},
     "output_type": "execute_result"
    }
   ],
   "source": [
    "all_texts_df.head()"
   ]
  },
  {
   "cell_type": "markdown",
   "id": "db374de7",
   "metadata": {},
   "source": [
    "## Merge"
   ]
  },
  {
   "cell_type": "markdown",
   "id": "ca1996f7",
   "metadata": {},
   "source": [
    "Mergen Sie den Metadata Dataframe mit dem Text-DataFrame über die Variable `url`."
   ]
  },
  {
   "cell_type": "code",
   "execution_count": 107,
   "id": "03cd8673",
   "metadata": {},
   "outputs": [
    {
     "data": {
      "text/html": [
       "<div>\n",
       "<style scoped>\n",
       "    .dataframe tbody tr th:only-of-type {\n",
       "        vertical-align: middle;\n",
       "    }\n",
       "\n",
       "    .dataframe tbody tr th {\n",
       "        vertical-align: top;\n",
       "    }\n",
       "\n",
       "    .dataframe thead th {\n",
       "        text-align: right;\n",
       "    }\n",
       "</style>\n",
       "<table border=\"1\" class=\"dataframe\">\n",
       "  <thead>\n",
       "    <tr style=\"text-align: right;\">\n",
       "      <th></th>\n",
       "      <th>url</th>\n",
       "      <th>title</th>\n",
       "      <th>date</th>\n",
       "      <th>text</th>\n",
       "    </tr>\n",
       "  </thead>\n",
       "  <tbody>\n",
       "    <tr>\n",
       "      <th>0</th>\n",
       "      <td>https://ovgu.de/Presse+_+Medien/Pressemitteilu...</td>\n",
       "      <td>Was ist zeitgemäßer Deutschunterricht?</td>\n",
       "      <td>01.06.2023</td>\n",
       "      <td>Im Rahmen der Lehramtsausbildung an der Univer...</td>\n",
       "    </tr>\n",
       "    <tr>\n",
       "      <th>1</th>\n",
       "      <td>https://ovgu.de/Presse+_+Medien/Pressemitteilu...</td>\n",
       "      <td>Warum sind Menschen in Sachsen-Anhalt einsam?</td>\n",
       "      <td>05.06.2023</td>\n",
       "      <td>Soziologinnen und Soziologen der Otto-von-Guer...</td>\n",
       "    </tr>\n",
       "    <tr>\n",
       "      <th>2</th>\n",
       "      <td>https://ovgu.de/Presse+_+Medien/Pressemitteilu...</td>\n",
       "      <td>Universität Magdeburg bewirbt sich um Exzellenz</td>\n",
       "      <td>05.06.2023</td>\n",
       "      <td>Die Otto-von-Guericke-Universität Magdeburg be...</td>\n",
       "    </tr>\n",
       "    <tr>\n",
       "      <th>3</th>\n",
       "      <td>https://ovgu.de/Presse+_+Medien/Pressemitteilu...</td>\n",
       "      <td>Rektor hält Jubiläumsvorlesung der Kinder-Uni</td>\n",
       "      <td>06.06.2023</td>\n",
       "      <td>Zum 20-jährigen Bestehen der Kinder-Uni Magdeb...</td>\n",
       "    </tr>\n",
       "    <tr>\n",
       "      <th>4</th>\n",
       "      <td>https://ovgu.de/Presse+_+Medien/Pressemitteilu...</td>\n",
       "      <td>Neue Stabsstelle für Mikrotechnologie eingeric...</td>\n",
       "      <td>07.06.2023</td>\n",
       "      <td>An der Otto-von-Guericke-Universität Magdeburg...</td>\n",
       "    </tr>\n",
       "  </tbody>\n",
       "</table>\n",
       "</div>"
      ],
      "text/plain": [
       "                                                 url   \n",
       "0  https://ovgu.de/Presse+_+Medien/Pressemitteilu...  \\\n",
       "1  https://ovgu.de/Presse+_+Medien/Pressemitteilu...   \n",
       "2  https://ovgu.de/Presse+_+Medien/Pressemitteilu...   \n",
       "3  https://ovgu.de/Presse+_+Medien/Pressemitteilu...   \n",
       "4  https://ovgu.de/Presse+_+Medien/Pressemitteilu...   \n",
       "\n",
       "                                               title        date   \n",
       "0             Was ist zeitgemäßer Deutschunterricht?  01.06.2023  \\\n",
       "1      Warum sind Menschen in Sachsen-Anhalt einsam?  05.06.2023   \n",
       "2    Universität Magdeburg bewirbt sich um Exzellenz  05.06.2023   \n",
       "3      Rektor hält Jubiläumsvorlesung der Kinder-Uni  06.06.2023   \n",
       "4  Neue Stabsstelle für Mikrotechnologie eingeric...  07.06.2023   \n",
       "\n",
       "                                                text  \n",
       "0  Im Rahmen der Lehramtsausbildung an der Univer...  \n",
       "1  Soziologinnen und Soziologen der Otto-von-Guer...  \n",
       "2  Die Otto-von-Guericke-Universität Magdeburg be...  \n",
       "3  Zum 20-jährigen Bestehen der Kinder-Uni Magdeb...  \n",
       "4  An der Otto-von-Guericke-Universität Magdeburg...  "
      ]
     },
     "execution_count": 107,
     "metadata": {},
     "output_type": "execute_result"
    }
   ],
   "source": [
    "ovgu_results_df = all_results_df.merge(all_texts_df, how='left', on='url')\n",
    "ovgu_results_df.head()"
   ]
  },
  {
   "cell_type": "markdown",
   "id": "4e5f3fff",
   "metadata": {},
   "source": [
    "## Export"
   ]
  },
  {
   "cell_type": "markdown",
   "id": "9e72cec3",
   "metadata": {},
   "source": [
    "Speichern Sie das Ergebniss als csv Datei."
   ]
  },
  {
   "cell_type": "code",
   "execution_count": 108,
   "id": "21634455",
   "metadata": {},
   "outputs": [],
   "source": [
    "ovgu_results_df.to_csv('../data/ovgu_press_articles.csv', index=False)"
   ]
  },
  {
   "cell_type": "code",
   "execution_count": null,
   "id": "c766d93c",
   "metadata": {},
   "outputs": [],
   "source": []
  },
  {
   "cell_type": "code",
   "execution_count": null,
   "id": "926386ae",
   "metadata": {},
   "outputs": [],
   "source": []
  }
 ],
 "metadata": {
  "kernelspec": {
   "display_name": "Python 3 (ipykernel)",
   "language": "python",
   "name": "python3"
  },
  "language_info": {
   "codemirror_mode": {
    "name": "ipython",
    "version": 3
   },
   "file_extension": ".py",
   "mimetype": "text/x-python",
   "name": "python",
   "nbconvert_exporter": "python",
   "pygments_lexer": "ipython3",
   "version": "3.8.16"
  }
 },
 "nbformat": 4,
 "nbformat_minor": 5
}
