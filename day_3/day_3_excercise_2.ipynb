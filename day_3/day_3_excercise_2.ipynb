{
 "cells": [
  {
   "cell_type": "markdown",
   "id": "b4be2aae",
   "metadata": {},
   "source": [
    "# Tag 3 - Übung 2"
   ]
  },
  {
   "cell_type": "code",
   "execution_count": null,
   "id": "d4e7f24a",
   "metadata": {},
   "outputs": [],
   "source": [
    "import requests\n",
    "from bs4 import BeautifulSoup\n",
    "import pandas as pd\n",
    "import numpy as np"
   ]
  },
  {
   "cell_type": "code",
   "execution_count": null,
   "id": "71bd90d7",
   "metadata": {},
   "outputs": [],
   "source": [
    "url = 'https://www.ovgu.de/Presse+_+Medien/Pressemitteilungen/PM+2023/Juni/PM+60_2023-p-133948.html'"
   ]
  },
  {
   "cell_type": "code",
   "execution_count": null,
   "id": "dd7fab18",
   "metadata": {},
   "outputs": [],
   "source": [
    "soup = BeautifulSoup(requests.get(url).content, 'html.parser')"
   ]
  },
  {
   "cell_type": "markdown",
   "id": "3bbf62ce",
   "metadata": {},
   "source": [
    "Finden sie den Titel mit der Funktion `.find()`"
   ]
  },
  {
   "cell_type": "code",
   "execution_count": null,
   "id": "b5609c88",
   "metadata": {},
   "outputs": [],
   "source": [
    "# Titel\n"
   ]
  },
  {
   "cell_type": "code",
   "execution_count": null,
   "id": "bef61f7b",
   "metadata": {},
   "outputs": [],
   "source": []
  },
  {
   "cell_type": "markdown",
   "id": "7d2c772e",
   "metadata": {},
   "source": [
    "Extrahieren Sie das Datum des Eintrags"
   ]
  },
  {
   "cell_type": "code",
   "execution_count": null,
   "id": "ade0c844",
   "metadata": {},
   "outputs": [],
   "source": []
  },
  {
   "cell_type": "markdown",
   "id": "c28d1400",
   "metadata": {},
   "source": [
    "Extrahieren Sie die Informationen hinter WAS? WANN? und WO?"
   ]
  },
  {
   "cell_type": "code",
   "execution_count": null,
   "id": "bcade4ab",
   "metadata": {},
   "outputs": [],
   "source": []
  },
  {
   "cell_type": "code",
   "execution_count": null,
   "id": "44f0afc3",
   "metadata": {},
   "outputs": [],
   "source": []
  },
  {
   "cell_type": "code",
   "execution_count": null,
   "id": "6569dd1c",
   "metadata": {},
   "outputs": [],
   "source": []
  },
  {
   "cell_type": "code",
   "execution_count": null,
   "id": "f52605ed",
   "metadata": {},
   "outputs": [],
   "source": []
  },
  {
   "cell_type": "code",
   "execution_count": null,
   "id": "091096de",
   "metadata": {},
   "outputs": [],
   "source": []
  },
  {
   "cell_type": "code",
   "execution_count": null,
   "id": "9ac28aca",
   "metadata": {},
   "outputs": [],
   "source": []
  },
  {
   "cell_type": "code",
   "execution_count": null,
   "id": "2a782d49",
   "metadata": {},
   "outputs": [],
   "source": []
  },
  {
   "cell_type": "code",
   "execution_count": null,
   "id": "7e122d7c",
   "metadata": {},
   "outputs": [],
   "source": [
    "# Was?\n"
   ]
  },
  {
   "cell_type": "code",
   "execution_count": null,
   "id": "c724d89f",
   "metadata": {},
   "outputs": [],
   "source": [
    "# wann?\n"
   ]
  },
  {
   "cell_type": "code",
   "execution_count": null,
   "id": "6fbb0eec",
   "metadata": {},
   "outputs": [],
   "source": [
    "# wo?\n"
   ]
  },
  {
   "cell_type": "markdown",
   "id": "fa86c766",
   "metadata": {},
   "source": [
    "Extrahieren Sie den Text auf der Webseite"
   ]
  },
  {
   "cell_type": "code",
   "execution_count": null,
   "id": "61ad1078",
   "metadata": {},
   "outputs": [],
   "source": []
  },
  {
   "cell_type": "code",
   "execution_count": null,
   "id": "4cf1cc4c",
   "metadata": {},
   "outputs": [],
   "source": []
  },
  {
   "cell_type": "code",
   "execution_count": null,
   "id": "ddef3945",
   "metadata": {},
   "outputs": [],
   "source": []
  },
  {
   "cell_type": "code",
   "execution_count": null,
   "id": "d40c2b4f",
   "metadata": {},
   "outputs": [],
   "source": []
  },
  {
   "cell_type": "markdown",
   "id": "186b83fd",
   "metadata": {},
   "source": [
    "Erstellen Sie eine Funktion, die eine url aufnimmt und die Titel, Datum und Text in einer Liste zurückgibt."
   ]
  },
  {
   "cell_type": "code",
   "execution_count": null,
   "id": "fddda90a",
   "metadata": {},
   "outputs": [],
   "source": [
    "def ovgu_article(url):\n",
    "    \n",
    "    \n",
    "    "
   ]
  },
  {
   "cell_type": "code",
   "execution_count": null,
   "id": "d01a5ac9",
   "metadata": {},
   "outputs": [],
   "source": [
    "ovgu_article('https://www.ovgu.de/Presse+_+Medien/Pressemitteilungen/PM+2023/Juni/PM+60_2023-p-133948.html')"
   ]
  },
  {
   "cell_type": "code",
   "execution_count": null,
   "id": "34c87b61",
   "metadata": {},
   "outputs": [],
   "source": []
  },
  {
   "cell_type": "code",
   "execution_count": null,
   "id": "0e8dc047",
   "metadata": {},
   "outputs": [],
   "source": []
  }
 ],
 "metadata": {
  "kernelspec": {
   "display_name": "Python 3 (ipykernel)",
   "language": "python",
   "name": "python3"
  },
  "language_info": {
   "codemirror_mode": {
    "name": "ipython",
    "version": 3
   },
   "file_extension": ".py",
   "mimetype": "text/x-python",
   "name": "python",
   "nbconvert_exporter": "python",
   "pygments_lexer": "ipython3",
   "version": "3.8.16"
  }
 },
 "nbformat": 4,
 "nbformat_minor": 5
}
