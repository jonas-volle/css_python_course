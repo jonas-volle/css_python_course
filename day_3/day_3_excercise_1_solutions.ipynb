{
 "cells": [
  {
   "cell_type": "markdown",
   "id": "6a21203e",
   "metadata": {},
   "source": [
    "# Tag 3 - Übung 1"
   ]
  },
  {
   "cell_type": "code",
   "execution_count": 34,
   "id": "68c52000",
   "metadata": {},
   "outputs": [],
   "source": [
    "import pandas as pd\n",
    "import requests\n",
    "import pprint as pp\n",
    "import time"
   ]
  },
  {
   "cell_type": "code",
   "execution_count": 36,
   "id": "ab5df266",
   "metadata": {},
   "outputs": [],
   "source": [
    "import cred \n",
    "GUARDIAN_KEY = cred.GUARDIAN_KEY"
   ]
  },
  {
   "cell_type": "code",
   "execution_count": 35,
   "id": "e93b083e",
   "metadata": {},
   "outputs": [],
   "source": [
    "# API Endpoint\n",
    "API_ENDPOINT = 'http://content.guardianapis.com/search' "
   ]
  },
  {
   "cell_type": "markdown",
   "id": "9d1458e3",
   "metadata": {},
   "source": [
    "**Aufgabe 1:** Stellen Sie eine Anfrage an den Guardian API mit beliebigen Suchwörtern. Benutzen Sie dabei auch Suchoperatoren wie AND OR oder NOT. Begrenzen Sie den Suchzeitraum auf die letzten drei Monate. Informationen zu der Formulierung von 'search strings' finden Sie in der Dokumentation unter: https://open-platform.theguardian.com/documentation/"
   ]
  },
  {
   "cell_type": "code",
   "execution_count": 37,
   "id": "da168489",
   "metadata": {},
   "outputs": [],
   "source": [
    "PARAMS = {\n",
    "    'api-key': GUARDIAN_KEY,\n",
    "    'from-date': '2023-05-01', \n",
    "    'to-date': '2023-07-07', \n",
    "    'lang': 'en', \n",
    "    'production-office': 'uk', \n",
    "    'q': 'russia AND war', \n",
    "    'show-fields': 'wordcount,body,byline' \n",
    "} "
   ]
  },
  {
   "cell_type": "code",
   "execution_count": 38,
   "id": "86ded29b",
   "metadata": {},
   "outputs": [],
   "source": [
    "# GET request\n",
    "response = requests.get(API_ENDPOINT, params=PARAMS) \n",
    "\n",
    "# json Datei als dictionary speichern\n",
    "response_dict = response.json()['response'] "
   ]
  },
  {
   "cell_type": "markdown",
   "id": "3452cf39",
   "metadata": {},
   "source": [
    "Wie sieht die URL der API Anfrage aus?"
   ]
  },
  {
   "cell_type": "code",
   "execution_count": 39,
   "id": "ff5d25b9",
   "metadata": {},
   "outputs": [
    {
     "data": {
      "text/plain": [
       "'http://content.guardianapis.com/search?api-key=ca445d55-8ebd-48f6-8a32-9d3a0a35e21b&from-date=2023-05-01&to-date=2023-07-07&lang=en&production-office=uk&q=russia+AND+war&show-fields=wordcount%2Cbody%2Cbyline'"
      ]
     },
     "execution_count": 39,
     "metadata": {},
     "output_type": "execute_result"
    }
   ],
   "source": [
    "response.url"
   ]
  },
  {
   "cell_type": "markdown",
   "id": "75c8c6d5",
   "metadata": {},
   "source": [
    "Wie viele Artikel umfasst die Suchanfrage?"
   ]
  },
  {
   "cell_type": "code",
   "execution_count": 40,
   "id": "651db8b4",
   "metadata": {},
   "outputs": [
    {
     "data": {
      "text/plain": [
       "431"
      ]
     },
     "execution_count": 40,
     "metadata": {},
     "output_type": "execute_result"
    }
   ],
   "source": [
    "response_dict['total']"
   ]
  },
  {
   "cell_type": "markdown",
   "id": "6f4dce16",
   "metadata": {},
   "source": [
    "Auf wie vielen Seiten ist das Ergebnis aufgeteilt?"
   ]
  },
  {
   "cell_type": "code",
   "execution_count": 41,
   "id": "9227c614",
   "metadata": {},
   "outputs": [
    {
     "data": {
      "text/plain": [
       "44"
      ]
     },
     "execution_count": 41,
     "metadata": {},
     "output_type": "execute_result"
    }
   ],
   "source": [
    "response_dict.keys()\n",
    "response_dict['pages']"
   ]
  },
  {
   "cell_type": "markdown",
   "id": "ad383a45",
   "metadata": {},
   "source": [
    "Extrahieren Sie nun alle Artikel Ihrer Suchanfrage. Vergrößern Sie dafür `page-size` auf 50."
   ]
  },
  {
   "cell_type": "code",
   "execution_count": 42,
   "id": "ba18db35",
   "metadata": {},
   "outputs": [],
   "source": [
    "PARAMS = {\n",
    "    'api-key': GUARDIAN_KEY,\n",
    "    'from-date': '2023-05-01', \n",
    "    'to-date': '2023-07-07', \n",
    "    'lang': 'en', \n",
    "    'production-office': 'uk', \n",
    "    'q': 'russia AND war', \n",
    "    'show-fields': 'wordcount,body,byline' ,\n",
    "    'page-size': 50, # 50 Artikel je Seite\n",
    "} \n",
    "\n",
    "response = requests.get(API_ENDPOINT, params=PARAMS) \n",
    "response_dict = response.json()['response']"
   ]
  },
  {
   "cell_type": "markdown",
   "id": "efe083e3",
   "metadata": {},
   "source": [
    "Wie viele Seiten haben Sie jetzt?"
   ]
  },
  {
   "cell_type": "code",
   "execution_count": 43,
   "id": "f8992221",
   "metadata": {},
   "outputs": [
    {
     "data": {
      "text/plain": [
       "9"
      ]
     },
     "execution_count": 43,
     "metadata": {},
     "output_type": "execute_result"
    }
   ],
   "source": [
    "response_dict['pages']"
   ]
  },
  {
   "cell_type": "markdown",
   "id": "1582183a",
   "metadata": {},
   "source": [
    "Extrahiern Sie alle Artikel mit einem while Loop. Orientieren Sie sich dabei an dem Script aus dem Manuscript"
   ]
  },
  {
   "cell_type": "code",
   "execution_count": 44,
   "id": "74cbe25e",
   "metadata": {},
   "outputs": [
    {
     "name": "stdout",
     "output_type": "stream",
     "text": [
      "page: 1 of 1 - Articles (total): 431\n",
      "page: 2 of 9 - Articles (total): 431\n",
      "page: 3 of 9 - Articles (total): 431\n",
      "page: 4 of 9 - Articles (total): 431\n",
      "page: 5 of 9 - Articles (total): 431\n",
      "page: 6 of 9 - Articles (total): 431\n",
      "page: 7 of 9 - Articles (total): 431\n",
      "page: 8 of 9 - Articles (total): 431\n",
      "page: 9 of 9 - Articles (total): 431\n"
     ]
    },
    {
     "data": {
      "text/plain": [
       "431"
      ]
     },
     "execution_count": 44,
     "metadata": {},
     "output_type": "execute_result"
    }
   ],
   "source": [
    "all_results = [] \n",
    "cur_page = 1 \n",
    "total_pages = 1\n",
    "\n",
    "while (cur_page <= total_pages) and (cur_page < 10): # with a fail safe \n",
    "    \n",
    "    # Make a API request \n",
    "    PARAMS['page'] = cur_page \n",
    "    response = requests.get(API_ENDPOINT, params=PARAMS) \n",
    "    response_dict = response.json()['response'] \n",
    "    \n",
    "    print(f\"page: {cur_page} of {total_pages} - Articles (total): {response_dict['total']}\")\n",
    "    \n",
    "    # Update our master results list \n",
    "    all_results += (response_dict['results']) \n",
    "    \n",
    "    # Update our loop variables \n",
    "    total_pages = response_dict['pages'] \n",
    "    cur_page += 1 \n",
    "    \n",
    "    # sleep for 1 second\n",
    "    time.sleep(1)\n",
    "    \n",
    "len(all_results)"
   ]
  },
  {
   "cell_type": "markdown",
   "id": "bf7008e1",
   "metadata": {},
   "source": [
    "Speichern Sie die Ergebnisse in einem DataFrame"
   ]
  },
  {
   "cell_type": "code",
   "execution_count": 45,
   "id": "1d2d647b",
   "metadata": {},
   "outputs": [
    {
     "data": {
      "text/html": [
       "<div>\n",
       "<style scoped>\n",
       "    .dataframe tbody tr th:only-of-type {\n",
       "        vertical-align: middle;\n",
       "    }\n",
       "\n",
       "    .dataframe tbody tr th {\n",
       "        vertical-align: top;\n",
       "    }\n",
       "\n",
       "    .dataframe thead th {\n",
       "        text-align: right;\n",
       "    }\n",
       "</style>\n",
       "<table border=\"1\" class=\"dataframe\">\n",
       "  <thead>\n",
       "    <tr style=\"text-align: right;\">\n",
       "      <th></th>\n",
       "      <th>id</th>\n",
       "      <th>type</th>\n",
       "      <th>sectionId</th>\n",
       "      <th>sectionName</th>\n",
       "      <th>webPublicationDate</th>\n",
       "      <th>webTitle</th>\n",
       "      <th>webUrl</th>\n",
       "      <th>apiUrl</th>\n",
       "      <th>isHosted</th>\n",
       "      <th>pillarId</th>\n",
       "      <th>pillarName</th>\n",
       "      <th>fields.byline</th>\n",
       "      <th>fields.body</th>\n",
       "      <th>fields.wordcount</th>\n",
       "    </tr>\n",
       "  </thead>\n",
       "  <tbody>\n",
       "    <tr>\n",
       "      <th>0</th>\n",
       "      <td>world/2023/jun/05/has-the-ukrainian-counteroff...</td>\n",
       "      <td>article</td>\n",
       "      <td>world</td>\n",
       "      <td>World news</td>\n",
       "      <td>2023-06-05T15:28:21Z</td>\n",
       "      <td>Has the Ukrainian counteroffensive begun in it...</td>\n",
       "      <td>https://www.theguardian.com/world/2023/jun/05/...</td>\n",
       "      <td>https://content.guardianapis.com/world/2023/ju...</td>\n",
       "      <td>False</td>\n",
       "      <td>pillar/news</td>\n",
       "      <td>News</td>\n",
       "      <td>Luke Harding</td>\n",
       "      <td>&lt;p&gt;For weeks now the Ukrainian army has been c...</td>\n",
       "      <td>1060</td>\n",
       "    </tr>\n",
       "    <tr>\n",
       "      <th>1</th>\n",
       "      <td>world/2023/jun/26/first-edition-putin-russia-w...</td>\n",
       "      <td>article</td>\n",
       "      <td>world</td>\n",
       "      <td>World news</td>\n",
       "      <td>2023-06-26T05:34:05Z</td>\n",
       "      <td>Monday briefing: How Russia pulled back from t...</td>\n",
       "      <td>https://www.theguardian.com/world/2023/jun/26/...</td>\n",
       "      <td>https://content.guardianapis.com/world/2023/ju...</td>\n",
       "      <td>False</td>\n",
       "      <td>pillar/news</td>\n",
       "      <td>News</td>\n",
       "      <td>Nimo Omer</td>\n",
       "      <td>&lt;p&gt;Good morning.&lt;/p&gt; &lt;p&gt;Months of simmering te...</td>\n",
       "      <td>2320</td>\n",
       "    </tr>\n",
       "    <tr>\n",
       "      <th>2</th>\n",
       "      <td>world/2023/jun/07/chaos-on-frontlines-as-ukrai...</td>\n",
       "      <td>article</td>\n",
       "      <td>world</td>\n",
       "      <td>World news</td>\n",
       "      <td>2023-06-07T15:20:33Z</td>\n",
       "      <td>Chaos on frontlines as Ukraine war threatens t...</td>\n",
       "      <td>https://www.theguardian.com/world/2023/jun/07/...</td>\n",
       "      <td>https://content.guardianapis.com/world/2023/ju...</td>\n",
       "      <td>False</td>\n",
       "      <td>pillar/news</td>\n",
       "      <td>News</td>\n",
       "      <td>Andrew Roth and Pjotr Sauer</td>\n",
       "      <td>&lt;p&gt;If Vladimir Saldo was trying to project a s...</td>\n",
       "      <td>1178</td>\n",
       "    </tr>\n",
       "    <tr>\n",
       "      <th>3</th>\n",
       "      <td>commentisfree/2023/may/08/vladimir-putin-russi...</td>\n",
       "      <td>article</td>\n",
       "      <td>commentisfree</td>\n",
       "      <td>Opinion</td>\n",
       "      <td>2023-05-08T10:00:03Z</td>\n",
       "      <td>As the Ukraine war grinds on, Russia is becomi...</td>\n",
       "      <td>https://www.theguardian.com/commentisfree/2023...</td>\n",
       "      <td>https://content.guardianapis.com/commentisfree...</td>\n",
       "      <td>False</td>\n",
       "      <td>pillar/opinion</td>\n",
       "      <td>Opinion</td>\n",
       "      <td>William Fear</td>\n",
       "      <td>&lt;p&gt;As much as Russia is the country of Tolstoy...</td>\n",
       "      <td>1227</td>\n",
       "    </tr>\n",
       "    <tr>\n",
       "      <th>4</th>\n",
       "      <td>world/2023/jun/25/wagner-chief-agrees-to-go-to...</td>\n",
       "      <td>article</td>\n",
       "      <td>world</td>\n",
       "      <td>World news</td>\n",
       "      <td>2023-06-25T15:22:25Z</td>\n",
       "      <td>Russia-Ukraine war at a glance: Putin appears ...</td>\n",
       "      <td>https://www.theguardian.com/world/2023/jun/25/...</td>\n",
       "      <td>https://content.guardianapis.com/world/2023/ju...</td>\n",
       "      <td>False</td>\n",
       "      <td>pillar/news</td>\n",
       "      <td>News</td>\n",
       "      <td>Charlie Moloney with Guardian staff and agencies</td>\n",
       "      <td>&lt;ul&gt; \\n &lt;li&gt;&lt;p&gt;&lt;strong&gt;President Vladimir Puti...</td>\n",
       "      <td>709</td>\n",
       "    </tr>\n",
       "  </tbody>\n",
       "</table>\n",
       "</div>"
      ],
      "text/plain": [
       "                                                  id     type      sectionId   \n",
       "0  world/2023/jun/05/has-the-ukrainian-counteroff...  article          world  \\\n",
       "1  world/2023/jun/26/first-edition-putin-russia-w...  article          world   \n",
       "2  world/2023/jun/07/chaos-on-frontlines-as-ukrai...  article          world   \n",
       "3  commentisfree/2023/may/08/vladimir-putin-russi...  article  commentisfree   \n",
       "4  world/2023/jun/25/wagner-chief-agrees-to-go-to...  article          world   \n",
       "\n",
       "  sectionName    webPublicationDate   \n",
       "0  World news  2023-06-05T15:28:21Z  \\\n",
       "1  World news  2023-06-26T05:34:05Z   \n",
       "2  World news  2023-06-07T15:20:33Z   \n",
       "3     Opinion  2023-05-08T10:00:03Z   \n",
       "4  World news  2023-06-25T15:22:25Z   \n",
       "\n",
       "                                            webTitle   \n",
       "0  Has the Ukrainian counteroffensive begun in it...  \\\n",
       "1  Monday briefing: How Russia pulled back from t...   \n",
       "2  Chaos on frontlines as Ukraine war threatens t...   \n",
       "3  As the Ukraine war grinds on, Russia is becomi...   \n",
       "4  Russia-Ukraine war at a glance: Putin appears ...   \n",
       "\n",
       "                                              webUrl   \n",
       "0  https://www.theguardian.com/world/2023/jun/05/...  \\\n",
       "1  https://www.theguardian.com/world/2023/jun/26/...   \n",
       "2  https://www.theguardian.com/world/2023/jun/07/...   \n",
       "3  https://www.theguardian.com/commentisfree/2023...   \n",
       "4  https://www.theguardian.com/world/2023/jun/25/...   \n",
       "\n",
       "                                              apiUrl  isHosted   \n",
       "0  https://content.guardianapis.com/world/2023/ju...     False  \\\n",
       "1  https://content.guardianapis.com/world/2023/ju...     False   \n",
       "2  https://content.guardianapis.com/world/2023/ju...     False   \n",
       "3  https://content.guardianapis.com/commentisfree...     False   \n",
       "4  https://content.guardianapis.com/world/2023/ju...     False   \n",
       "\n",
       "         pillarId pillarName   \n",
       "0     pillar/news       News  \\\n",
       "1     pillar/news       News   \n",
       "2     pillar/news       News   \n",
       "3  pillar/opinion    Opinion   \n",
       "4     pillar/news       News   \n",
       "\n",
       "                                      fields.byline   \n",
       "0                                      Luke Harding  \\\n",
       "1                                         Nimo Omer   \n",
       "2                       Andrew Roth and Pjotr Sauer   \n",
       "3                                      William Fear   \n",
       "4  Charlie Moloney with Guardian staff and agencies   \n",
       "\n",
       "                                         fields.body fields.wordcount  \n",
       "0  <p>For weeks now the Ukrainian army has been c...             1060  \n",
       "1  <p>Good morning.</p> <p>Months of simmering te...             2320  \n",
       "2  <p>If Vladimir Saldo was trying to project a s...             1178  \n",
       "3  <p>As much as Russia is the country of Tolstoy...             1227  \n",
       "4  <ul> \\n <li><p><strong>President Vladimir Puti...              709  "
      ]
     },
     "execution_count": 45,
     "metadata": {},
     "output_type": "execute_result"
    }
   ],
   "source": [
    "all_results_df = pd.json_normalize(all_results)\n",
    "all_results_df.head()"
   ]
  },
  {
   "cell_type": "markdown",
   "id": "c49f7654",
   "metadata": {},
   "source": [
    "Benennen Sie einige Spalten um"
   ]
  },
  {
   "cell_type": "code",
   "execution_count": 46,
   "id": "59d2a004",
   "metadata": {
    "scrolled": true
   },
   "outputs": [
    {
     "data": {
      "text/html": [
       "<div>\n",
       "<style scoped>\n",
       "    .dataframe tbody tr th:only-of-type {\n",
       "        vertical-align: middle;\n",
       "    }\n",
       "\n",
       "    .dataframe tbody tr th {\n",
       "        vertical-align: top;\n",
       "    }\n",
       "\n",
       "    .dataframe thead th {\n",
       "        text-align: right;\n",
       "    }\n",
       "</style>\n",
       "<table border=\"1\" class=\"dataframe\">\n",
       "  <thead>\n",
       "    <tr style=\"text-align: right;\">\n",
       "      <th></th>\n",
       "      <th>id</th>\n",
       "      <th>type</th>\n",
       "      <th>sectionId</th>\n",
       "      <th>sectionName</th>\n",
       "      <th>article_date</th>\n",
       "      <th>article_title</th>\n",
       "      <th>article_url</th>\n",
       "      <th>apiUrl</th>\n",
       "      <th>isHosted</th>\n",
       "      <th>pillarId</th>\n",
       "      <th>pillarName</th>\n",
       "      <th>article_author</th>\n",
       "      <th>fields.body</th>\n",
       "      <th>fields.wordcount</th>\n",
       "    </tr>\n",
       "  </thead>\n",
       "  <tbody>\n",
       "    <tr>\n",
       "      <th>0</th>\n",
       "      <td>world/2023/jun/05/has-the-ukrainian-counteroff...</td>\n",
       "      <td>article</td>\n",
       "      <td>world</td>\n",
       "      <td>World news</td>\n",
       "      <td>2023-06-05T15:28:21Z</td>\n",
       "      <td>Has the Ukrainian counteroffensive begun in it...</td>\n",
       "      <td>https://www.theguardian.com/world/2023/jun/05/...</td>\n",
       "      <td>https://content.guardianapis.com/world/2023/ju...</td>\n",
       "      <td>False</td>\n",
       "      <td>pillar/news</td>\n",
       "      <td>News</td>\n",
       "      <td>Luke Harding</td>\n",
       "      <td>&lt;p&gt;For weeks now the Ukrainian army has been c...</td>\n",
       "      <td>1060</td>\n",
       "    </tr>\n",
       "    <tr>\n",
       "      <th>1</th>\n",
       "      <td>world/2023/jun/26/first-edition-putin-russia-w...</td>\n",
       "      <td>article</td>\n",
       "      <td>world</td>\n",
       "      <td>World news</td>\n",
       "      <td>2023-06-26T05:34:05Z</td>\n",
       "      <td>Monday briefing: How Russia pulled back from t...</td>\n",
       "      <td>https://www.theguardian.com/world/2023/jun/26/...</td>\n",
       "      <td>https://content.guardianapis.com/world/2023/ju...</td>\n",
       "      <td>False</td>\n",
       "      <td>pillar/news</td>\n",
       "      <td>News</td>\n",
       "      <td>Nimo Omer</td>\n",
       "      <td>&lt;p&gt;Good morning.&lt;/p&gt; &lt;p&gt;Months of simmering te...</td>\n",
       "      <td>2320</td>\n",
       "    </tr>\n",
       "    <tr>\n",
       "      <th>2</th>\n",
       "      <td>world/2023/jun/07/chaos-on-frontlines-as-ukrai...</td>\n",
       "      <td>article</td>\n",
       "      <td>world</td>\n",
       "      <td>World news</td>\n",
       "      <td>2023-06-07T15:20:33Z</td>\n",
       "      <td>Chaos on frontlines as Ukraine war threatens t...</td>\n",
       "      <td>https://www.theguardian.com/world/2023/jun/07/...</td>\n",
       "      <td>https://content.guardianapis.com/world/2023/ju...</td>\n",
       "      <td>False</td>\n",
       "      <td>pillar/news</td>\n",
       "      <td>News</td>\n",
       "      <td>Andrew Roth and Pjotr Sauer</td>\n",
       "      <td>&lt;p&gt;If Vladimir Saldo was trying to project a s...</td>\n",
       "      <td>1178</td>\n",
       "    </tr>\n",
       "    <tr>\n",
       "      <th>3</th>\n",
       "      <td>commentisfree/2023/may/08/vladimir-putin-russi...</td>\n",
       "      <td>article</td>\n",
       "      <td>commentisfree</td>\n",
       "      <td>Opinion</td>\n",
       "      <td>2023-05-08T10:00:03Z</td>\n",
       "      <td>As the Ukraine war grinds on, Russia is becomi...</td>\n",
       "      <td>https://www.theguardian.com/commentisfree/2023...</td>\n",
       "      <td>https://content.guardianapis.com/commentisfree...</td>\n",
       "      <td>False</td>\n",
       "      <td>pillar/opinion</td>\n",
       "      <td>Opinion</td>\n",
       "      <td>William Fear</td>\n",
       "      <td>&lt;p&gt;As much as Russia is the country of Tolstoy...</td>\n",
       "      <td>1227</td>\n",
       "    </tr>\n",
       "    <tr>\n",
       "      <th>4</th>\n",
       "      <td>world/2023/jun/25/wagner-chief-agrees-to-go-to...</td>\n",
       "      <td>article</td>\n",
       "      <td>world</td>\n",
       "      <td>World news</td>\n",
       "      <td>2023-06-25T15:22:25Z</td>\n",
       "      <td>Russia-Ukraine war at a glance: Putin appears ...</td>\n",
       "      <td>https://www.theguardian.com/world/2023/jun/25/...</td>\n",
       "      <td>https://content.guardianapis.com/world/2023/ju...</td>\n",
       "      <td>False</td>\n",
       "      <td>pillar/news</td>\n",
       "      <td>News</td>\n",
       "      <td>Charlie Moloney with Guardian staff and agencies</td>\n",
       "      <td>&lt;ul&gt; \\n &lt;li&gt;&lt;p&gt;&lt;strong&gt;President Vladimir Puti...</td>\n",
       "      <td>709</td>\n",
       "    </tr>\n",
       "  </tbody>\n",
       "</table>\n",
       "</div>"
      ],
      "text/plain": [
       "                                                  id     type      sectionId   \n",
       "0  world/2023/jun/05/has-the-ukrainian-counteroff...  article          world  \\\n",
       "1  world/2023/jun/26/first-edition-putin-russia-w...  article          world   \n",
       "2  world/2023/jun/07/chaos-on-frontlines-as-ukrai...  article          world   \n",
       "3  commentisfree/2023/may/08/vladimir-putin-russi...  article  commentisfree   \n",
       "4  world/2023/jun/25/wagner-chief-agrees-to-go-to...  article          world   \n",
       "\n",
       "  sectionName          article_date   \n",
       "0  World news  2023-06-05T15:28:21Z  \\\n",
       "1  World news  2023-06-26T05:34:05Z   \n",
       "2  World news  2023-06-07T15:20:33Z   \n",
       "3     Opinion  2023-05-08T10:00:03Z   \n",
       "4  World news  2023-06-25T15:22:25Z   \n",
       "\n",
       "                                       article_title   \n",
       "0  Has the Ukrainian counteroffensive begun in it...  \\\n",
       "1  Monday briefing: How Russia pulled back from t...   \n",
       "2  Chaos on frontlines as Ukraine war threatens t...   \n",
       "3  As the Ukraine war grinds on, Russia is becomi...   \n",
       "4  Russia-Ukraine war at a glance: Putin appears ...   \n",
       "\n",
       "                                         article_url   \n",
       "0  https://www.theguardian.com/world/2023/jun/05/...  \\\n",
       "1  https://www.theguardian.com/world/2023/jun/26/...   \n",
       "2  https://www.theguardian.com/world/2023/jun/07/...   \n",
       "3  https://www.theguardian.com/commentisfree/2023...   \n",
       "4  https://www.theguardian.com/world/2023/jun/25/...   \n",
       "\n",
       "                                              apiUrl  isHosted   \n",
       "0  https://content.guardianapis.com/world/2023/ju...     False  \\\n",
       "1  https://content.guardianapis.com/world/2023/ju...     False   \n",
       "2  https://content.guardianapis.com/world/2023/ju...     False   \n",
       "3  https://content.guardianapis.com/commentisfree...     False   \n",
       "4  https://content.guardianapis.com/world/2023/ju...     False   \n",
       "\n",
       "         pillarId pillarName   \n",
       "0     pillar/news       News  \\\n",
       "1     pillar/news       News   \n",
       "2     pillar/news       News   \n",
       "3  pillar/opinion    Opinion   \n",
       "4     pillar/news       News   \n",
       "\n",
       "                                     article_author   \n",
       "0                                      Luke Harding  \\\n",
       "1                                         Nimo Omer   \n",
       "2                       Andrew Roth and Pjotr Sauer   \n",
       "3                                      William Fear   \n",
       "4  Charlie Moloney with Guardian staff and agencies   \n",
       "\n",
       "                                         fields.body fields.wordcount  \n",
       "0  <p>For weeks now the Ukrainian army has been c...             1060  \n",
       "1  <p>Good morning.</p> <p>Months of simmering te...             2320  \n",
       "2  <p>If Vladimir Saldo was trying to project a s...             1178  \n",
       "3  <p>As much as Russia is the country of Tolstoy...             1227  \n",
       "4  <ul> \\n <li><p><strong>President Vladimir Puti...              709  "
      ]
     },
     "execution_count": 46,
     "metadata": {},
     "output_type": "execute_result"
    }
   ],
   "source": [
    "all_results_df = all_results_df.rename(columns={'webTitle':'article_title',\n",
    "                                                'webUrl':'article_url',\n",
    "                                                'fields.byline':'article_author',\n",
    "                                               'webPublicationDate':'article_date'})\n",
    "all_results_df.head()"
   ]
  },
  {
   "cell_type": "markdown",
   "id": "69f6bfae",
   "metadata": {},
   "source": [
    "Machen Sie den Text schön"
   ]
  },
  {
   "cell_type": "code",
   "execution_count": 47,
   "id": "238dd4f8",
   "metadata": {},
   "outputs": [],
   "source": [
    "from bs4 import BeautifulSoup"
   ]
  },
  {
   "cell_type": "code",
   "execution_count": 48,
   "id": "8566d72e",
   "metadata": {},
   "outputs": [],
   "source": [
    "all_results_df['text'] = [BeautifulSoup(i, \"html.parser\").text for i in all_results_df['fields.body']]"
   ]
  },
  {
   "cell_type": "code",
   "execution_count": 49,
   "id": "cd581721",
   "metadata": {},
   "outputs": [
    {
     "data": {
      "text/html": [
       "<div>\n",
       "<style scoped>\n",
       "    .dataframe tbody tr th:only-of-type {\n",
       "        vertical-align: middle;\n",
       "    }\n",
       "\n",
       "    .dataframe tbody tr th {\n",
       "        vertical-align: top;\n",
       "    }\n",
       "\n",
       "    .dataframe thead th {\n",
       "        text-align: right;\n",
       "    }\n",
       "</style>\n",
       "<table border=\"1\" class=\"dataframe\">\n",
       "  <thead>\n",
       "    <tr style=\"text-align: right;\">\n",
       "      <th></th>\n",
       "      <th>id</th>\n",
       "      <th>type</th>\n",
       "      <th>sectionId</th>\n",
       "      <th>sectionName</th>\n",
       "      <th>article_date</th>\n",
       "      <th>article_title</th>\n",
       "      <th>article_url</th>\n",
       "      <th>apiUrl</th>\n",
       "      <th>isHosted</th>\n",
       "      <th>pillarId</th>\n",
       "      <th>pillarName</th>\n",
       "      <th>article_author</th>\n",
       "      <th>fields.body</th>\n",
       "      <th>fields.wordcount</th>\n",
       "      <th>text</th>\n",
       "    </tr>\n",
       "  </thead>\n",
       "  <tbody>\n",
       "    <tr>\n",
       "      <th>0</th>\n",
       "      <td>world/2023/jun/05/has-the-ukrainian-counteroff...</td>\n",
       "      <td>article</td>\n",
       "      <td>world</td>\n",
       "      <td>World news</td>\n",
       "      <td>2023-06-05T15:28:21Z</td>\n",
       "      <td>Has the Ukrainian counteroffensive begun in it...</td>\n",
       "      <td>https://www.theguardian.com/world/2023/jun/05/...</td>\n",
       "      <td>https://content.guardianapis.com/world/2023/ju...</td>\n",
       "      <td>False</td>\n",
       "      <td>pillar/news</td>\n",
       "      <td>News</td>\n",
       "      <td>Luke Harding</td>\n",
       "      <td>&lt;p&gt;For weeks now the Ukrainian army has been c...</td>\n",
       "      <td>1060</td>\n",
       "      <td>For weeks now the Ukrainian army has been carr...</td>\n",
       "    </tr>\n",
       "    <tr>\n",
       "      <th>1</th>\n",
       "      <td>world/2023/jun/26/first-edition-putin-russia-w...</td>\n",
       "      <td>article</td>\n",
       "      <td>world</td>\n",
       "      <td>World news</td>\n",
       "      <td>2023-06-26T05:34:05Z</td>\n",
       "      <td>Monday briefing: How Russia pulled back from t...</td>\n",
       "      <td>https://www.theguardian.com/world/2023/jun/26/...</td>\n",
       "      <td>https://content.guardianapis.com/world/2023/ju...</td>\n",
       "      <td>False</td>\n",
       "      <td>pillar/news</td>\n",
       "      <td>News</td>\n",
       "      <td>Nimo Omer</td>\n",
       "      <td>&lt;p&gt;Good morning.&lt;/p&gt; &lt;p&gt;Months of simmering te...</td>\n",
       "      <td>2320</td>\n",
       "      <td>Good morning. Months of simmering tension betw...</td>\n",
       "    </tr>\n",
       "    <tr>\n",
       "      <th>2</th>\n",
       "      <td>world/2023/jun/07/chaos-on-frontlines-as-ukrai...</td>\n",
       "      <td>article</td>\n",
       "      <td>world</td>\n",
       "      <td>World news</td>\n",
       "      <td>2023-06-07T15:20:33Z</td>\n",
       "      <td>Chaos on frontlines as Ukraine war threatens t...</td>\n",
       "      <td>https://www.theguardian.com/world/2023/jun/07/...</td>\n",
       "      <td>https://content.guardianapis.com/world/2023/ju...</td>\n",
       "      <td>False</td>\n",
       "      <td>pillar/news</td>\n",
       "      <td>News</td>\n",
       "      <td>Andrew Roth and Pjotr Sauer</td>\n",
       "      <td>&lt;p&gt;If Vladimir Saldo was trying to project a s...</td>\n",
       "      <td>1178</td>\n",
       "      <td>If Vladimir Saldo was trying to project a sens...</td>\n",
       "    </tr>\n",
       "    <tr>\n",
       "      <th>3</th>\n",
       "      <td>commentisfree/2023/may/08/vladimir-putin-russi...</td>\n",
       "      <td>article</td>\n",
       "      <td>commentisfree</td>\n",
       "      <td>Opinion</td>\n",
       "      <td>2023-05-08T10:00:03Z</td>\n",
       "      <td>As the Ukraine war grinds on, Russia is becomi...</td>\n",
       "      <td>https://www.theguardian.com/commentisfree/2023...</td>\n",
       "      <td>https://content.guardianapis.com/commentisfree...</td>\n",
       "      <td>False</td>\n",
       "      <td>pillar/opinion</td>\n",
       "      <td>Opinion</td>\n",
       "      <td>William Fear</td>\n",
       "      <td>&lt;p&gt;As much as Russia is the country of Tolstoy...</td>\n",
       "      <td>1227</td>\n",
       "      <td>As much as Russia is the country of Tolstoy an...</td>\n",
       "    </tr>\n",
       "    <tr>\n",
       "      <th>4</th>\n",
       "      <td>world/2023/jun/25/wagner-chief-agrees-to-go-to...</td>\n",
       "      <td>article</td>\n",
       "      <td>world</td>\n",
       "      <td>World news</td>\n",
       "      <td>2023-06-25T15:22:25Z</td>\n",
       "      <td>Russia-Ukraine war at a glance: Putin appears ...</td>\n",
       "      <td>https://www.theguardian.com/world/2023/jun/25/...</td>\n",
       "      <td>https://content.guardianapis.com/world/2023/ju...</td>\n",
       "      <td>False</td>\n",
       "      <td>pillar/news</td>\n",
       "      <td>News</td>\n",
       "      <td>Charlie Moloney with Guardian staff and agencies</td>\n",
       "      <td>&lt;ul&gt; \\n &lt;li&gt;&lt;p&gt;&lt;strong&gt;President Vladimir Puti...</td>\n",
       "      <td>709</td>\n",
       "      <td>\\nPresident Vladimir Putin appeared on Russian...</td>\n",
       "    </tr>\n",
       "  </tbody>\n",
       "</table>\n",
       "</div>"
      ],
      "text/plain": [
       "                                                  id     type      sectionId   \n",
       "0  world/2023/jun/05/has-the-ukrainian-counteroff...  article          world  \\\n",
       "1  world/2023/jun/26/first-edition-putin-russia-w...  article          world   \n",
       "2  world/2023/jun/07/chaos-on-frontlines-as-ukrai...  article          world   \n",
       "3  commentisfree/2023/may/08/vladimir-putin-russi...  article  commentisfree   \n",
       "4  world/2023/jun/25/wagner-chief-agrees-to-go-to...  article          world   \n",
       "\n",
       "  sectionName          article_date   \n",
       "0  World news  2023-06-05T15:28:21Z  \\\n",
       "1  World news  2023-06-26T05:34:05Z   \n",
       "2  World news  2023-06-07T15:20:33Z   \n",
       "3     Opinion  2023-05-08T10:00:03Z   \n",
       "4  World news  2023-06-25T15:22:25Z   \n",
       "\n",
       "                                       article_title   \n",
       "0  Has the Ukrainian counteroffensive begun in it...  \\\n",
       "1  Monday briefing: How Russia pulled back from t...   \n",
       "2  Chaos on frontlines as Ukraine war threatens t...   \n",
       "3  As the Ukraine war grinds on, Russia is becomi...   \n",
       "4  Russia-Ukraine war at a glance: Putin appears ...   \n",
       "\n",
       "                                         article_url   \n",
       "0  https://www.theguardian.com/world/2023/jun/05/...  \\\n",
       "1  https://www.theguardian.com/world/2023/jun/26/...   \n",
       "2  https://www.theguardian.com/world/2023/jun/07/...   \n",
       "3  https://www.theguardian.com/commentisfree/2023...   \n",
       "4  https://www.theguardian.com/world/2023/jun/25/...   \n",
       "\n",
       "                                              apiUrl  isHosted   \n",
       "0  https://content.guardianapis.com/world/2023/ju...     False  \\\n",
       "1  https://content.guardianapis.com/world/2023/ju...     False   \n",
       "2  https://content.guardianapis.com/world/2023/ju...     False   \n",
       "3  https://content.guardianapis.com/commentisfree...     False   \n",
       "4  https://content.guardianapis.com/world/2023/ju...     False   \n",
       "\n",
       "         pillarId pillarName   \n",
       "0     pillar/news       News  \\\n",
       "1     pillar/news       News   \n",
       "2     pillar/news       News   \n",
       "3  pillar/opinion    Opinion   \n",
       "4     pillar/news       News   \n",
       "\n",
       "                                     article_author   \n",
       "0                                      Luke Harding  \\\n",
       "1                                         Nimo Omer   \n",
       "2                       Andrew Roth and Pjotr Sauer   \n",
       "3                                      William Fear   \n",
       "4  Charlie Moloney with Guardian staff and agencies   \n",
       "\n",
       "                                         fields.body fields.wordcount   \n",
       "0  <p>For weeks now the Ukrainian army has been c...             1060  \\\n",
       "1  <p>Good morning.</p> <p>Months of simmering te...             2320   \n",
       "2  <p>If Vladimir Saldo was trying to project a s...             1178   \n",
       "3  <p>As much as Russia is the country of Tolstoy...             1227   \n",
       "4  <ul> \\n <li><p><strong>President Vladimir Puti...              709   \n",
       "\n",
       "                                                text  \n",
       "0  For weeks now the Ukrainian army has been carr...  \n",
       "1  Good morning. Months of simmering tension betw...  \n",
       "2  If Vladimir Saldo was trying to project a sens...  \n",
       "3  As much as Russia is the country of Tolstoy an...  \n",
       "4  \\nPresident Vladimir Putin appeared on Russian...  "
      ]
     },
     "execution_count": 49,
     "metadata": {},
     "output_type": "execute_result"
    }
   ],
   "source": [
    "all_results_df.head()"
   ]
  },
  {
   "cell_type": "markdown",
   "id": "b9f15dc1",
   "metadata": {},
   "source": [
    "Filtern Sie die 'wichtigsten' Spalten und speichern Sie die Tabelle als csv Datei"
   ]
  },
  {
   "cell_type": "code",
   "execution_count": 50,
   "id": "1fd707a1",
   "metadata": {},
   "outputs": [],
   "source": [
    "all_results_df_f = all_results_df[['article_title', 'article_date', 'article_author', 'text']].copy()"
   ]
  },
  {
   "cell_type": "code",
   "execution_count": 51,
   "id": "da6c28b7",
   "metadata": {},
   "outputs": [],
   "source": [
    "all_results_df_f.to_csv('../data/guardian_texts_russia.csv', index=False)"
   ]
  }
 ],
 "metadata": {
  "kernelspec": {
   "display_name": "Python 3 (ipykernel)",
   "language": "python",
   "name": "python3"
  },
  "language_info": {
   "codemirror_mode": {
    "name": "ipython",
    "version": 3
   },
   "file_extension": ".py",
   "mimetype": "text/x-python",
   "name": "python",
   "nbconvert_exporter": "python",
   "pygments_lexer": "ipython3",
   "version": "3.8.16"
  }
 },
 "nbformat": 4,
 "nbformat_minor": 5
}
