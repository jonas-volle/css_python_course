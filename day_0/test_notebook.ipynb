{
 "cells": [
  {
   "cell_type": "markdown",
   "id": "96be9f41",
   "metadata": {},
   "source": [
    "# Test notebook"
   ]
  },
  {
   "cell_type": "markdown",
   "id": "7a32d249",
   "metadata": {},
   "source": [
    "Herzlichen Glückwunsch! Sie haben Ihr erstes Jupyter Notebook gestartet!"
   ]
  },
  {
   "cell_type": "markdown",
   "id": "4e6a366a",
   "metadata": {},
   "source": [
    "Dieses Notebook besteht aus Text-Zeilen (Markdown) und Code-Zeilen."
   ]
  },
  {
   "cell_type": "code",
   "execution_count": 2,
   "id": "23106454",
   "metadata": {},
   "outputs": [
    {
     "name": "stdout",
     "output_type": "stream",
     "text": [
      "hello world!\n"
     ]
    }
   ],
   "source": [
    "# das hier ist eine Code-Zeile\n",
    "print('hello world!')"
   ]
  },
  {
   "cell_type": "code",
   "execution_count": 6,
   "id": "321a81e4",
   "metadata": {},
   "outputs": [
    {
     "data": {
      "text/plain": [
       "15"
      ]
     },
     "execution_count": 6,
     "metadata": {},
     "output_type": "execute_result"
    }
   ],
   "source": [
    "5+10"
   ]
  },
  {
   "cell_type": "markdown",
   "id": "721a9dc4",
   "metadata": {},
   "source": [
    "... und das hier ist eine Markdown/Text-Zeile"
   ]
  },
  {
   "cell_type": "markdown",
   "id": "f2f8ef83",
   "metadata": {},
   "source": [
    "Der Text in Markdownzeilen kann unterschiedlich formatiert werden z.B.\n",
    "\n",
    "# Als erste Überschrift\n",
    "## Als zweite Überschrift\n",
    "### als dritte Überschrift\n",
    "#### usw.\n",
    "\n",
    "Der text kann **fett**, *kursiv* oder ~~durchgestrichen~~ dargestellt werden.\n",
    "\n",
    "Wir können Listen erstellen:\n",
    "1. Item\n",
    "2. Item\n",
    "3. Item\n",
    "\n",
    "- Item\n",
    "- Item\n",
    "\n",
    "[Urls](https://github.com/adam-p/markdown-here/wiki/Markdown-Cheatsheet) in links verwandeln...\n",
    "\n",
    "\n",
    "... oder Bilder einbinden:\n",
    "\n",
    "<img src='images/python.png' style='height: 100px'>\n",
    "\n",
    "\n",
    "\n",
    "Weitere Informationen zur Markdown-Formattierung finden Sie hier: [Markdown-Cheatsheet](https://github.com/adam-p/markdown-here/wiki/Markdown-Cheatsheet)\n"
   ]
  },
  {
   "cell_type": "markdown",
   "id": "45a27ff5",
   "metadata": {},
   "source": [
    "## Import von Python Paketen\n",
    "Hier können Sie testen, ob Sie alle erforderlichen Pakete im Anaconda Navigator installiert haben"
   ]
  },
  {
   "cell_type": "code",
   "execution_count": 3,
   "id": "8acc1d74",
   "metadata": {},
   "outputs": [],
   "source": [
    "import pandas as pd"
   ]
  },
  {
   "cell_type": "code",
   "execution_count": 4,
   "id": "f5ee8122",
   "metadata": {},
   "outputs": [],
   "source": [
    "import numpy as np"
   ]
  },
  {
   "cell_type": "code",
   "execution_count": 5,
   "id": "e4697475",
   "metadata": {},
   "outputs": [],
   "source": [
    "import matplotlib.pyplot as plt"
   ]
  },
  {
   "cell_type": "markdown",
   "id": "050042f2",
   "metadata": {},
   "source": [
    "Wenn Sie die Code-Zellen ohne Fehlermeldung ausführen können sind Sie startklar für die erste Sitzung!"
   ]
  }
 ],
 "metadata": {
  "kernelspec": {
   "display_name": "Python 3 (ipykernel)",
   "language": "python",
   "name": "python3"
  },
  "language_info": {
   "codemirror_mode": {
    "name": "ipython",
    "version": 3
   },
   "file_extension": ".py",
   "mimetype": "text/x-python",
   "name": "python",
   "nbconvert_exporter": "python",
   "pygments_lexer": "ipython3",
   "version": "3.11.3"
  }
 },
 "nbformat": 4,
 "nbformat_minor": 5
}
