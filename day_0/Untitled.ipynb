{
 "cells": [
  {
   "cell_type": "markdown",
   "id": "52ac4be2",
   "metadata": {},
   "source": [
    "<img src='images/python.png' style='height: 100px; float: right; margin-left: 10px'>"
   ]
  },
  {
   "cell_type": "markdown",
   "id": "d030db1f",
   "metadata": {},
   "source": [
    "# Anaconda\n",
    "<img src='images/anaconda.png' style='height: 50px; float: right; margin-left: 10px'>  \n",
    "\n",
    "- Beliebtes Softwarepaket für R und Python\n",
    "- Grundlegende Funktionalität: **Paketverwaltung**\n",
    "- Stellt grundlegende Pakete bereit und bietet die kontrollierte Möglichkeit weitere Pakete hinzuzufügen"
   ]
  },
  {
   "cell_type": "markdown",
   "id": "55ba21a1",
   "metadata": {},
   "source": [
    "## <a id='anaconda_installation'></a>Anaconda Installation\n",
    "\n",
    "1. Laden Sie die Installationsdatei für Ihr Betriebssystem von dieser [Webseite](https://www.anaconda.com/products/distribution#Downloads) herunter\n",
    "2. Installieren Sie die Distribution, indem Sie die heruntergeladene Datei ausführen. Verwenden Sie für die Installation Administrator:innenrechte. Unter Windows können Sie dies tun, indem Sie mit der rechten Maustaste auf die heruntergeladene Datei klicken und auf \"Als Administrator ausführen\" klicken.\n",
    "3. Bei Installationsproblemen hilft die Anaconda [Dokumentation](https://docs.continuum.io/anaconda/install/) weiter\n"
   ]
  },
  {
   "cell_type": "markdown",
   "id": "1258bdd9",
   "metadata": {
    "slideshow": {
     "slide_type": "-"
    }
   },
   "source": [
    "## Anaconda Navigator\n",
    "<img src='images/anaconda_navigator.png' style='width:80%'> "
   ]
  },
  {
   "cell_type": "markdown",
   "id": "390eaf71",
   "metadata": {},
   "source": [
    "![](images/anaconda_navigator.png)"
   ]
  }
 ],
 "metadata": {
  "celltoolbar": "Edit Metadata",
  "kernelspec": {
   "display_name": "Python 3 (ipykernel)",
   "language": "python",
   "name": "python3"
  },
  "language_info": {
   "codemirror_mode": {
    "name": "ipython",
    "version": 3
   },
   "file_extension": ".py",
   "mimetype": "text/x-python",
   "name": "python",
   "nbconvert_exporter": "python",
   "pygments_lexer": "ipython3",
   "version": "3.11.3"
  }
 },
 "nbformat": 4,
 "nbformat_minor": 5
}
