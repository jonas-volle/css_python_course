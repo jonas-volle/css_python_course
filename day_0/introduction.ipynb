{
 "cells": [
  {
   "cell_type": "markdown",
   "id": "008df3a6",
   "metadata": {
    "slideshow": {
     "slide_type": "slide"
    }
   },
   "source": [
    "# Einführung in Python für die Computational Social Science (CSS)\n",
    "## Jonas Volle\n",
    "Wissenschaftlicher Mitarbeiter  \n",
    "Chair of Methodology and Empirical Social Research  \n",
    "Otto-von-Guericke-Universität  \n",
    "\n",
    "[jonas.volle@ovgu.de](mailto:jonas.volle@ovgu.de)\n",
    "\n",
    "Freitag, 14.04.2023"
   ]
  },
  {
   "cell_type": "markdown",
   "id": "f2a42ee4",
   "metadata": {
    "slideshow": {
     "slide_type": "slide"
    }
   },
   "source": [
    "# Inhalt"
   ]
  },
  {
   "cell_type": "markdown",
   "id": "00c57911",
   "metadata": {
    "slideshow": {
     "slide_type": "slide"
    }
   },
   "source": [
    "# Vorstellung"
   ]
  },
  {
   "cell_type": "markdown",
   "id": "5e78bcad",
   "metadata": {
    "slideshow": {
     "slide_type": "subslide"
    }
   },
   "source": [
    "## Jonas Volle\n",
    "- Wissenschaftlicher Mitarbeiter am Lehrstuhl von Prof. Andreas Schmitz im DFG-Projekt \"Netzwerke, Paradigmen und Karrieren im akademischen Feld: Soziologie in Deutschland und den Vereinigten Staaten\"\n",
    "- Forschungsinteressen: Verknüpfung soziologischer Perspektiven und Methodologien mit Ansätzen der CSS (Textmining, Netzwerkanalysen, maschinelles Lernen) im Bereich der Wissenschaftssoziologie."
   ]
  },
  {
   "cell_type": "markdown",
   "id": "54287ac7",
   "metadata": {
    "slideshow": {
     "slide_type": "subslide"
    }
   },
   "source": [
    "## Teilnehmer:innen\n",
    "\n",
    "- Name?\n",
    "- Ihr Hintergrund? (z.B. Studienfach, Semester)\n",
    "- Welche Erwartungen haben Sie an den Kurs?\n",
    "- Was bringen Sie mit? (Vorerfahrungen etc.)"
   ]
  },
  {
   "cell_type": "markdown",
   "id": "a735a4ca",
   "metadata": {
    "slideshow": {
     "slide_type": "slide"
    }
   },
   "source": [
    "# Kursplan"
   ]
  },
  {
   "cell_type": "markdown",
   "id": "6a25cb61",
   "metadata": {
    "slideshow": {
     "slide_type": "slide"
    }
   },
   "source": [
    "## Einführung (14.04.2023)\n",
    "- Vorstellung\n",
    "- Warum Python für die Computional Social Science?\n",
    "- Einrichtung der Rechenumgebung\n",
    "    - Installation von anaconda\n",
    "    - Installation von git\n",
    "- Wo finde ich die Kursmaterialen?\n",
    "- Organisatorisches\n",
    "- Zusätzliches Material"
   ]
  },
  {
   "cell_type": "markdown",
   "id": "938a8173",
   "metadata": {
    "slideshow": {
     "slide_type": "slide"
    }
   },
   "source": [
    "## 1. Block (16./17.06.2023)\n",
    "**Termin**: 16. + 17.06.2023 jeweils 10:15 Uhr bis 17:45 Uhr  \n",
    "**Raum**: G40B-229  \n",
    "\n",
    "### Tag 1:\n",
    "- afbv\n",
    "- afv\n",
    "\n"
   ]
  },
  {
   "cell_type": "markdown",
   "id": "4c9945d8",
   "metadata": {
    "slideshow": {
     "slide_type": "subslide"
    }
   },
   "source": [
    "### Tag 2:\n",
    "- asv\n",
    "- avfs"
   ]
  },
  {
   "cell_type": "markdown",
   "id": "8ad06c6c",
   "metadata": {
    "slideshow": {
     "slide_type": "slide"
    }
   },
   "source": [
    "## 2. Block (07./08.07.2023)\n",
    "**Termin**: 16. + 17.06.2023 jeweils 10:15 Uhr bis 17:45 Uhr  \n",
    "**Raum**: G40B-229  \n",
    "\n",
    "### Tag 3:\n",
    "- afbv\n",
    "- afv\n",
    "\n"
   ]
  },
  {
   "cell_type": "markdown",
   "id": "4bf58092",
   "metadata": {
    "slideshow": {
     "slide_type": "subslide"
    }
   },
   "source": [
    "### Tag 4:\n",
    "- asv\n",
    "- avfs"
   ]
  },
  {
   "cell_type": "markdown",
   "id": "75f4745e",
   "metadata": {
    "slideshow": {
     "slide_type": "slide"
    }
   },
   "source": [
    "# Computational Social Science\n",
    "- Zunehmende Verfügbarkeit umfangreicher Daten aus den sozialen Medien, ###\n",
    "- Zunehmende Computerleistung ermöglicht es große Datenmengen zu sammeln und zu analysieren\n",
    "- Daten werden bereits in anderen Disziplinen (Physik, Biologie, Informatik), Firmen (Google, Facebook, Twitter) oder Staaten gesammelt und ausgewertet\n",
    "- Daten und Methoden erhalten nur langsam Einzug in die Sozialwissenschaften"
   ]
  },
  {
   "cell_type": "markdown",
   "id": "e0aa0a17",
   "metadata": {
    "slideshow": {
     "slide_type": "subslide"
    }
   },
   "source": [
    "- Die grundlegenden Fragen, die sich aus diesen Daten ergeben, sind überwiegend sozialer Natur\n",
    "    - Wer ist mit wem verbunden und wer hat die einflussreichsten Positionen?\n",
    "    - Welchen Einfluss hat die Struktur der jeweiligen Gesellschaft auf diese sozialen Beziehungen?\n",
    "    - Was sind allgemeine Eigenschaften der menschlichen Kommunikation?\n",
    "    - ..."
   ]
  },
  {
   "cell_type": "markdown",
   "id": "7df8a112",
   "metadata": {
    "slideshow": {
     "slide_type": "subslide"
    }
   },
   "source": [
    "> \"computer-science students had much better methodological chops than their sociology counterparts, but the sociologists had much more interesting questions\" - Duncan Watts (zitiert in Giles, 2012: 450)"
   ]
  },
  {
   "cell_type": "markdown",
   "id": "087f068c",
   "metadata": {
    "slideshow": {
     "slide_type": "subslide"
    }
   },
   "source": [
    "- Analyse dieser Daten nicht nur den naturwissenschaftlichen Disziplinen oder profitorientierten Firmen überlassen\n",
    "- Sozialwissenschaftliche Erhebungs- und Analysetechniken anpassen"
   ]
  },
  {
   "cell_type": "markdown",
   "id": "562030a7",
   "metadata": {
    "slideshow": {
     "slide_type": "slide"
    }
   },
   "source": [
    "# Computing infrastructure\n",
    "- In der CSS kommen computergestütze Methoden zur Anwendung in der \n",
    "    - Datenerhebung, \n",
    "    - Datenverarbeitung \n",
    "    - Datenanalyse\n",
    "- Computergestütze Methoden werden in Programmiersprachen implementiert\n",
    "- Verschiedene Sprachen können kombiniert werden\n",
    "- Wenn möglich nur **eine** Sprache verwenden"
   ]
  },
  {
   "cell_type": "markdown",
   "id": "986b6ea4",
   "metadata": {
    "slideshow": {
     "slide_type": "slide"
    }
   },
   "source": [
    "# Welche Programmiersprache?\n",
    "<img src='images/r.png' style='height: 100px; float: right; margin-left: 10px'>  \n",
    "\n",
    "<img src='images/python.png' style='height: 100px; float: right; margin-left: 10px'>  \n",
    "\n",
    "- Die meisten Methoden sind in *R* oder *Python* implementiert\n",
    "- Große user communities (Irgendwer hat dein Problem schon gelöst!)\n",
    "- Kostenlos und open source\n",
    "- Beide Sprachen sind modular (d.h. es gibt Pakete an Funktionen für bestimmte Anwendungen)\n",
    "- R eher für statistische Anwendungen\n",
    "- Python hat als Allzwecksprache eine interdisziplinärere und breitere Nutzer:innenbasis\n",
    "- Stärken von Python in Datenerhebung und Machinelearning\n",
    "- **Entscheidende Frage**: Welche Sprache benutzt deine Community?"
   ]
  },
  {
   "cell_type": "markdown",
   "id": "cfe12651",
   "metadata": {
    "slideshow": {
     "slide_type": "slide"
    }
   },
   "source": [
    "# Reproduzierbarkeit\n",
    "- Die Verwendung einer Programmiersprachen macht Forschung reproduzierbar\n",
    "- Forschungsarbeit können unabhängig der Forscher:in wiederholt mit identischen Ergebnissen durchgeführt werden\n",
    "- Damit Forschung reproduzierbar ist müssen Daten und Code dokumentiert werden"
   ]
  },
  {
   "cell_type": "markdown",
   "id": "159763b8",
   "metadata": {
    "slideshow": {
     "slide_type": "slide"
    }
   },
   "source": [
    "# Anaconda\n",
    "<img src='images/anaconda.png' style='height: 50px; float: right; margin-left: 10px'>  \n",
    "\n",
    "- Beliebtes Softwarepaket für R und Python\n",
    "- Grundlegende Funktionalität: **Paketverwaltung**\n",
    "- Stellt grundlegende Pakete bereit und bietet die kontrollierte Möglichkeit weitere Pakete hinzuzufügen"
   ]
  },
  {
   "cell_type": "markdown",
   "id": "380da8b7",
   "metadata": {
    "slideshow": {
     "slide_type": "subslide"
    }
   },
   "source": [
    "## Anaconda Navigator\n",
    "<img src='images/anaconda_navigator.png' style='width:80%'> "
   ]
  },
  {
   "cell_type": "markdown",
   "id": "8593e214",
   "metadata": {
    "slideshow": {
     "slide_type": "subslide"
    }
   },
   "source": [
    "# Anaconda Environments\n",
    "<img src='images/anaconda_environment.png' style='width:80%'> "
   ]
  },
  {
   "cell_type": "markdown",
   "id": "bd889e63",
   "metadata": {
    "slideshow": {
     "slide_type": "subslide"
    }
   },
   "source": [
    "# Installation von Paketen\n",
    "<img src='images/anaconda_package.png' style='width:80%'> "
   ]
  },
  {
   "cell_type": "markdown",
   "id": "ac110607",
   "metadata": {
    "slideshow": {
     "slide_type": "subslide"
    }
   },
   "source": [
    "### Bitte installieren Sie bis zur nächsten Sitzung die folgenden Pakete:\n",
    "- jupyter\n",
    "- pandas\n",
    "- numpy\n",
    "- matplotlib"
   ]
  },
  {
   "cell_type": "markdown",
   "id": "4d44dddd",
   "metadata": {
    "slideshow": {
     "slide_type": "slide"
    }
   },
   "source": [
    "# Jupyter Notebook\n",
    "- Interaktives Notebook zur Entwicklung und Dokumentation von Code\n",
    "- Wichtig für die Dokumentation und Reproduzierbarkeit der Forschung\n",
    "- Jupyter Notebooks enthalten Inhaltszeilen, die entweder Code oder Text (Markdown) sein können\n",
    "- Textzeilen dienen dazu den Code zu erklären und zu dokumentieren"
   ]
  },
  {
   "cell_type": "markdown",
   "id": "d9189cb3",
   "metadata": {
    "slideshow": {
     "slide_type": "subslide"
    }
   },
   "source": [
    "## Jupyter Notebook starten\n",
    "<img src='images/jupyter_notebook_start.png' style='width:80%'> "
   ]
  },
  {
   "cell_type": "code",
   "execution_count": 8,
   "id": "7194cd7a",
   "metadata": {
    "slideshow": {
     "slide_type": "subslide"
    }
   },
   "outputs": [
    {
     "data": {
      "text/html": [
       "<iframe width=\"560\" height=\"315\" src=\"https://www.youtube.com/embed/HW29067qVWk\"></iframe>\n"
      ],
      "text/plain": [
       "<IPython.core.display.HTML object>"
      ]
     },
     "metadata": {},
     "output_type": "display_data"
    }
   ],
   "source": [
    "%%HTML\n",
    "<iframe width=\"560\" height=\"315\" src=\"https://www.youtube.com/embed/HW29067qVWk\"></iframe>"
   ]
  },
  {
   "cell_type": "markdown",
   "id": "629362eb",
   "metadata": {
    "slideshow": {
     "slide_type": "slide"
    }
   },
   "source": [
    "# git\n",
    "<img src='images/git.png' style='height: 100px; float: right; margin-left: 10px'>  \n",
    "\n",
    "- version control system\n",
    "- git bietet die Möglichkeit eine Sammlung an Jupyter Notebooks (oder anderem Code) in einem **Repository** auf einem Git-Server zu speichern\n",
    "- Versionskontrolle: Beim Hochladen der Dateien werden frühere Versionen nicht überschrieben (So kann immer auch auf alte Versionen zugegriffen werden)\n",
    "- git wird in der Computerwissenschaft und in der IT-industrie häufig verwendet um Code gemeinsam zu entwickeln\n",
    "- Mehrere Anbieter von git-Servern (GitHub, gitlab, etc.)\n",
    "- Materialen des Kurses sind hier zu finden: https://github.com/jonas-volle/css_python_course\n",
    " \n"
   ]
  },
  {
   "cell_type": "markdown",
   "id": "14a452bf",
   "metadata": {
    "slideshow": {
     "slide_type": "subslide"
    }
   },
   "source": [
    "## Installation von git\n",
    "- Die git [Dokumentation](https://git-scm.com/book/en/v2/Getting-Started-Installing-Git) hält Informationen zur Installation bereit \n",
    "- Installieren Sie bis zur nächsten Sitzung die entsprechende Version für Ihr Betriebssystem"
   ]
  },
  {
   "cell_type": "markdown",
   "id": "db7597f3",
   "metadata": {
    "slideshow": {
     "slide_type": "slide"
    }
   },
   "source": [
    "# Download der Kursmaterialien\n",
    "\n",
    "0. Erstellen Sie einen Ordner in dem Sie zukünftige Python Projekte ablegen möchten\n",
    "1. Öffnen Sie das Programm \"Git GUI\"\n",
    "2. Klicken Sie auf \"Clone Existing Repository\"\n",
    "3. Geben Sie als \"Source Location\" folgende url ein: https://github.com/jonas-volle/css_python_course\n",
    "4. Geben Sie als \"Target Location\" den Dateipfad des Ordners ihrer Python-Projekte an und ergänzen Sie den Pfad mit einem Ordnernamen für die Kursmaterialien zb. \"/python_intro\" (Diesen Ordner dürfen Sie vorher noch nicht erstellt haben!)\n",
    "5. Lassen Sie die \"Clone Type\" Einstellungen so wie sie sind\n",
    "6. Klicken Sie auf Clone"
   ]
  }
 ],
 "metadata": {
  "celltoolbar": "Slideshow",
  "kernelspec": {
   "display_name": "Python 3 (ipykernel)",
   "language": "python",
   "name": "python3"
  },
  "language_info": {
   "codemirror_mode": {
    "name": "ipython",
    "version": 3
   },
   "file_extension": ".py",
   "mimetype": "text/x-python",
   "name": "python",
   "nbconvert_exporter": "python",
   "pygments_lexer": "ipython3",
   "version": "3.11.3"
  }
 },
 "nbformat": 4,
 "nbformat_minor": 5
}
