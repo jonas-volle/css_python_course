{
 "cells": [
  {
   "cell_type": "markdown",
   "id": "008df3a6",
   "metadata": {
    "slideshow": {
     "slide_type": "slide"
    }
   },
   "source": [
    "# Einführung in Python für die Computational Social Science (CSS)\n",
    "## Jonas Volle\n",
    "Wissenschaftlicher Mitarbeiter  \n",
    "Chair of Methodology and Empirical Social Research  \n",
    "Otto-von-Guericke-Universität  \n",
    "\n",
    "[jonas.volle@ovgu.de](mailto:jonas.volle@ovgu.de)\n",
    "\n",
    "**Sprechstunde**: individuell nach vorheriger Anmeldung per [Mail](mailto:jonas.volle@ovgu.de)\n",
    "\n",
    "Freitag, 14.04.2023"
   ]
  },
  {
   "cell_type": "markdown",
   "id": "f2a42ee4",
   "metadata": {
    "slideshow": {
     "slide_type": "slide"
    }
   },
   "source": [
    "# Inhalt\n",
    "\n",
    "1. Vorstellung\n",
    "2. Kursplan\n",
    "3. Einführung\n",
    "4. Organisatorisches\n",
    "5. Literatur/Zusätzliches Material"
   ]
  },
  {
   "cell_type": "markdown",
   "id": "28f255fb",
   "metadata": {
    "slideshow": {
     "slide_type": "slide"
    }
   },
   "source": [
    "# Vorstellung"
   ]
  },
  {
   "cell_type": "markdown",
   "id": "0ac144dd",
   "metadata": {
    "slideshow": {
     "slide_type": "subslide"
    }
   },
   "source": [
    "## Jonas Volle\n",
    "- Wissenschaftlicher Mitarbeiter am Lehrstuhl von Prof. Andreas Schmitz im DFG-Projekt \"Netzwerke, Paradigmen und Karrieren im akademischen Feld: Soziologie in Deutschland und den Vereinigten Staaten\"\n",
    "- Forschungsinteressen: Verknüpfung soziologischer Perspektiven und Methodologien mit Ansätzen der CSS (Textmining, Netzwerkanalysen, maschinelles Lernen) im Bereich der Wissenschaftssoziologie."
   ]
  },
  {
   "cell_type": "markdown",
   "id": "2a9c2dfd",
   "metadata": {
    "slideshow": {
     "slide_type": "subslide"
    }
   },
   "source": [
    "## Teilnehmer:innen\n",
    "\n",
    "- Name?\n",
    "- Ihr Hintergrund? (z.B. Studienfach, Semester)\n",
    "- Welche Erwartungen haben Sie an den Kurs? (außer \"Ich möchte Python lernen\")\n",
    "- Was bringen Sie mit? (Vorerfahrungen etc.)"
   ]
  },
  {
   "cell_type": "markdown",
   "id": "ae64ffc0",
   "metadata": {
    "slideshow": {
     "slide_type": "slide"
    }
   },
   "source": [
    "# Kursplan"
   ]
  },
  {
   "cell_type": "markdown",
   "id": "af56be8b",
   "metadata": {
    "slideshow": {
     "slide_type": "slide"
    }
   },
   "source": [
    "## Einführung (14.04.2023)\n",
    "- Vorstellung\n",
    "- Warum Python für die Computional Social Science?\n",
    "- Einrichtung der Rechenumgebung\n",
    "    - Installation von anaconda\n",
    "    - Installation von git\n",
    "- Wo finde ich die Kursmaterialen?\n",
    "- Organisatorisches\n",
    "- Literatur/Zusätzliches Material"
   ]
  },
  {
   "cell_type": "markdown",
   "id": "fd00e200",
   "metadata": {
    "slideshow": {
     "slide_type": "slide"
    }
   },
   "source": [
    "## 1. Block (16./17.06.2023)\n",
    "**Termin**: 16. + 17.06.2023 jeweils 10:15 Uhr bis 17:45 Uhr  \n",
    "**Raum**: G40B-229  "
   ]
  },
  {
   "cell_type": "markdown",
   "id": "245cc070",
   "metadata": {
    "slideshow": {
     "slide_type": "subslide"
    }
   },
   "source": [
    "### Tag 1: Grundlagen\n",
    "- Grundlegende Datentypen und Ausdrücke\n",
    "- Variablen und Zuweisungen\n",
    "- Objekte und Methoden\n",
    "- Vergleiche und Loops\n",
    "- Datenstrukturen (Lists, Tuples, Dictionaries)\n",
    "- Funktionen"
   ]
  },
  {
   "cell_type": "markdown",
   "id": "350e9129",
   "metadata": {
    "slideshow": {
     "slide_type": "subslide"
    }
   },
   "source": [
    "### Tag 2: Datenmanagement mit Pandas\n",
    "- Datenstruktur\n",
    "- Import und Export verschiedener Dateiformate (csv, excel, etc.)\n",
    "- pandas DataFrame\n",
    "- Spalten (columns) auswählen\n",
    "- Zeilen (rows) filtern\n",
    "- Aggregierung und Gruppierung\n",
    "- Fehlende Daten\n",
    "- Merging\n"
   ]
  },
  {
   "cell_type": "markdown",
   "id": "d2339868",
   "metadata": {
    "slideshow": {
     "slide_type": "slide"
    }
   },
   "source": [
    "## 2. Block (07./08.07.2023)\n",
    "**Termin**: 07. + 08.07.2023 jeweils 10:15 Uhr bis 17:45 Uhr  \n",
    "**Raum**: G40B-229 (ggf. online über Zoom)"
   ]
  },
  {
   "cell_type": "markdown",
   "id": "63435292",
   "metadata": {
    "slideshow": {
     "slide_type": "subslide"
    }
   },
   "source": [
    "### Tag 3:\n",
    "*Vormittag*: Interaktion mit Application Programming Interfaces (API)  \n",
    "\n",
    "*Nachmittag*: Webscraping statischer Webseiten mit BeautifulSoup"
   ]
  },
  {
   "cell_type": "markdown",
   "id": "eecfd65b",
   "metadata": {
    "slideshow": {
     "slide_type": "subslide"
    }
   },
   "source": [
    "### Tag 4:\n",
    "*Vormittag*: Deskriptive Statistiken \n",
    "\n",
    "*Nachmittag*: Grafiken plotten mit matplotlib"
   ]
  },
  {
   "cell_type": "markdown",
   "id": "517803e4",
   "metadata": {
    "slideshow": {
     "slide_type": "slide"
    }
   },
   "source": [
    "# Computational Social Science (CSS)\n",
    "- Interdiziplinäres Feld in der Entstehung\n",
    "- Verschiedenste Definitionen\n",
    "- Im Allgemeinen: Computergestützten Ansätzen in den Sozialwissenschaften (Modellierung, Simulierung und Analyse sozialer Phänomene)\n",
    "- Analyse bspw. sozialer Netzwerke, sozialer Medieninhalte und traditioneller Medieninhalte\n",
    "- Das Feld profitiert von der zunehmende Verfügbarkeit umfangreicher digitaler Daten (z.B. sozialer Medien, Log-Daten) und der zunehmende Computerleistung"
   ]
  },
  {
   "cell_type": "markdown",
   "id": "6af493df",
   "metadata": {
    "slideshow": {
     "slide_type": "subslide"
    }
   },
   "source": [
    "- Daten werden bereits in anderen Disziplinen (Physik, Biologie, Informatik), von Firmen (Google, Facebook, Twitter) oder Staaten gesammelt und ausgewertet\n",
    "- Daten und Methoden erhalten nur langsam Einzug in die Sozialwissenschaften\n",
    "- Die grundlegenden Fragen, die sich aus diesen Daten ergeben, sind überwiegend sozialer Natur\n",
    "- Sozialwissenschaftliche Erhebungs- und Analysetechniken anpassen"
   ]
  },
  {
   "cell_type": "markdown",
   "id": "08671a03",
   "metadata": {
    "slideshow": {
     "slide_type": "slide"
    }
   },
   "source": [
    "# Computing infrastructure\n",
    "- In der CSS kommen computergestütze Methoden zur Anwendung in der \n",
    "    - Datenerhebung, \n",
    "    - Datenverarbeitung \n",
    "    - Datenanalyse\n",
    "- Computergestütze Methoden werden in Programmiersprachen implementiert\n",
    "- Verschiedene Sprachen können kombiniert werden\n",
    "- Wenn möglich nur **eine** Sprache verwenden"
   ]
  },
  {
   "cell_type": "markdown",
   "id": "3c9f862d",
   "metadata": {
    "slideshow": {
     "slide_type": "slide"
    }
   },
   "source": [
    "# Welche Programmiersprache?\n",
    "<img src='images/r.png' style='height: 100px; float: right; margin-left: 10px'>  \n",
    "<img src='images/python.png' style='height: 100px; float: right; margin-left: 10px'> \n",
    "\n",
    "- Die meisten Methoden sind in *R* oder *Python* implementiert\n",
    "- Große user communities (Irgendwer hat dein Problem schon gelöst!)\n",
    "- Kostenlos und open source\n",
    "- Beide Sprachen sind modular (d.h. es gibt Pakete an Funktionen für bestimmte Anwendungen)\n",
    "- R eher für statistische Anwendungen"
   ]
  },
  {
   "cell_type": "markdown",
   "id": "d80d52b9",
   "metadata": {
    "slideshow": {
     "slide_type": "subslide"
    }
   },
   "source": [
    "- Python hat als Allzwecksprache eine interdisziplinärere und breitere Nutzer:innenbasis\n",
    "- Stärken von Python in Datenerhebung und Machinelearning\n",
    "- **Entscheidende Frage**: Welche Sprache benutzt deine Community?"
   ]
  },
  {
   "cell_type": "markdown",
   "id": "afac8ed6",
   "metadata": {
    "slideshow": {
     "slide_type": "slide"
    }
   },
   "source": [
    "# Reproduzierbarkeit\n",
    "- Die Verwendung einer Programmiersprachen macht Forschung reproduzierbar\n",
    "- Forschungsarbeit können unabhängig der Forscher:in wiederholt mit identischen Ergebnissen durchgeführt werden\n",
    "- Damit Forschung reproduzierbar ist müssen Daten und Code dokumentiert werden"
   ]
  },
  {
   "cell_type": "markdown",
   "id": "d030db1f",
   "metadata": {
    "slideshow": {
     "slide_type": "slide"
    }
   },
   "source": [
    "# Anaconda\n",
    "<img src='images/anaconda.png' style='height: 50px; float: right; margin-left: 10px'>  \n",
    "\n",
    "- Beliebtes Softwarepaket für R und Python\n",
    "- Grundlegende Funktionalität: **Paketverwaltung**\n",
    "- Stellt grundlegende Pakete bereit und bietet die kontrollierte Möglichkeit weitere Pakete hinzuzufügen"
   ]
  },
  {
   "cell_type": "markdown",
   "id": "55ba21a1",
   "metadata": {
    "slideshow": {
     "slide_type": "subslide"
    }
   },
   "source": [
    "## <a id='anaconda_installation'></a>Anaconda Installation\n",
    "\n",
    "1. Laden Sie die Installationsdatei für Ihr Betriebssystem von dieser [Webseite](https://www.anaconda.com/products/distribution#Downloads) herunter\n",
    "2. Installieren Sie die Distribution, indem Sie die heruntergeladene Datei ausführen. Verwenden Sie für die Installation Administrator:innenrechte. Unter Windows können Sie dies tun, indem Sie mit der rechten Maustaste auf die heruntergeladene Datei klicken und auf \"Als Administrator ausführen\" klicken.\n",
    "3. Bei Installationsproblemen hilft die Anaconda [Dokumentation](https://docs.continuum.io/anaconda/install/) weiter\n"
   ]
  },
  {
   "cell_type": "markdown",
   "id": "1258bdd9",
   "metadata": {
    "slideshow": {
     "slide_type": "subslide"
    }
   },
   "source": [
    "## Anaconda Navigator\n",
    "<img src='images/anaconda_navigator.png' style='width:80%'> "
   ]
  },
  {
   "cell_type": "markdown",
   "id": "413e72a5",
   "metadata": {
    "slideshow": {
     "slide_type": "subslide"
    }
   },
   "source": [
    "# <a id='anaconda_env'></a>Anaconda Environments\n",
    "<img src='images/anaconda_environment.png' style='width:80%'> "
   ]
  },
  {
   "cell_type": "markdown",
   "id": "abd3cd3f",
   "metadata": {
    "slideshow": {
     "slide_type": "subslide"
    }
   },
   "source": [
    "# <a id='anaconda_package'></a>Installation von Paketen\n",
    "<img src='images/anaconda_package.png' style='width:80%'> "
   ]
  },
  {
   "cell_type": "markdown",
   "id": "8918fcb5",
   "metadata": {
    "slideshow": {
     "slide_type": "subslide"
    }
   },
   "source": [
    "### Bitte installieren Sie bis zur nächsten Sitzung die folgenden Pakete:\n",
    "- jupyter\n",
    "- pandas\n",
    "- numpy\n",
    "- matplotlib"
   ]
  },
  {
   "cell_type": "markdown",
   "id": "ad47aadb",
   "metadata": {
    "slideshow": {
     "slide_type": "slide"
    }
   },
   "source": [
    "# Jupyter Notebook\n",
    "- Interaktives Notebook zur Entwicklung und Dokumentation von Code\n",
    "- Wichtig für die Dokumentation und Reproduzierbarkeit der Forschung\n",
    "- Jupyter Notebooks enthalten Inhaltszeilen, die entweder Code oder Text (Markdown) sein können\n",
    "- Textzeilen dienen dazu den Code zu erklären und zu dokumentieren"
   ]
  },
  {
   "cell_type": "markdown",
   "id": "9ad6ba0c",
   "metadata": {
    "slideshow": {
     "slide_type": "subslide"
    }
   },
   "source": [
    "... auch diese Präsentation ist ein Jupyter Notebook"
   ]
  },
  {
   "cell_type": "code",
   "execution_count": 23,
   "id": "a6f1151f",
   "metadata": {
    "slideshow": {
     "slide_type": "subslide"
    }
   },
   "outputs": [
    {
     "data": {
      "text/plain": [
       "25"
      ]
     },
     "execution_count": 23,
     "metadata": {},
     "output_type": "execute_result"
    }
   ],
   "source": [
    "# das hier ist z.B. eine Codezeile\n",
    "5+20"
   ]
  },
  {
   "cell_type": "markdown",
   "id": "546b7f2e",
   "metadata": {
    "slideshow": {
     "slide_type": "subslide"
    }
   },
   "source": [
    "## <a id='anaconda_env_open'></a>Jupyter Notebook starten\n",
    "**Hinweis**: Bevor Sie ein Jupyter Notebook starten können, müssen Sie das Paket \"jupyter\" in Ihrem Environment installiert haben.\n",
    "<img src='images/jupyter_notebook_start.png' style='width:80%'> "
   ]
  },
  {
   "cell_type": "markdown",
   "id": "9fa8cdd2",
   "metadata": {
    "slideshow": {
     "slide_type": "slide"
    }
   },
   "source": [
    "# git\n",
    "<img src='images/git.png' style='height: 100px; float: right; margin-left: 10px'>  \n",
    "\n",
    "- Versionskontrollsystem\n",
    "- git bietet die Möglichkeit eine Sammlung an Jupyter Notebooks (oder anderem Code) in einem **Repository** auf einem Git-Server zu speichern\n",
    "- Versionskontrolle: Beim Hochladen der Dateien werden frühere Versionen nicht überschrieben (So kann immer auch auf alte Versionen zugegriffen werden)\n",
    "\n",
    " \n"
   ]
  },
  {
   "cell_type": "markdown",
   "id": "f6f211d6",
   "metadata": {
    "slideshow": {
     "slide_type": "subslide"
    }
   },
   "source": [
    "## git\n",
    "- git wird in der Computerwissenschaft und in der IT-industrie häufig verwendet um Code gemeinsam zu entwickeln\n",
    "- Mehrere Anbieter von git-Servern (GitHub, gitlab, etc.)\n",
    "- Materialen des Kurses sind hier zu finden: https://github.com/jonas-volle/css_python_course"
   ]
  },
  {
   "cell_type": "markdown",
   "id": "e5dba363",
   "metadata": {
    "slideshow": {
     "slide_type": "subslide"
    }
   },
   "source": [
    "## <a id='git_install'></a> Installation von git\n",
    "- Die [Dokumentation](https://git-scm.com/book/en/v2/Getting-Started-Installing-Git) hält Informationen zur Installation bereit \n",
    "- Installieren Sie bis zur nächsten Sitzung die entsprechende Version für Ihr Betriebssystem"
   ]
  },
  {
   "cell_type": "markdown",
   "id": "c9d768ca",
   "metadata": {
    "slideshow": {
     "slide_type": "slide"
    }
   },
   "source": [
    "#  <a id='git_clone'></a> Download der Kursmaterialien\n",
    "\n",
    "0. Erstellen Sie einen Ordner in dem Sie zukünftige Python Projekte ablegen möchten\n",
    "1. Öffnen Sie das Programm \"Git GUI\"\n",
    "2. Klicken Sie auf \"Clone Existing Repository\"\n",
    "3. Geben Sie als \"Source Location\" folgende url ein: https://github.com/jonas-volle/css_python_course\n",
    "4. Geben Sie als \"Target Location\" den Dateipfad des Ordners ihrer Python-Projekte an und ergänzen Sie den Pfad mit einem Ordnernamen für die Kursmaterialien zb. \"/python_intro\" (Diesen Ordner dürfen Sie vorher noch nicht erstellt haben!)\n",
    "5. Lassen Sie die \"Clone Type\" Einstellungen so wie sie sind\n",
    "6. Klicken Sie auf \"Clone\""
   ]
  },
  {
   "cell_type": "markdown",
   "id": "9ca9abf7",
   "metadata": {
    "slideshow": {
     "slide_type": "subslide"
    }
   },
   "source": [
    "<img src='images/git_clone.png' style='width:80%'> "
   ]
  },
  {
   "cell_type": "markdown",
   "id": "53c9ab19",
   "metadata": {
    "slideshow": {
     "slide_type": "subslide"
    }
   },
   "source": [
    "## <a id='test_notebook'></a>Test Notebook\n",
    "<img src='images/test_notebook.png' style='width:80%'>"
   ]
  },
  {
   "cell_type": "markdown",
   "id": "78d640a1",
   "metadata": {
    "slideshow": {
     "slide_type": "subslide"
    }
   },
   "source": [
    "<div class='alert alert-block alert-success'>\n",
    "    <b>To-DO</b>: Öffnen Sie bitte bis zur nächsten Sitzung das Test Notebook und überprüfen Sie, ob Sie alle Pakete richtig installiert haben.\n",
    "</div>"
   ]
  },
  {
   "cell_type": "markdown",
   "id": "3ff7745c",
   "metadata": {
    "slideshow": {
     "slide_type": "subslide"
    }
   },
   "source": [
    "## Bei Installationsproblemen:\n",
    "1. Die jeweiligen Dokumentationen lesen\n",
    "2. googlen und in Foren suchen (z.B. [stackoverflow](https://stackoverflow.com/))\n",
    "3. per Mail für Sprechstunde bei mir anmelden"
   ]
  },
  {
   "cell_type": "markdown",
   "id": "0d1ed857",
   "metadata": {
    "slideshow": {
     "slide_type": "slide"
    }
   },
   "source": [
    "# Organisatorisches\n",
    "\n",
    "- Kleine Prüfungsleistung: Abgabe eines kommentieten Jupyter Notebooks in dem Sie die Kursinhalte anwenden\n",
    "- Wenn Sie ein großes Interesse an der Thematik haben und sich selbstständig weiter in die Thematik einarbeiten möchten ist auch eine große Prüfungsleistung in Form einer Hausarbeit möglich (Thema vorher mit mir absprechen!)\n",
    "- Fragen?"
   ]
  },
  {
   "cell_type": "markdown",
   "id": "7525a162",
   "metadata": {
    "slideshow": {
     "slide_type": "slide"
    }
   },
   "source": [
    "# Literatur und zusätzliches Material\n",
    "\n",
    "### Literatur\n",
    "\n",
    "Heiberger, Raphael H., and Jan R. Riebling. 2016. ‘Installing Computational Social Science: Facing the Challenges of New Information and Communication Technologies in Social Science’. Methodological Innovations. doi: [10.1177/2059799115622763](https://journals.sagepub.com/doi/10.1177/2059799115622763).\n",
    "\n",
    "Lazer, David, et al. 2009. ‘Computational Social Science’. Science 323(5915):721–23. doi: [10.1126/science.1167742](https://www.science.org/doi/10.1126/science.1167742).\n",
    "\n",
    "McLevey, John. 2021. Doing Computational Social Science: A Practical Introduction. 1st ed. Thousand Oaks: SAGE Publications."
   ]
  },
  {
   "cell_type": "markdown",
   "id": "5f457401",
   "metadata": {
    "slideshow": {
     "slide_type": "subslide"
    }
   },
   "source": [
    "Van Atteveldt, W., Trilling, D., & Calderón, C. A. (2022). Computational Analysis of Communication. Wiley Blackwell. ([Link](https://cssbook.net/))\n",
    "\n",
    "Vanderplas, Jacob T. 2016. Python Data Science Handbook: Essential Tools for Working with Data. First edition. Sebastopol, CA: O’Reilly Media, Inc. (Komplettes Buch in Form von Jupyter Notebooks [hier](https://jakevdp.github.io/PythonDataScienceHandbook/))"
   ]
  },
  {
   "cell_type": "markdown",
   "id": "e3bc942c",
   "metadata": {
    "slideshow": {
     "slide_type": "subslide"
    }
   },
   "source": [
    "### Tutorials\n",
    "\n",
    "Lietz, Haiko et al. 2023. Introduction to Computational Social Science methods with Python. [GitHub-Link](https://github.com/gesiscss/css_methods_python)"
   ]
  },
  {
   "cell_type": "markdown",
   "id": "96d90fb3",
   "metadata": {
    "slideshow": {
     "slide_type": "subslide"
    }
   },
   "source": [
    "### datacamp\n",
    "\n",
    "- Interaktive Plattform mit online Programmierkursen ([Link](https://app.datacamp.com/))\n",
    "- DataCamp Classrooms für diesen Kurs verfügbar (6 Monate kostenloser Zugriff auf alle Kurse)\n",
    "- Zusätzliches Angebot und keine Voraussetzung für das Bestehen dieses Kurses"
   ]
  },
  {
   "cell_type": "markdown",
   "id": "09150fe6",
   "metadata": {
    "slideshow": {
     "slide_type": "slide"
    }
   },
   "source": [
    "# To-dos bis zur nächsten Sitzung\n",
    "\n",
    "1. Installieren Sie bitte anaconda\n",
    "2. Erstellen Sie ein anaconda Environment für diesen Kurs (z.B. mit dem Namen \"python_intro\")\n",
    "3. Installieren Sie in diesem Environment die folgenden Pakete: jupyter, pandas, numpy, matplotlib\n",
    "4. Installieren Sie \"git Gui\"\n",
    "5. Clonen Sie mit dem Programm \"git Gui\" das [github-Repository](https://github.com/jonas-volle/css_python_course) dieses Kurses"
   ]
  },
  {
   "cell_type": "markdown",
   "id": "907b90e0",
   "metadata": {
    "slideshow": {
     "slide_type": "subslide"
    }
   },
   "source": [
    "6. Öffnen Sie mit dem Anaconda Navigator aus dem Environment für diesen Kurs ein Jupyter Notebook\n",
    "7. Öffnen Sie das Jupyter Notebook \"test_notebook.ipynb\" und überprüfen Sie ob Sie alle Pakete richtig installiert haben\n",
    "\n",
    "<div class='alert alert-block alert-warning'>\n",
    "<b>Bitte beginnen Sie mit der Installation nicht erst kurz vor der nächsten Sitzung!</b> <br>Es können immer Probleme auftreten. Nur mit einem funktionierenden Setup können Sie am Kurs teilnehmen!\n",
    "</div>\n",
    "\n",
    "<div class='alert alert-block alert-success'>\n",
    "Wenn Sie Installationsprobleme haben und nach der Lektüre der jeweiligen Dokumentationen nicht weiter wissen, kontaktieren Sie bitte mich. Wir finden dann gemeinsam eine Lösung.\n",
    "</div>"
   ]
  },
  {
   "cell_type": "markdown",
   "id": "1bf00d53",
   "metadata": {
    "slideshow": {
     "slide_type": "slide"
    }
   },
   "source": [
    "## Haben Sie noch Fragen?"
   ]
  }
 ],
 "metadata": {
  "celltoolbar": "Slideshow",
  "kernelspec": {
   "display_name": "Python 3 (ipykernel)",
   "language": "python",
   "name": "python3"
  },
  "language_info": {
   "codemirror_mode": {
    "name": "ipython",
    "version": 3
   },
   "file_extension": ".py",
   "mimetype": "text/x-python",
   "name": "python",
   "nbconvert_exporter": "python",
   "pygments_lexer": "ipython3",
   "version": "3.8.16"
  }
 },
 "nbformat": 4,
 "nbformat_minor": 5
}
