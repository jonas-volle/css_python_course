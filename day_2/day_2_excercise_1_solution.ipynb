{
 "cells": [
  {
   "cell_type": "markdown",
   "id": "2034c08b",
   "metadata": {},
   "source": [
    "# Tag 2 - Übung 1"
   ]
  },
  {
   "cell_type": "markdown",
   "id": "c65653af",
   "metadata": {},
   "source": [
    "**Aufgabe 1:** Importieren Sie pandas."
   ]
  },
  {
   "cell_type": "code",
   "execution_count": 1,
   "id": "e048d20a",
   "metadata": {},
   "outputs": [],
   "source": [
    "import pandas as pd"
   ]
  },
  {
   "cell_type": "markdown",
   "id": "57d0a54d",
   "metadata": {},
   "source": [
    "**Aufgabe 2:** Importieren Sie den V-DEM Datensatz in die Variable `df`."
   ]
  },
  {
   "cell_type": "code",
   "execution_count": 2,
   "id": "d6974736",
   "metadata": {},
   "outputs": [],
   "source": [
    "df = pd.read_csv('../data/vdem/V-Dem-CY-Full+Others-v10.csv',\n",
    "                low_memory=False)"
   ]
  },
  {
   "cell_type": "markdown",
   "id": "677e25f1",
   "metadata": {},
   "source": [
    "**Aufgabe 3:** Erstellen Sie einen neuen DataFrame, der die Spalten 'country_name', 'country_text_id', 'e_regiongeo', 'year', 'v2x_polyarchy', 'v2x_libdem' und alle Daten zwischen 1990 und 2017 enthält. Speichern Sie die Daten in der Variable `sdf` und vergessen Sie die `.copy()` Methode nicht. Printen Sie die ersten 10 Zeilen von `sdf`."
   ]
  },
  {
   "cell_type": "code",
   "execution_count": 6,
   "id": "1a06d4e9",
   "metadata": {},
   "outputs": [],
   "source": [
    "sdf = df[['country_name', 'country_text_id', 'e_regiongeo', 'year', 'v2x_polyarchy', 'v2x_libdem']][(df.year >= 1990) & (df.year >= 1990)].copy()"
   ]
  },
  {
   "cell_type": "code",
   "execution_count": 31,
   "id": "bf36a7f4",
   "metadata": {},
   "outputs": [
    {
     "data": {
      "text/html": [
       "<div>\n",
       "<style scoped>\n",
       "    .dataframe tbody tr th:only-of-type {\n",
       "        vertical-align: middle;\n",
       "    }\n",
       "\n",
       "    .dataframe tbody tr th {\n",
       "        vertical-align: top;\n",
       "    }\n",
       "\n",
       "    .dataframe thead th {\n",
       "        text-align: right;\n",
       "    }\n",
       "</style>\n",
       "<table border=\"1\" class=\"dataframe\">\n",
       "  <thead>\n",
       "    <tr style=\"text-align: right;\">\n",
       "      <th></th>\n",
       "      <th>country_name</th>\n",
       "      <th>country_text_id</th>\n",
       "      <th>e_regiongeo</th>\n",
       "      <th>year</th>\n",
       "      <th>v2x_polyarchy</th>\n",
       "      <th>v2x_libdem</th>\n",
       "    </tr>\n",
       "  </thead>\n",
       "  <tbody>\n",
       "    <tr>\n",
       "      <th>201</th>\n",
       "      <td>Mexico</td>\n",
       "      <td>MEX</td>\n",
       "      <td>17</td>\n",
       "      <td>1990</td>\n",
       "      <td>0.389</td>\n",
       "      <td>0.206</td>\n",
       "    </tr>\n",
       "    <tr>\n",
       "      <th>202</th>\n",
       "      <td>Mexico</td>\n",
       "      <td>MEX</td>\n",
       "      <td>17</td>\n",
       "      <td>1991</td>\n",
       "      <td>0.435</td>\n",
       "      <td>0.221</td>\n",
       "    </tr>\n",
       "    <tr>\n",
       "      <th>203</th>\n",
       "      <td>Mexico</td>\n",
       "      <td>MEX</td>\n",
       "      <td>17</td>\n",
       "      <td>1992</td>\n",
       "      <td>0.448</td>\n",
       "      <td>0.226</td>\n",
       "    </tr>\n",
       "    <tr>\n",
       "      <th>204</th>\n",
       "      <td>Mexico</td>\n",
       "      <td>MEX</td>\n",
       "      <td>17</td>\n",
       "      <td>1993</td>\n",
       "      <td>0.438</td>\n",
       "      <td>0.222</td>\n",
       "    </tr>\n",
       "    <tr>\n",
       "      <th>205</th>\n",
       "      <td>Mexico</td>\n",
       "      <td>MEX</td>\n",
       "      <td>17</td>\n",
       "      <td>1994</td>\n",
       "      <td>0.482</td>\n",
       "      <td>0.281</td>\n",
       "    </tr>\n",
       "    <tr>\n",
       "      <th>206</th>\n",
       "      <td>Mexico</td>\n",
       "      <td>MEX</td>\n",
       "      <td>17</td>\n",
       "      <td>1995</td>\n",
       "      <td>0.514</td>\n",
       "      <td>0.295</td>\n",
       "    </tr>\n",
       "    <tr>\n",
       "      <th>207</th>\n",
       "      <td>Mexico</td>\n",
       "      <td>MEX</td>\n",
       "      <td>17</td>\n",
       "      <td>1996</td>\n",
       "      <td>0.528</td>\n",
       "      <td>0.308</td>\n",
       "    </tr>\n",
       "    <tr>\n",
       "      <th>208</th>\n",
       "      <td>Mexico</td>\n",
       "      <td>MEX</td>\n",
       "      <td>17</td>\n",
       "      <td>1997</td>\n",
       "      <td>0.546</td>\n",
       "      <td>0.336</td>\n",
       "    </tr>\n",
       "    <tr>\n",
       "      <th>209</th>\n",
       "      <td>Mexico</td>\n",
       "      <td>MEX</td>\n",
       "      <td>17</td>\n",
       "      <td>1998</td>\n",
       "      <td>0.596</td>\n",
       "      <td>0.371</td>\n",
       "    </tr>\n",
       "    <tr>\n",
       "      <th>210</th>\n",
       "      <td>Mexico</td>\n",
       "      <td>MEX</td>\n",
       "      <td>17</td>\n",
       "      <td>1999</td>\n",
       "      <td>0.606</td>\n",
       "      <td>0.383</td>\n",
       "    </tr>\n",
       "  </tbody>\n",
       "</table>\n",
       "</div>"
      ],
      "text/plain": [
       "    country_name country_text_id  e_regiongeo  year  v2x_polyarchy  v2x_libdem\n",
       "201       Mexico             MEX           17  1990          0.389       0.206\n",
       "202       Mexico             MEX           17  1991          0.435       0.221\n",
       "203       Mexico             MEX           17  1992          0.448       0.226\n",
       "204       Mexico             MEX           17  1993          0.438       0.222\n",
       "205       Mexico             MEX           17  1994          0.482       0.281\n",
       "206       Mexico             MEX           17  1995          0.514       0.295\n",
       "207       Mexico             MEX           17  1996          0.528       0.308\n",
       "208       Mexico             MEX           17  1997          0.546       0.336\n",
       "209       Mexico             MEX           17  1998          0.596       0.371\n",
       "210       Mexico             MEX           17  1999          0.606       0.383"
      ]
     },
     "execution_count": 31,
     "metadata": {},
     "output_type": "execute_result"
    }
   ],
   "source": [
    "sdf.head(10)"
   ]
  },
  {
   "cell_type": "markdown",
   "id": "d67933a8",
   "metadata": {},
   "source": [
    "**Aufgabe 4:** Filtern Sie die Zeilen 'country_name', 'country_text_id', 'e_regiongeo', 'year', 'v2x_polyarchy', 'v2x_libdem', 'v2x_partipdem', 'v2x_delibdem', 'v2x_egaldem' aus df für Deutschland zwischen 1900 und 1990 und speichern Sie die Daten in der Variable `sdf_ger`."
   ]
  },
  {
   "cell_type": "code",
   "execution_count": 28,
   "id": "9cd23234",
   "metadata": {},
   "outputs": [],
   "source": [
    "sdf_ger = (df[['country_name', \n",
    "               'country_text_id', \n",
    "               'e_regiongeo', \n",
    "               'year',\n",
    "               'v2x_polyarchy',\n",
    "               'v2x_libdem',\n",
    "               'v2x_partipdem',\n",
    "               'v2x_delibdem',\n",
    "               'v2x_egaldem']][(df.country_name == 'Germany') \n",
    "                               & (df.year >= 1900) \n",
    "                               & (df.year <= 1990)].copy())"
   ]
  },
  {
   "cell_type": "markdown",
   "id": "6d289965",
   "metadata": {},
   "source": [
    "**Aufgabe 5**: Wie viele Zeilen und Spalten hat `sdf_ger`?"
   ]
  },
  {
   "cell_type": "code",
   "execution_count": 17,
   "id": "9442b6bf",
   "metadata": {},
   "outputs": [
    {
     "data": {
      "text/plain": [
       "(87, 9)"
      ]
     },
     "execution_count": 17,
     "metadata": {},
     "output_type": "execute_result"
    }
   ],
   "source": [
    "sdf_ger.shape"
   ]
  },
  {
   "cell_type": "markdown",
   "id": "3b3edcb6",
   "metadata": {},
   "source": [
    "**Aufgabe 6**: Untersuchen Sie mit der `.info()` Methode die jeweiligen Datentypen von sdf_ger."
   ]
  },
  {
   "cell_type": "code",
   "execution_count": 18,
   "id": "7d67bc37",
   "metadata": {},
   "outputs": [
    {
     "name": "stdout",
     "output_type": "stream",
     "text": [
      "<class 'pandas.core.frame.DataFrame'>\n",
      "Index: 87 entries, 11473 to 11559\n",
      "Data columns (total 9 columns):\n",
      " #   Column           Non-Null Count  Dtype  \n",
      "---  ------           --------------  -----  \n",
      " 0   country_name     87 non-null     object \n",
      " 1   country_text_id  87 non-null     object \n",
      " 2   e_regiongeo      87 non-null     int64  \n",
      " 3   year             87 non-null     int64  \n",
      " 4   v2x_polyarchy    87 non-null     float64\n",
      " 5   v2x_libdem       87 non-null     float64\n",
      " 6   v2x_partipdem    87 non-null     float64\n",
      " 7   v2x_delibdem     87 non-null     float64\n",
      " 8   v2x_egaldem      87 non-null     float64\n",
      "dtypes: float64(5), int64(2), object(2)\n",
      "memory usage: 6.8+ KB\n"
     ]
    }
   ],
   "source": [
    "sdf_ger.info()"
   ]
  },
  {
   "cell_type": "markdown",
   "id": "6d62f827",
   "metadata": {},
   "source": [
    "**Aufgabe 7:** Berechnen Sie Mittelwert, Standardabweichung, sowie min und max für alle Variablen, die mit v2x_ beginnen."
   ]
  },
  {
   "cell_type": "code",
   "execution_count": 19,
   "id": "97a84a8e",
   "metadata": {},
   "outputs": [
    {
     "data": {
      "text/html": [
       "<div>\n",
       "<style scoped>\n",
       "    .dataframe tbody tr th:only-of-type {\n",
       "        vertical-align: middle;\n",
       "    }\n",
       "\n",
       "    .dataframe tbody tr th {\n",
       "        vertical-align: top;\n",
       "    }\n",
       "\n",
       "    .dataframe thead th {\n",
       "        text-align: right;\n",
       "    }\n",
       "</style>\n",
       "<table border=\"1\" class=\"dataframe\">\n",
       "  <thead>\n",
       "    <tr style=\"text-align: right;\">\n",
       "      <th></th>\n",
       "      <th>v2x_polyarchy</th>\n",
       "      <th>v2x_libdem</th>\n",
       "      <th>v2x_partipdem</th>\n",
       "      <th>v2x_delibdem</th>\n",
       "      <th>v2x_egaldem</th>\n",
       "    </tr>\n",
       "  </thead>\n",
       "  <tbody>\n",
       "    <tr>\n",
       "      <th>count</th>\n",
       "      <td>87.000000</td>\n",
       "      <td>87.000000</td>\n",
       "      <td>87.000000</td>\n",
       "      <td>87.000000</td>\n",
       "      <td>87.000000</td>\n",
       "    </tr>\n",
       "    <tr>\n",
       "      <th>mean</th>\n",
       "      <td>0.574080</td>\n",
       "      <td>0.510241</td>\n",
       "      <td>0.398908</td>\n",
       "      <td>0.499966</td>\n",
       "      <td>0.492885</td>\n",
       "    </tr>\n",
       "    <tr>\n",
       "      <th>std</th>\n",
       "      <td>0.307104</td>\n",
       "      <td>0.307571</td>\n",
       "      <td>0.223330</td>\n",
       "      <td>0.312910</td>\n",
       "      <td>0.276945</td>\n",
       "    </tr>\n",
       "    <tr>\n",
       "      <th>min</th>\n",
       "      <td>0.073000</td>\n",
       "      <td>0.013000</td>\n",
       "      <td>0.037000</td>\n",
       "      <td>0.018000</td>\n",
       "      <td>0.112000</td>\n",
       "    </tr>\n",
       "    <tr>\n",
       "      <th>25%</th>\n",
       "      <td>0.250500</td>\n",
       "      <td>0.216500</td>\n",
       "      <td>0.170000</td>\n",
       "      <td>0.179000</td>\n",
       "      <td>0.183500</td>\n",
       "    </tr>\n",
       "    <tr>\n",
       "      <th>50%</th>\n",
       "      <td>0.628000</td>\n",
       "      <td>0.502000</td>\n",
       "      <td>0.428000</td>\n",
       "      <td>0.510000</td>\n",
       "      <td>0.475000</td>\n",
       "    </tr>\n",
       "    <tr>\n",
       "      <th>75%</th>\n",
       "      <td>0.845000</td>\n",
       "      <td>0.791000</td>\n",
       "      <td>0.596500</td>\n",
       "      <td>0.784500</td>\n",
       "      <td>0.749000</td>\n",
       "    </tr>\n",
       "    <tr>\n",
       "      <th>max</th>\n",
       "      <td>0.896000</td>\n",
       "      <td>0.847000</td>\n",
       "      <td>0.649000</td>\n",
       "      <td>0.860000</td>\n",
       "      <td>0.833000</td>\n",
       "    </tr>\n",
       "  </tbody>\n",
       "</table>\n",
       "</div>"
      ],
      "text/plain": [
       "       v2x_polyarchy  v2x_libdem  v2x_partipdem  v2x_delibdem  v2x_egaldem\n",
       "count      87.000000   87.000000      87.000000     87.000000    87.000000\n",
       "mean        0.574080    0.510241       0.398908      0.499966     0.492885\n",
       "std         0.307104    0.307571       0.223330      0.312910     0.276945\n",
       "min         0.073000    0.013000       0.037000      0.018000     0.112000\n",
       "25%         0.250500    0.216500       0.170000      0.179000     0.183500\n",
       "50%         0.628000    0.502000       0.428000      0.510000     0.475000\n",
       "75%         0.845000    0.791000       0.596500      0.784500     0.749000\n",
       "max         0.896000    0.847000       0.649000      0.860000     0.833000"
      ]
     },
     "execution_count": 19,
     "metadata": {},
     "output_type": "execute_result"
    }
   ],
   "source": [
    "sdf_ger[['v2x_polyarchy',\n",
    "               'v2x_libdem',\n",
    "               'v2x_partipdem',\n",
    "               'v2x_delibdem',\n",
    "               'v2x_egaldem']].describe()"
   ]
  },
  {
   "cell_type": "markdown",
   "id": "3b36afd0",
   "metadata": {},
   "source": [
    "**Aufgabe 8:** Schreiben Sie sdf_ger als csv Datei in den Ordner data."
   ]
  },
  {
   "cell_type": "code",
   "execution_count": 30,
   "id": "a8f7f82e",
   "metadata": {},
   "outputs": [],
   "source": [
    "sdf_ger.to_csv('../data/sdf_ger.csv', index=False)"
   ]
  },
  {
   "cell_type": "code",
   "execution_count": null,
   "id": "06722b93",
   "metadata": {},
   "outputs": [],
   "source": []
  }
 ],
 "metadata": {
  "kernelspec": {
   "display_name": "Python 3 (ipykernel)",
   "language": "python",
   "name": "python3"
  },
  "language_info": {
   "codemirror_mode": {
    "name": "ipython",
    "version": 3
   },
   "file_extension": ".py",
   "mimetype": "text/x-python",
   "name": "python",
   "nbconvert_exporter": "python",
   "pygments_lexer": "ipython3",
   "version": "3.8.16"
  }
 },
 "nbformat": 4,
 "nbformat_minor": 5
}
