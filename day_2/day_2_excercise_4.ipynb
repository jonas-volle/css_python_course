{
 "cells": [
  {
   "cell_type": "markdown",
   "id": "4c32986e",
   "metadata": {},
   "source": [
    "# Tag 2 - Übung 4"
   ]
  },
  {
   "cell_type": "code",
   "execution_count": null,
   "id": "d46b07d0",
   "metadata": {},
   "outputs": [],
   "source": [
    "import pandas as pd"
   ]
  },
  {
   "cell_type": "code",
   "execution_count": null,
   "id": "bcd834f9",
   "metadata": {},
   "outputs": [],
   "source": [
    "authors = pd.DataFrame({'author_id': [0,1,2,3],\n",
    "                                   'author_name': ['Andreas Schmitz', 'Jan Delhey', 'Stefanie Börner', 'Philipp Pohlenz']})\n",
    "authors"
   ]
  },
  {
   "cell_type": "code",
   "execution_count": null,
   "id": "836eaac0",
   "metadata": {},
   "outputs": [],
   "source": [
    "authors_items = pd.DataFrame({'AUTHOR_ID': [0,0,1,1,2,4],\n",
    "                              'item_title': ['Rethinking the Nation and International Relations: The Space of Nation States',\n",
    "                                             'Viele Theorien, ein \"Theorizing\"? Eine Rekonstruktion des deutschen Feldes soziologischer Theorie',\n",
    "                                             'Netzwerk Europa. Wie ein Kontinent durch Mobilität und Kommunikation zusammenwächst',\n",
    "                                             'Diagnose Angstgesellschaft? Was wir wirklich über die Gefühlslage der Deutschen wissen',\n",
    "                                             'Europasoziologie',\n",
    "                                            'Familie und Familien in besonderen Lebenslagen im Kontext sozialen Wandels - soziologische Perspektiven']})\n",
    "authors_items"
   ]
  },
  {
   "cell_type": "code",
   "execution_count": null,
   "id": "cafb7717",
   "metadata": {},
   "outputs": [],
   "source": []
  },
  {
   "cell_type": "markdown",
   "id": "76e28942",
   "metadata": {},
   "source": [
    "**Aufgabe 1:** Führen Sie einen inner-join der beiden Tabellen `authors` und `authors_items` durch. Was passiert? Wie viele verschiedene Autoren zählen Sie in der gejointen Tabelle?"
   ]
  },
  {
   "cell_type": "code",
   "execution_count": null,
   "id": "e7743db9",
   "metadata": {},
   "outputs": [],
   "source": []
  },
  {
   "cell_type": "markdown",
   "id": "97530b1c",
   "metadata": {},
   "source": [
    "**Aufgabe 2:** Führen Sie einen outer-join der beiden Tabellen `authors` und `authors_items` durch. Was passiert? Wie viele verschiedene Autoren zählen Sie in der gejointen Tabelle?"
   ]
  },
  {
   "cell_type": "code",
   "execution_count": null,
   "id": "7267cc1c",
   "metadata": {},
   "outputs": [],
   "source": []
  },
  {
   "cell_type": "markdown",
   "id": "0428a5b3",
   "metadata": {},
   "source": [
    "**Aufgabe 3:** Führen Sie einen left-join der beiden Tabellen `authors` und `authors_items` durch. Was passiert? Wie viele verschiedene Autoren zählen Sie in der gejointen Tabelle?"
   ]
  },
  {
   "cell_type": "code",
   "execution_count": null,
   "id": "9e222d2e",
   "metadata": {},
   "outputs": [],
   "source": []
  },
  {
   "cell_type": "markdown",
   "id": "9025971f",
   "metadata": {},
   "source": [
    "**Aufgabe 4:** Führen Sie einen right-join der beiden Tabellen `authors` und `authors_items` durch. Was passiert? Wie viele verschiedene Autoren zählen Sie in der gejointen Tabelle?"
   ]
  },
  {
   "cell_type": "code",
   "execution_count": null,
   "id": "71b2f4da",
   "metadata": {},
   "outputs": [],
   "source": []
  }
 ],
 "metadata": {
  "kernelspec": {
   "display_name": "Python 3 (ipykernel)",
   "language": "python",
   "name": "python3"
  },
  "language_info": {
   "codemirror_mode": {
    "name": "ipython",
    "version": 3
   },
   "file_extension": ".py",
   "mimetype": "text/x-python",
   "name": "python",
   "nbconvert_exporter": "python",
   "pygments_lexer": "ipython3",
   "version": "3.8.16"
  }
 },
 "nbformat": 4,
 "nbformat_minor": 5
}
