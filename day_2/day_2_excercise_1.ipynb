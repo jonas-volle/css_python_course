{
 "cells": [
  {
   "cell_type": "markdown",
   "id": "2034c08b",
   "metadata": {},
   "source": [
    "# Tag 2 - Übung 1"
   ]
  },
  {
   "cell_type": "markdown",
   "id": "c65653af",
   "metadata": {},
   "source": [
    "**Aufgabe 1:** Importieren Sie pandas."
   ]
  },
  {
   "cell_type": "code",
   "execution_count": null,
   "id": "e048d20a",
   "metadata": {},
   "outputs": [],
   "source": []
  },
  {
   "cell_type": "markdown",
   "id": "57d0a54d",
   "metadata": {},
   "source": [
    "**Aufgabe 2:** Importieren Sie den V-DEM Datensatz in die Variable `df`."
   ]
  },
  {
   "cell_type": "code",
   "execution_count": null,
   "id": "d6974736",
   "metadata": {},
   "outputs": [],
   "source": []
  },
  {
   "cell_type": "markdown",
   "id": "677e25f1",
   "metadata": {},
   "source": [
    "**Aufgabe 3:** Erstellen Sie einen neuen DataFrame, der die Spalten 'country_name', 'country_text_id', 'e_regiongeo', 'year', 'v2x_polyarchy', 'v2x_libdem' und alle Daten zwischen 1990 und 2017 enthält. Speichern Sie die Daten in der Variable `sdf` und vergessen Sie die `.copy()` Methode nicht. Printen Sie die ersten 10 Zeilen von `sdf`."
   ]
  },
  {
   "cell_type": "code",
   "execution_count": null,
   "id": "1a06d4e9",
   "metadata": {},
   "outputs": [],
   "source": []
  },
  {
   "cell_type": "code",
   "execution_count": null,
   "id": "bf36a7f4",
   "metadata": {},
   "outputs": [],
   "source": []
  },
  {
   "cell_type": "markdown",
   "id": "d67933a8",
   "metadata": {},
   "source": [
    "**Aufgabe 4:** Filtern Sie die Zeilen 'country_name', 'country_text_id', 'e_regiongeo', 'year', 'v2x_polyarchy', 'v2x_libdem', 'v2x_partipdem', 'v2x_delibdem', 'v2x_egaldem' aus df für Deutschland zwischen 1900 und 1990 und speichern Sie die Daten in der Variable `sdf_ger`."
   ]
  },
  {
   "cell_type": "code",
   "execution_count": null,
   "id": "9cd23234",
   "metadata": {},
   "outputs": [],
   "source": []
  },
  {
   "cell_type": "markdown",
   "id": "6d289965",
   "metadata": {},
   "source": [
    "**Aufgabe 5**: Wie viele Zeilen und Spalten hat `sdf_ger`?"
   ]
  },
  {
   "cell_type": "code",
   "execution_count": null,
   "id": "9442b6bf",
   "metadata": {},
   "outputs": [],
   "source": []
  },
  {
   "cell_type": "markdown",
   "id": "3b3edcb6",
   "metadata": {},
   "source": [
    "**Aufgabe 6**: Untersuchen Sie mit der `.info()` Methode die jeweiligen Datentypen von sdf_ger."
   ]
  },
  {
   "cell_type": "code",
   "execution_count": null,
   "id": "7d67bc37",
   "metadata": {},
   "outputs": [],
   "source": []
  },
  {
   "cell_type": "markdown",
   "id": "6d62f827",
   "metadata": {},
   "source": [
    "**Aufgabe 7:** Berechnen Sie Mittelwert, Standardabweichung, sowie min und max für alle Variablen, die mit v2x_ beginnen."
   ]
  },
  {
   "cell_type": "code",
   "execution_count": null,
   "id": "97a84a8e",
   "metadata": {},
   "outputs": [],
   "source": []
  },
  {
   "cell_type": "markdown",
   "id": "3b36afd0",
   "metadata": {},
   "source": [
    "**Aufgabe 8:** Schreiben Sie sdf_ger als csv Datei in den Ordner data."
   ]
  },
  {
   "cell_type": "code",
   "execution_count": null,
   "id": "a8f7f82e",
   "metadata": {},
   "outputs": [],
   "source": []
  },
  {
   "cell_type": "code",
   "execution_count": null,
   "id": "06722b93",
   "metadata": {},
   "outputs": [],
   "source": []
  }
 ],
 "metadata": {
  "kernelspec": {
   "display_name": "Python 3 (ipykernel)",
   "language": "python",
   "name": "python3"
  },
  "language_info": {
   "codemirror_mode": {
    "name": "ipython",
    "version": 3
   },
   "file_extension": ".py",
   "mimetype": "text/x-python",
   "name": "python",
   "nbconvert_exporter": "python",
   "pygments_lexer": "ipython3",
   "version": "3.8.16"
  }
 },
 "nbformat": 4,
 "nbformat_minor": 5
}
