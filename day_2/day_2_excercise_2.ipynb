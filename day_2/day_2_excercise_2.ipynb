{
 "cells": [
  {
   "cell_type": "markdown",
   "id": "4c32986e",
   "metadata": {},
   "source": [
    "# Tag 2 - Übung 2"
   ]
  },
  {
   "cell_type": "code",
   "execution_count": null,
   "id": "d46b07d0",
   "metadata": {},
   "outputs": [],
   "source": [
    "import pandas as pd"
   ]
  },
  {
   "cell_type": "markdown",
   "id": "a7fdf7af",
   "metadata": {},
   "source": [
    "**Aufgabe 1:** Laden Sie die csv Datei sdf_ger.csv und speichern Sie diese in `sdf`. Schauen Sie sich die ersten 7 Zeilen an."
   ]
  },
  {
   "cell_type": "code",
   "execution_count": null,
   "id": "b47ddb31",
   "metadata": {},
   "outputs": [],
   "source": []
  },
  {
   "cell_type": "markdown",
   "id": "112eba70",
   "metadata": {},
   "source": [
    "**Aufgabe 2:** Berechnen Sie den Mittelwert der Variable v2x_partipdem zwischen 1900 und 1950 und zwischen 1990 und 2018. Wie groß ist die Differenz dieser beiden Werte?"
   ]
  },
  {
   "cell_type": "code",
   "execution_count": null,
   "id": "d2a2d36d",
   "metadata": {},
   "outputs": [],
   "source": []
  },
  {
   "cell_type": "code",
   "execution_count": null,
   "id": "29d7adfc",
   "metadata": {},
   "outputs": [],
   "source": []
  },
  {
   "cell_type": "code",
   "execution_count": null,
   "id": "e264c3dd",
   "metadata": {},
   "outputs": [],
   "source": []
  },
  {
   "cell_type": "code",
   "execution_count": null,
   "id": "6c910c13",
   "metadata": {},
   "outputs": [],
   "source": []
  },
  {
   "cell_type": "code",
   "execution_count": null,
   "id": "bb7ee339",
   "metadata": {
    "scrolled": true
   },
   "outputs": [],
   "source": []
  },
  {
   "cell_type": "markdown",
   "id": "fdb540fa",
   "metadata": {},
   "source": [
    "**Aufgabe 3:** Wählen Sie mit `.iloc` die Zeile für Jahr 1968 aus sdf aus."
   ]
  },
  {
   "cell_type": "code",
   "execution_count": null,
   "id": "f2d29c33",
   "metadata": {},
   "outputs": [],
   "source": []
  },
  {
   "cell_type": "code",
   "execution_count": null,
   "id": "cadff210",
   "metadata": {},
   "outputs": [],
   "source": []
  },
  {
   "cell_type": "markdown",
   "id": "b7fd02c2",
   "metadata": {},
   "source": [
    "**Aufgabe 4:** Wählen Sie die 5. bis 30. Zeile in sdf aus und speicher Sie diese Daten in sub_sdf. Schauen Sie sich den Index an. Reseten Sie den index."
   ]
  },
  {
   "cell_type": "code",
   "execution_count": null,
   "id": "d43213cc",
   "metadata": {},
   "outputs": [],
   "source": []
  },
  {
   "cell_type": "code",
   "execution_count": null,
   "id": "43714500",
   "metadata": {},
   "outputs": [],
   "source": []
  },
  {
   "cell_type": "code",
   "execution_count": null,
   "id": "6a9d7c51",
   "metadata": {},
   "outputs": [],
   "source": []
  },
  {
   "cell_type": "code",
   "execution_count": null,
   "id": "4fe92b71",
   "metadata": {},
   "outputs": [],
   "source": []
  },
  {
   "cell_type": "code",
   "execution_count": null,
   "id": "220e67eb",
   "metadata": {},
   "outputs": [],
   "source": []
  },
  {
   "cell_type": "code",
   "execution_count": null,
   "id": "9cff6688",
   "metadata": {},
   "outputs": [],
   "source": []
  },
  {
   "cell_type": "markdown",
   "id": "0158d021",
   "metadata": {},
   "source": [
    "**Aufgabe 5**: Erstellen Sie eine neue Spalte in sub_sdf mit dem Namen 'delibdem_egaldem'. In dieser Spalte soll die (Zeilen) Summe von delibdem und egaldem stehen."
   ]
  },
  {
   "cell_type": "code",
   "execution_count": null,
   "id": "daaf7471",
   "metadata": {},
   "outputs": [],
   "source": []
  },
  {
   "cell_type": "code",
   "execution_count": null,
   "id": "c5d6eeb3",
   "metadata": {},
   "outputs": [],
   "source": []
  },
  {
   "cell_type": "code",
   "execution_count": null,
   "id": "5d2eeb34",
   "metadata": {},
   "outputs": [],
   "source": []
  },
  {
   "cell_type": "markdown",
   "id": "92e3edb7",
   "metadata": {},
   "source": [
    "**Aufgabe 6:** Berechnen Sie den Mittelwert von v2x_libdem für jedes Land ab 2000. Verwenden Sie dabei die `.groupby()` und `.mean()` Methode. Speichern Sie das Ergebnis in `libdem_2000`. \n",
    "\n",
    "- Lassen Sie sich die ersten 12 Elemente anzeigen. \n",
    "- Welchen Typ hat dieses Objekt? \n",
    "- Wie sieht der index dieses Objekts aus?"
   ]
  },
  {
   "cell_type": "code",
   "execution_count": null,
   "id": "a33cb2ad",
   "metadata": {},
   "outputs": [],
   "source": []
  },
  {
   "cell_type": "code",
   "execution_count": null,
   "id": "eb416e0b",
   "metadata": {},
   "outputs": [],
   "source": []
  },
  {
   "cell_type": "code",
   "execution_count": null,
   "id": "2f57e567",
   "metadata": {},
   "outputs": [],
   "source": []
  },
  {
   "cell_type": "code",
   "execution_count": null,
   "id": "5b998755",
   "metadata": {},
   "outputs": [],
   "source": []
  },
  {
   "cell_type": "code",
   "execution_count": null,
   "id": "686a3041",
   "metadata": {},
   "outputs": [],
   "source": []
  },
  {
   "cell_type": "code",
   "execution_count": null,
   "id": "31f0e917",
   "metadata": {},
   "outputs": [],
   "source": []
  },
  {
   "cell_type": "markdown",
   "id": "af0d9069",
   "metadata": {},
   "source": [
    "**Aufgabe 7:** Welchen Wert hat Bangladesh in libdem_2000?"
   ]
  },
  {
   "cell_type": "code",
   "execution_count": null,
   "id": "850d3f9c",
   "metadata": {},
   "outputs": [],
   "source": []
  },
  {
   "cell_type": "markdown",
   "id": "9a3a1839",
   "metadata": {},
   "source": [
    "**Aufgabe 8** Welches Land hat den geringsten Wert in libdem2000?"
   ]
  },
  {
   "cell_type": "code",
   "execution_count": null,
   "id": "5abfa6ac",
   "metadata": {},
   "outputs": [],
   "source": []
  },
  {
   "cell_type": "markdown",
   "id": "04642f5b",
   "metadata": {},
   "source": [
    "**Aufgabe 8:** Wie können wir libdem_2000 in eine DataFrame umwandeln?"
   ]
  },
  {
   "cell_type": "code",
   "execution_count": null,
   "id": "d5b2724f",
   "metadata": {},
   "outputs": [],
   "source": []
  },
  {
   "cell_type": "code",
   "execution_count": null,
   "id": "b18513a8",
   "metadata": {},
   "outputs": [],
   "source": []
  },
  {
   "cell_type": "markdown",
   "id": "e22213fd",
   "metadata": {},
   "source": [
    "**Aufgabe 9**: Gruppieren Sie df nach Ländern und berechnen Sie min, max, std und mean für v2x_polyarchy."
   ]
  },
  {
   "cell_type": "code",
   "execution_count": null,
   "id": "303daad9",
   "metadata": {},
   "outputs": [],
   "source": []
  },
  {
   "cell_type": "markdown",
   "id": "5de98d0e",
   "metadata": {},
   "source": [
    "**Aufgabe 10:** Filtern Sie alle Zeilen in df, die ein nan in v2x_partipdem haben. Welches Land hat die meisten Missings?"
   ]
  },
  {
   "cell_type": "code",
   "execution_count": null,
   "id": "5da4cdb9",
   "metadata": {},
   "outputs": [],
   "source": []
  }
 ],
 "metadata": {
  "kernelspec": {
   "display_name": "Python 3 (ipykernel)",
   "language": "python",
   "name": "python3"
  },
  "language_info": {
   "codemirror_mode": {
    "name": "ipython",
    "version": 3
   },
   "file_extension": ".py",
   "mimetype": "text/x-python",
   "name": "python",
   "nbconvert_exporter": "python",
   "pygments_lexer": "ipython3",
   "version": "3.8.16"
  }
 },
 "nbformat": 4,
 "nbformat_minor": 5
}
