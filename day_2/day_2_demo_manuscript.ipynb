{
 "cells": [
  {
   "cell_type": "markdown",
   "id": "82f730a8",
   "metadata": {},
   "source": [
    "# Einführung in Python für die Computational Social Science (CSS)\n",
    "\n",
    "## Jonas Volle\n",
    "Wissenschaftlicher Mitarbeiter  \n",
    "Chair of Methodology and Empirical Social Research  \n",
    "Otto-von-Guericke-Universität\n",
    "\n",
    "[jonas.volle@ovgu.de](mailto:jonas.volle@ovgu.de)\n",
    "\n",
    "**Sprechstunde**: individuell nach vorheriger Anmeldung per [Mail](mailto:jonas.volle@ovgu.de)\n",
    "\n",
    "Samstag, 17.06.2023"
   ]
  },
  {
   "cell_type": "markdown",
   "id": "c0e01ee4",
   "metadata": {},
   "source": [
    "**Quelle:** Ich orientiere mich für diese Sitzung am Kapitel 6 aus dem Buch:  \n",
    "\n",
    "McLevey, John. 2021. Doing Computational Social Science: A Practical Introduction. 1st ed. Thousand Oaks: SAGE Publications."
   ]
  },
  {
   "cell_type": "markdown",
   "id": "f278555f",
   "metadata": {},
   "source": [
    "# Tag 2: Datenmanagement mit Pandas"
   ]
  },
  {
   "cell_type": "markdown",
   "id": "6877dff4",
   "metadata": {},
   "source": [
    "## Inhalt\n",
    "\n",
    "- Datenstruktur\n",
    "- Import und Export verschiedener Dateiformate (csv, excel, etc.)\n",
    "- pandas DataFrame\n",
    "- Spalten (columns) auswählen\n",
    "- Zeilen (rows) filtern\n",
    "- Aggregierung und Gruppierung\n",
    "- Fehlende Daten\n",
    "- Merging\n"
   ]
  },
  {
   "cell_type": "markdown",
   "id": "61c456bf",
   "metadata": {},
   "source": [
    "Nun verwenden wir Python nicht mehr als allgemeine Programmiersprache, sondern zur Verarbeitung von Daten mit Hilfe spezieller Datenverwaltungs- und -analysepakete. Wir werden uns in erster Linie auf ein Paket namens *Pandas* stützen. Pandas wurde von Wes McKinney für die Analyse von Paneldaten entwickelt (daher der Name). Es verfügt über spezielle Datenstrukturen, Funktionen und Methoden, mit denen Sie die meisten Datenverarbeitungsvorgänge für strukturierte quantitative Daten erledigen können."
   ]
  },
  {
   "cell_type": "markdown",
   "id": "60d710e0",
   "metadata": {},
   "source": [
    "Pandas Dokumentation: https://pandas.pydata.org/docs/reference/index.html"
   ]
  },
  {
   "cell_type": "markdown",
   "id": "c344a91c",
   "metadata": {},
   "source": [
    "## Import"
   ]
  },
  {
   "cell_type": "code",
   "execution_count": 2,
   "id": "a8e1fdd0",
   "metadata": {},
   "outputs": [],
   "source": [
    "import pandas as pd"
   ]
  },
  {
   "cell_type": "markdown",
   "id": "3ac41756",
   "metadata": {},
   "source": [
    "## Datenimport mit pandas"
   ]
  },
  {
   "cell_type": "markdown",
   "id": "f9820909",
   "metadata": {},
   "source": [
    "Das Pandas-Paket macht es einfach, Daten aus einer externen Datei direkt in ein Dataframe-Objekt zu laden."
   ]
  },
  {
   "cell_type": "markdown",
   "id": "37dbb374",
   "metadata": {},
   "source": [
    "| Datentyp | Reader | Writer |\n",
    "|----------|----------|----------|\n",
    "| CSV    | `read_csv()`   | `to_csv()`   |\n",
    "| JSON    | `read_json()`   | `to_json()`   |\n",
    "| Stata   | `read_stata()`   | `to_stata()`   |\n",
    "| SAS   | `read_sas()`   | NA   |\n",
    "| SPSS   | `read_spss()`   | NA   |\n"
   ]
  },
  {
   "cell_type": "markdown",
   "id": "a47f714e",
   "metadata": {},
   "source": [
    "In diesem Kapitel werden Daten aus dem VDEM-Datensatz (Varieties of Democracy) verwendet. VDEM ist ein laufendes Forschungsprojekt zur Messung des Niveaus der Demokratie in Regierungen auf der ganzen Welt, und es werden laufend aktualisierte Versionen des Datensatzes veröffentlicht. Die Forschung wird von einem Team aus mehr als 50 Sozialwissenschaftlern geleitet, die die Sammlung und Analyse von Experteneinschätzungen von mehr als 3200 Historikern und Länderexperten koordinieren. Auf der Grundlage dieser Einschätzungen hat das VDEM-Projekt eine bemerkenswert komplexe Reihe von Indikatoren entwickelt, die sich an fünf übergeordneten Facetten der Demokratie orientieren: Wahldemokratie, liberale Demokratie, partizipative Demokratie, deliberative Demokratie und egalitäre Demokratie. Der Datensatz reicht bis ins Jahr 1789 zurück und gilt als Goldstandard für quantitative Daten über globale demokratische Entwicklungen.  \n",
    "\n",
    "Das Codebuch finden Sie hier: https://v-dem.net/documents/24/codebook_v13.pdf"
   ]
  },
  {
   "cell_type": "code",
   "execution_count": 3,
   "id": "50c89941",
   "metadata": {},
   "outputs": [],
   "source": [
    "pd.read_csv?"
   ]
  },
  {
   "cell_type": "code",
   "execution_count": 4,
   "id": "ac048e4d",
   "metadata": {},
   "outputs": [],
   "source": [
    "df = pd.read_csv('../data/vdem/V-Dem-CY-Full+Others-v10.csv',\n",
    "                low_memory=False)"
   ]
  },
  {
   "cell_type": "markdown",
   "id": "6ab02d9d",
   "metadata": {},
   "source": [
    "Wie viele Zeilen und Spalten? Das geht mit der `.shape` Methode."
   ]
  },
  {
   "cell_type": "code",
   "execution_count": 6,
   "id": "354dafa4",
   "metadata": {},
   "outputs": [
    {
     "data": {
      "text/plain": [
       "(27013, 48)"
      ]
     },
     "execution_count": 6,
     "metadata": {},
     "output_type": "execute_result"
    }
   ],
   "source": [
    "df.shape"
   ]
  },
  {
   "cell_type": "markdown",
   "id": "09ece0e8",
   "metadata": {},
   "source": [
    "Welche Variablen benötigen wir? Wir wählen Spalten in einem DataFrame aus, indem wir den DataFrame aufrufen gefolt mit einer Liste in eckigen Klammern, die die Namen der Spalten enthält."
   ]
  },
  {
   "cell_type": "markdown",
   "id": "2b127cd5",
   "metadata": {},
   "source": [
    "In diesem Fall möchten wir die folgenden Variablen behalten: \n",
    "\n",
    "1. den Ländernamen \n",
    "2. die Länder-ID \n",
    "3. die geografische Region \n",
    "4. Die Länder-ID \n",
    "3. die geographische Region \n",
    "4. Das Jahr 5. Der Polyarchie-Index \n",
    "6. Der Index der liberalen Demokratie\n",
    "7. Der Index der partizipativen Demokratie \n",
    "8. Der Index der deliberativen Demokratie \n",
    "9. Der Index der egalitären Demokratie \n",
    "10. Ob die Privatsphäre der Internetnutzer und ihre Daten rechtlich geschützt sind \n",
    "11. Wie polarisiert das Land in politischen Fragen ist \n",
    "12. Ausmaß der politischen Gewalt \n",
    "13. Ob das Land eine Demokratie ist oder nicht \n"
   ]
  },
  {
   "cell_type": "code",
   "execution_count": 7,
   "id": "605f3a58",
   "metadata": {},
   "outputs": [],
   "source": [
    "subset_vars = ['country_name', 'country_text_id', 'e_regiongeo', \n",
    "               'year', 'v2x_polyarchy', 'v2x_libdem', 'v2x_partipdem', \n",
    "               'v2x_delibdem', 'v2x_egaldem', 'v2smprivex', 'v2smpolsoc', \n",
    "               'v2caviol', 'e_boix_regime']\n",
    "\n",
    "sdf = df[subset_vars]"
   ]
  },
  {
   "cell_type": "code",
   "execution_count": 8,
   "id": "7b43e9a5",
   "metadata": {},
   "outputs": [
    {
     "data": {
      "text/plain": [
       "(27013, 13)"
      ]
     },
     "execution_count": 8,
     "metadata": {},
     "output_type": "execute_result"
    }
   ],
   "source": [
    "sdf.shape"
   ]
  },
  {
   "cell_type": "markdown",
   "id": "2e3e2773",
   "metadata": {},
   "source": [
    "Wir können die Namen der Spalten (columns) mithilfe des Attributs `.columns` für den DataFrame ausdrucken:"
   ]
  },
  {
   "cell_type": "code",
   "execution_count": 9,
   "id": "8c0b2691",
   "metadata": {},
   "outputs": [
    {
     "data": {
      "text/plain": [
       "['country_name',\n",
       " 'country_text_id',\n",
       " 'e_regiongeo',\n",
       " 'year',\n",
       " 'v2x_polyarchy',\n",
       " 'v2x_libdem',\n",
       " 'v2x_partipdem',\n",
       " 'v2x_delibdem',\n",
       " 'v2x_egaldem',\n",
       " 'v2smprivex',\n",
       " 'v2smpolsoc',\n",
       " 'v2caviol',\n",
       " 'e_boix_regime']"
      ]
     },
     "execution_count": 9,
     "metadata": {},
     "output_type": "execute_result"
    }
   ],
   "source": [
    "list(sdf.columns)"
   ]
  },
  {
   "cell_type": "markdown",
   "id": "8e171ef4",
   "metadata": {},
   "source": [
    "### Was ist im DataFrame?\n",
    "\n",
    "Mit der Methode `.info()` können wir die Gesamtzahl der Beobachtungen, die Gesamtzahl der Spalten, die Namen der Spalten, die Anzahl der nicht fehlenden Beobachtungen für jede Variable, den Datentyp für jede Variable, die Anzahl der Variablen, die Daten jedes Typs enthalten (z. B. Ganzzahlen und Fließkommazahlen), und die Gesamtmenge des vom DataFrame verwendeten Speichers anzeigen:"
   ]
  },
  {
   "cell_type": "code",
   "execution_count": 10,
   "id": "9bd41756",
   "metadata": {},
   "outputs": [
    {
     "name": "stdout",
     "output_type": "stream",
     "text": [
      "<class 'pandas.core.frame.DataFrame'>\n",
      "RangeIndex: 27013 entries, 0 to 27012\n",
      "Data columns (total 13 columns):\n",
      " #   Column           Non-Null Count  Dtype  \n",
      "---  ------           --------------  -----  \n",
      " 0   country_name     27013 non-null  object \n",
      " 1   country_text_id  27013 non-null  object \n",
      " 2   e_regiongeo      27013 non-null  int64  \n",
      " 3   year             27013 non-null  int64  \n",
      " 4   v2x_polyarchy    25342 non-null  float64\n",
      " 5   v2x_libdem       24350 non-null  float64\n",
      " 6   v2x_partipdem    24923 non-null  float64\n",
      " 7   v2x_delibdem     18557 non-null  float64\n",
      " 8   v2x_egaldem      18557 non-null  float64\n",
      " 9   v2smprivex       3562 non-null   float64\n",
      " 10  v2smpolsoc       3562 non-null   float64\n",
      " 11  v2caviol         12745 non-null  float64\n",
      " 12  e_boix_regime    16270 non-null  float64\n",
      "dtypes: float64(9), int64(2), object(2)\n",
      "memory usage: 2.7+ MB\n"
     ]
    }
   ],
   "source": [
    "sdf.info()"
   ]
  },
  {
   "cell_type": "markdown",
   "id": "8e3d78eb",
   "metadata": {},
   "source": [
    "Die Datentypen in diesem Datenrahmen sind float64 (Zahlen mit Nachkommastellen), int64 (Ganzzahlen) und object. In Pandas bezieht sich object auf Spalten, die Strings oder gemischte Typen wie Strings und Integers enthalten (object umfasst auch viele andere Dinge: es ist eine Sammelkategorie). Pandas kann auch mit Booleans (Wahr oder Falsch), kategorischen Variablen und einigen speziellen Datetime-Objekten arbeiten. Erinnern Sie sich daran, wie wir die Spalten für unser Dataset ausgewählt haben. Im folgenden Code verwende ich dieselbe Idee, um nur einige wenige Variablen anzuzeigen. Wir werden dies später in diesem Kapitel noch etwas genauer erklären."
   ]
  },
  {
   "cell_type": "markdown",
   "id": "4abec6ef",
   "metadata": {},
   "source": [
    "Wir können auch die Methode `.describe()` verwenden, um zusammenfassende Informationen über die quantitativen Variablen in unserem Datensatz zu erhalten, einschließlich der Anzahl der nicht fehlenden Informationen, des Mittelwerts und der Standardabweichung.\n"
   ]
  },
  {
   "cell_type": "code",
   "execution_count": 11,
   "id": "13dc3d8f",
   "metadata": {},
   "outputs": [
    {
     "data": {
      "text/html": [
       "<div>\n",
       "<style scoped>\n",
       "    .dataframe tbody tr th:only-of-type {\n",
       "        vertical-align: middle;\n",
       "    }\n",
       "\n",
       "    .dataframe tbody tr th {\n",
       "        vertical-align: top;\n",
       "    }\n",
       "\n",
       "    .dataframe thead th {\n",
       "        text-align: right;\n",
       "    }\n",
       "</style>\n",
       "<table border=\"1\" class=\"dataframe\">\n",
       "  <thead>\n",
       "    <tr style=\"text-align: right;\">\n",
       "      <th></th>\n",
       "      <th>e_regiongeo</th>\n",
       "      <th>year</th>\n",
       "      <th>v2x_polyarchy</th>\n",
       "    </tr>\n",
       "  </thead>\n",
       "  <tbody>\n",
       "    <tr>\n",
       "      <th>count</th>\n",
       "      <td>27013.000000</td>\n",
       "      <td>27013.000000</td>\n",
       "      <td>25342.000000</td>\n",
       "    </tr>\n",
       "    <tr>\n",
       "      <th>mean</th>\n",
       "      <td>9.266575</td>\n",
       "      <td>1926.556177</td>\n",
       "      <td>0.262821</td>\n",
       "    </tr>\n",
       "    <tr>\n",
       "      <th>std</th>\n",
       "      <td>5.733007</td>\n",
       "      <td>63.754335</td>\n",
       "      <td>0.260966</td>\n",
       "    </tr>\n",
       "    <tr>\n",
       "      <th>min</th>\n",
       "      <td>1.000000</td>\n",
       "      <td>1789.000000</td>\n",
       "      <td>0.007000</td>\n",
       "    </tr>\n",
       "    <tr>\n",
       "      <th>25%</th>\n",
       "      <td>4.000000</td>\n",
       "      <td>1878.000000</td>\n",
       "      <td>0.057000</td>\n",
       "    </tr>\n",
       "    <tr>\n",
       "      <th>50%</th>\n",
       "      <td>8.000000</td>\n",
       "      <td>1937.000000</td>\n",
       "      <td>0.171500</td>\n",
       "    </tr>\n",
       "    <tr>\n",
       "      <th>75%</th>\n",
       "      <td>14.000000</td>\n",
       "      <td>1980.000000</td>\n",
       "      <td>0.367000</td>\n",
       "    </tr>\n",
       "    <tr>\n",
       "      <th>max</th>\n",
       "      <td>19.000000</td>\n",
       "      <td>2019.000000</td>\n",
       "      <td>0.924000</td>\n",
       "    </tr>\n",
       "  </tbody>\n",
       "</table>\n",
       "</div>"
      ],
      "text/plain": [
       "        e_regiongeo          year  v2x_polyarchy\n",
       "count  27013.000000  27013.000000   25342.000000\n",
       "mean       9.266575   1926.556177       0.262821\n",
       "std        5.733007     63.754335       0.260966\n",
       "min        1.000000   1789.000000       0.007000\n",
       "25%        4.000000   1878.000000       0.057000\n",
       "50%        8.000000   1937.000000       0.171500\n",
       "75%       14.000000   1980.000000       0.367000\n",
       "max       19.000000   2019.000000       0.924000"
      ]
     },
     "execution_count": 11,
     "metadata": {},
     "output_type": "execute_result"
    }
   ],
   "source": [
    "sdf[['e_regiongeo', 'year', 'v2x_polyarchy']].describe()"
   ]
  },
  {
   "cell_type": "markdown",
   "id": "1cb1bcc8",
   "metadata": {},
   "source": [
    "### Heads, tails, and samples"
   ]
  },
  {
   "cell_type": "markdown",
   "id": "dd86d06f",
   "metadata": {},
   "source": [
    "Wir können auch den \"Kopf\" oder das \"Ende\" unseres Datenrahmens mit den Methoden `.head() ` und `.tail()` untersuchen, die standardmäßig die ersten oder letzten fünf Zeilen in einem DataFrame verwenden, es sei denn, Sie geben eine andere Zahl als Argument an, wie z. B. `.head(10)`:"
   ]
  },
  {
   "cell_type": "code",
   "execution_count": 12,
   "id": "194ac46b",
   "metadata": {},
   "outputs": [
    {
     "data": {
      "text/html": [
       "<div>\n",
       "<style scoped>\n",
       "    .dataframe tbody tr th:only-of-type {\n",
       "        vertical-align: middle;\n",
       "    }\n",
       "\n",
       "    .dataframe tbody tr th {\n",
       "        vertical-align: top;\n",
       "    }\n",
       "\n",
       "    .dataframe thead th {\n",
       "        text-align: right;\n",
       "    }\n",
       "</style>\n",
       "<table border=\"1\" class=\"dataframe\">\n",
       "  <thead>\n",
       "    <tr style=\"text-align: right;\">\n",
       "      <th></th>\n",
       "      <th>country_name</th>\n",
       "      <th>year</th>\n",
       "      <th>v2x_libdem</th>\n",
       "    </tr>\n",
       "  </thead>\n",
       "  <tbody>\n",
       "    <tr>\n",
       "      <th>0</th>\n",
       "      <td>Mexico</td>\n",
       "      <td>1789</td>\n",
       "      <td>0.043</td>\n",
       "    </tr>\n",
       "    <tr>\n",
       "      <th>1</th>\n",
       "      <td>Mexico</td>\n",
       "      <td>1790</td>\n",
       "      <td>0.040</td>\n",
       "    </tr>\n",
       "    <tr>\n",
       "      <th>2</th>\n",
       "      <td>Mexico</td>\n",
       "      <td>1791</td>\n",
       "      <td>0.040</td>\n",
       "    </tr>\n",
       "    <tr>\n",
       "      <th>3</th>\n",
       "      <td>Mexico</td>\n",
       "      <td>1792</td>\n",
       "      <td>0.040</td>\n",
       "    </tr>\n",
       "    <tr>\n",
       "      <th>4</th>\n",
       "      <td>Mexico</td>\n",
       "      <td>1793</td>\n",
       "      <td>0.040</td>\n",
       "    </tr>\n",
       "  </tbody>\n",
       "</table>\n",
       "</div>"
      ],
      "text/plain": [
       "  country_name  year  v2x_libdem\n",
       "0       Mexico  1789       0.043\n",
       "1       Mexico  1790       0.040\n",
       "2       Mexico  1791       0.040\n",
       "3       Mexico  1792       0.040\n",
       "4       Mexico  1793       0.040"
      ]
     },
     "execution_count": 12,
     "metadata": {},
     "output_type": "execute_result"
    }
   ],
   "source": [
    "sdf[['country_name', 'year', 'v2x_libdem']].head()"
   ]
  },
  {
   "cell_type": "code",
   "execution_count": 13,
   "id": "c265deb7",
   "metadata": {},
   "outputs": [
    {
     "data": {
      "text/html": [
       "<div>\n",
       "<style scoped>\n",
       "    .dataframe tbody tr th:only-of-type {\n",
       "        vertical-align: middle;\n",
       "    }\n",
       "\n",
       "    .dataframe tbody tr th {\n",
       "        vertical-align: top;\n",
       "    }\n",
       "\n",
       "    .dataframe thead th {\n",
       "        text-align: right;\n",
       "    }\n",
       "</style>\n",
       "<table border=\"1\" class=\"dataframe\">\n",
       "  <thead>\n",
       "    <tr style=\"text-align: right;\">\n",
       "      <th></th>\n",
       "      <th>country_name</th>\n",
       "      <th>year</th>\n",
       "      <th>v2x_libdem</th>\n",
       "    </tr>\n",
       "  </thead>\n",
       "  <tbody>\n",
       "    <tr>\n",
       "      <th>27010</th>\n",
       "      <td>Piedmont-Sardinia</td>\n",
       "      <td>1859</td>\n",
       "      <td>0.150</td>\n",
       "    </tr>\n",
       "    <tr>\n",
       "      <th>27011</th>\n",
       "      <td>Piedmont-Sardinia</td>\n",
       "      <td>1860</td>\n",
       "      <td>0.148</td>\n",
       "    </tr>\n",
       "    <tr>\n",
       "      <th>27012</th>\n",
       "      <td>Piedmont-Sardinia</td>\n",
       "      <td>1861</td>\n",
       "      <td>0.149</td>\n",
       "    </tr>\n",
       "  </tbody>\n",
       "</table>\n",
       "</div>"
      ],
      "text/plain": [
       "            country_name  year  v2x_libdem\n",
       "27010  Piedmont-Sardinia  1859       0.150\n",
       "27011  Piedmont-Sardinia  1860       0.148\n",
       "27012  Piedmont-Sardinia  1861       0.149"
      ]
     },
     "execution_count": 13,
     "metadata": {},
     "output_type": "execute_result"
    }
   ],
   "source": [
    "sdf[['country_name', 'year', 'v2x_libdem']].tail(3)"
   ]
  },
  {
   "cell_type": "markdown",
   "id": "d443721a",
   "metadata": {},
   "source": [
    "Wenn Sie eine Zufallsstichprobe von Zeilen bevorzugen, können Sie die Methode `.sample()` verwenden, bei der Sie die Anzahl der Zeilen angeben müssen, die Sie abfragen möchten:"
   ]
  },
  {
   "cell_type": "code",
   "execution_count": 14,
   "id": "ed2a9ea5",
   "metadata": {},
   "outputs": [
    {
     "data": {
      "text/html": [
       "<div>\n",
       "<style scoped>\n",
       "    .dataframe tbody tr th:only-of-type {\n",
       "        vertical-align: middle;\n",
       "    }\n",
       "\n",
       "    .dataframe tbody tr th {\n",
       "        vertical-align: top;\n",
       "    }\n",
       "\n",
       "    .dataframe thead th {\n",
       "        text-align: right;\n",
       "    }\n",
       "</style>\n",
       "<table border=\"1\" class=\"dataframe\">\n",
       "  <thead>\n",
       "    <tr style=\"text-align: right;\">\n",
       "      <th></th>\n",
       "      <th>country_name</th>\n",
       "      <th>year</th>\n",
       "      <th>v2x_libdem</th>\n",
       "    </tr>\n",
       "  </thead>\n",
       "  <tbody>\n",
       "    <tr>\n",
       "      <th>23607</th>\n",
       "      <td>Paraguay</td>\n",
       "      <td>1847</td>\n",
       "      <td>0.021</td>\n",
       "    </tr>\n",
       "    <tr>\n",
       "      <th>9175</th>\n",
       "      <td>Zimbabwe</td>\n",
       "      <td>1997</td>\n",
       "      <td>0.206</td>\n",
       "    </tr>\n",
       "    <tr>\n",
       "      <th>17683</th>\n",
       "      <td>Madagascar</td>\n",
       "      <td>1854</td>\n",
       "      <td>0.015</td>\n",
       "    </tr>\n",
       "    <tr>\n",
       "      <th>25515</th>\n",
       "      <td>Zanzibar</td>\n",
       "      <td>1912</td>\n",
       "      <td>0.075</td>\n",
       "    </tr>\n",
       "    <tr>\n",
       "      <th>24006</th>\n",
       "      <td>Romania</td>\n",
       "      <td>2015</td>\n",
       "      <td>0.578</td>\n",
       "    </tr>\n",
       "    <tr>\n",
       "      <th>24294</th>\n",
       "      <td>Saudi Arabia</td>\n",
       "      <td>1955</td>\n",
       "      <td>0.033</td>\n",
       "    </tr>\n",
       "    <tr>\n",
       "      <th>20262</th>\n",
       "      <td>Cuba</td>\n",
       "      <td>1967</td>\n",
       "      <td>0.044</td>\n",
       "    </tr>\n",
       "    <tr>\n",
       "      <th>17414</th>\n",
       "      <td>Laos</td>\n",
       "      <td>1934</td>\n",
       "      <td>0.063</td>\n",
       "    </tr>\n",
       "    <tr>\n",
       "      <th>17505</th>\n",
       "      <td>Libya</td>\n",
       "      <td>1794</td>\n",
       "      <td>NaN</td>\n",
       "    </tr>\n",
       "    <tr>\n",
       "      <th>11084</th>\n",
       "      <td>Ecuador</td>\n",
       "      <td>1973</td>\n",
       "      <td>0.067</td>\n",
       "    </tr>\n",
       "    <tr>\n",
       "      <th>20046</th>\n",
       "      <td>Comoros</td>\n",
       "      <td>2015</td>\n",
       "      <td>0.313</td>\n",
       "    </tr>\n",
       "    <tr>\n",
       "      <th>25863</th>\n",
       "      <td>Parma</td>\n",
       "      <td>1819</td>\n",
       "      <td>0.128</td>\n",
       "    </tr>\n",
       "    <tr>\n",
       "      <th>14523</th>\n",
       "      <td>Tunisia</td>\n",
       "      <td>1817</td>\n",
       "      <td>0.023</td>\n",
       "    </tr>\n",
       "    <tr>\n",
       "      <th>3653</th>\n",
       "      <td>Bolivia</td>\n",
       "      <td>1829</td>\n",
       "      <td>0.089</td>\n",
       "    </tr>\n",
       "    <tr>\n",
       "      <th>26279</th>\n",
       "      <td>Hanover</td>\n",
       "      <td>1865</td>\n",
       "      <td>0.102</td>\n",
       "    </tr>\n",
       "  </tbody>\n",
       "</table>\n",
       "</div>"
      ],
      "text/plain": [
       "       country_name  year  v2x_libdem\n",
       "23607      Paraguay  1847       0.021\n",
       "9175       Zimbabwe  1997       0.206\n",
       "17683    Madagascar  1854       0.015\n",
       "25515      Zanzibar  1912       0.075\n",
       "24006       Romania  2015       0.578\n",
       "24294  Saudi Arabia  1955       0.033\n",
       "20262          Cuba  1967       0.044\n",
       "17414          Laos  1934       0.063\n",
       "17505         Libya  1794         NaN\n",
       "11084       Ecuador  1973       0.067\n",
       "20046       Comoros  2015       0.313\n",
       "25863         Parma  1819       0.128\n",
       "14523       Tunisia  1817       0.023\n",
       "3653        Bolivia  1829       0.089\n",
       "26279       Hanover  1865       0.102"
      ]
     },
     "execution_count": 14,
     "metadata": {},
     "output_type": "execute_result"
    }
   ],
   "source": [
    "sdf[['country_name', 'year', 'v2x_libdem']].sample(15)"
   ]
  },
  {
   "cell_type": "markdown",
   "id": "1c7fe471",
   "metadata": {},
   "source": [
    "### Zeilen filtern"
   ]
  },
  {
   "cell_type": "markdown",
   "id": "b38f5505",
   "metadata": {},
   "source": [
    "Bei der Ausführung der Methode `.describe()` haben Sie vielleicht bemerkt, dass der Bereich für die Jahresvariable 1789-2019 ist. Angenommen, wir haben einen guten Grund, uns auf die Jahre von 1900 bis 2019 zu konzentrieren. Dann müssen wir die Daten filtern, um nur die Zeilen zu erhalten, die unseren Anforderungen entsprechen. Es gibt mehrere Möglichkeiten, Zeilen zu filtern, einschließlich Slices (z. B. alle Beobachtungen zwischen Index i und Index j) oder nach einer expliziten Bedingung, wie z. B. \"Zeilen, in denen das Jahr >= 1900\". Beachten Sie, dass, wenn wir einen DataFrame filtern oder zerschneiden, das neue Objekt nur eine Ansicht des Originals ist und sich immer noch auf die gleichen Daten bezieht. Pandas warnt uns, wenn wir versuchen, das gefilterte Objekt zu verändern, so dass es in den meisten Fällen einfacher ist, eine neue Kopie zu erstellen."
   ]
  },
  {
   "cell_type": "code",
   "execution_count": 15,
   "id": "e1924389",
   "metadata": {},
   "outputs": [
    {
     "name": "stdout",
     "output_type": "stream",
     "text": [
      "<class 'pandas.core.frame.DataFrame'>\n",
      "Index: 18787 entries, 111 to 25622\n",
      "Data columns (total 13 columns):\n",
      " #   Column           Non-Null Count  Dtype  \n",
      "---  ------           --------------  -----  \n",
      " 0   country_name     18787 non-null  object \n",
      " 1   country_text_id  18787 non-null  object \n",
      " 2   e_regiongeo      18787 non-null  int64  \n",
      " 3   year             18787 non-null  int64  \n",
      " 4   v2x_polyarchy    18663 non-null  float64\n",
      " 5   v2x_libdem       18424 non-null  float64\n",
      " 6   v2x_partipdem    18587 non-null  float64\n",
      " 7   v2x_delibdem     18557 non-null  float64\n",
      " 8   v2x_egaldem      18557 non-null  float64\n",
      " 9   v2smprivex       3562 non-null   float64\n",
      " 10  v2smpolsoc       3562 non-null   float64\n",
      " 11  v2caviol         12745 non-null  float64\n",
      " 12  e_boix_regime    11841 non-null  float64\n",
      "dtypes: float64(9), int64(2), object(2)\n",
      "memory usage: 2.0+ MB\n"
     ]
    }
   ],
   "source": [
    "fsdf = sdf[sdf['year'] >= 1900].copy()\n",
    "fsdf.info()"
   ]
  },
  {
   "cell_type": "markdown",
   "id": "62e8416b",
   "metadata": {},
   "source": [
    "Wir könnten dies auch mit der Methode `.query()` tun, die einen booleschen Ausdruck als string annimmt:"
   ]
  },
  {
   "cell_type": "code",
   "execution_count": 16,
   "id": "83785332",
   "metadata": {},
   "outputs": [
    {
     "name": "stdout",
     "output_type": "stream",
     "text": [
      "<class 'pandas.core.frame.DataFrame'>\n",
      "Index: 18787 entries, 111 to 25622\n",
      "Data columns (total 13 columns):\n",
      " #   Column           Non-Null Count  Dtype  \n",
      "---  ------           --------------  -----  \n",
      " 0   country_name     18787 non-null  object \n",
      " 1   country_text_id  18787 non-null  object \n",
      " 2   e_regiongeo      18787 non-null  int64  \n",
      " 3   year             18787 non-null  int64  \n",
      " 4   v2x_polyarchy    18663 non-null  float64\n",
      " 5   v2x_libdem       18424 non-null  float64\n",
      " 6   v2x_partipdem    18587 non-null  float64\n",
      " 7   v2x_delibdem     18557 non-null  float64\n",
      " 8   v2x_egaldem      18557 non-null  float64\n",
      " 9   v2smprivex       3562 non-null   float64\n",
      " 10  v2smpolsoc       3562 non-null   float64\n",
      " 11  v2caviol         12745 non-null  float64\n",
      " 12  e_boix_regime    11841 non-null  float64\n",
      "dtypes: float64(9), int64(2), object(2)\n",
      "memory usage: 2.0+ MB\n"
     ]
    }
   ],
   "source": [
    "alternate_fsdf = sdf.query('year >= 1900').copy() \n",
    "alternate_fsdf.info()"
   ]
  },
  {
   "cell_type": "markdown",
   "id": "bb7be409",
   "metadata": {},
   "source": [
    "### Schreiben von Dateien"
   ]
  },
  {
   "cell_type": "markdown",
   "id": "6cd69f70",
   "metadata": {},
   "source": [
    "So wie wir unsere ursprüngliche CSV-Datei mit der Funktion `read_csv()` in Pandas eingelesen habe, können wir diesen neuen Dataframe mit der Methode `to_csv()` auch wieder schreiben:"
   ]
  },
  {
   "cell_type": "code",
   "execution_count": 34,
   "id": "e5e7a0a7",
   "metadata": {},
   "outputs": [],
   "source": [
    "fsdf.to_csv('../data/vdem/filtered_subset.csv', index=False)"
   ]
  },
  {
   "cell_type": "markdown",
   "id": "b910716c",
   "metadata": {},
   "source": [
    "## Pandas Datenstruktur"
   ]
  },
  {
   "cell_type": "markdown",
   "id": "6d1315e4",
   "metadata": {},
   "source": [
    "### The series\n",
    "\n",
    "Jede Spalte in einem dataframe ist ein Objekt namens Series. Eine Series ist ein eindimensionales Objekt (z. B. ein Zahlenvektor) mit einem Index, der selbst ein Vektor oder ein Array von Bezeichnungen ist."
   ]
  },
  {
   "cell_type": "markdown",
   "id": "c7515b8c",
   "metadata": {},
   "source": [
    "Zum Beispiel ist die Spalte *v2x_delibdem* in fsdf eine Series, die Floats und die Indexbezeichnung für jede Beobachtung enthält. Wenn ich eine Stichprobe von 15 Beobachtungen ausdrucke, erhalte ich einen numerischen Index für jede Beobachtung auf der linken Seite und den tatsächlichen Wert auf der rechten Seite. Die Indexwerte sind in der Series selbst geordnet, aber hier sind sie nicht in der richtigen Reihenfolge, weil wir eine Zufallsstichprobe gezogen haben. Da dies nur zu Demonstrationszwecken dient, habe ich einen random_state-Wert eingefügt, um sicherzustellen, dass Sie die gleiche Stichprobe erhalten wie ich, wenn Sie diesen Block erneut ausführen."
   ]
  },
  {
   "cell_type": "code",
   "execution_count": 18,
   "id": "1a2632ac",
   "metadata": {},
   "outputs": [
    {
     "data": {
      "text/plain": [
       "111      0.034\n",
       "112      0.034\n",
       "113      0.034\n",
       "114      0.034\n",
       "115      0.034\n",
       "         ...  \n",
       "25618    0.215\n",
       "25619    0.194\n",
       "25620    0.168\n",
       "25621    0.213\n",
       "25622    0.183\n",
       "Name: v2x_delibdem, Length: 18787, dtype: float64"
      ]
     },
     "execution_count": 18,
     "metadata": {},
     "output_type": "execute_result"
    }
   ],
   "source": [
    "fsdf['v2x_delibdem']"
   ]
  },
  {
   "cell_type": "code",
   "execution_count": 17,
   "id": "961aa795",
   "metadata": {},
   "outputs": [
    {
     "data": {
      "text/plain": [
       "8437     0.305\n",
       "25197    0.059\n",
       "6661     0.079\n",
       "19266    0.390\n",
       "7633     0.632\n",
       "1230     0.727\n",
       "8829     0.020\n",
       "10118    0.008\n",
       "8996     0.047\n",
       "2360     0.048\n",
       "18407    0.018\n",
       "153      0.132\n",
       "10794    0.805\n",
       "14375    0.800\n",
       "24240      NaN\n",
       "Name: v2x_delibdem, dtype: float64"
      ]
     },
     "execution_count": 17,
     "metadata": {},
     "output_type": "execute_result"
    }
   ],
   "source": [
    "fsdf['v2x_delibdem'].sample(15, random_state = 42)"
   ]
  },
  {
   "cell_type": "markdown",
   "id": "ae3aa805",
   "metadata": {},
   "source": [
    "In den meisten Fällen ist der Standardindex für eine Series oder einen DataFrame ein unveränderlicher Vektor aus ganzen Zahlen:"
   ]
  },
  {
   "cell_type": "code",
   "execution_count": 36,
   "id": "4db1e7ad",
   "metadata": {},
   "outputs": [
    {
     "data": {
      "text/plain": [
       "Index([  111,   112,   113,   114,   115,   116,   117,   118,   119,   120,\n",
       "       ...\n",
       "       25613, 25614, 25615, 25616, 25617, 25618, 25619, 25620, 25621, 25622],\n",
       "      dtype='int64', length=18787)"
      ]
     },
     "execution_count": 36,
     "metadata": {},
     "output_type": "execute_result"
    }
   ],
   "source": [
    "fsdf.index"
   ]
  },
  {
   "cell_type": "markdown",
   "id": "dd0f4a92",
   "metadata": {},
   "source": [
    "Wir können einen Index leicht so ändern, dass er stattdessen aus einem anderen Vektortyp besteht, z. B. einem string. Überraschenderweise müssen Indexwerte nicht eindeutig sein. Dies ermöglicht einige leistungsfähige Techniken, aber die meiste Zeit sollten Sie vermeiden, Indizes manuell zu ändern."
   ]
  },
  {
   "cell_type": "markdown",
   "id": "30f9ac05",
   "metadata": {},
   "source": [
    "### Zugriff auf eine bestimmte Zeile über ihren Index"
   ]
  },
  {
   "cell_type": "markdown",
   "id": "c5f0ce80",
   "metadata": {},
   "source": [
    "Wir können den Index verwenden, um bestimmte Zeilen aus einem dataframe oder bestimmte Werte aus einer series abzurufen, ganz so, als ob wir ein Element aus einer Liste, einem Tupel oder einem Array auswählen würden. Am einfachsten geht das, indem man den Indexwert (z. B. 202) an `.loc[]` übergibt. Wie Sie unten sehen können, ist das Ergebnis der beobachtungsspezifische Wert für jede Variable im dataframe:"
   ]
  },
  {
   "cell_type": "code",
   "execution_count": 40,
   "id": "330624f4",
   "metadata": {},
   "outputs": [
    {
     "data": {
      "text/plain": [
       "country_name       Mexico\n",
       "country_text_id       MEX\n",
       "e_regiongeo            17\n",
       "year                 1991\n",
       "v2x_polyarchy       0.435\n",
       "v2x_libdem          0.221\n",
       "v2x_partipdem       0.246\n",
       "v2x_delibdem         0.31\n",
       "v2x_egaldem         0.214\n",
       "v2smprivex            NaN\n",
       "v2smpolsoc            NaN\n",
       "v2caviol            -0.71\n",
       "e_boix_regime         0.0\n",
       "Name: 202, dtype: object"
      ]
     },
     "execution_count": 40,
     "metadata": {},
     "output_type": "execute_result"
    }
   ],
   "source": [
    "fsdf.loc[202]"
   ]
  },
  {
   "cell_type": "code",
   "execution_count": 41,
   "id": "9517f3b4",
   "metadata": {},
   "outputs": [
    {
     "data": {
      "text/plain": [
       "0.31"
      ]
     },
     "execution_count": 41,
     "metadata": {},
     "output_type": "execute_result"
    }
   ],
   "source": [
    "fsdf['v2x_delibdem'].loc[202]"
   ]
  },
  {
   "cell_type": "code",
   "execution_count": 42,
   "id": "b9a00e89",
   "metadata": {},
   "outputs": [
    {
     "data": {
      "text/plain": [
       "0.081"
      ]
     },
     "execution_count": 42,
     "metadata": {},
     "output_type": "execute_result"
    }
   ],
   "source": [
    "fsdf['v2x_delibdem'].loc[20000]"
   ]
  },
  {
   "cell_type": "markdown",
   "id": "a156428b",
   "metadata": {},
   "source": [
    "Beachten Sie, dass sich `.loc` nicht auf die 202. Zeile des dataframe bezieht. Wenn Sie sich den obigen `.index`-Befehl genau angesehen haben, ist Ihnen vielleicht aufgefallen, dass der dataframe nur 18.787 Zeilen enthält, aber `.loc` immer noch Zeile 20.000 zurückgeben kann - der Index hat sich nicht geändert, als Sie eine Reihe von Zeilen aus dem dataframe entfernt haben. Stellen Sie sich `.loc` als Zugriff auf ein Wörterbuch der Indexwerte vor - es gibt sogar einen KeyError, wenn Sie nach einem Element fragen, das nicht existiert."
   ]
  },
  {
   "cell_type": "markdown",
   "id": "b331c529",
   "metadata": {},
   "source": [
    "Wenn wir stattdessen auf die n-te Zeile eines dataframe zugreifen wollen, können wir `.iloc[n]` verwenden. Stellen Sie sich den Index als eine Liste vor, und Sie beziehen sich auf ein Element dieser Liste durch seinen Listenindex. Verwenden wir `.iloc`, um das letzte Element im dataframe auszuwählen. Beachten Sie, dass die Indexposition für das letzte Element 18.786 sein wird, obwohl die Länge des dataframe 18.787 beträgt, da Python-Datenstrukturen fast immer mit einem Null-Index versehen sind. Hier sehen Sie den Index der Zeile, der früher die Zeilennummer war, als Name am unteren Rand:"
   ]
  },
  {
   "cell_type": "code",
   "execution_count": 21,
   "id": "6c1595b4",
   "metadata": {},
   "outputs": [
    {
     "data": {
      "text/plain": [
       "18787"
      ]
     },
     "execution_count": 21,
     "metadata": {},
     "output_type": "execute_result"
    }
   ],
   "source": [
    "len(fsdf)"
   ]
  },
  {
   "cell_type": "code",
   "execution_count": 24,
   "id": "f65def9c",
   "metadata": {},
   "outputs": [
    {
     "data": {
      "text/plain": [
       "country_name       Zanzibar\n",
       "country_text_id         ZZB\n",
       "e_regiongeo               8\n",
       "year                   2019\n",
       "v2x_polyarchy         0.245\n",
       "v2x_libdem             0.18\n",
       "v2x_partipdem         0.083\n",
       "v2x_delibdem          0.183\n",
       "v2x_egaldem           0.187\n",
       "v2smprivex           -1.843\n",
       "v2smpolsoc           -0.848\n",
       "v2caviol             -0.181\n",
       "e_boix_regime           NaN\n",
       "Name: 25622, dtype: object"
      ]
     },
     "execution_count": 24,
     "metadata": {},
     "output_type": "execute_result"
    }
   ],
   "source": [
    "fsdf.iloc[18786]"
   ]
  },
  {
   "cell_type": "code",
   "execution_count": 20,
   "id": "86874877",
   "metadata": {},
   "outputs": [
    {
     "data": {
      "text/html": [
       "<div>\n",
       "<style scoped>\n",
       "    .dataframe tbody tr th:only-of-type {\n",
       "        vertical-align: middle;\n",
       "    }\n",
       "\n",
       "    .dataframe tbody tr th {\n",
       "        vertical-align: top;\n",
       "    }\n",
       "\n",
       "    .dataframe thead th {\n",
       "        text-align: right;\n",
       "    }\n",
       "</style>\n",
       "<table border=\"1\" class=\"dataframe\">\n",
       "  <thead>\n",
       "    <tr style=\"text-align: right;\">\n",
       "      <th></th>\n",
       "      <th>country_name</th>\n",
       "      <th>country_text_id</th>\n",
       "      <th>e_regiongeo</th>\n",
       "      <th>year</th>\n",
       "      <th>v2x_polyarchy</th>\n",
       "      <th>v2x_libdem</th>\n",
       "      <th>v2x_partipdem</th>\n",
       "      <th>v2x_delibdem</th>\n",
       "      <th>v2x_egaldem</th>\n",
       "      <th>v2smprivex</th>\n",
       "      <th>v2smpolsoc</th>\n",
       "      <th>v2caviol</th>\n",
       "      <th>e_boix_regime</th>\n",
       "    </tr>\n",
       "  </thead>\n",
       "  <tbody>\n",
       "    <tr>\n",
       "      <th>25618</th>\n",
       "      <td>Zanzibar</td>\n",
       "      <td>ZZB</td>\n",
       "      <td>8</td>\n",
       "      <td>2015</td>\n",
       "      <td>0.316</td>\n",
       "      <td>0.240</td>\n",
       "      <td>0.114</td>\n",
       "      <td>0.215</td>\n",
       "      <td>0.255</td>\n",
       "      <td>-1.749</td>\n",
       "      <td>-0.210</td>\n",
       "      <td>-0.321</td>\n",
       "      <td>NaN</td>\n",
       "    </tr>\n",
       "    <tr>\n",
       "      <th>25619</th>\n",
       "      <td>Zanzibar</td>\n",
       "      <td>ZZB</td>\n",
       "      <td>8</td>\n",
       "      <td>2016</td>\n",
       "      <td>0.267</td>\n",
       "      <td>0.212</td>\n",
       "      <td>0.090</td>\n",
       "      <td>0.194</td>\n",
       "      <td>0.234</td>\n",
       "      <td>-1.749</td>\n",
       "      <td>-1.512</td>\n",
       "      <td>-0.181</td>\n",
       "      <td>NaN</td>\n",
       "    </tr>\n",
       "    <tr>\n",
       "      <th>25620</th>\n",
       "      <td>Zanzibar</td>\n",
       "      <td>ZZB</td>\n",
       "      <td>8</td>\n",
       "      <td>2017</td>\n",
       "      <td>0.260</td>\n",
       "      <td>0.171</td>\n",
       "      <td>0.097</td>\n",
       "      <td>0.168</td>\n",
       "      <td>0.213</td>\n",
       "      <td>-1.749</td>\n",
       "      <td>-1.512</td>\n",
       "      <td>-0.181</td>\n",
       "      <td>NaN</td>\n",
       "    </tr>\n",
       "    <tr>\n",
       "      <th>25621</th>\n",
       "      <td>Zanzibar</td>\n",
       "      <td>ZZB</td>\n",
       "      <td>8</td>\n",
       "      <td>2018</td>\n",
       "      <td>0.262</td>\n",
       "      <td>0.170</td>\n",
       "      <td>0.095</td>\n",
       "      <td>0.213</td>\n",
       "      <td>0.214</td>\n",
       "      <td>-1.749</td>\n",
       "      <td>-1.389</td>\n",
       "      <td>-0.181</td>\n",
       "      <td>NaN</td>\n",
       "    </tr>\n",
       "    <tr>\n",
       "      <th>25622</th>\n",
       "      <td>Zanzibar</td>\n",
       "      <td>ZZB</td>\n",
       "      <td>8</td>\n",
       "      <td>2019</td>\n",
       "      <td>0.245</td>\n",
       "      <td>0.180</td>\n",
       "      <td>0.083</td>\n",
       "      <td>0.183</td>\n",
       "      <td>0.187</td>\n",
       "      <td>-1.843</td>\n",
       "      <td>-0.848</td>\n",
       "      <td>-0.181</td>\n",
       "      <td>NaN</td>\n",
       "    </tr>\n",
       "  </tbody>\n",
       "</table>\n",
       "</div>"
      ],
      "text/plain": [
       "      country_name country_text_id  e_regiongeo  year  v2x_polyarchy   \n",
       "25618     Zanzibar             ZZB            8  2015          0.316  \\\n",
       "25619     Zanzibar             ZZB            8  2016          0.267   \n",
       "25620     Zanzibar             ZZB            8  2017          0.260   \n",
       "25621     Zanzibar             ZZB            8  2018          0.262   \n",
       "25622     Zanzibar             ZZB            8  2019          0.245   \n",
       "\n",
       "       v2x_libdem  v2x_partipdem  v2x_delibdem  v2x_egaldem  v2smprivex   \n",
       "25618       0.240          0.114         0.215        0.255      -1.749  \\\n",
       "25619       0.212          0.090         0.194        0.234      -1.749   \n",
       "25620       0.171          0.097         0.168        0.213      -1.749   \n",
       "25621       0.170          0.095         0.213        0.214      -1.749   \n",
       "25622       0.180          0.083         0.183        0.187      -1.843   \n",
       "\n",
       "       v2smpolsoc  v2caviol  e_boix_regime  \n",
       "25618      -0.210    -0.321            NaN  \n",
       "25619      -1.512    -0.181            NaN  \n",
       "25620      -1.512    -0.181            NaN  \n",
       "25621      -1.389    -0.181            NaN  \n",
       "25622      -0.848    -0.181            NaN  "
      ]
     },
     "execution_count": 20,
     "metadata": {},
     "output_type": "execute_result"
    }
   ],
   "source": [
    "fsdf.tail()"
   ]
  },
  {
   "cell_type": "markdown",
   "id": "9e68a8d4",
   "metadata": {},
   "source": [
    "Wenn es keinen Grund gibt, die ursprüngliche Indizierung des ungefilterten dataframe beizubehalten, ist es in der Regel eine gute Idee, den Index zurückzusetzen:"
   ]
  },
  {
   "cell_type": "code",
   "execution_count": 25,
   "id": "143301fd",
   "metadata": {},
   "outputs": [
    {
     "data": {
      "text/plain": [
       "country_name       Zanzibar\n",
       "country_text_id         ZZB\n",
       "e_regiongeo               8\n",
       "year                   2019\n",
       "v2x_polyarchy         0.245\n",
       "v2x_libdem             0.18\n",
       "v2x_partipdem         0.083\n",
       "v2x_delibdem          0.183\n",
       "v2x_egaldem           0.187\n",
       "v2smprivex           -1.843\n",
       "v2smpolsoc           -0.848\n",
       "v2caviol             -0.181\n",
       "e_boix_regime           NaN\n",
       "Name: 18786, dtype: object"
      ]
     },
     "execution_count": 25,
     "metadata": {},
     "output_type": "execute_result"
    }
   ],
   "source": [
    "fsdf.reset_index(inplace = True, drop = True) \n",
    "fsdf.loc[18786]"
   ]
  },
  {
   "cell_type": "markdown",
   "id": "297efa98",
   "metadata": {},
   "source": [
    "Danach werden `.loc` und `.iloc` ziemlich austauschbar, mit ein paar Ausnahmen: `.loc` hat wörterbuchähnliche Fähigkeiten, während `.iloc` eher listenähnlich ist. Schauen wir uns nun den dataframe genauer an."
   ]
  },
  {
   "cell_type": "markdown",
   "id": "05dc790e",
   "metadata": {},
   "source": [
    "### Dataframes"
   ]
  },
  {
   "cell_type": "markdown",
   "id": "51334ebe",
   "metadata": {},
   "source": [
    "Dataframes in Pandas sind eigentlich nur Sammlungen von Series, die an denselben Indexwerten ausgerichtet sind. Mit anderen Worten: Die Serien, mit denen wir zuvor gearbeitet haben, haben ihre eigenen Indizes, wenn wir mit ihnen als eigenständige Serien arbeiten, aber im fsdf dataframe teilen sie sich einen Index.  \n",
    "Wie Sie bereits gesehen haben, sind dataframes mit Variablen in den Spalten und Beobachtungen in den Zeilen organisiert, und Sie können eine einzelne series aus einem dataframe mit eckigen Klammern holen - lassen Sie uns das jetzt mit dem fsdf dataframe tun:"
   ]
  },
  {
   "cell_type": "code",
   "execution_count": 56,
   "id": "3215176f",
   "metadata": {},
   "outputs": [],
   "source": [
    "deliberative = fsdf['v2x_delibdem']"
   ]
  },
  {
   "cell_type": "markdown",
   "id": "b8354552",
   "metadata": {},
   "source": [
    "Beachten Sie, dass wir auch die Punktnotation verwenden können, um Spalten auszuwählen. `fsdf.v2x_delibdem` ist funktional gleichwertig mit `fsdf['v2x_delibdem']` und kann austauschbar verwendet werden."
   ]
  },
  {
   "cell_type": "markdown",
   "id": "fa7b0bae",
   "metadata": {},
   "source": [
    "Wir sind nicht darauf beschränkt, Spalten auszuwählen, die bereits in unserem Datensatz vorhanden sind. Sie können auch neue Spalten erstellen und hinzufügen. Sie können beispielsweise eine neue Spalte mit der Bezeichnung \"21. Jahrhundert\" erstellen und einen booleschen Wert zuweisen, der darauf basiert, ob die Beobachtung in den 2000er Jahren liegt:"
   ]
  },
  {
   "cell_type": "code",
   "execution_count": 57,
   "id": "75eb9b0d",
   "metadata": {},
   "outputs": [
    {
     "data": {
      "text/plain": [
       "21 Century\n",
       "False         15225\n",
       "True           3562\n",
       "Name: count, dtype: int64"
      ]
     },
     "execution_count": 57,
     "metadata": {},
     "output_type": "execute_result"
    }
   ],
   "source": [
    "fsdf['21 Century'] = fsdf['year'] >= 2000 \n",
    "fsdf[['21 Century']].value_counts()"
   ]
  },
  {
   "cell_type": "markdown",
   "id": "48635269",
   "metadata": {},
   "source": [
    "Manchmal handelt es sich bei den neu erstellten Spalten um Umwandlungen einer bereits im dataframe vorhandenen series. Sie können beispielsweise eine neue Spalte \"missing_political_violence_data\" erstellen, die den Wert \"True\" annimmt, wenn die Serie \"v2caviol\" (Ausmaß der politischen Gewalt) leer ist, und andernfalls \"False\":"
   ]
  },
  {
   "cell_type": "code",
   "execution_count": 58,
   "id": "59478ffd",
   "metadata": {},
   "outputs": [
    {
     "data": {
      "text/plain": [
       "missing_political_violence_data\n",
       "False    12745\n",
       "True      6042\n",
       "Name: count, dtype: int64"
      ]
     },
     "execution_count": 58,
     "metadata": {},
     "output_type": "execute_result"
    }
   ],
   "source": [
    "fsdf['missing_political_violence_data'] = fsdf['v2caviol'].isna()\n",
    "fsdf['missing_political_violence_data'].value_counts()"
   ]
  },
  {
   "cell_type": "markdown",
   "id": "9f2571dc",
   "metadata": {},
   "source": [
    "Wie Sie bei der Ausführung von value_counts() sehen können, fehlen für 6042 Beobachtungen Daten zum Ausmaß der politischen Gewalt."
   ]
  },
  {
   "cell_type": "markdown",
   "id": "a7723523",
   "metadata": {},
   "source": [
    "### Missing data"
   ]
  },
  {
   "cell_type": "markdown",
   "id": "05cfa29e",
   "metadata": {},
   "source": [
    "Es ist wichtig zu verstehen, wie mit fehlenden Daten umgegangen wird. Fehlende Daten kommen in realen Datensätzen häufig vor, und sie können aus mehreren Gründen fehlen! Im Allgemeinen verwendet Pandas den Wert np.nan, um fehlende Daten darzustellen. Der np.nan-Wert von NumPy ist ein Spezialfall einer Fließkommazahl, die einen nicht darstellbaren Wert darstellt. Diese Art von Werten werden NaNs (Not a Number) genannt."
   ]
  },
  {
   "cell_type": "code",
   "execution_count": 45,
   "id": "e204df3f",
   "metadata": {},
   "outputs": [
    {
     "data": {
      "text/plain": [
       "float"
      ]
     },
     "execution_count": 45,
     "metadata": {},
     "output_type": "execute_result"
    }
   ],
   "source": [
    "import numpy as np \n",
    "type(np.nan)"
   ]
  },
  {
   "cell_type": "markdown",
   "id": "f2978126",
   "metadata": {},
   "source": [
    "np.nan kann nicht in Gleichheitstests verwendet werden, da jeder Vergleich mit einem np.nan-Wert als Falsch ausgewertet wird. Dies schließt den Vergleich von np.nan mit sich selbst ein.  \n",
    "\n",
    "np.nan-Werte werden nicht zu False oder None ausgewertet. Dies kann es schwierig machen, fehlende Werte zu unterscheiden. Zu diesem Zweck können Sie die Funktion np.isnan() verwenden, die besonders im Kontrollfluss nützlich ist."
   ]
  },
  {
   "cell_type": "code",
   "execution_count": 60,
   "id": "79bbc0f8",
   "metadata": {},
   "outputs": [
    {
     "name": "stdout",
     "output_type": "stream",
     "text": [
      "NaN evaluates to True in control flow\n",
      "NaN is considered a NaN value in NumPy\n"
     ]
    }
   ],
   "source": [
    "if np.nan is None: \n",
    "    print('NaN is None') \n",
    "if np.nan: \n",
    "    print('NaN evaluates to True in control flow') \n",
    "if np.isnan(np.nan): \n",
    "    print('NaN is considered a NaN value in NumPy')"
   ]
  },
  {
   "cell_type": "markdown",
   "id": "861ce879",
   "metadata": {},
   "source": [
    "Außerdem werden np.nan-Werte im Allgemeinen von Pandas-Funktionen ausgeschlossen, die Berechnungen über dataframes, Zeilen oder Spalten durchführen. In der Dokumentation wird zum Beispiel oft angegeben, dass eine Berechnung über alle Werte durchgeführt wird, wobei NaN- oder NULL-Werte ausgeschlossen werden."
   ]
  },
  {
   "cell_type": "code",
   "execution_count": 61,
   "id": "948cf5d9",
   "metadata": {},
   "outputs": [
    {
     "name": "stdout",
     "output_type": "stream",
     "text": [
      "Total: 18787\n",
      "Count: 12745\n",
      "Diff: 6042\n"
     ]
    }
   ],
   "source": [
    "total = len(fsdf['v2caviol']) \n",
    "count = fsdf['v2caviol'].count() \n",
    "print(f'Total: {total}') \n",
    "print(f'Count: {count}') \n",
    "print(f'Diff: {total-count}')"
   ]
  },
  {
   "cell_type": "markdown",
   "id": "e65a64c1",
   "metadata": {},
   "source": [
    "Die Gesamtzahl der Elemente in der Spalte v2caviol (politische Gewalt) ist viel höher als die von der Funktion `count()` erhaltene Anzahl. Wenn das, was wir oben gelernt haben, richtig ist, sollte dieser Unterschied berücksichtigt werden, wenn wir herausfinden, wie viele Elemente in dieser Spalte NaNs sind."
   ]
  },
  {
   "cell_type": "code",
   "execution_count": 62,
   "id": "535834ad",
   "metadata": {},
   "outputs": [
    {
     "name": "stdout",
     "output_type": "stream",
     "text": [
      " NaNs: 6042\n"
     ]
    }
   ],
   "source": [
    "nans = fsdf['v2caviol'].isna().sum()\n",
    "print(' NaNs: {}'.format(nans))"
   ]
  },
  {
   "cell_type": "markdown",
   "id": "e90d2070",
   "metadata": {},
   "source": [
    "Wie Sie wahrscheinlich wissen, kann die Methode `.isna()`, die der Methode `np.isnan()` ähnelt, aber zusätzliche Fälle abdeckt, beim Transformieren und Filtern von Daten sehr nützlich sein."
   ]
  },
  {
   "cell_type": "markdown",
   "id": "b4917664",
   "metadata": {},
   "source": [
    "### Aggregieren und Gruppieren"
   ]
  },
  {
   "cell_type": "markdown",
   "id": "b78ca519",
   "metadata": {},
   "source": [
    "Datenanalyseprojekte beinhalten oft Aggregations- oder Gruppierungsoperationen. So kann es beispielsweise erforderlich sein, zusammenfassende Statistiken für Beobachtungen zu berechnen und zu vergleichen, die unterschiedliche Werte für eine kategoriale Variable annehmen. Es kann hilfreich sein, den Datensatz selbst aufzuschlüsseln und Operationen auf verschiedenen Teilmengen von Daten durchzuführen. Dazu verwenden wir die Methode `.groupby()`, die den dataframe auf der Grundlage der Werte einer bestimmten Variable in Gruppen unterteilt. Anschließend können wir Operationen mit den resultierenden Gruppen durchführen. Wir gruppieren unsere Länder in geografische Regionen, indem wir die Variable *e_regiongeo* verwenden:"
   ]
  },
  {
   "cell_type": "code",
   "execution_count": 36,
   "id": "b0ff2443",
   "metadata": {},
   "outputs": [],
   "source": [
    "grouped = fsdf.groupby('e_regiongeo')"
   ]
  },
  {
   "cell_type": "markdown",
   "id": "85efb557",
   "metadata": {},
   "source": [
    "Der obige Code gibt ein gruppiertes Objekt zurück, mit dem wir arbeiten können. Nehmen wir an, wir wollen eine bestimmte Gruppe herausziehen, z. B. Südostasien, die in den Daten mit der numerischen ID 13 dargestellt wird. Ich weiß das, weil die entsprechenden Informationen im VDEM-Codebuch zu finden sind, das Sie bei Ihrer Arbeit mit den VDEM-Daten immer geöffnet halten sollten."
   ]
  },
  {
   "cell_type": "markdown",
   "id": "7738072c",
   "metadata": {},
   "source": [
    "Wir können die Methode get_group() verwenden, um eine Gruppe aus dem gruppierten Objekt zu ziehen. (Beachten Sie, dass der nachstehende Code .get_group() fsdf[fsdf['e_regiongeo'] == 13] entspricht)."
   ]
  },
  {
   "cell_type": "code",
   "execution_count": 37,
   "id": "ce530d92",
   "metadata": {},
   "outputs": [],
   "source": [
    "south_east_asia = grouped.get_group(13)"
   ]
  },
  {
   "cell_type": "code",
   "execution_count": 38,
   "id": "8f62f7da",
   "metadata": {},
   "outputs": [
    {
     "data": {
      "text/html": [
       "<div>\n",
       "<style scoped>\n",
       "    .dataframe tbody tr th:only-of-type {\n",
       "        vertical-align: middle;\n",
       "    }\n",
       "\n",
       "    .dataframe tbody tr th {\n",
       "        vertical-align: top;\n",
       "    }\n",
       "\n",
       "    .dataframe thead th {\n",
       "        text-align: right;\n",
       "    }\n",
       "</style>\n",
       "<table border=\"1\" class=\"dataframe\">\n",
       "  <thead>\n",
       "    <tr style=\"text-align: right;\">\n",
       "      <th></th>\n",
       "      <th>country_name</th>\n",
       "      <th>year</th>\n",
       "      <th>e_boix_regime</th>\n",
       "    </tr>\n",
       "  </thead>\n",
       "  <tbody>\n",
       "    <tr>\n",
       "      <th>838</th>\n",
       "      <td>Burma/Myanmar</td>\n",
       "      <td>1900</td>\n",
       "      <td>NaN</td>\n",
       "    </tr>\n",
       "    <tr>\n",
       "      <th>839</th>\n",
       "      <td>Burma/Myanmar</td>\n",
       "      <td>1901</td>\n",
       "      <td>NaN</td>\n",
       "    </tr>\n",
       "    <tr>\n",
       "      <th>840</th>\n",
       "      <td>Burma/Myanmar</td>\n",
       "      <td>1902</td>\n",
       "      <td>NaN</td>\n",
       "    </tr>\n",
       "    <tr>\n",
       "      <th>841</th>\n",
       "      <td>Burma/Myanmar</td>\n",
       "      <td>1903</td>\n",
       "      <td>NaN</td>\n",
       "    </tr>\n",
       "    <tr>\n",
       "      <th>842</th>\n",
       "      <td>Burma/Myanmar</td>\n",
       "      <td>1904</td>\n",
       "      <td>NaN</td>\n",
       "    </tr>\n",
       "  </tbody>\n",
       "</table>\n",
       "</div>"
      ],
      "text/plain": [
       "      country_name  year  e_boix_regime\n",
       "838  Burma/Myanmar  1900            NaN\n",
       "839  Burma/Myanmar  1901            NaN\n",
       "840  Burma/Myanmar  1902            NaN\n",
       "841  Burma/Myanmar  1903            NaN\n",
       "842  Burma/Myanmar  1904            NaN"
      ]
     },
     "execution_count": 38,
     "metadata": {},
     "output_type": "execute_result"
    }
   ],
   "source": [
    "south_east_asia[['country_name', 'year', 'e_boix_regime']].head()"
   ]
  },
  {
   "cell_type": "markdown",
   "id": "455866e4",
   "metadata": {},
   "source": [
    "Bei den in south_east_asia gespeicherten Daten handelt es sich um alle Beobachtungen der südostasiatischen Länder in den VDEM-Daten, die nun in einem eigenen dataframe gespeichert sind. .get_group() ist eine weitere Möglichkeit, eine Teilmenge eines dataframes zu extrahieren (mit Hilfe eines groupby-Objekts), und ist besonders nützlich, wenn die Teilmenge der Daten, mit der Sie arbeiten möchten, nur Beobachtungen mit einem bestimmten Wert für eine kategoriale Variable in Ihren Daten sind. Wenn wir einen Datensatz auf diese Weise gruppieren, geschieht dies im Allgemeinen, weil wir etwas für eine Gruppe innerhalb des Datensatzes oder für mehrere Gruppen, die wir vergleichen möchten, berechnen möchten. Dazu geben wir das gruppierte Objekt, die Serie, für die wir eine Operation durchführen möchten, und schließlich die Operation, die wir durchführen möchten, an. Berechnen wir zum Beispiel den Median des Polyarchie-Scores für Länder in jeder der Regionen im Datensatz:"
   ]
  },
  {
   "cell_type": "code",
   "execution_count": 39,
   "id": "f1b3630d",
   "metadata": {},
   "outputs": [
    {
     "data": {
      "text/plain": [
       "e_regiongeo\n",
       "1    0.7940\n",
       "2    0.8170\n",
       "3    0.3890\n",
       "4    0.2385\n",
       "5    0.0955\n",
       "Name: v2x_polyarchy, dtype: float64"
      ]
     },
     "execution_count": 39,
     "metadata": {},
     "output_type": "execute_result"
    }
   ],
   "source": [
    "poly = grouped['v2x_polyarchy'].median() \n",
    "poly.head()"
   ]
  },
  {
   "cell_type": "markdown",
   "id": "95a16b88",
   "metadata": {},
   "source": [
    "Es wäre nützlicher, den Namen der Region zu sehen als ihre numerische Bezeichnung. Wir können dies erreichen, indem wir ein Wörterbuch erstellen, das die numerischen IDs auf den Regionsnamen abbildet, und dann die Methode .map() verwenden, um Pandas mitzuteilen, wo es die Werte nachschlagen soll, die es benötigt, um eine neue Spalte mit den Ländernamen zu erstellen. Zuerst das Wörterbuch:"
   ]
  },
  {
   "cell_type": "code",
   "execution_count": 40,
   "id": "46f6dbf9",
   "metadata": {},
   "outputs": [],
   "source": [
    "regions = { 1:'Western Europe', \n",
    "           2:'Northern Europe', \n",
    "           3:'Southern Europe', \n",
    "           4:'Eastern Europe', \n",
    "           5:'Northern Africa',\n",
    "           6:'Western Africa', \n",
    "           7:'Middle Africa', \n",
    "           8:'Eastern Africa', \n",
    "           9:'Southern Africa', \n",
    "           10:'Western Asia', \n",
    "           11:'Central Asia', \n",
    "           12:'East Asia', \n",
    "           13:'South-East Asia', \n",
    "           14:'South Asia', \n",
    "           15:'Oceania', # (including Australia and the Pacific) \n",
    "           16:'North America', \n",
    "           17:'Central America', \n",
    "           18:'South America', \n",
    "           19:'Caribbean' # (including Belize Cuba Haiti Dominican Republic) \n",
    "          }"
   ]
  },
  {
   "cell_type": "markdown",
   "id": "c6ed6410",
   "metadata": {},
   "source": [
    "Nun können wir dieses Wörterbuch an die Methode `.map()` übergeben, die auf die Serie `fsdf['e_regiongeo']` angewendet wird, und so eine neue Serie namens `fsdf['Region']` erstellen:"
   ]
  },
  {
   "cell_type": "code",
   "execution_count": 41,
   "id": "2b013830",
   "metadata": {},
   "outputs": [],
   "source": [
    "fsdf['Region'] = fsdf['e_regiongeo'].map(regions)"
   ]
  },
  {
   "cell_type": "markdown",
   "id": "7332d6d5",
   "metadata": {},
   "source": [
    "Es ist auch möglich, nach mehreren Variablen zu gruppieren, z. B. nach geografischer Region und Jahr, und dann eine Operation an diesen etwas feineren Gruppen durchzuführen. Auf diese Weise ergeben sich 2211 Gruppen, so dass wir eine Zufallsstichprobe von 10 Gruppen ansehen werden:"
   ]
  },
  {
   "cell_type": "code",
   "execution_count": 42,
   "id": "71783d77",
   "metadata": {},
   "outputs": [
    {
     "data": {
      "text/html": [
       "<div>\n",
       "<style scoped>\n",
       "    .dataframe tbody tr th:only-of-type {\n",
       "        vertical-align: middle;\n",
       "    }\n",
       "\n",
       "    .dataframe tbody tr th {\n",
       "        vertical-align: top;\n",
       "    }\n",
       "\n",
       "    .dataframe thead th {\n",
       "        text-align: right;\n",
       "    }\n",
       "</style>\n",
       "<table border=\"1\" class=\"dataframe\">\n",
       "  <thead>\n",
       "    <tr style=\"text-align: right;\">\n",
       "      <th></th>\n",
       "      <th>Region</th>\n",
       "      <th>year</th>\n",
       "      <th>v2x_polyarchy</th>\n",
       "    </tr>\n",
       "  </thead>\n",
       "  <tbody>\n",
       "    <tr>\n",
       "      <th>1855</th>\n",
       "      <td>Western Africa</td>\n",
       "      <td>1904</td>\n",
       "      <td>0.0380</td>\n",
       "    </tr>\n",
       "    <tr>\n",
       "      <th>1590</th>\n",
       "      <td>South-East Asia</td>\n",
       "      <td>1999</td>\n",
       "      <td>0.3040</td>\n",
       "    </tr>\n",
       "    <tr>\n",
       "      <th>2116</th>\n",
       "      <td>Western Europe</td>\n",
       "      <td>1925</td>\n",
       "      <td>0.6400</td>\n",
       "    </tr>\n",
       "    <tr>\n",
       "      <th>476</th>\n",
       "      <td>Eastern Africa</td>\n",
       "      <td>1965</td>\n",
       "      <td>0.2025</td>\n",
       "    </tr>\n",
       "    <tr>\n",
       "      <th>2019</th>\n",
       "      <td>Western Asia</td>\n",
       "      <td>1948</td>\n",
       "      <td>0.0830</td>\n",
       "    </tr>\n",
       "    <tr>\n",
       "      <th>1437</th>\n",
       "      <td>South Asia</td>\n",
       "      <td>1966</td>\n",
       "      <td>0.1410</td>\n",
       "    </tr>\n",
       "    <tr>\n",
       "      <th>1342</th>\n",
       "      <td>South America</td>\n",
       "      <td>1991</td>\n",
       "      <td>0.7245</td>\n",
       "    </tr>\n",
       "    <tr>\n",
       "      <th>1179</th>\n",
       "      <td>Oceania</td>\n",
       "      <td>1948</td>\n",
       "      <td>0.1660</td>\n",
       "    </tr>\n",
       "    <tr>\n",
       "      <th>1037</th>\n",
       "      <td>Northern Europe</td>\n",
       "      <td>1926</td>\n",
       "      <td>0.7140</td>\n",
       "    </tr>\n",
       "    <tr>\n",
       "      <th>1919</th>\n",
       "      <td>Western Africa</td>\n",
       "      <td>1968</td>\n",
       "      <td>0.1860</td>\n",
       "    </tr>\n",
       "  </tbody>\n",
       "</table>\n",
       "</div>"
      ],
      "text/plain": [
       "               Region  year  v2x_polyarchy\n",
       "1855   Western Africa  1904         0.0380\n",
       "1590  South-East Asia  1999         0.3040\n",
       "2116   Western Europe  1925         0.6400\n",
       "476    Eastern Africa  1965         0.2025\n",
       "2019     Western Asia  1948         0.0830\n",
       "1437       South Asia  1966         0.1410\n",
       "1342    South America  1991         0.7245\n",
       "1179          Oceania  1948         0.1660\n",
       "1037  Northern Europe  1926         0.7140\n",
       "1919   Western Africa  1968         0.1860"
      ]
     },
     "execution_count": 42,
     "metadata": {},
     "output_type": "execute_result"
    }
   ],
   "source": [
    "grouped = fsdf.groupby(['Region', 'year']) \n",
    "poly = grouped['v2x_polyarchy'].median() \n",
    "poly.reset_index()\n",
    "pd.DataFrame(poly).reset_index().sample(10)"
   ]
  },
  {
   "cell_type": "markdown",
   "id": "756f38b2",
   "metadata": {},
   "source": [
    "Für das gruppierte Objekt selbst können andere Operationen durchgeführt werden, z. B. die Berechnung der Anzahl der Beobachtungen in jeder Gruppe (entspricht value_counts()):"
   ]
  },
  {
   "cell_type": "code",
   "execution_count": 43,
   "id": "f51268d5",
   "metadata": {},
   "outputs": [
    {
     "data": {
      "text/plain": [
       "Region          year\n",
       "Eastern Africa  2015    20\n",
       "                2012    20\n",
       "                2019    20\n",
       "                2018    20\n",
       "                2017    20\n",
       "                        ..\n",
       "Central Asia    1904     1\n",
       "                1903     1\n",
       "                1902     1\n",
       "                1901     1\n",
       "                1914     1\n",
       "Length: 2211, dtype: int64"
      ]
     },
     "execution_count": 43,
     "metadata": {},
     "output_type": "execute_result"
    }
   ],
   "source": [
    "grouped.size().sort_values(ascending=False)"
   ]
  },
  {
   "cell_type": "markdown",
   "id": "93c346b9",
   "metadata": {},
   "source": [
    "Schließlich können wir mit der Methode `agg()` mehrere Operationen auf ein gruppiertes Objekt anwenden. Die `agg()`-Methode wendet eine oder mehrere Aggregatfunktionen auf ein gruppiertes Objekt an und gibt die Ergebnisse der einzelnen Funktionen zurück:"
   ]
  },
  {
   "cell_type": "code",
   "execution_count": 61,
   "id": "65c48e98",
   "metadata": {},
   "outputs": [
    {
     "data": {
      "text/html": [
       "<div>\n",
       "<style scoped>\n",
       "    .dataframe tbody tr th:only-of-type {\n",
       "        vertical-align: middle;\n",
       "    }\n",
       "\n",
       "    .dataframe tbody tr th {\n",
       "        vertical-align: top;\n",
       "    }\n",
       "\n",
       "    .dataframe thead th {\n",
       "        text-align: right;\n",
       "    }\n",
       "</style>\n",
       "<table border=\"1\" class=\"dataframe\">\n",
       "  <thead>\n",
       "    <tr style=\"text-align: right;\">\n",
       "      <th></th>\n",
       "      <th>Region</th>\n",
       "      <th>year</th>\n",
       "      <th>min</th>\n",
       "      <th>median</th>\n",
       "      <th>max</th>\n",
       "      <th>count</th>\n",
       "    </tr>\n",
       "  </thead>\n",
       "  <tbody>\n",
       "    <tr>\n",
       "      <th>249</th>\n",
       "      <td>Central Asia</td>\n",
       "      <td>1909</td>\n",
       "      <td>NaN</td>\n",
       "      <td>NaN</td>\n",
       "      <td>NaN</td>\n",
       "      <td>0</td>\n",
       "    </tr>\n",
       "    <tr>\n",
       "      <th>335</th>\n",
       "      <td>East Asia</td>\n",
       "      <td>1944</td>\n",
       "      <td>0.015</td>\n",
       "      <td>0.0805</td>\n",
       "      <td>0.147</td>\n",
       "      <td>6</td>\n",
       "    </tr>\n",
       "    <tr>\n",
       "      <th>1373</th>\n",
       "      <td>South Asia</td>\n",
       "      <td>1902</td>\n",
       "      <td>0.010</td>\n",
       "      <td>0.0330</td>\n",
       "      <td>0.146</td>\n",
       "      <td>7</td>\n",
       "    </tr>\n",
       "    <tr>\n",
       "      <th>1856</th>\n",
       "      <td>Western Africa</td>\n",
       "      <td>1905</td>\n",
       "      <td>0.016</td>\n",
       "      <td>0.0365</td>\n",
       "      <td>0.213</td>\n",
       "      <td>12</td>\n",
       "    </tr>\n",
       "    <tr>\n",
       "      <th>389</th>\n",
       "      <td>East Asia</td>\n",
       "      <td>1998</td>\n",
       "      <td>0.089</td>\n",
       "      <td>0.6550</td>\n",
       "      <td>0.873</td>\n",
       "      <td>7</td>\n",
       "    </tr>\n",
       "    <tr>\n",
       "      <th>377</th>\n",
       "      <td>East Asia</td>\n",
       "      <td>1986</td>\n",
       "      <td>0.096</td>\n",
       "      <td>0.1820</td>\n",
       "      <td>0.840</td>\n",
       "      <td>7</td>\n",
       "    </tr>\n",
       "    <tr>\n",
       "      <th>1014</th>\n",
       "      <td>Northern Europe</td>\n",
       "      <td>1903</td>\n",
       "      <td>0.265</td>\n",
       "      <td>0.3955</td>\n",
       "      <td>0.615</td>\n",
       "      <td>6</td>\n",
       "    </tr>\n",
       "    <tr>\n",
       "      <th>1736</th>\n",
       "      <td>Southern Europe</td>\n",
       "      <td>1905</td>\n",
       "      <td>0.091</td>\n",
       "      <td>0.1910</td>\n",
       "      <td>0.399</td>\n",
       "      <td>7</td>\n",
       "    </tr>\n",
       "    <tr>\n",
       "      <th>1395</th>\n",
       "      <td>South Asia</td>\n",
       "      <td>1924</td>\n",
       "      <td>0.010</td>\n",
       "      <td>0.1040</td>\n",
       "      <td>0.257</td>\n",
       "      <td>7</td>\n",
       "    </tr>\n",
       "    <tr>\n",
       "      <th>1058</th>\n",
       "      <td>Northern Europe</td>\n",
       "      <td>1947</td>\n",
       "      <td>0.707</td>\n",
       "      <td>0.7940</td>\n",
       "      <td>0.900</td>\n",
       "      <td>7</td>\n",
       "    </tr>\n",
       "  </tbody>\n",
       "</table>\n",
       "</div>"
      ],
      "text/plain": [
       "               Region  year    min  median    max  count\n",
       "249      Central Asia  1909    NaN     NaN    NaN      0\n",
       "335         East Asia  1944  0.015  0.0805  0.147      6\n",
       "1373       South Asia  1902  0.010  0.0330  0.146      7\n",
       "1856   Western Africa  1905  0.016  0.0365  0.213     12\n",
       "389         East Asia  1998  0.089  0.6550  0.873      7\n",
       "377         East Asia  1986  0.096  0.1820  0.840      7\n",
       "1014  Northern Europe  1903  0.265  0.3955  0.615      6\n",
       "1736  Southern Europe  1905  0.091  0.1910  0.399      7\n",
       "1395       South Asia  1924  0.010  0.1040  0.257      7\n",
       "1058  Northern Europe  1947  0.707  0.7940  0.900      7"
      ]
     },
     "execution_count": 61,
     "metadata": {},
     "output_type": "execute_result"
    }
   ],
   "source": [
    "with_agg = grouped['v2x_polyarchy'].agg([min, np.median, 'max', 'count']) \n",
    "with_agg.reset_index().sample(10)"
   ]
  },
  {
   "cell_type": "markdown",
   "id": "e4eb6a63",
   "metadata": {},
   "source": [
    "Wir können sogar unsere eigene Funktion definieren, die agg() verwenden soll! Wenn wir bereit sind, ein Wörterbuch zu übergeben, können wir mit .agg() auch verschiedene Funktionen auf mehrere Variablen gleichzeitig anwenden! Anstatt eine Liste pro Funktion zu übergeben, können Sie ein Wörterbuch verwenden, in dem die Spaltennamen die Schlüssel und die Funktionen die Werte sind (Sie können auch eine Liste von Funktionen übergeben), um eine wirklich komplexe Aggregation in einer einzigen Codezeile durchzuführen."
   ]
  },
  {
   "cell_type": "markdown",
   "id": "6f3adc51",
   "metadata": {},
   "source": [
    "## Arbeiten mit Zeitreihendaten"
   ]
  },
  {
   "cell_type": "markdown",
   "id": "1af9c785",
   "metadata": {},
   "source": [
    "Viele reale Datensätze enthalten eine zeitliche Komponente. Dies gilt vor allem dann, wenn Sie mit Daten aus dem Internet arbeiten, die möglicherweise genaue Zeitangaben enthalten, z. B. den Zeitpunkt, zu dem eine E-Mail gesendet oder eine Nachricht veröffentlicht wurde. Strings werden oft verwendet, um Daten und Zeiten zu speichern, aber das ist nicht ideal. Es ist schwierig, Datumsangaben zu sortieren, wenn sie in Strings mit seltsamen Formaten gespeichert sind, z. B.,"
   ]
  },
  {
   "cell_type": "code",
   "execution_count": 75,
   "id": "a8664e4e",
   "metadata": {},
   "outputs": [
    {
     "data": {
      "text/plain": [
       "True"
      ]
     },
     "execution_count": 75,
     "metadata": {},
     "output_type": "execute_result"
    }
   ],
   "source": [
    "\"Monday Mar 2, 1999\" > \"Friday Feb 21, 2020\""
   ]
  },
  {
   "cell_type": "markdown",
   "id": "f32b82e9",
   "metadata": {},
   "source": [
    "Das Extrahieren von Merkmalen wie Tag, Monat oder Zeitzone aus Strings kann zeitaufwändig und fehleranfällig sein. Aus diesem Grund haben Pandas und Python spezielle Typen für Datums-/Zeitobjekte implementiert, die Timestamp und Datetime heißen.  \n",
    "\n",
    "Die VDEM-Daten enthalten eine enorme Menge an zeitlichen Daten, allerdings alle auf Jahresebene. Wechseln wir nun zu einem anderen Datensatz, der feinere zeitliche Daten enthält und eher Daten aus dem Internet ähnelt. In diesem Fall werden wir einige Daten über russische Informationsoperationen zur amerikanischen Präsidentschaftswahl 2016 verwenden. Sie können ein wenig über diese Daten im FiveThirtyEight-Blogpost \"Why We're Sharing 3 Million Russian Troll Tweets\" lesen.\n"
   ]
  },
  {
   "cell_type": "code",
   "execution_count": 77,
   "id": "5c512e5c",
   "metadata": {},
   "outputs": [
    {
     "name": "stdout",
     "output_type": "stream",
     "text": [
      "<class 'pandas.core.frame.DataFrame'>\n",
      "RangeIndex: 736552 entries, 0 to 736551\n",
      "Data columns (total 21 columns):\n",
      " #   Column              Non-Null Count   Dtype \n",
      "---  ------              --------------   ----- \n",
      " 0   external_author_id  736552 non-null  object\n",
      " 1   author              736552 non-null  object\n",
      " 2   content             736552 non-null  object\n",
      " 3   region              734245 non-null  object\n",
      " 4   language            736552 non-null  object\n",
      " 5   publish_date        736552 non-null  object\n",
      " 6   harvested_date      736552 non-null  object\n",
      " 7   following           736552 non-null  int64 \n",
      " 8   followers           736552 non-null  int64 \n",
      " 9   updates             736552 non-null  int64 \n",
      " 10  post_type           324356 non-null  object\n",
      " 11  account_type        736552 non-null  object\n",
      " 12  retweet             736552 non-null  int64 \n",
      " 13  account_category    736552 non-null  object\n",
      " 14  new_june_2018       736552 non-null  int64 \n",
      " 15  alt_external_id     736552 non-null  object\n",
      " 16  tweet_id            736552 non-null  int64 \n",
      " 17  article_url         736552 non-null  object\n",
      " 18  tco1_step1          525962 non-null  object\n",
      " 19  tco2_step1          178172 non-null  object\n",
      " 20  tco3_step1          3682 non-null    object\n",
      "dtypes: int64(6), object(15)\n",
      "memory usage: 118.0+ MB\n"
     ]
    }
   ],
   "source": [
    "tweets_df = pd.read_csv('../data/russian-troll-tweets/tweets.csv', low_memory=False)\n",
    "tweets_df.info()"
   ]
  },
  {
   "cell_type": "markdown",
   "id": "5d6d03f9",
   "metadata": {},
   "source": [
    "Wie Sie sehen können, haben wir zwei Datentypen in unserem dataframe: object und int64. Denken Sie daran, dass Pandas object verwendet, um auf Spalten zu verweisen, die Strings oder gemischte Typen wie Strings und Integer enthalten. In diesem Fall beziehen sie sich auf Strings.\n",
    "\n",
    "Eine weitere Anmerkung zu diesem Datensatz: Jede Zeile ist ein Tweet von einem bestimmten Konto, aber einige der Variablen beschreiben Attribute der tweetenden Konten, nicht des Tweets selbst. Die Variable Follower beschreibt beispielsweise die Anzahl der Follower, die das Konto zum Zeitpunkt des Tweets hatte. Dies ist sinnvoll, da Tweets keine Follower haben, Konten aber schon. Dies müssen wir bei der Arbeit mit diesem Datensatz im Auge behalten.   \n",
    "\n",
    "Mit der Funktion to_datetime können wir Datumsstrings aus einer Spalte oder Series in Zeitstempel umwandeln. Das werden wir hier tun, indem wir die neuen datetime-Objekte neuen Variablen zuweisen. Beachten Sie, dass die Ausführung dieses Codes etwas Zeit in Anspruch nimmt, wenn er auf allen 3 Millionen Tweets ausgeführt wird (wenn Ihr Computer nicht besonders leistungsfähig ist, sollten Sie zunächst die Methode .sample() verwenden, um die Größe des dataframe durch Ziehen einer Zufallsstichprobe von Beobachtungen zu verringern)."
   ]
  },
  {
   "cell_type": "code",
   "execution_count": 78,
   "id": "bf97e880",
   "metadata": {},
   "outputs": [],
   "source": [
    "tweets_df['dt_publish_date'] = pd.to_datetime(tweets_df['publish_date']) \n",
    "tweets_df['dt_harvested_date'] = pd.to_datetime(tweets_df['harvested_date'])"
   ]
  },
  {
   "cell_type": "code",
   "execution_count": 65,
   "id": "87b5f038",
   "metadata": {},
   "outputs": [
    {
     "data": {
      "text/html": [
       "<div>\n",
       "<style scoped>\n",
       "    .dataframe tbody tr th:only-of-type {\n",
       "        vertical-align: middle;\n",
       "    }\n",
       "\n",
       "    .dataframe tbody tr th {\n",
       "        vertical-align: top;\n",
       "    }\n",
       "\n",
       "    .dataframe thead th {\n",
       "        text-align: right;\n",
       "    }\n",
       "</style>\n",
       "<table border=\"1\" class=\"dataframe\">\n",
       "  <thead>\n",
       "    <tr style=\"text-align: right;\">\n",
       "      <th></th>\n",
       "      <th>author</th>\n",
       "      <th>content</th>\n",
       "      <th>publish_date</th>\n",
       "      <th>dt_publish_date</th>\n",
       "    </tr>\n",
       "  </thead>\n",
       "  <tbody>\n",
       "    <tr>\n",
       "      <th>198995</th>\n",
       "      <td>APRRILSBRUSS</td>\n",
       "      <td>And MSNBC, &amp;amp; NYT &amp;amp; WaPo &amp;amp; ABC &amp;amp...</td>\n",
       "      <td>8/15/2017 0:56</td>\n",
       "      <td>2017-08-15 00:56:00</td>\n",
       "    </tr>\n",
       "    <tr>\n",
       "      <th>1862142</th>\n",
       "      <td>FINDDIET</td>\n",
       "      <td>http://t.co/KxGCa2TRzi Is it a module bidding ...</td>\n",
       "      <td>8/2/2015 6:21</td>\n",
       "      <td>2015-08-02 06:21:00</td>\n",
       "    </tr>\n",
       "    <tr>\n",
       "      <th>1027580</th>\n",
       "      <td>BALTIMORE0NLINE</td>\n",
       "      <td>Maryland to become first state with law to pro...</td>\n",
       "      <td>6/29/2017 23:36</td>\n",
       "      <td>2017-06-29 23:36:00</td>\n",
       "    </tr>\n",
       "    <tr>\n",
       "      <th>2116059</th>\n",
       "      <td>JACQUELINISBEST</td>\n",
       "      <td>Congrats POTUS! #winning  Neil Gorsuch is next...</td>\n",
       "      <td>4/8/2017 20:08</td>\n",
       "      <td>2017-04-08 20:08:00</td>\n",
       "    </tr>\n",
       "    <tr>\n",
       "      <th>1244973</th>\n",
       "      <td>CANNONSHER</td>\n",
       "      <td>.@RepMcKinley Trumpcare already takes health c...</td>\n",
       "      <td>5/4/2017 13:24</td>\n",
       "      <td>2017-05-04 13:24:00</td>\n",
       "    </tr>\n",
       "  </tbody>\n",
       "</table>\n",
       "</div>"
      ],
      "text/plain": [
       "                  author                                            content   \n",
       "198995      APRRILSBRUSS  And MSNBC, &amp; NYT &amp; WaPo &amp; ABC &amp...  \\\n",
       "1862142         FINDDIET  http://t.co/KxGCa2TRzi Is it a module bidding ...   \n",
       "1027580  BALTIMORE0NLINE  Maryland to become first state with law to pro...   \n",
       "2116059  JACQUELINISBEST  Congrats POTUS! #winning  Neil Gorsuch is next...   \n",
       "1244973       CANNONSHER  .@RepMcKinley Trumpcare already takes health c...   \n",
       "\n",
       "            publish_date     dt_publish_date  \n",
       "198995    8/15/2017 0:56 2017-08-15 00:56:00  \n",
       "1862142    8/2/2015 6:21 2015-08-02 06:21:00  \n",
       "1027580  6/29/2017 23:36 2017-06-29 23:36:00  \n",
       "2116059   4/8/2017 20:08 2017-04-08 20:08:00  \n",
       "1244973   5/4/2017 13:24 2017-05-04 13:24:00  "
      ]
     },
     "execution_count": 65,
     "metadata": {},
     "output_type": "execute_result"
    }
   ],
   "source": [
    "tweets_df[['author', 'content', 'publish_date', 'dt_publish_date']].head()"
   ]
  },
  {
   "cell_type": "markdown",
   "id": "5b6c0afa",
   "metadata": {},
   "source": [
    "Die Felder des Datetime-Objekts lauten der Reihe nach wie folgt: Jahr-Monat-Tag Stunde:Minute: Sekunde:Mikrosekunde. Zum Abrufen einer ganzen Zahl, die dem Monat entspricht, in dem der Tweet veröffentlicht wurde:"
   ]
  },
  {
   "cell_type": "code",
   "execution_count": 66,
   "id": "2f816495",
   "metadata": {},
   "outputs": [
    {
     "data": {
      "text/plain": [
       "198995     8\n",
       "1862142    8\n",
       "1027580    6\n",
       "2116059    4\n",
       "1244973    5\n",
       "          ..\n",
       "2548225    2\n",
       "2300300    8\n",
       "1968994    7\n",
       "433488     4\n",
       "2500659    5\n",
       "Name: dt_publish_date, Length: 736552, dtype: int32"
      ]
     },
     "execution_count": 66,
     "metadata": {},
     "output_type": "execute_result"
    }
   ],
   "source": [
    "tweets_df['dt_publish_date'].dt.month"
   ]
  },
  {
   "cell_type": "markdown",
   "id": "f5cf7cfc",
   "metadata": {},
   "source": [
    "Wenn unsere Datums- und Zeitvariablen als datetime-Objekte gespeichert werden, können wir auf viele zeitspezifische Attribute mit der Punktnotation zugreifen. Die Pandas-Dokumentation enthält viele Beispiele für die Arten von zeitlichen Einheiten und andere Funktionen. Wir können unseren dataframe auch auf der Grundlage von publish_date sortieren, da Pandas weiß, dass es mit datetime-Objekten arbeitet:"
   ]
  },
  {
   "cell_type": "code",
   "execution_count": 67,
   "id": "16e6631e",
   "metadata": {},
   "outputs": [],
   "source": [
    "sorted_df = tweets_df.sort_values(['dt_publish_date'])"
   ]
  },
  {
   "cell_type": "markdown",
   "id": "3d1d3425",
   "metadata": {},
   "source": [
    "Wir können auch datetime-Spalten hinzufügen und subtrahieren, um neue Spalten zu erstellen:"
   ]
  },
  {
   "cell_type": "code",
   "execution_count": 68,
   "id": "cb4b562e",
   "metadata": {},
   "outputs": [
    {
     "data": {
      "text/plain": [
       "1388022   0 days 00:00:00\n",
       "1879401   0 days 00:01:00\n",
       "1968611   0 days 00:01:00\n",
       "344759    0 days 00:00:00\n",
       "2526747   0 days 00:00:00\n",
       "716397    0 days 00:00:00\n",
       "1547328   0 days 00:00:00\n",
       "1600587   0 days 00:00:00\n",
       "704498    0 days 00:00:00\n",
       "2391836   0 days 00:00:00\n",
       "Name: days_until_harvest, dtype: timedelta64[ns]"
      ]
     },
     "execution_count": 68,
     "metadata": {},
     "output_type": "execute_result"
    }
   ],
   "source": [
    "tweets_df['days_until_harvest'] = tweets_df['dt_harvested_date'] - tweets_df['dt_publish_date']\n",
    "tweets_df['days_until_harvest'].sample(10)"
   ]
  },
  {
   "cell_type": "markdown",
   "id": "366350f3",
   "metadata": {},
   "source": [
    "Erstellen wir neue Variablen für das Jahr, den Monat und den Tag, an dem die einzelnen Tweets erstellt wurden. Dazu können wir die Attribute \"Jahr\", \"Monat\" und \"Tag\" des datetime-Objekts verwenden:"
   ]
  },
  {
   "cell_type": "code",
   "execution_count": 69,
   "id": "7f60c65b",
   "metadata": {},
   "outputs": [],
   "source": [
    "tweets_df['Year'] = tweets_df['dt_publish_date'].dt.year \n",
    "tweets_df['Month'] = tweets_df['dt_publish_date'].dt.month \n",
    "tweets_df['Day'] = tweets_df['dt_publish_date'].dt.day"
   ]
  },
  {
   "cell_type": "code",
   "execution_count": 70,
   "id": "934ae928",
   "metadata": {},
   "outputs": [
    {
     "data": {
      "text/html": [
       "<div>\n",
       "<style scoped>\n",
       "    .dataframe tbody tr th:only-of-type {\n",
       "        vertical-align: middle;\n",
       "    }\n",
       "\n",
       "    .dataframe tbody tr th {\n",
       "        vertical-align: top;\n",
       "    }\n",
       "\n",
       "    .dataframe thead th {\n",
       "        text-align: right;\n",
       "    }\n",
       "</style>\n",
       "<table border=\"1\" class=\"dataframe\">\n",
       "  <thead>\n",
       "    <tr style=\"text-align: right;\">\n",
       "      <th></th>\n",
       "      <th>dt_publish_date</th>\n",
       "      <th>Year</th>\n",
       "      <th>Month</th>\n",
       "      <th>Day</th>\n",
       "    </tr>\n",
       "  </thead>\n",
       "  <tbody>\n",
       "    <tr>\n",
       "      <th>198995</th>\n",
       "      <td>2017-08-15 00:56:00</td>\n",
       "      <td>2017</td>\n",
       "      <td>8</td>\n",
       "      <td>15</td>\n",
       "    </tr>\n",
       "    <tr>\n",
       "      <th>1862142</th>\n",
       "      <td>2015-08-02 06:21:00</td>\n",
       "      <td>2015</td>\n",
       "      <td>8</td>\n",
       "      <td>2</td>\n",
       "    </tr>\n",
       "    <tr>\n",
       "      <th>1027580</th>\n",
       "      <td>2017-06-29 23:36:00</td>\n",
       "      <td>2017</td>\n",
       "      <td>6</td>\n",
       "      <td>29</td>\n",
       "    </tr>\n",
       "    <tr>\n",
       "      <th>2116059</th>\n",
       "      <td>2017-04-08 20:08:00</td>\n",
       "      <td>2017</td>\n",
       "      <td>4</td>\n",
       "      <td>8</td>\n",
       "    </tr>\n",
       "    <tr>\n",
       "      <th>1244973</th>\n",
       "      <td>2017-05-04 13:24:00</td>\n",
       "      <td>2017</td>\n",
       "      <td>5</td>\n",
       "      <td>4</td>\n",
       "    </tr>\n",
       "  </tbody>\n",
       "</table>\n",
       "</div>"
      ],
      "text/plain": [
       "            dt_publish_date  Year  Month  Day\n",
       "198995  2017-08-15 00:56:00  2017      8   15\n",
       "1862142 2015-08-02 06:21:00  2015      8    2\n",
       "1027580 2017-06-29 23:36:00  2017      6   29\n",
       "2116059 2017-04-08 20:08:00  2017      4    8\n",
       "1244973 2017-05-04 13:24:00  2017      5    4"
      ]
     },
     "execution_count": 70,
     "metadata": {},
     "output_type": "execute_result"
    }
   ],
   "source": [
    "tweets_df[['dt_publish_date', 'Year', 'Month', 'Day']].head()"
   ]
  },
  {
   "cell_type": "markdown",
   "id": "8b4bb459",
   "metadata": {},
   "source": [
    "Pandas bietet spezielle Werkzeuge für die Gruppierung von Daten in verschiedene Zeitsegmente. Dies beinhaltet die Konvertierung einer Zeitserie von einer Ebene in eine andere (z. B. von Tagen in Wochen) und wird als Resampling bezeichnet. Im Rahmen des Resamplings aggregiert das Upsampling Daten/Zeiten und das Downsampling disaggregiert Daten/Zeiten. Nehmen wir ein Upsampling unserer Daten vor, um die Anzahl der Tweets pro Tag darzustellen.  \n",
    "\n",
    "Als Erstes verwenden wir das datetime-Objekt dt_publish_date als Index. Auf diese Weise können wir die Beobachtungen leicht nach dem Datum der Wiederholungsstichprobe gruppieren."
   ]
  },
  {
   "cell_type": "code",
   "execution_count": 71,
   "id": "473a7f7a",
   "metadata": {},
   "outputs": [],
   "source": [
    "tweets_df = tweets_df.set_index('dt_publish_date')"
   ]
  },
  {
   "cell_type": "markdown",
   "id": "25a411c3",
   "metadata": {},
   "source": [
    "Wir können nun die Methode .resample() mit dem Argument D verwenden, um anzugeben, dass wir nach Tagen gruppieren wollen. Tabelle 6.2 enthält einige weitere Optionen, die Sie bei der erneuten Stichprobenziehung von Daten verwenden können."
   ]
  },
  {
   "cell_type": "code",
   "execution_count": null,
   "id": "403d86eb",
   "metadata": {},
   "outputs": [],
   "source": [
    "# B         business day frequency\n",
    "# C         custom business day frequency (experimental)\n",
    "# D         calendar day frequency\n",
    "# W         weekly frequency\n",
    "# M         month end frequency\n",
    "# SM        semi-month end frequency (15th and end of month)\n",
    "# BM        business month end frequency\n",
    "# CBM       custom business month end frequency\n",
    "# MS        month start frequency\n",
    "# SMS       semi-month start frequency (1st and 15th)\n",
    "# BMS       business month start frequency\n",
    "# CBMS      custom business month start frequency\n",
    "# Q         quarter end frequency\n",
    "# BQ        business quarter endfrequency\n",
    "# QS        quarter start frequency\n",
    "# BQS       business quarter start frequency\n",
    "# A         year end frequency\n",
    "# BA, BY    business year end frequency\n",
    "# AS, YS    year start frequency\n",
    "# BAS, BYS  business year start frequency\n",
    "# BH        business hour frequency\n",
    "# H         hourly frequency\n",
    "# T, min    minutely frequency\n",
    "# S         secondly frequency\n",
    "# L, ms     milliseconds\n",
    "# U, us     microseconds\n",
    "# N         nanoseconds"
   ]
  },
  {
   "cell_type": "markdown",
   "id": "49ed56ce",
   "metadata": {},
   "source": [
    "We will also use the .size() method to determine the number of tweets that were produced each day:"
   ]
  },
  {
   "cell_type": "code",
   "execution_count": 108,
   "id": "cfad3b13",
   "metadata": {},
   "outputs": [
    {
     "data": {
      "text/plain": [
       "dt_publish_date\n",
       "2012-02-04    1\n",
       "2012-02-05    0\n",
       "2012-02-06    0\n",
       "2012-02-07    1\n",
       "2012-02-08    1\n",
       "             ..\n",
       "2018-05-26    2\n",
       "2018-05-27    2\n",
       "2018-05-28    1\n",
       "2018-05-29    3\n",
       "2018-05-30    4\n",
       "Freq: D, Length: 2308, dtype: int64"
      ]
     },
     "execution_count": 108,
     "metadata": {},
     "output_type": "execute_result"
    }
   ],
   "source": [
    "grouped_cal_day = tweets_df.resample('D').size() \n",
    "grouped_cal_day"
   ]
  },
  {
   "cell_type": "markdown",
   "id": "bb425508",
   "metadata": {},
   "source": [
    "An dieser Stelle werden wir die Ergebnisse unserer Arbeit mit einem Liniendiagramm visualisieren. Dazu verwenden wir die Pakete Seaborn und Matplotlib, die wir im nächsten Kapitel besprechen werden. Konzentrieren Sie sich erst einmal auf die Visualisierung und ignorieren Sie den Code. Die folgenden Codeblöcke erzeugen die Abbildungen 6.1 und 6.2."
   ]
  },
  {
   "cell_type": "code",
   "execution_count": 117,
   "id": "085ab58f",
   "metadata": {},
   "outputs": [
    {
     "data": {
      "image/png": "[encoded data removed]",
      "text/plain": [
       "<Figure size 640x480 with 1 Axes>"
      ]
     },
     "metadata": {},
     "output_type": "display_data"
    }
   ],
   "source": [
    "import seaborn as sns \n",
    "import matplotlib.pyplot as plt \n",
    "\n",
    "sns.lineplot(data=grouped_cal_day, color='#32363A') \n",
    "sns.despine() \n",
    "plt.show()"
   ]
  },
  {
   "cell_type": "markdown",
   "id": "fd93af6b",
   "metadata": {},
   "source": [
    "Die Darstellung ist viel übersichtlicher, wenn wir auf der Ebene der Wochen statt der Tage zählen."
   ]
  },
  {
   "cell_type": "code",
   "execution_count": 118,
   "id": "44478d9b",
   "metadata": {},
   "outputs": [
    {
     "data": {
      "text/plain": [
       "dt_publish_date\n",
       "2012-02-05    1\n",
       "2012-02-12    2\n",
       "2012-02-19    0\n",
       "2012-02-26    1\n",
       "2012-03-04    0\n",
       "Freq: W-SUN, dtype: int64"
      ]
     },
     "execution_count": 118,
     "metadata": {},
     "output_type": "execute_result"
    }
   ],
   "source": [
    "weekly = tweets_df.resample('W').size() \n",
    "weekly.head()"
   ]
  },
  {
   "cell_type": "code",
   "execution_count": 119,
   "id": "a615e794",
   "metadata": {},
   "outputs": [
    {
     "data": {
      "image/png": "[encoded data removed]",
      "text/plain": [
       "<Figure size 640x480 with 1 Axes>"
      ]
     },
     "metadata": {},
     "output_type": "display_data"
    }
   ],
   "source": [
    "ax = sns.lineplot(data=weekly, color='#32363A') \n",
    "ax.set_xlabel('\\nWeekly observations') \n",
    "ax.set_ylabel('Number of tweets\\n') \n",
    "sns.despine() \n",
    "plt.show()"
   ]
  },
  {
   "cell_type": "code",
   "execution_count": null,
   "id": "47b33641",
   "metadata": {},
   "outputs": [],
   "source": []
  },
  {
   "cell_type": "markdown",
   "id": "d4ad55fc",
   "metadata": {},
   "source": [
    "## Kombinierung von DataFrames"
   ]
  },
  {
   "cell_type": "markdown",
   "id": "da09d8f8",
   "metadata": {},
   "source": [
    "Das Kombinieren von dataframes ist eine sehr häufige Aufgabe. Auch wenn es nicht offensichtlich erscheint, ist das Kombinieren von Datensätzen eine der wertvollsten Fähigkeiten, die man in der rechnergestützten Sozialwissenschaft haben kann. Im Folgenden werden einige der gebräuchlichsten Ansätze betrachtet, nämlich die Verkettung und Zusammenführung, und es wird kurz eine fortgeschrittenere Reihe von Methoden beschrieben, die gemeinhin als Datensatzverknüpfung bezeichnet werden.  \n",
    "\n",
    "Die Verkettung eines dataframes ist konzeptionell recht einfach - stellen Sie sich vor, Sie hängen die Zeilen oder Spalten eines dataframes unter oder rechts von der letzten Zeile oder Spalte eines anderen dataframes an. Damit dies sinnvoll ist, sollten die beiden dataframes mindestens eine Zeile oder Spalte gemeinsam haben."
   ]
  },
  {
   "cell_type": "code",
   "execution_count": 120,
   "id": "ee737f11",
   "metadata": {},
   "outputs": [
    {
     "data": {
      "text/plain": [
       "120"
      ]
     },
     "execution_count": 120,
     "metadata": {},
     "output_type": "execute_result"
    }
   ],
   "source": [
    "full_df = pd.read_csv(\"../data/vdem/filtered_subset.csv\") \n",
    "df_australia = full_df.query(\"country_name == 'Australia'\") \n",
    "len(df_australia)"
   ]
  },
  {
   "cell_type": "code",
   "execution_count": 121,
   "id": "3a9447a1",
   "metadata": {},
   "outputs": [
    {
     "data": {
      "text/plain": [
       "120"
      ]
     },
     "execution_count": 121,
     "metadata": {},
     "output_type": "execute_result"
    }
   ],
   "source": [
    "df_sa = full_df.query(\"country_name == 'South Africa'\") \n",
    "len(df_sa)"
   ]
  },
  {
   "cell_type": "markdown",
   "id": "6c5f66fd",
   "metadata": {},
   "source": [
    "Standardmäßig führt pd.concat() eine zeilenweise Verknüpfung durch, die als Achse=0 bezeichnet wird. Diese Vorgabe kann durch die Angabe von Achse=1 außer Kraft gesetzt werden, wodurch eine spaltenweise Verknüpfung erfolgt:"
   ]
  },
  {
   "cell_type": "code",
   "execution_count": 122,
   "id": "fb42f695",
   "metadata": {},
   "outputs": [
    {
     "data": {
      "text/plain": [
       "240"
      ]
     },
     "execution_count": 122,
     "metadata": {},
     "output_type": "execute_result"
    }
   ],
   "source": [
    "concatenated = pd.concat([df_australia, df_sa], axis=1)\n",
    "len(concatenated)"
   ]
  },
  {
   "cell_type": "markdown",
   "id": "9040f408",
   "metadata": {},
   "source": [
    "Wenn wir die beiden dataframes verketten, bleibt die Anzahl der Spalten gleich, aber die Anzahl der Zeilen erhöht sich, da die Zeilen in beiden ursprünglichen dataframes berücksichtigt werden. Normalerweise würde diese Art der Verkettung zu einer unterschiedlichen Anzahl von Spalten führen, aber in diesem Fall hatten die beiden Dataframes, die wir zusammengefügt haben, genau die gleichen Spalten (was sinnvoll ist, da sie beide aus demselben übergeordneten Dataframe extrahiert wurden)."
   ]
  },
  {
   "cell_type": "markdown",
   "id": "e4dff2ed",
   "metadata": {},
   "source": [
    "### Merging"
   ]
  },
  {
   "cell_type": "markdown",
   "id": "b7c870e4",
   "metadata": {},
   "source": [
    "Eine andere Möglichkeit, Datensätze zu kombinieren, ist ihre Zusammenführung. Wenn Sie einen dataframe erstellen möchten, der Spalten aus mehreren Datensätzen enthält, aber in den Zeilen nach einer bestimmten Spalte (oder einem Satz von Spalten) ausgerichtet ist, sollten Sie die Funktion merge() verwenden. Um dies zu veranschaulichen, werden wir mit Daten aus zwei verschiedenen Quellen arbeiten. Die erste Quelle sind die VDEM-Daten, die wir im ersten Teil dieses Kapitels verwendet haben (fsdf). Die zweite ist ein Datensatz von Freedom House über den Grad der Internetfreiheit in 65 Ländern. Weitere Informationen finden Sie unter https://freedomhouse.org/countries/freedom-net/scores."
   ]
  },
  {
   "cell_type": "code",
   "execution_count": 75,
   "id": "ee20080f",
   "metadata": {},
   "outputs": [],
   "source": [
    "freedom_df = pd.read_csv( \"../data/freedom_house/internet_freedoms_2020.csv\")"
   ]
  },
  {
   "cell_type": "markdown",
   "id": "bf008504",
   "metadata": {},
   "source": [
    "Um diese dataframes zusammenzuführen, müssen wir eine Spalte finden, mit der wir die Zeilen des einen dataframes mit den Zeilen des anderen abgleichen können. Die Spalten müssen nicht den gleichen Namen haben, sondern nur Werte, die einander zugeordnet werden können. Die von uns gewählten Spalten werden in unserer Zusammenführung als \"Schlüssel\" bezeichnet. In unserem Fall sind dies die Spalten mit den Ländernamen aus jedem Datensatz."
   ]
  },
  {
   "cell_type": "code",
   "execution_count": 125,
   "id": "137b34cb",
   "metadata": {},
   "outputs": [
    {
     "data": {
      "text/plain": [
       "['country_name',\n",
       " 'country_text_id',\n",
       " 'e_regiongeo',\n",
       " 'year',\n",
       " 'v2x_polyarchy',\n",
       " 'v2x_libdem',\n",
       " 'v2x_partipdem',\n",
       " 'v2x_delibdem',\n",
       " 'v2x_egaldem',\n",
       " 'v2smprivex',\n",
       " 'v2smpolsoc',\n",
       " 'v2caviol',\n",
       " 'e_boix_regime',\n",
       " '21 Century',\n",
       " 'missing_political_violence_data',\n",
       " 'Region']"
      ]
     },
     "execution_count": 125,
     "metadata": {},
     "output_type": "execute_result"
    }
   ],
   "source": [
    "list(fsdf.columns)"
   ]
  },
  {
   "cell_type": "code",
   "execution_count": 127,
   "id": "634c9656",
   "metadata": {},
   "outputs": [
    {
     "data": {
      "text/plain": [
       "['Country',\n",
       " 'Total Score',\n",
       " 'Status',\n",
       " 'Obstacles to Access',\n",
       " 'Limits on Content',\n",
       " 'Violations of User Rights']"
      ]
     },
     "execution_count": 127,
     "metadata": {},
     "output_type": "execute_result"
    }
   ],
   "source": [
    "list(freedom_df.columns)"
   ]
  },
  {
   "cell_type": "markdown",
   "id": "f6616081",
   "metadata": {},
   "source": [
    "Wir verwenden die Funktion \"Zusammenführen\", um diese beiden dataframes mit \"country_name\" und \"Country\" zu kombinieren. Wir führen einen inner-join durch, was der Standard ist, wenn die Option nicht gesetzt ist, und behalten nur die Schlüssel (d. h. Länder), die in beiden dataframes erscheinen:"
   ]
  },
  {
   "cell_type": "code",
   "execution_count": 128,
   "id": "b39f8725",
   "metadata": {},
   "outputs": [],
   "source": [
    "merged = pd.merge(fsdf, freedom_df, how='inner', \n",
    "                  left_on='country_name', right_on='Country')"
   ]
  },
  {
   "cell_type": "code",
   "execution_count": 129,
   "id": "fb938849",
   "metadata": {},
   "outputs": [
    {
     "name": "stdout",
     "output_type": "stream",
     "text": [
      "merged has 6434 rows and 22 columns\n"
     ]
    }
   ],
   "source": [
    "print('merged has {} rows and {} columns'.format(len(merged), len(merged.columns)))"
   ]
  },
  {
   "cell_type": "code",
   "execution_count": 131,
   "id": "6025ed42",
   "metadata": {},
   "outputs": [
    {
     "data": {
      "text/plain": [
       "(18787, 65)"
      ]
     },
     "execution_count": 131,
     "metadata": {},
     "output_type": "execute_result"
    }
   ],
   "source": [
    "len(fsdf), len(freedom_df)"
   ]
  },
  {
   "cell_type": "markdown",
   "id": "eab0ab80",
   "metadata": {},
   "source": [
    "Sie sollten fünf neue Spalten in dem zusammengeführten dataframe im Vergleich zu dem fsdf-Dataframe sehen. Beachten Sie, wie viele Zeilen jeder der beiden dataframes hat: viel weniger Zeilen als der ursprüngliche VDEM dataframe, aber viel mehr als der Freedom House dataframe. Wenn also in unserem Fall das Land einer Zeile in dem anderen Datensatz nicht vorkommt, wird diese Zeile nicht in den zusammengeführten dataframe aufgenommen.  \n",
    "\n",
    "Dies kann mit dem Parameter how angepasst werden. Es gibt fünf Möglichkeiten, dataframes in Pandas zusammenzuführen: left, right, outer, inner und cross. In der Dokumentation können Sie nachlesen, wie die anderen vier Methoden funktionieren.  "
   ]
  }
 ],
 "metadata": {
  "kernelspec": {
   "display_name": "Python 3 (ipykernel)",
   "language": "python",
   "name": "python3"
  },
  "language_info": {
   "codemirror_mode": {
    "name": "ipython",
    "version": 3
   },
   "file_extension": ".py",
   "mimetype": "text/x-python",
   "name": "python",
   "nbconvert_exporter": "python",
   "pygments_lexer": "ipython3",
   "version": "3.8.16"
  }
 },
 "nbformat": 4,
 "nbformat_minor": 5
}
