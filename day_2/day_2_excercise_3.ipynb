{
 "cells": [
  {
   "cell_type": "markdown",
   "id": "4c32986e",
   "metadata": {},
   "source": [
    "# Tag 2 - Übung 3"
   ]
  },
  {
   "cell_type": "code",
   "execution_count": null,
   "id": "d46b07d0",
   "metadata": {},
   "outputs": [],
   "source": [
    "import pandas as pd"
   ]
  },
  {
   "cell_type": "code",
   "execution_count": null,
   "id": "eed71397",
   "metadata": {},
   "outputs": [],
   "source": [
    "tweets_df = pd.read_csv('../data/tweets.csv', low_memory=False)"
   ]
  },
  {
   "cell_type": "code",
   "execution_count": null,
   "id": "0798252e",
   "metadata": {},
   "outputs": [],
   "source": [
    "tweets_df.info()"
   ]
  },
  {
   "cell_type": "markdown",
   "id": "e7c8818c",
   "metadata": {},
   "source": [
    "**Aufgabe 1:** Welcher Autor hat die meisten Tweets abgesendet?"
   ]
  },
  {
   "cell_type": "code",
   "execution_count": null,
   "id": "62048d06",
   "metadata": {},
   "outputs": [],
   "source": []
  },
  {
   "cell_type": "code",
   "execution_count": null,
   "id": "0e55917a",
   "metadata": {},
   "outputs": [],
   "source": []
  },
  {
   "cell_type": "markdown",
   "id": "e273996a",
   "metadata": {},
   "source": [
    "**Aufgabe 2:** Verwandeln Sie `publish_date` und `harvest_date` in eine Datumsvariable."
   ]
  },
  {
   "cell_type": "code",
   "execution_count": null,
   "id": "bc942bbe",
   "metadata": {},
   "outputs": [],
   "source": []
  },
  {
   "cell_type": "markdown",
   "id": "12b845ca",
   "metadata": {},
   "source": [
    "**Aufgabe 3**: Setzen Sie `publish_date` als index."
   ]
  },
  {
   "cell_type": "code",
   "execution_count": null,
   "id": "24e47fe3",
   "metadata": {},
   "outputs": [],
   "source": []
  },
  {
   "cell_type": "markdown",
   "id": "a00bd089",
   "metadata": {},
   "source": [
    "**Aufgabe 4:** An welchem Tag hat der Autor mit den meisten Tweets seine meisten Tweets abgesendet?"
   ]
  },
  {
   "cell_type": "code",
   "execution_count": null,
   "id": "1ee5da53",
   "metadata": {},
   "outputs": [],
   "source": []
  },
  {
   "cell_type": "markdown",
   "id": "3690dd2d",
   "metadata": {},
   "source": [
    "**Aufgabe 5:** Erstellen Sie eine neue Spalte (`tweets_len`) in tweets_df in der Sie jeweils die Länge der tweets speichern. Benutzen Sie dafür eine List comprehension."
   ]
  },
  {
   "cell_type": "code",
   "execution_count": null,
   "id": "69471d3b",
   "metadata": {},
   "outputs": [],
   "source": []
  },
  {
   "cell_type": "markdown",
   "id": "c7f94668",
   "metadata": {},
   "source": [
    "**Aufgabe 6**: Berechnen Sie die durschnittliche Länge eines Tweets, die Standardabweichung sowie min und max für die Tweets des Autors mit den meisten Tweets."
   ]
  },
  {
   "cell_type": "code",
   "execution_count": null,
   "id": "b65d937c",
   "metadata": {},
   "outputs": [],
   "source": []
  },
  {
   "cell_type": "markdown",
   "id": "b1cd596b",
   "metadata": {},
   "source": [
    "**Aufgabe 7.1:** Speichern Sie alle Tweets des Autors 'EXQUOTE' in `tweets_df_EXQUOTE`."
   ]
  },
  {
   "cell_type": "code",
   "execution_count": null,
   "id": "1878a88f",
   "metadata": {},
   "outputs": [],
   "source": []
  },
  {
   "cell_type": "markdown",
   "id": "1ad7711a",
   "metadata": {},
   "source": [
    "**Aufgabe 7.2:** Speichern Sie den content der Tweets in `tweets_content`."
   ]
  },
  {
   "cell_type": "code",
   "execution_count": null,
   "id": "730657f2",
   "metadata": {},
   "outputs": [],
   "source": []
  },
  {
   "cell_type": "markdown",
   "id": "a33e0933",
   "metadata": {},
   "source": [
    "**Aufgabe 7.3:** Verwandeln Sie alle Buchstaben in tweets_content ind Kleinbuchstaben mittels einer list comprehension und weisen Sie diese Werte `tweets_clean` zu."
   ]
  },
  {
   "cell_type": "code",
   "execution_count": null,
   "id": "ae397b5d",
   "metadata": {},
   "outputs": [],
   "source": []
  },
  {
   "cell_type": "markdown",
   "id": "29db16da",
   "metadata": {},
   "source": [
    "**Aufgabe 7.4:** Joinen Sie alle Tweets in `tweets_clean` in einen string und weisen Sie diesen String der Variable `tweets_clean_all` zu."
   ]
  },
  {
   "cell_type": "code",
   "execution_count": null,
   "id": "7d39c1eb",
   "metadata": {},
   "outputs": [],
   "source": []
  },
  {
   "cell_type": "markdown",
   "id": "dea52ecd",
   "metadata": {},
   "source": [
    "**Aufgabe 7.5:** Splitten Sie `tweets_clean_all` nach jedem Wort und wandeln Sie das Resultat in eine pd.Series() um. Weisen das Resultat der Variable `tweets_clean_all_s` zu."
   ]
  },
  {
   "cell_type": "code",
   "execution_count": null,
   "id": "22cdd002",
   "metadata": {},
   "outputs": [],
   "source": []
  },
  {
   "cell_type": "markdown",
   "id": "65af9a73",
   "metadata": {},
   "source": [
    "**Aufgabe 7.5:** Welche Worte verwendet der Author EXQUOTE am häufigsten? Verwenden Sie hierführ die `.value_counts()` Methode. Lassen Sie sich 30 häufigsten Begriffe ausgeben."
   ]
  },
  {
   "cell_type": "code",
   "execution_count": null,
   "id": "4ebc0b14",
   "metadata": {},
   "outputs": [],
   "source": []
  }
 ],
 "metadata": {
  "kernelspec": {
   "display_name": "Python 3 (ipykernel)",
   "language": "python",
   "name": "python3"
  },
  "language_info": {
   "codemirror_mode": {
    "name": "ipython",
    "version": 3
   },
   "file_extension": ".py",
   "mimetype": "text/x-python",
   "name": "python",
   "nbconvert_exporter": "python",
   "pygments_lexer": "ipython3",
   "version": "3.8.16"
  }
 },
 "nbformat": 4,
 "nbformat_minor": 5
}
