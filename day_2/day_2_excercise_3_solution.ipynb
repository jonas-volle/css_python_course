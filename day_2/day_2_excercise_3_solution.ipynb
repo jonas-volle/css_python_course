{
 "cells": [
  {
   "cell_type": "markdown",
   "id": "4c32986e",
   "metadata": {},
   "source": [
    "# Tag 2 - Übung 3"
   ]
  },
  {
   "cell_type": "code",
   "execution_count": 2,
   "id": "d46b07d0",
   "metadata": {},
   "outputs": [],
   "source": [
    "import pandas as pd"
   ]
  },
  {
   "cell_type": "code",
   "execution_count": 41,
   "id": "eed71397",
   "metadata": {},
   "outputs": [],
   "source": [
    "tweets_df = pd.read_csv('../data/tweets.csv', low_memory=False)"
   ]
  },
  {
   "cell_type": "code",
   "execution_count": 42,
   "id": "0798252e",
   "metadata": {},
   "outputs": [
    {
     "name": "stdout",
     "output_type": "stream",
     "text": [
      "<class 'pandas.core.frame.DataFrame'>\n",
      "RangeIndex: 736552 entries, 0 to 736551\n",
      "Data columns (total 21 columns):\n",
      " #   Column              Non-Null Count   Dtype \n",
      "---  ------              --------------   ----- \n",
      " 0   external_author_id  736552 non-null  object\n",
      " 1   author              736552 non-null  object\n",
      " 2   content             736552 non-null  object\n",
      " 3   region              734245 non-null  object\n",
      " 4   language            736552 non-null  object\n",
      " 5   publish_date        736552 non-null  object\n",
      " 6   harvested_date      736552 non-null  object\n",
      " 7   following           736552 non-null  int64 \n",
      " 8   followers           736552 non-null  int64 \n",
      " 9   updates             736552 non-null  int64 \n",
      " 10  post_type           324356 non-null  object\n",
      " 11  account_type        736552 non-null  object\n",
      " 12  retweet             736552 non-null  int64 \n",
      " 13  account_category    736552 non-null  object\n",
      " 14  new_june_2018       736552 non-null  int64 \n",
      " 15  alt_external_id     736552 non-null  object\n",
      " 16  tweet_id            736552 non-null  int64 \n",
      " 17  article_url         736552 non-null  object\n",
      " 18  tco1_step1          525962 non-null  object\n",
      " 19  tco2_step1          178172 non-null  object\n",
      " 20  tco3_step1          3682 non-null    object\n",
      "dtypes: int64(6), object(15)\n",
      "memory usage: 118.0+ MB\n"
     ]
    }
   ],
   "source": [
    "tweets_df.info()"
   ]
  },
  {
   "cell_type": "markdown",
   "id": "e7c8818c",
   "metadata": {},
   "source": [
    "**Aufgabe 1:** Welcher Autor hat die meisten Tweets abgesendet?"
   ]
  },
  {
   "cell_type": "code",
   "execution_count": 43,
   "id": "62048d06",
   "metadata": {},
   "outputs": [
    {
     "data": {
      "text/plain": [
       "author\n",
       "EXQUOTE            14872\n",
       "SCREAMYMONKEY      11003\n",
       "WORLDNEWSPOLI       8813\n",
       "AMELIEBALDWIN       8744\n",
       "TODAYPITTSBURGH     8382\n",
       "                   ...  \n",
       "MARKOSVINES            1\n",
       "CLAUDIXX59             1\n",
       "MARLA_XTIAN            1\n",
       "TOGANSHIN              1\n",
       "VICTORIAMAX45          1\n",
       "Length: 2741, dtype: int64"
      ]
     },
     "execution_count": 43,
     "metadata": {},
     "output_type": "execute_result"
    }
   ],
   "source": [
    "tweets_df.groupby('author').size().sort_values(ascending=False)"
   ]
  },
  {
   "cell_type": "code",
   "execution_count": null,
   "id": "0e55917a",
   "metadata": {},
   "outputs": [],
   "source": []
  },
  {
   "cell_type": "markdown",
   "id": "e273996a",
   "metadata": {},
   "source": [
    "**Aufgabe 2:** Verwandeln Sie `publish_date` und `harvest_date` in eine Datumsvariable."
   ]
  },
  {
   "cell_type": "code",
   "execution_count": 44,
   "id": "bc942bbe",
   "metadata": {},
   "outputs": [],
   "source": [
    "tweets_df['publish_date'] = pd.to_datetime(tweets_df['publish_date']) \n",
    "tweets_df['harvested_date'] = pd.to_datetime(tweets_df['harvested_date'])"
   ]
  },
  {
   "cell_type": "markdown",
   "id": "12b845ca",
   "metadata": {},
   "source": [
    "**Aufgabe 3**: Setzen Sie `publish_date` als index."
   ]
  },
  {
   "cell_type": "code",
   "execution_count": 16,
   "id": "24e47fe3",
   "metadata": {},
   "outputs": [],
   "source": [
    "tweets_df = tweets_df.set_index('publish_date')"
   ]
  },
  {
   "cell_type": "markdown",
   "id": "a00bd089",
   "metadata": {},
   "source": [
    "**Aufgabe 4:** An welchem Tag hat der Autor mit den meisten Tweets seine meisten Tweets abgesendet?"
   ]
  },
  {
   "cell_type": "code",
   "execution_count": 22,
   "id": "1ee5da53",
   "metadata": {},
   "outputs": [
    {
     "data": {
      "text/plain": [
       "publish_date\n",
       "2015-07-14    537\n",
       "2015-08-20    523\n",
       "2015-07-11    509\n",
       "2015-07-27    506\n",
       "2015-08-27    501\n",
       "2015-07-13    496\n",
       "2015-07-15    495\n",
       "2015-08-19    484\n",
       "2015-08-17    483\n",
       "2015-07-12    474\n",
       "2015-08-25    473\n",
       "2015-08-15    464\n",
       "2015-08-28    461\n",
       "2015-08-30    456\n",
       "2015-08-24    447\n",
       "2015-08-16    432\n",
       "2015-08-29    416\n",
       "2015-08-18    394\n",
       "2015-07-10    387\n",
       "2015-07-31    369\n",
       "2015-07-09    350\n",
       "2015-08-22    321\n",
       "2015-07-25    318\n",
       "2015-08-04    317\n",
       "2015-08-05    301\n",
       "2015-07-24    294\n",
       "2015-07-30    286\n",
       "2015-08-06    286\n",
       "2015-08-31    284\n",
       "2015-07-19    271\n",
       "2015-07-18    262\n",
       "2015-08-03    261\n",
       "2015-07-29    256\n",
       "2015-07-23    247\n",
       "2015-07-16    196\n",
       "2015-08-21    191\n",
       "2015-07-26    181\n",
       "2015-08-14    169\n",
       "2015-07-28    144\n",
       "2015-07-20    141\n",
       "2015-08-23    139\n",
       "2015-08-01    128\n",
       "2015-08-07    101\n",
       "2015-08-02     82\n",
       "2015-08-12     26\n",
       "2015-08-26     13\n",
       "2015-08-09      0\n",
       "2015-08-08      0\n",
       "2015-08-13      0\n",
       "2015-08-11      0\n",
       "2015-07-22      0\n",
       "2015-07-21      0\n",
       "2015-07-17      0\n",
       "2015-08-10      0\n",
       "dtype: int64"
      ]
     },
     "execution_count": 22,
     "metadata": {},
     "output_type": "execute_result"
    }
   ],
   "source": [
    "tweets_df[tweets_df.author == 'EXQUOTE'].resample('D').size().sort_values(ascending=False)"
   ]
  },
  {
   "cell_type": "markdown",
   "id": "3690dd2d",
   "metadata": {},
   "source": [
    "**Aufgabe 5:** Erstellen Sie eine neue Spalte (`tweets_len`) in tweets_df in der Sie jeweils die Länge der tweets speichern. Benutzen Sie dafür eine List comprehension."
   ]
  },
  {
   "cell_type": "code",
   "execution_count": 24,
   "id": "69471d3b",
   "metadata": {},
   "outputs": [],
   "source": [
    "tweets_df['content_len'] = [len(i) for i in tweets_df.content]"
   ]
  },
  {
   "cell_type": "markdown",
   "id": "c7f94668",
   "metadata": {},
   "source": [
    "**Aufgabe 6**: Berechnen Sie die durschnittliche Länge eines Tweets, die Standardabweichung sowie min und max für die Tweets des Autors mit den meisten Tweets."
   ]
  },
  {
   "cell_type": "code",
   "execution_count": 29,
   "id": "b65d937c",
   "metadata": {},
   "outputs": [
    {
     "data": {
      "text/plain": [
       "mean    134.391676\n",
       "std       5.449159\n",
       "min      69.000000\n",
       "max     147.000000\n",
       "Name: content_len, dtype: float64"
      ]
     },
     "execution_count": 29,
     "metadata": {},
     "output_type": "execute_result"
    }
   ],
   "source": [
    "tweets_df[tweets_df.author == 'EXQUOTE']['content_len'].agg(['mean', 'std', 'min', 'max'])"
   ]
  },
  {
   "cell_type": "markdown",
   "id": "b1cd596b",
   "metadata": {},
   "source": [
    "**Aufgabe 7.1:** Speichern Sie alle Tweets des Autors 'EXQUOTE' in `tweets_df_EXQUOTE`."
   ]
  },
  {
   "cell_type": "code",
   "execution_count": 47,
   "id": "1878a88f",
   "metadata": {},
   "outputs": [],
   "source": [
    "tweets_df_EXQUOTE = tweets_df[tweets_df.author == 'EXQUOTE']"
   ]
  },
  {
   "cell_type": "markdown",
   "id": "1ad7711a",
   "metadata": {},
   "source": [
    "**Aufgabe 7.2:** Speichern Sie den content der Tweets in `tweets_content`."
   ]
  },
  {
   "cell_type": "code",
   "execution_count": 66,
   "id": "730657f2",
   "metadata": {},
   "outputs": [],
   "source": [
    "tweets_content = tweets_df_EXQUOTE['content']"
   ]
  },
  {
   "cell_type": "markdown",
   "id": "a33e0933",
   "metadata": {},
   "source": [
    "**Aufgabe 7.3:** Verwandeln Sie alle Buchstaben in tweets_content ind Kleinbuchstaben mittels einer list comprehension und weisen Sie diese Werte `tweets_clean` zu."
   ]
  },
  {
   "cell_type": "code",
   "execution_count": 67,
   "id": "ae397b5d",
   "metadata": {},
   "outputs": [],
   "source": [
    "tweets_clean = [tweet.lower() for tweet in tweets_content]"
   ]
  },
  {
   "cell_type": "markdown",
   "id": "29db16da",
   "metadata": {},
   "source": [
    "**Aufgabe 7.4:** Joinen Sie alle Tweets in `tweets_clean` in einen string und weisen Sie diesen String der Variable `tweets_clean_all` zu."
   ]
  },
  {
   "cell_type": "code",
   "execution_count": 68,
   "id": "7d39c1eb",
   "metadata": {},
   "outputs": [],
   "source": [
    "tweets_clean_all = ' '.join(tweets_clean)"
   ]
  },
  {
   "cell_type": "markdown",
   "id": "dea52ecd",
   "metadata": {},
   "source": [
    "**Aufgabe 7.5:** Splitten Sie `tweets_clean_all` nach jedem Wort und wandeln Sie das Resultat in eine pd.Series() um. Weisen das Resultat der Variable `tweets_clean_all_s` zu."
   ]
  },
  {
   "cell_type": "code",
   "execution_count": 71,
   "id": "22cdd002",
   "metadata": {},
   "outputs": [],
   "source": [
    "tweets_clean_all_s = pd.Series(tweets_clean_all.split())"
   ]
  },
  {
   "cell_type": "markdown",
   "id": "65af9a73",
   "metadata": {},
   "source": [
    "**Aufgabe 7.5:** Welche Worte verwendet der Author EXQUOTE am häufigsten? Verwenden Sie hierführ die `.value_counts()` Methode. Lassen Sie sich 30 häufigsten Begriffe ausgeben."
   ]
  },
  {
   "cell_type": "code",
   "execution_count": 73,
   "id": "4ebc0b14",
   "metadata": {},
   "outputs": [
    {
     "data": {
      "text/plain": [
       "workout     4336\n",
       "i           1821\n",
       "to          1741\n",
       "a           1604\n",
       "exercise    1359\n",
       "the         1193\n",
       "my           894\n",
       "is           635\n",
       "and          627\n",
       "weight       575\n",
       "in           556\n",
       "you          549\n",
       "for          495\n",
       "good         477\n",
       "this         461\n",
       "that         452\n",
       "me           452\n",
       "lose         449\n",
       "need         444\n",
       "of           397\n",
       "??           393\n",
       "?            390\n",
       "with         354\n",
       "get          348\n",
       "so           348\n",
       "i'm          337\n",
       "just         293\n",
       "go           291\n",
       "after        287\n",
       "do           278\n",
       "Name: count, dtype: int64"
      ]
     },
     "execution_count": 73,
     "metadata": {},
     "output_type": "execute_result"
    }
   ],
   "source": [
    "tweets_clean_all_s.value_counts().head(30)"
   ]
  }
 ],
 "metadata": {
  "kernelspec": {
   "display_name": "Python 3 (ipykernel)",
   "language": "python",
   "name": "python3"
  },
  "language_info": {
   "codemirror_mode": {
    "name": "ipython",
    "version": 3
   },
   "file_extension": ".py",
   "mimetype": "text/x-python",
   "name": "python",
   "nbconvert_exporter": "python",
   "pygments_lexer": "ipython3",
   "version": "3.8.16"
  }
 },
 "nbformat": 4,
 "nbformat_minor": 5
}
