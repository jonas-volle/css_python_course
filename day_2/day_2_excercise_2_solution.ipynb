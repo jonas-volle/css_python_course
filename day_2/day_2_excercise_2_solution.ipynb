{
 "cells": [
  {
   "cell_type": "markdown",
   "id": "4c32986e",
   "metadata": {},
   "source": [
    "# Tag 2 - Übung 2"
   ]
  },
  {
   "cell_type": "code",
   "execution_count": 1,
   "id": "d46b07d0",
   "metadata": {},
   "outputs": [],
   "source": [
    "import pandas as pd"
   ]
  },
  {
   "cell_type": "markdown",
   "id": "a7fdf7af",
   "metadata": {},
   "source": [
    "**Aufgabe 1:** Laden Sie die csv Datei sdf_ger.csv und speichern Sie diese in `sdf`. Schauen Sie sich die ersten 7 Zeilen an."
   ]
  },
  {
   "cell_type": "code",
   "execution_count": 3,
   "id": "b47ddb31",
   "metadata": {},
   "outputs": [
    {
     "data": {
      "text/html": [
       "<div>\n",
       "<style scoped>\n",
       "    .dataframe tbody tr th:only-of-type {\n",
       "        vertical-align: middle;\n",
       "    }\n",
       "\n",
       "    .dataframe tbody tr th {\n",
       "        vertical-align: top;\n",
       "    }\n",
       "\n",
       "    .dataframe thead th {\n",
       "        text-align: right;\n",
       "    }\n",
       "</style>\n",
       "<table border=\"1\" class=\"dataframe\">\n",
       "  <thead>\n",
       "    <tr style=\"text-align: right;\">\n",
       "      <th></th>\n",
       "      <th>country_name</th>\n",
       "      <th>country_text_id</th>\n",
       "      <th>e_regiongeo</th>\n",
       "      <th>year</th>\n",
       "      <th>v2x_polyarchy</th>\n",
       "      <th>v2x_libdem</th>\n",
       "      <th>v2x_partipdem</th>\n",
       "      <th>v2x_delibdem</th>\n",
       "      <th>v2x_egaldem</th>\n",
       "    </tr>\n",
       "  </thead>\n",
       "  <tbody>\n",
       "    <tr>\n",
       "      <th>0</th>\n",
       "      <td>Germany</td>\n",
       "      <td>DEU</td>\n",
       "      <td>1</td>\n",
       "      <td>1900</td>\n",
       "      <td>0.243</td>\n",
       "      <td>0.221</td>\n",
       "      <td>0.166</td>\n",
       "      <td>0.191</td>\n",
       "      <td>0.185</td>\n",
       "    </tr>\n",
       "    <tr>\n",
       "      <th>1</th>\n",
       "      <td>Germany</td>\n",
       "      <td>DEU</td>\n",
       "      <td>1</td>\n",
       "      <td>1901</td>\n",
       "      <td>0.242</td>\n",
       "      <td>0.222</td>\n",
       "      <td>0.167</td>\n",
       "      <td>0.190</td>\n",
       "      <td>0.176</td>\n",
       "    </tr>\n",
       "    <tr>\n",
       "      <th>2</th>\n",
       "      <td>Germany</td>\n",
       "      <td>DEU</td>\n",
       "      <td>1</td>\n",
       "      <td>1902</td>\n",
       "      <td>0.250</td>\n",
       "      <td>0.222</td>\n",
       "      <td>0.168</td>\n",
       "      <td>0.171</td>\n",
       "      <td>0.172</td>\n",
       "    </tr>\n",
       "    <tr>\n",
       "      <th>3</th>\n",
       "      <td>Germany</td>\n",
       "      <td>DEU</td>\n",
       "      <td>1</td>\n",
       "      <td>1903</td>\n",
       "      <td>0.245</td>\n",
       "      <td>0.219</td>\n",
       "      <td>0.169</td>\n",
       "      <td>0.177</td>\n",
       "      <td>0.171</td>\n",
       "    </tr>\n",
       "    <tr>\n",
       "      <th>4</th>\n",
       "      <td>Germany</td>\n",
       "      <td>DEU</td>\n",
       "      <td>1</td>\n",
       "      <td>1904</td>\n",
       "      <td>0.256</td>\n",
       "      <td>0.216</td>\n",
       "      <td>0.178</td>\n",
       "      <td>0.183</td>\n",
       "      <td>0.172</td>\n",
       "    </tr>\n",
       "    <tr>\n",
       "      <th>5</th>\n",
       "      <td>Germany</td>\n",
       "      <td>DEU</td>\n",
       "      <td>1</td>\n",
       "      <td>1905</td>\n",
       "      <td>0.253</td>\n",
       "      <td>0.210</td>\n",
       "      <td>0.176</td>\n",
       "      <td>0.181</td>\n",
       "      <td>0.172</td>\n",
       "    </tr>\n",
       "    <tr>\n",
       "      <th>6</th>\n",
       "      <td>Germany</td>\n",
       "      <td>DEU</td>\n",
       "      <td>1</td>\n",
       "      <td>1906</td>\n",
       "      <td>0.240</td>\n",
       "      <td>0.212</td>\n",
       "      <td>0.164</td>\n",
       "      <td>0.175</td>\n",
       "      <td>0.173</td>\n",
       "    </tr>\n",
       "  </tbody>\n",
       "</table>\n",
       "</div>"
      ],
      "text/plain": [
       "  country_name country_text_id  e_regiongeo  year  v2x_polyarchy  v2x_libdem   \n",
       "0      Germany             DEU            1  1900          0.243       0.221  \\\n",
       "1      Germany             DEU            1  1901          0.242       0.222   \n",
       "2      Germany             DEU            1  1902          0.250       0.222   \n",
       "3      Germany             DEU            1  1903          0.245       0.219   \n",
       "4      Germany             DEU            1  1904          0.256       0.216   \n",
       "5      Germany             DEU            1  1905          0.253       0.210   \n",
       "6      Germany             DEU            1  1906          0.240       0.212   \n",
       "\n",
       "   v2x_partipdem  v2x_delibdem  v2x_egaldem  \n",
       "0          0.166         0.191        0.185  \n",
       "1          0.167         0.190        0.176  \n",
       "2          0.168         0.171        0.172  \n",
       "3          0.169         0.177        0.171  \n",
       "4          0.178         0.183        0.172  \n",
       "5          0.176         0.181        0.172  \n",
       "6          0.164         0.175        0.173  "
      ]
     },
     "execution_count": 3,
     "metadata": {},
     "output_type": "execute_result"
    }
   ],
   "source": [
    "sdf = pd.read_csv('../data/sdf_ger.csv')\n",
    "sdf.head(7)"
   ]
  },
  {
   "cell_type": "markdown",
   "id": "112eba70",
   "metadata": {},
   "source": [
    "**Aufgabe 2:** Berechnen Sie den Mittelwert der Variable v2x_partipdem zwischen 1900 und 1950 und zwischen 1990 und 2018. Wie groß ist die Differenz dieser beiden Werte?"
   ]
  },
  {
   "cell_type": "code",
   "execution_count": 25,
   "id": "d2a2d36d",
   "metadata": {},
   "outputs": [
    {
     "data": {
      "text/plain": [
       "0.22293617021276596"
      ]
     },
     "execution_count": 25,
     "metadata": {},
     "output_type": "execute_result"
    }
   ],
   "source": [
    "v2x_partipdem_1 = sdf.query('year >= 1900 & year <= 1950')['v2x_partipdem'].mean()\n",
    "v2x_partipdem_1"
   ]
  },
  {
   "cell_type": "code",
   "execution_count": 22,
   "id": "29d7adfc",
   "metadata": {},
   "outputs": [
    {
     "data": {
      "text/plain": [
       "0.22293617021276596"
      ]
     },
     "execution_count": 22,
     "metadata": {},
     "output_type": "execute_result"
    }
   ],
   "source": [
    "sdf[(sdf['year'] >= 1900) & (sdf['year'] <= 1950)]['v2x_partipdem'].mean()"
   ]
  },
  {
   "cell_type": "code",
   "execution_count": 26,
   "id": "e264c3dd",
   "metadata": {},
   "outputs": [
    {
     "data": {
      "text/plain": [
       "0.645"
      ]
     },
     "execution_count": 26,
     "metadata": {},
     "output_type": "execute_result"
    }
   ],
   "source": [
    "v2x_partipdem_2 = sdf.query('year >= 1990 & year <= 2018')['v2x_partipdem'].mean()\n",
    "v2x_partipdem_2"
   ]
  },
  {
   "cell_type": "code",
   "execution_count": 24,
   "id": "6c910c13",
   "metadata": {},
   "outputs": [
    {
     "data": {
      "text/plain": [
       "0.645"
      ]
     },
     "execution_count": 24,
     "metadata": {},
     "output_type": "execute_result"
    }
   ],
   "source": [
    "sdf[(sdf['year'] >= 1990) & (sdf['year'] <= 2018)]['v2x_partipdem'].mean()"
   ]
  },
  {
   "cell_type": "code",
   "execution_count": 27,
   "id": "bb7ee339",
   "metadata": {
    "scrolled": true
   },
   "outputs": [
    {
     "data": {
      "text/plain": [
       "0.42206382978723406"
      ]
     },
     "execution_count": 27,
     "metadata": {},
     "output_type": "execute_result"
    }
   ],
   "source": [
    "v2x_partipdem_2 - v2x_partipdem_1"
   ]
  },
  {
   "cell_type": "markdown",
   "id": "fdb540fa",
   "metadata": {},
   "source": [
    "**Aufgabe 3:** Wählen Sie mit `.iloc` die Zeile für Jahr 1968 aus sdf aus."
   ]
  },
  {
   "cell_type": "code",
   "execution_count": 33,
   "id": "f2d29c33",
   "metadata": {},
   "outputs": [
    {
     "data": {
      "text/plain": [
       "Index([64], dtype='int64')"
      ]
     },
     "execution_count": 33,
     "metadata": {},
     "output_type": "execute_result"
    }
   ],
   "source": [
    "sdf[sdf.year==1968].index"
   ]
  },
  {
   "cell_type": "code",
   "execution_count": 36,
   "id": "cadff210",
   "metadata": {},
   "outputs": [
    {
     "data": {
      "text/plain": [
       "country_name       Germany\n",
       "country_text_id        DEU\n",
       "e_regiongeo              1\n",
       "year                  1968\n",
       "v2x_polyarchy        0.842\n",
       "v2x_libdem           0.785\n",
       "v2x_partipdem        0.596\n",
       "v2x_delibdem         0.776\n",
       "v2x_egaldem          0.739\n",
       "Name: 64, dtype: object"
      ]
     },
     "execution_count": 36,
     "metadata": {},
     "output_type": "execute_result"
    }
   ],
   "source": [
    "sdf.iloc[64]"
   ]
  },
  {
   "cell_type": "markdown",
   "id": "b7fd02c2",
   "metadata": {},
   "source": [
    "**Aufgabe 4:** Wählen Sie die 5. bis 30. Zeile in sdf aus und speicher Sie diese Daten in sub_sdf. Schauen Sie sich den Index an. Reseten Sie den index."
   ]
  },
  {
   "cell_type": "code",
   "execution_count": 52,
   "id": "d43213cc",
   "metadata": {},
   "outputs": [],
   "source": [
    "sub_sdf = sdf.loc[4:31].copy()"
   ]
  },
  {
   "cell_type": "code",
   "execution_count": 53,
   "id": "43714500",
   "metadata": {},
   "outputs": [
    {
     "data": {
      "text/html": [
       "<div>\n",
       "<style scoped>\n",
       "    .dataframe tbody tr th:only-of-type {\n",
       "        vertical-align: middle;\n",
       "    }\n",
       "\n",
       "    .dataframe tbody tr th {\n",
       "        vertical-align: top;\n",
       "    }\n",
       "\n",
       "    .dataframe thead th {\n",
       "        text-align: right;\n",
       "    }\n",
       "</style>\n",
       "<table border=\"1\" class=\"dataframe\">\n",
       "  <thead>\n",
       "    <tr style=\"text-align: right;\">\n",
       "      <th></th>\n",
       "      <th>country_name</th>\n",
       "      <th>country_text_id</th>\n",
       "      <th>e_regiongeo</th>\n",
       "      <th>year</th>\n",
       "      <th>v2x_polyarchy</th>\n",
       "      <th>v2x_libdem</th>\n",
       "      <th>v2x_partipdem</th>\n",
       "      <th>v2x_delibdem</th>\n",
       "      <th>v2x_egaldem</th>\n",
       "    </tr>\n",
       "  </thead>\n",
       "  <tbody>\n",
       "    <tr>\n",
       "      <th>4</th>\n",
       "      <td>Germany</td>\n",
       "      <td>DEU</td>\n",
       "      <td>1</td>\n",
       "      <td>1904</td>\n",
       "      <td>0.256</td>\n",
       "      <td>0.216</td>\n",
       "      <td>0.178</td>\n",
       "      <td>0.183</td>\n",
       "      <td>0.172</td>\n",
       "    </tr>\n",
       "    <tr>\n",
       "      <th>5</th>\n",
       "      <td>Germany</td>\n",
       "      <td>DEU</td>\n",
       "      <td>1</td>\n",
       "      <td>1905</td>\n",
       "      <td>0.253</td>\n",
       "      <td>0.210</td>\n",
       "      <td>0.176</td>\n",
       "      <td>0.181</td>\n",
       "      <td>0.172</td>\n",
       "    </tr>\n",
       "    <tr>\n",
       "      <th>6</th>\n",
       "      <td>Germany</td>\n",
       "      <td>DEU</td>\n",
       "      <td>1</td>\n",
       "      <td>1906</td>\n",
       "      <td>0.240</td>\n",
       "      <td>0.212</td>\n",
       "      <td>0.164</td>\n",
       "      <td>0.175</td>\n",
       "      <td>0.173</td>\n",
       "    </tr>\n",
       "    <tr>\n",
       "      <th>7</th>\n",
       "      <td>Germany</td>\n",
       "      <td>DEU</td>\n",
       "      <td>1</td>\n",
       "      <td>1907</td>\n",
       "      <td>0.256</td>\n",
       "      <td>0.227</td>\n",
       "      <td>0.167</td>\n",
       "      <td>0.180</td>\n",
       "      <td>0.174</td>\n",
       "    </tr>\n",
       "    <tr>\n",
       "      <th>8</th>\n",
       "      <td>Germany</td>\n",
       "      <td>DEU</td>\n",
       "      <td>1</td>\n",
       "      <td>1908</td>\n",
       "      <td>0.243</td>\n",
       "      <td>0.217</td>\n",
       "      <td>0.160</td>\n",
       "      <td>0.173</td>\n",
       "      <td>0.170</td>\n",
       "    </tr>\n",
       "  </tbody>\n",
       "</table>\n",
       "</div>"
      ],
      "text/plain": [
       "  country_name country_text_id  e_regiongeo  year  v2x_polyarchy  v2x_libdem   \n",
       "4      Germany             DEU            1  1904          0.256       0.216  \\\n",
       "5      Germany             DEU            1  1905          0.253       0.210   \n",
       "6      Germany             DEU            1  1906          0.240       0.212   \n",
       "7      Germany             DEU            1  1907          0.256       0.227   \n",
       "8      Germany             DEU            1  1908          0.243       0.217   \n",
       "\n",
       "   v2x_partipdem  v2x_delibdem  v2x_egaldem  \n",
       "4          0.178         0.183        0.172  \n",
       "5          0.176         0.181        0.172  \n",
       "6          0.164         0.175        0.173  \n",
       "7          0.167         0.180        0.174  \n",
       "8          0.160         0.173        0.170  "
      ]
     },
     "execution_count": 53,
     "metadata": {},
     "output_type": "execute_result"
    }
   ],
   "source": [
    "sub_sdf.head()"
   ]
  },
  {
   "cell_type": "code",
   "execution_count": 54,
   "id": "6a9d7c51",
   "metadata": {},
   "outputs": [
    {
     "data": {
      "text/plain": [
       "RangeIndex(start=4, stop=32, step=1)"
      ]
     },
     "execution_count": 54,
     "metadata": {},
     "output_type": "execute_result"
    }
   ],
   "source": [
    "sub_sdf.index"
   ]
  },
  {
   "cell_type": "code",
   "execution_count": 55,
   "id": "4fe92b71",
   "metadata": {},
   "outputs": [],
   "source": [
    "sub_sdf.reset_index(inplace = True, drop = True)"
   ]
  },
  {
   "cell_type": "code",
   "execution_count": 60,
   "id": "220e67eb",
   "metadata": {},
   "outputs": [
    {
     "data": {
      "text/html": [
       "<div>\n",
       "<style scoped>\n",
       "    .dataframe tbody tr th:only-of-type {\n",
       "        vertical-align: middle;\n",
       "    }\n",
       "\n",
       "    .dataframe tbody tr th {\n",
       "        vertical-align: top;\n",
       "    }\n",
       "\n",
       "    .dataframe thead th {\n",
       "        text-align: right;\n",
       "    }\n",
       "</style>\n",
       "<table border=\"1\" class=\"dataframe\">\n",
       "  <thead>\n",
       "    <tr style=\"text-align: right;\">\n",
       "      <th></th>\n",
       "      <th>country_name</th>\n",
       "      <th>country_text_id</th>\n",
       "      <th>e_regiongeo</th>\n",
       "      <th>year</th>\n",
       "      <th>v2x_polyarchy</th>\n",
       "      <th>v2x_libdem</th>\n",
       "      <th>v2x_partipdem</th>\n",
       "      <th>v2x_delibdem</th>\n",
       "      <th>v2x_egaldem</th>\n",
       "    </tr>\n",
       "  </thead>\n",
       "  <tbody>\n",
       "    <tr>\n",
       "      <th>0</th>\n",
       "      <td>Germany</td>\n",
       "      <td>DEU</td>\n",
       "      <td>1</td>\n",
       "      <td>1904</td>\n",
       "      <td>0.256</td>\n",
       "      <td>0.216</td>\n",
       "      <td>0.178</td>\n",
       "      <td>0.183</td>\n",
       "      <td>0.172</td>\n",
       "    </tr>\n",
       "    <tr>\n",
       "      <th>1</th>\n",
       "      <td>Germany</td>\n",
       "      <td>DEU</td>\n",
       "      <td>1</td>\n",
       "      <td>1905</td>\n",
       "      <td>0.253</td>\n",
       "      <td>0.210</td>\n",
       "      <td>0.176</td>\n",
       "      <td>0.181</td>\n",
       "      <td>0.172</td>\n",
       "    </tr>\n",
       "    <tr>\n",
       "      <th>2</th>\n",
       "      <td>Germany</td>\n",
       "      <td>DEU</td>\n",
       "      <td>1</td>\n",
       "      <td>1906</td>\n",
       "      <td>0.240</td>\n",
       "      <td>0.212</td>\n",
       "      <td>0.164</td>\n",
       "      <td>0.175</td>\n",
       "      <td>0.173</td>\n",
       "    </tr>\n",
       "    <tr>\n",
       "      <th>3</th>\n",
       "      <td>Germany</td>\n",
       "      <td>DEU</td>\n",
       "      <td>1</td>\n",
       "      <td>1907</td>\n",
       "      <td>0.256</td>\n",
       "      <td>0.227</td>\n",
       "      <td>0.167</td>\n",
       "      <td>0.180</td>\n",
       "      <td>0.174</td>\n",
       "    </tr>\n",
       "    <tr>\n",
       "      <th>4</th>\n",
       "      <td>Germany</td>\n",
       "      <td>DEU</td>\n",
       "      <td>1</td>\n",
       "      <td>1908</td>\n",
       "      <td>0.243</td>\n",
       "      <td>0.217</td>\n",
       "      <td>0.160</td>\n",
       "      <td>0.173</td>\n",
       "      <td>0.170</td>\n",
       "    </tr>\n",
       "  </tbody>\n",
       "</table>\n",
       "</div>"
      ],
      "text/plain": [
       "  country_name country_text_id  e_regiongeo  year  v2x_polyarchy  v2x_libdem   \n",
       "0      Germany             DEU            1  1904          0.256       0.216  \\\n",
       "1      Germany             DEU            1  1905          0.253       0.210   \n",
       "2      Germany             DEU            1  1906          0.240       0.212   \n",
       "3      Germany             DEU            1  1907          0.256       0.227   \n",
       "4      Germany             DEU            1  1908          0.243       0.217   \n",
       "\n",
       "   v2x_partipdem  v2x_delibdem  v2x_egaldem  \n",
       "0          0.178         0.183        0.172  \n",
       "1          0.176         0.181        0.172  \n",
       "2          0.164         0.175        0.173  \n",
       "3          0.167         0.180        0.174  \n",
       "4          0.160         0.173        0.170  "
      ]
     },
     "execution_count": 60,
     "metadata": {},
     "output_type": "execute_result"
    }
   ],
   "source": [
    "sub_sdf.head()"
   ]
  },
  {
   "cell_type": "code",
   "execution_count": 57,
   "id": "9cff6688",
   "metadata": {},
   "outputs": [
    {
     "data": {
      "text/plain": [
       "RangeIndex(start=0, stop=28, step=1)"
      ]
     },
     "execution_count": 57,
     "metadata": {},
     "output_type": "execute_result"
    }
   ],
   "source": [
    "sub_sdf.index"
   ]
  },
  {
   "cell_type": "markdown",
   "id": "0158d021",
   "metadata": {},
   "source": [
    "**Aufgabe 5**: Erstellen Sie eine neue Spalte in sub_sdf mit dem Namen 'delibdem_egaldem'. In dieser Spalte soll die Summe von delibdem und egaldem stehen."
   ]
  },
  {
   "cell_type": "code",
   "execution_count": 61,
   "id": "daaf7471",
   "metadata": {},
   "outputs": [],
   "source": [
    "sub_sdf['delibdem_egaldem'] = sub_sdf.v2x_delibdem + sub_sdf.v2x_egaldem"
   ]
  },
  {
   "cell_type": "code",
   "execution_count": 62,
   "id": "c5d6eeb3",
   "metadata": {},
   "outputs": [
    {
     "data": {
      "text/html": [
       "<div>\n",
       "<style scoped>\n",
       "    .dataframe tbody tr th:only-of-type {\n",
       "        vertical-align: middle;\n",
       "    }\n",
       "\n",
       "    .dataframe tbody tr th {\n",
       "        vertical-align: top;\n",
       "    }\n",
       "\n",
       "    .dataframe thead th {\n",
       "        text-align: right;\n",
       "    }\n",
       "</style>\n",
       "<table border=\"1\" class=\"dataframe\">\n",
       "  <thead>\n",
       "    <tr style=\"text-align: right;\">\n",
       "      <th></th>\n",
       "      <th>country_name</th>\n",
       "      <th>country_text_id</th>\n",
       "      <th>e_regiongeo</th>\n",
       "      <th>year</th>\n",
       "      <th>v2x_polyarchy</th>\n",
       "      <th>v2x_libdem</th>\n",
       "      <th>v2x_partipdem</th>\n",
       "      <th>v2x_delibdem</th>\n",
       "      <th>v2x_egaldem</th>\n",
       "      <th>delibdem_egaldem</th>\n",
       "    </tr>\n",
       "  </thead>\n",
       "  <tbody>\n",
       "    <tr>\n",
       "      <th>0</th>\n",
       "      <td>Germany</td>\n",
       "      <td>DEU</td>\n",
       "      <td>1</td>\n",
       "      <td>1904</td>\n",
       "      <td>0.256</td>\n",
       "      <td>0.216</td>\n",
       "      <td>0.178</td>\n",
       "      <td>0.183</td>\n",
       "      <td>0.172</td>\n",
       "      <td>0.355</td>\n",
       "    </tr>\n",
       "    <tr>\n",
       "      <th>1</th>\n",
       "      <td>Germany</td>\n",
       "      <td>DEU</td>\n",
       "      <td>1</td>\n",
       "      <td>1905</td>\n",
       "      <td>0.253</td>\n",
       "      <td>0.210</td>\n",
       "      <td>0.176</td>\n",
       "      <td>0.181</td>\n",
       "      <td>0.172</td>\n",
       "      <td>0.353</td>\n",
       "    </tr>\n",
       "    <tr>\n",
       "      <th>2</th>\n",
       "      <td>Germany</td>\n",
       "      <td>DEU</td>\n",
       "      <td>1</td>\n",
       "      <td>1906</td>\n",
       "      <td>0.240</td>\n",
       "      <td>0.212</td>\n",
       "      <td>0.164</td>\n",
       "      <td>0.175</td>\n",
       "      <td>0.173</td>\n",
       "      <td>0.348</td>\n",
       "    </tr>\n",
       "    <tr>\n",
       "      <th>3</th>\n",
       "      <td>Germany</td>\n",
       "      <td>DEU</td>\n",
       "      <td>1</td>\n",
       "      <td>1907</td>\n",
       "      <td>0.256</td>\n",
       "      <td>0.227</td>\n",
       "      <td>0.167</td>\n",
       "      <td>0.180</td>\n",
       "      <td>0.174</td>\n",
       "      <td>0.354</td>\n",
       "    </tr>\n",
       "    <tr>\n",
       "      <th>4</th>\n",
       "      <td>Germany</td>\n",
       "      <td>DEU</td>\n",
       "      <td>1</td>\n",
       "      <td>1908</td>\n",
       "      <td>0.243</td>\n",
       "      <td>0.217</td>\n",
       "      <td>0.160</td>\n",
       "      <td>0.173</td>\n",
       "      <td>0.170</td>\n",
       "      <td>0.343</td>\n",
       "    </tr>\n",
       "  </tbody>\n",
       "</table>\n",
       "</div>"
      ],
      "text/plain": [
       "  country_name country_text_id  e_regiongeo  year  v2x_polyarchy  v2x_libdem   \n",
       "0      Germany             DEU            1  1904          0.256       0.216  \\\n",
       "1      Germany             DEU            1  1905          0.253       0.210   \n",
       "2      Germany             DEU            1  1906          0.240       0.212   \n",
       "3      Germany             DEU            1  1907          0.256       0.227   \n",
       "4      Germany             DEU            1  1908          0.243       0.217   \n",
       "\n",
       "   v2x_partipdem  v2x_delibdem  v2x_egaldem  delibdem_egaldem  \n",
       "0          0.178         0.183        0.172             0.355  \n",
       "1          0.176         0.181        0.172             0.353  \n",
       "2          0.164         0.175        0.173             0.348  \n",
       "3          0.167         0.180        0.174             0.354  \n",
       "4          0.160         0.173        0.170             0.343  "
      ]
     },
     "execution_count": 62,
     "metadata": {},
     "output_type": "execute_result"
    }
   ],
   "source": [
    "sub_sdf.head()"
   ]
  },
  {
   "cell_type": "code",
   "execution_count": null,
   "id": "5d2eeb34",
   "metadata": {},
   "outputs": [],
   "source": []
  },
  {
   "cell_type": "markdown",
   "id": "92e3edb7",
   "metadata": {},
   "source": [
    "**Aufgabe 6:** Berechnen Sie den Mittelwert von v2x_libdem für jedes Land ab 2000. Verwenden Sie dabei die `.groupby()` und `.mean()` Methode. Speichern Sie das Ergebnis in `libdem_2000`. \n",
    "\n",
    "- Lassen Sie sich die ersten 12 Elemente anzeigen. \n",
    "- Welchen Typ hat dieses Objekt? \n",
    "- Wie sieht der index dieses Objekts aus?"
   ]
  },
  {
   "cell_type": "code",
   "execution_count": 66,
   "id": "a33cb2ad",
   "metadata": {},
   "outputs": [],
   "source": [
    "df = pd.read_csv('../data/vdem/filtered_subset.csv')"
   ]
  },
  {
   "cell_type": "code",
   "execution_count": 67,
   "id": "eb416e0b",
   "metadata": {},
   "outputs": [
    {
     "data": {
      "text/html": [
       "<div>\n",
       "<style scoped>\n",
       "    .dataframe tbody tr th:only-of-type {\n",
       "        vertical-align: middle;\n",
       "    }\n",
       "\n",
       "    .dataframe tbody tr th {\n",
       "        vertical-align: top;\n",
       "    }\n",
       "\n",
       "    .dataframe thead th {\n",
       "        text-align: right;\n",
       "    }\n",
       "</style>\n",
       "<table border=\"1\" class=\"dataframe\">\n",
       "  <thead>\n",
       "    <tr style=\"text-align: right;\">\n",
       "      <th></th>\n",
       "      <th>country_name</th>\n",
       "      <th>country_text_id</th>\n",
       "      <th>e_regiongeo</th>\n",
       "      <th>year</th>\n",
       "      <th>v2x_polyarchy</th>\n",
       "      <th>v2x_libdem</th>\n",
       "      <th>v2x_partipdem</th>\n",
       "      <th>v2x_delibdem</th>\n",
       "      <th>v2x_egaldem</th>\n",
       "      <th>v2smprivex</th>\n",
       "      <th>v2smpolsoc</th>\n",
       "      <th>v2caviol</th>\n",
       "      <th>e_boix_regime</th>\n",
       "    </tr>\n",
       "  </thead>\n",
       "  <tbody>\n",
       "    <tr>\n",
       "      <th>0</th>\n",
       "      <td>Mexico</td>\n",
       "      <td>MEX</td>\n",
       "      <td>17</td>\n",
       "      <td>1900</td>\n",
       "      <td>0.118</td>\n",
       "      <td>0.061</td>\n",
       "      <td>0.098</td>\n",
       "      <td>0.034</td>\n",
       "      <td>0.028</td>\n",
       "      <td>NaN</td>\n",
       "      <td>NaN</td>\n",
       "      <td>1.323</td>\n",
       "      <td>0.0</td>\n",
       "    </tr>\n",
       "    <tr>\n",
       "      <th>1</th>\n",
       "      <td>Mexico</td>\n",
       "      <td>MEX</td>\n",
       "      <td>17</td>\n",
       "      <td>1901</td>\n",
       "      <td>0.118</td>\n",
       "      <td>0.061</td>\n",
       "      <td>0.098</td>\n",
       "      <td>0.034</td>\n",
       "      <td>0.028</td>\n",
       "      <td>NaN</td>\n",
       "      <td>NaN</td>\n",
       "      <td>1.323</td>\n",
       "      <td>0.0</td>\n",
       "    </tr>\n",
       "    <tr>\n",
       "      <th>2</th>\n",
       "      <td>Mexico</td>\n",
       "      <td>MEX</td>\n",
       "      <td>17</td>\n",
       "      <td>1902</td>\n",
       "      <td>0.118</td>\n",
       "      <td>0.061</td>\n",
       "      <td>0.098</td>\n",
       "      <td>0.034</td>\n",
       "      <td>0.028</td>\n",
       "      <td>NaN</td>\n",
       "      <td>NaN</td>\n",
       "      <td>1.323</td>\n",
       "      <td>0.0</td>\n",
       "    </tr>\n",
       "    <tr>\n",
       "      <th>3</th>\n",
       "      <td>Mexico</td>\n",
       "      <td>MEX</td>\n",
       "      <td>17</td>\n",
       "      <td>1903</td>\n",
       "      <td>0.118</td>\n",
       "      <td>0.061</td>\n",
       "      <td>0.098</td>\n",
       "      <td>0.034</td>\n",
       "      <td>0.028</td>\n",
       "      <td>NaN</td>\n",
       "      <td>NaN</td>\n",
       "      <td>1.323</td>\n",
       "      <td>0.0</td>\n",
       "    </tr>\n",
       "    <tr>\n",
       "      <th>4</th>\n",
       "      <td>Mexico</td>\n",
       "      <td>MEX</td>\n",
       "      <td>17</td>\n",
       "      <td>1904</td>\n",
       "      <td>0.118</td>\n",
       "      <td>0.061</td>\n",
       "      <td>0.098</td>\n",
       "      <td>0.034</td>\n",
       "      <td>0.028</td>\n",
       "      <td>NaN</td>\n",
       "      <td>NaN</td>\n",
       "      <td>1.323</td>\n",
       "      <td>0.0</td>\n",
       "    </tr>\n",
       "  </tbody>\n",
       "</table>\n",
       "</div>"
      ],
      "text/plain": [
       "  country_name country_text_id  e_regiongeo  year  v2x_polyarchy  v2x_libdem   \n",
       "0       Mexico             MEX           17  1900          0.118       0.061  \\\n",
       "1       Mexico             MEX           17  1901          0.118       0.061   \n",
       "2       Mexico             MEX           17  1902          0.118       0.061   \n",
       "3       Mexico             MEX           17  1903          0.118       0.061   \n",
       "4       Mexico             MEX           17  1904          0.118       0.061   \n",
       "\n",
       "   v2x_partipdem  v2x_delibdem  v2x_egaldem  v2smprivex  v2smpolsoc  v2caviol   \n",
       "0          0.098         0.034        0.028         NaN         NaN     1.323  \\\n",
       "1          0.098         0.034        0.028         NaN         NaN     1.323   \n",
       "2          0.098         0.034        0.028         NaN         NaN     1.323   \n",
       "3          0.098         0.034        0.028         NaN         NaN     1.323   \n",
       "4          0.098         0.034        0.028         NaN         NaN     1.323   \n",
       "\n",
       "   e_boix_regime  \n",
       "0            0.0  \n",
       "1            0.0  \n",
       "2            0.0  \n",
       "3            0.0  \n",
       "4            0.0  "
      ]
     },
     "execution_count": 67,
     "metadata": {},
     "output_type": "execute_result"
    }
   ],
   "source": [
    "df.head()"
   ]
  },
  {
   "cell_type": "code",
   "execution_count": 71,
   "id": "2f57e567",
   "metadata": {},
   "outputs": [],
   "source": [
    "libdem_2000 = df[df.year >= 2000].groupby('country_name')['v2x_libdem'].mean()"
   ]
  },
  {
   "cell_type": "code",
   "execution_count": 73,
   "id": "5b998755",
   "metadata": {},
   "outputs": [
    {
     "data": {
      "text/plain": [
       "country_name\n",
       "Afghanistan    0.194200\n",
       "Albania        0.429850\n",
       "Algeria        0.140700\n",
       "Angola         0.138450\n",
       "Argentina      0.616750\n",
       "Armenia        0.239150\n",
       "Australia      0.828950\n",
       "Austria        0.778350\n",
       "Azerbaijan     0.071350\n",
       "Bahrain        0.065056\n",
       "Bangladesh     0.184200\n",
       "Barbados       0.671150\n",
       "Belarus        0.096150\n",
       "Name: v2x_libdem, dtype: float64"
      ]
     },
     "execution_count": 73,
     "metadata": {},
     "output_type": "execute_result"
    }
   ],
   "source": [
    "libdem_2000[0:13]"
   ]
  },
  {
   "cell_type": "code",
   "execution_count": 75,
   "id": "686a3041",
   "metadata": {},
   "outputs": [
    {
     "data": {
      "text/plain": [
       "pandas.core.series.Series"
      ]
     },
     "execution_count": 75,
     "metadata": {},
     "output_type": "execute_result"
    }
   ],
   "source": [
    "type(libdem_2000)"
   ]
  },
  {
   "cell_type": "code",
   "execution_count": 74,
   "id": "31f0e917",
   "metadata": {},
   "outputs": [
    {
     "data": {
      "text/plain": [
       "Index(['Afghanistan', 'Albania', 'Algeria', 'Angola', 'Argentina', 'Armenia',\n",
       "       'Australia', 'Austria', 'Azerbaijan', 'Bahrain',\n",
       "       ...\n",
       "       'United States of America', 'Uruguay', 'Uzbekistan', 'Vanuatu',\n",
       "       'Venezuela', 'Vietnam', 'Yemen', 'Zambia', 'Zanzibar', 'Zimbabwe'],\n",
       "      dtype='object', name='country_name', length=179)"
      ]
     },
     "execution_count": 74,
     "metadata": {},
     "output_type": "execute_result"
    }
   ],
   "source": [
    "libdem_2000.index"
   ]
  },
  {
   "cell_type": "markdown",
   "id": "af0d9069",
   "metadata": {},
   "source": [
    "**Aufgabe 7:** Welchen Wert hat Bangladesh in libdem_2000?"
   ]
  },
  {
   "cell_type": "code",
   "execution_count": 77,
   "id": "850d3f9c",
   "metadata": {},
   "outputs": [
    {
     "data": {
      "text/plain": [
       "0.1842"
      ]
     },
     "execution_count": 77,
     "metadata": {},
     "output_type": "execute_result"
    }
   ],
   "source": [
    "libdem_2000['Bangladesh']"
   ]
  },
  {
   "cell_type": "markdown",
   "id": "9a3a1839",
   "metadata": {},
   "source": [
    "**Aufgabe 8** Welches Land hat den geringsten Wert in libdem2000?"
   ]
  },
  {
   "cell_type": "code",
   "execution_count": 87,
   "id": "5abfa6ac",
   "metadata": {},
   "outputs": [
    {
     "data": {
      "text/plain": [
       "country_name\n",
       "Eritrea         0.00830\n",
       "North Korea     0.01325\n",
       "Turkmenistan    0.03105\n",
       "Saudi Arabia    0.03445\n",
       "Uzbekistan      0.04275\n",
       "                 ...   \n",
       "Costa Rica      0.83815\n",
       "Germany         0.84425\n",
       "Norway          0.85680\n",
       "Denmark         0.86920\n",
       "Sweden          0.87245\n",
       "Name: v2x_libdem, Length: 179, dtype: float64"
      ]
     },
     "execution_count": 87,
     "metadata": {},
     "output_type": "execute_result"
    }
   ],
   "source": [
    "libdem_2000.sort_values()"
   ]
  },
  {
   "cell_type": "markdown",
   "id": "04642f5b",
   "metadata": {},
   "source": [
    "**Aufgabe 8:** Wie können wir libdem_2000 in eine DataFrame umwandeln?"
   ]
  },
  {
   "cell_type": "code",
   "execution_count": 78,
   "id": "d5b2724f",
   "metadata": {},
   "outputs": [
    {
     "data": {
      "text/html": [
       "<div>\n",
       "<style scoped>\n",
       "    .dataframe tbody tr th:only-of-type {\n",
       "        vertical-align: middle;\n",
       "    }\n",
       "\n",
       "    .dataframe tbody tr th {\n",
       "        vertical-align: top;\n",
       "    }\n",
       "\n",
       "    .dataframe thead th {\n",
       "        text-align: right;\n",
       "    }\n",
       "</style>\n",
       "<table border=\"1\" class=\"dataframe\">\n",
       "  <thead>\n",
       "    <tr style=\"text-align: right;\">\n",
       "      <th></th>\n",
       "      <th>country_name</th>\n",
       "      <th>v2x_libdem</th>\n",
       "    </tr>\n",
       "  </thead>\n",
       "  <tbody>\n",
       "    <tr>\n",
       "      <th>0</th>\n",
       "      <td>Afghanistan</td>\n",
       "      <td>0.19420</td>\n",
       "    </tr>\n",
       "    <tr>\n",
       "      <th>1</th>\n",
       "      <td>Albania</td>\n",
       "      <td>0.42985</td>\n",
       "    </tr>\n",
       "    <tr>\n",
       "      <th>2</th>\n",
       "      <td>Algeria</td>\n",
       "      <td>0.14070</td>\n",
       "    </tr>\n",
       "    <tr>\n",
       "      <th>3</th>\n",
       "      <td>Angola</td>\n",
       "      <td>0.13845</td>\n",
       "    </tr>\n",
       "    <tr>\n",
       "      <th>4</th>\n",
       "      <td>Argentina</td>\n",
       "      <td>0.61675</td>\n",
       "    </tr>\n",
       "    <tr>\n",
       "      <th>...</th>\n",
       "      <td>...</td>\n",
       "      <td>...</td>\n",
       "    </tr>\n",
       "    <tr>\n",
       "      <th>174</th>\n",
       "      <td>Vietnam</td>\n",
       "      <td>0.11695</td>\n",
       "    </tr>\n",
       "    <tr>\n",
       "      <th>175</th>\n",
       "      <td>Yemen</td>\n",
       "      <td>0.11430</td>\n",
       "    </tr>\n",
       "    <tr>\n",
       "      <th>176</th>\n",
       "      <td>Zambia</td>\n",
       "      <td>0.38380</td>\n",
       "    </tr>\n",
       "    <tr>\n",
       "      <th>177</th>\n",
       "      <td>Zanzibar</td>\n",
       "      <td>0.21875</td>\n",
       "    </tr>\n",
       "    <tr>\n",
       "      <th>178</th>\n",
       "      <td>Zimbabwe</td>\n",
       "      <td>0.15925</td>\n",
       "    </tr>\n",
       "  </tbody>\n",
       "</table>\n",
       "<p>179 rows × 2 columns</p>\n",
       "</div>"
      ],
      "text/plain": [
       "    country_name  v2x_libdem\n",
       "0    Afghanistan     0.19420\n",
       "1        Albania     0.42985\n",
       "2        Algeria     0.14070\n",
       "3         Angola     0.13845\n",
       "4      Argentina     0.61675\n",
       "..           ...         ...\n",
       "174      Vietnam     0.11695\n",
       "175        Yemen     0.11430\n",
       "176       Zambia     0.38380\n",
       "177     Zanzibar     0.21875\n",
       "178     Zimbabwe     0.15925\n",
       "\n",
       "[179 rows x 2 columns]"
      ]
     },
     "execution_count": 78,
     "metadata": {},
     "output_type": "execute_result"
    }
   ],
   "source": [
    "libdem_2000.reset_index()"
   ]
  },
  {
   "cell_type": "code",
   "execution_count": null,
   "id": "b18513a8",
   "metadata": {},
   "outputs": [],
   "source": []
  },
  {
   "cell_type": "markdown",
   "id": "e22213fd",
   "metadata": {},
   "source": [
    "**Aufgabe 9**: Gruppieren Sie df nach Ländern und berechnen Sie min, max, std und mean für v2x_polyarchy."
   ]
  },
  {
   "cell_type": "code",
   "execution_count": 85,
   "id": "303daad9",
   "metadata": {},
   "outputs": [
    {
     "data": {
      "text/html": [
       "<div>\n",
       "<style scoped>\n",
       "    .dataframe tbody tr th:only-of-type {\n",
       "        vertical-align: middle;\n",
       "    }\n",
       "\n",
       "    .dataframe tbody tr th {\n",
       "        vertical-align: top;\n",
       "    }\n",
       "\n",
       "    .dataframe thead tr th {\n",
       "        text-align: left;\n",
       "    }\n",
       "\n",
       "    .dataframe thead tr:last-of-type th {\n",
       "        text-align: right;\n",
       "    }\n",
       "</style>\n",
       "<table border=\"1\" class=\"dataframe\">\n",
       "  <thead>\n",
       "    <tr>\n",
       "      <th></th>\n",
       "      <th colspan=\"4\" halign=\"left\">v2x_polyarchy</th>\n",
       "    </tr>\n",
       "    <tr>\n",
       "      <th></th>\n",
       "      <th>min</th>\n",
       "      <th>max</th>\n",
       "      <th>std</th>\n",
       "      <th>mean</th>\n",
       "    </tr>\n",
       "    <tr>\n",
       "      <th>country_name</th>\n",
       "      <th></th>\n",
       "      <th></th>\n",
       "      <th></th>\n",
       "      <th></th>\n",
       "    </tr>\n",
       "  </thead>\n",
       "  <tbody>\n",
       "    <tr>\n",
       "      <th>Afghanistan</th>\n",
       "      <td>0.023</td>\n",
       "      <td>0.425</td>\n",
       "      <td>0.105902</td>\n",
       "      <td>0.128142</td>\n",
       "    </tr>\n",
       "    <tr>\n",
       "      <th>Albania</th>\n",
       "      <td>0.050</td>\n",
       "      <td>0.563</td>\n",
       "      <td>0.154186</td>\n",
       "      <td>0.245877</td>\n",
       "    </tr>\n",
       "    <tr>\n",
       "      <th>Algeria</th>\n",
       "      <td>0.044</td>\n",
       "      <td>0.372</td>\n",
       "      <td>0.114592</td>\n",
       "      <td>0.143608</td>\n",
       "    </tr>\n",
       "    <tr>\n",
       "      <th>Angola</th>\n",
       "      <td>0.009</td>\n",
       "      <td>0.386</td>\n",
       "      <td>0.095213</td>\n",
       "      <td>0.068042</td>\n",
       "    </tr>\n",
       "    <tr>\n",
       "      <th>Argentina</th>\n",
       "      <td>0.074</td>\n",
       "      <td>0.843</td>\n",
       "      <td>0.265407</td>\n",
       "      <td>0.450642</td>\n",
       "    </tr>\n",
       "    <tr>\n",
       "      <th>...</th>\n",
       "      <td>...</td>\n",
       "      <td>...</td>\n",
       "      <td>...</td>\n",
       "      <td>...</td>\n",
       "    </tr>\n",
       "    <tr>\n",
       "      <th>Vietnam</th>\n",
       "      <td>0.095</td>\n",
       "      <td>0.313</td>\n",
       "      <td>0.044183</td>\n",
       "      <td>0.197613</td>\n",
       "    </tr>\n",
       "    <tr>\n",
       "      <th>Yemen</th>\n",
       "      <td>0.020</td>\n",
       "      <td>0.359</td>\n",
       "      <td>0.121251</td>\n",
       "      <td>0.113382</td>\n",
       "    </tr>\n",
       "    <tr>\n",
       "      <th>Zambia</th>\n",
       "      <td>0.041</td>\n",
       "      <td>0.537</td>\n",
       "      <td>0.166336</td>\n",
       "      <td>0.223945</td>\n",
       "    </tr>\n",
       "    <tr>\n",
       "      <th>Zanzibar</th>\n",
       "      <td>0.017</td>\n",
       "      <td>0.360</td>\n",
       "      <td>0.104111</td>\n",
       "      <td>0.107617</td>\n",
       "    </tr>\n",
       "    <tr>\n",
       "      <th>Zimbabwe</th>\n",
       "      <td>0.061</td>\n",
       "      <td>0.316</td>\n",
       "      <td>0.042862</td>\n",
       "      <td>0.245966</td>\n",
       "    </tr>\n",
       "  </tbody>\n",
       "</table>\n",
       "<p>183 rows × 4 columns</p>\n",
       "</div>"
      ],
      "text/plain": [
       "             v2x_polyarchy                           \n",
       "                       min    max       std      mean\n",
       "country_name                                         \n",
       "Afghanistan          0.023  0.425  0.105902  0.128142\n",
       "Albania              0.050  0.563  0.154186  0.245877\n",
       "Algeria              0.044  0.372  0.114592  0.143608\n",
       "Angola               0.009  0.386  0.095213  0.068042\n",
       "Argentina            0.074  0.843  0.265407  0.450642\n",
       "...                    ...    ...       ...       ...\n",
       "Vietnam              0.095  0.313  0.044183  0.197613\n",
       "Yemen                0.020  0.359  0.121251  0.113382\n",
       "Zambia               0.041  0.537  0.166336  0.223945\n",
       "Zanzibar             0.017  0.360  0.104111  0.107617\n",
       "Zimbabwe             0.061  0.316  0.042862  0.245966\n",
       "\n",
       "[183 rows x 4 columns]"
      ]
     },
     "execution_count": 85,
     "metadata": {},
     "output_type": "execute_result"
    }
   ],
   "source": [
    "df.groupby('country_name')[['v2x_polyarchy']].agg([min, 'max', 'std', 'mean'])"
   ]
  },
  {
   "cell_type": "markdown",
   "id": "5de98d0e",
   "metadata": {},
   "source": [
    "**Aufgabe 10:** Filtern Sie alle Zeilen in df, die ein nan in v2x_partipdem haben. Welches Land hat die meisten Missings?"
   ]
  },
  {
   "cell_type": "code",
   "execution_count": 102,
   "id": "5da4cdb9",
   "metadata": {},
   "outputs": [
    {
     "data": {
      "text/plain": [
       "country_name\n",
       "Timor-Leste                   62\n",
       "Honduras                      24\n",
       "Libya                         23\n",
       "Mozambique                    20\n",
       "Luxembourg                    15\n",
       "Egypt                         13\n",
       "Uzbekistan                    12\n",
       "Vanuatu                        6\n",
       "Slovakia                       6\n",
       "German Democratic Republic     4\n",
       "El Salvador                    3\n",
       "Republic of Vietnam            2\n",
       "Albania                        2\n",
       "Zimbabwe                       2\n",
       "Nicaragua                      1\n",
       "Tanzania                       1\n",
       "Lebanon                        1\n",
       "Turkmenistan                   1\n",
       "Kazakhstan                     1\n",
       "Jamaica                        1\n",
       "dtype: int64"
      ]
     },
     "execution_count": 102,
     "metadata": {},
     "output_type": "execute_result"
    }
   ],
   "source": [
    "df[df.v2x_partipdem.isna()].groupby('country_name').size().sort_values(ascending=False)"
   ]
  }
 ],
 "metadata": {
  "kernelspec": {
   "display_name": "Python 3 (ipykernel)",
   "language": "python",
   "name": "python3"
  },
  "language_info": {
   "codemirror_mode": {
    "name": "ipython",
    "version": 3
   },
   "file_extension": ".py",
   "mimetype": "text/x-python",
   "name": "python",
   "nbconvert_exporter": "python",
   "pygments_lexer": "ipython3",
   "version": "3.8.16"
  }
 },
 "nbformat": 4,
 "nbformat_minor": 5
}
