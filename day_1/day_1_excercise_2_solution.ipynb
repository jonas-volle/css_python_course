{
 "cells": [
  {
   "cell_type": "markdown",
   "id": "9d6e3f96",
   "metadata": {},
   "source": [
    "# Tag 1 - Übung 2"
   ]
  },
  {
   "cell_type": "markdown",
   "id": "dfcb9687",
   "metadata": {},
   "source": [
    "**Aufgabe 1.1**: Erstellen sie drei Variablen mit den Namen `name`, `age` und `height` und weisen diesen die Werte Jan, 49 und 1.83 zu."
   ]
  },
  {
   "cell_type": "code",
   "execution_count": 3,
   "id": "98198ec0",
   "metadata": {},
   "outputs": [],
   "source": [
    "name = 'Jan'\n",
    "age = 49\n",
    "height = 1.83 "
   ]
  },
  {
   "cell_type": "markdown",
   "id": "40ed1db6",
   "metadata": {},
   "source": [
    "**Aufgabe 1.2**: Fügen Sie mit der `.format()` Methode die eben erstellten Variablen in den String `a_sentence` ein."
   ]
  },
  {
   "cell_type": "code",
   "execution_count": 5,
   "id": "13043235",
   "metadata": {},
   "outputs": [],
   "source": [
    "a_sentence = \"{} ist {} Jahre alt und {} Meter groß.\""
   ]
  },
  {
   "cell_type": "code",
   "execution_count": 4,
   "id": "13996e49",
   "metadata": {},
   "outputs": [
    {
     "data": {
      "text/plain": [
       "'Jan ist 49 Jahre alt und 1.83 Meter groß.'"
      ]
     },
     "execution_count": 4,
     "metadata": {},
     "output_type": "execute_result"
    }
   ],
   "source": [
    "a_sentence.format(name, age, height)"
   ]
  },
  {
   "cell_type": "markdown",
   "id": "c051bd8e",
   "metadata": {},
   "source": [
    "**Aufgabe 2.1**: Erstellen Sie ein if-else statement mit dem Sie prüfen, ob die eben erstellte Variable `name` identisch mit dem String `'Lance'` ist. Wenn die Bedingung `True` ergibt, printen Sie `'Ja! Der Name ist Lance!'`. Wenn die Bedingung `False` ergibt, printen Sie `Nein! Der Name ist nicht Lance!`"
   ]
  },
  {
   "cell_type": "code",
   "execution_count": null,
   "id": "1374d88d",
   "metadata": {},
   "outputs": [],
   "source": [
    "if name == 'Lance': \n",
    "    print(\"Ja! Der Name ist Lance!\") \n",
    "else: \n",
    "    print(\"Nein! Der Name ist nicht Lance!\")"
   ]
  },
  {
   "cell_type": "markdown",
   "id": "33b4a163",
   "metadata": {},
   "source": [
    "**Aufgabe 2.2**: Erstellen Sie ein if-elif-else statement mit dem Sie prüfen, ob die eben erstellte Variable `age` kleiner 40 oder kleiner 50 ist. Wenn die erste Bedingung `True` ergibt, printen Sie `'Jan ist jünger als 40!'`. Wenn die zweite Bedingung `True` ergibt, printen Sie `Jan ist jünger als 50!`. Wenn beide Bedingungen nicht wahr sind, printen Sie `'Jan ist schon sehr alt!'`"
   ]
  },
  {
   "cell_type": "code",
   "execution_count": 8,
   "id": "2ed1265f",
   "metadata": {},
   "outputs": [
    {
     "name": "stdout",
     "output_type": "stream",
     "text": [
      "Jan ist jünger als 50!\n"
     ]
    }
   ],
   "source": [
    "if age < 40:\n",
    "    print('Jan ist jünger als 30!')\n",
    "elif age < 50:\n",
    "    print('Jan ist jünger als 50!')\n",
    "else:\n",
    "    print('Jan ist schon sehr alt!')"
   ]
  },
  {
   "cell_type": "markdown",
   "id": "2b134976",
   "metadata": {},
   "source": [
    "**Aufgabe 2.3 (extra)**: Lösen Sie die Aufgabe 2.2 indem Sie die Werte 40 und 50 nicht einzeln in das if-elif statement schreiben, sondern definieren Sie die variablen `age_1` und `age_2` mit diesen Werten. Benutzen Sie die Stringformatierung `f\"{}\"` um die Variablen `name`, `age_1` und `age_2` in die `print()` Ausdrücke einzubinden."
   ]
  },
  {
   "cell_type": "code",
   "execution_count": 9,
   "id": "e958ff29",
   "metadata": {},
   "outputs": [
    {
     "name": "stdout",
     "output_type": "stream",
     "text": [
      "Jan ist jünger als 50!\n"
     ]
    }
   ],
   "source": [
    "age_1 = 40\n",
    "age_2 = 50\n",
    "\n",
    "if age < age_1:\n",
    "    print(f\"{name} ist jünger als {age_1}!\")\n",
    "elif age < age_2:\n",
    "    print(f\"{name} ist jünger als {age_2}!\")\n",
    "else:\n",
    "    print(f\"{name} ist schon sehr alt!\")"
   ]
  },
  {
   "cell_type": "markdown",
   "id": "3927f05a",
   "metadata": {},
   "source": [
    "**Aufgabe 2.4 (extra)**:  Ändern Sie die Variablen `age_1` und `age_2` zu 30 und 40 und schauen Sie was passiert."
   ]
  },
  {
   "cell_type": "code",
   "execution_count": 10,
   "id": "c61b6dd3",
   "metadata": {},
   "outputs": [
    {
     "name": "stdout",
     "output_type": "stream",
     "text": [
      "Jan ist schon sehr alt!\n"
     ]
    }
   ],
   "source": [
    "age_1 = 30\n",
    "age_2 = 40\n",
    "\n",
    "if age < age_1:\n",
    "    print(f\"{name} ist jünger als {age_1}!\")\n",
    "elif age < age_2:\n",
    "    print(f\"{name} ist jünger als {age_2}!\")\n",
    "else:\n",
    "    print(f\"{name} ist schon sehr alt!\")"
   ]
  },
  {
   "cell_type": "markdown",
   "id": "0097c432",
   "metadata": {},
   "source": [
    "**Aufgabe 3**:   \n",
    "\n",
    "a) Erstellen Sie die Variablen `stage` mit dem Wert `1` und die Variable `energie_gel_number` mit dem Wert 7.  \n",
    "b) Erstellen Sie einen `while`-Loop, der so lange ausgeführt wird, bis stage größer als 21 ist. Wenn `stage` kleiner gleich 21 ist printen Sie `f\"{name} fährt die Tour de France Etappe {stage} und hat dabei {energie_gel_number} Energiegels gegessen.\"`  \n",
    "c) Addieren Sie in jedem Durchgang des Loops zu `stage` den Wert 1 und zu `energie_gel_number` den Wert 7. (`+=`)  \n",
    "d) Wenn `stage` größer als 21 ist, printen Sie `Hurra! Jan hat es geschafft!`"
   ]
  },
  {
   "cell_type": "code",
   "execution_count": 13,
   "id": "385f3a57",
   "metadata": {},
   "outputs": [
    {
     "name": "stdout",
     "output_type": "stream",
     "text": [
      "Jan fährt die Tour de France Etappe 1 und hat dabei 7 Energiegels gegessen.\n",
      "Jan fährt die Tour de France Etappe 2 und hat dabei 14 Energiegels gegessen.\n",
      "Jan fährt die Tour de France Etappe 3 und hat dabei 21 Energiegels gegessen.\n",
      "Jan fährt die Tour de France Etappe 4 und hat dabei 28 Energiegels gegessen.\n",
      "Jan fährt die Tour de France Etappe 5 und hat dabei 35 Energiegels gegessen.\n",
      "Jan fährt die Tour de France Etappe 6 und hat dabei 42 Energiegels gegessen.\n",
      "Jan fährt die Tour de France Etappe 7 und hat dabei 49 Energiegels gegessen.\n",
      "Jan fährt die Tour de France Etappe 8 und hat dabei 56 Energiegels gegessen.\n",
      "Jan fährt die Tour de France Etappe 9 und hat dabei 63 Energiegels gegessen.\n",
      "Jan fährt die Tour de France Etappe 10 und hat dabei 70 Energiegels gegessen.\n",
      "Jan fährt die Tour de France Etappe 11 und hat dabei 77 Energiegels gegessen.\n",
      "Jan fährt die Tour de France Etappe 12 und hat dabei 84 Energiegels gegessen.\n",
      "Jan fährt die Tour de France Etappe 13 und hat dabei 91 Energiegels gegessen.\n",
      "Jan fährt die Tour de France Etappe 14 und hat dabei 98 Energiegels gegessen.\n",
      "Jan fährt die Tour de France Etappe 15 und hat dabei 105 Energiegels gegessen.\n",
      "Jan fährt die Tour de France Etappe 16 und hat dabei 112 Energiegels gegessen.\n",
      "Jan fährt die Tour de France Etappe 17 und hat dabei 119 Energiegels gegessen.\n",
      "Jan fährt die Tour de France Etappe 18 und hat dabei 126 Energiegels gegessen.\n",
      "Jan fährt die Tour de France Etappe 19 und hat dabei 133 Energiegels gegessen.\n",
      "Jan fährt die Tour de France Etappe 20 und hat dabei 140 Energiegels gegessen.\n",
      "Jan fährt die Tour de France Etappe 21 und hat dabei 147 Energiegels gegessen.\n",
      "Hurra! Jan hat es geschafft!\n"
     ]
    }
   ],
   "source": [
    "stage = 1\n",
    "energie_gel_number = 7\n",
    "\n",
    "while stage <= 21:\n",
    "    print(f\"{name} fährt die Tour de France Etappe {stage} und hat dabei {energie_gel_number} Energiegels gegessen.\")\n",
    "    stage += 1\n",
    "    energie_gel_number += 7\n",
    "\n",
    "print('Hurra! Jan hat es geschafft!')\n"
   ]
  },
  {
   "cell_type": "markdown",
   "id": "24f5788e",
   "metadata": {},
   "source": [
    "**Aufgabe 4:** Prüfen Sie folgende Aussagen mit Hilfe eines Boolschen Ausdruck.\n",
    "\n",
    "- Ist die Variable `name` Marco oder Jan?\n",
    "- Ist `age` größer gleich 20 aber kleiner gleich 40?\n",
    "- Ist `age` kleiner 50 und `height` größer 1.90?\n",
    "- Ist die Variable `name` Marco oder Jan und ist `age` kleiner 50 und `height` größer 1.90?"
   ]
  },
  {
   "cell_type": "code",
   "execution_count": 15,
   "id": "d3dbd645",
   "metadata": {},
   "outputs": [
    {
     "data": {
      "text/plain": [
       "True"
      ]
     },
     "execution_count": 15,
     "metadata": {},
     "output_type": "execute_result"
    }
   ],
   "source": [
    "name == 'Marco' or name == 'Jan'"
   ]
  },
  {
   "cell_type": "code",
   "execution_count": 18,
   "id": "9188c3de",
   "metadata": {},
   "outputs": [
    {
     "data": {
      "text/plain": [
       "False"
      ]
     },
     "execution_count": 18,
     "metadata": {},
     "output_type": "execute_result"
    }
   ],
   "source": [
    "age >= 20 and age <= 40"
   ]
  },
  {
   "cell_type": "code",
   "execution_count": 14,
   "id": "013b2bdd",
   "metadata": {},
   "outputs": [
    {
     "data": {
      "text/plain": [
       "False"
      ]
     },
     "execution_count": 14,
     "metadata": {},
     "output_type": "execute_result"
    }
   ],
   "source": [
    "age < 50 and height > 1.90"
   ]
  },
  {
   "cell_type": "code",
   "execution_count": 16,
   "id": "3b9a5285",
   "metadata": {},
   "outputs": [
    {
     "data": {
      "text/plain": [
       "True"
      ]
     },
     "execution_count": 16,
     "metadata": {},
     "output_type": "execute_result"
    }
   ],
   "source": [
    "(name == 'Marco' or name == 'Jan') or (age < 50 and height > 1.90)"
   ]
  },
  {
   "cell_type": "markdown",
   "id": "8c26795e",
   "metadata": {},
   "source": [
    "**Aufgabe 5:** Spiele Sie etwas mit dem try-except Block herum und gebe Sie verschiedene Werte ein. Welche Werte müssen Sie eingeben, um die jeweiligen exceptions auszulösen?"
   ]
  },
  {
   "cell_type": "code",
   "execution_count": 25,
   "id": "bb3f142b",
   "metadata": {},
   "outputs": [
    {
     "name": "stdout",
     "output_type": "stream",
     "text": [
      "Ergebnis: 1.6666666666666667\n"
     ]
    }
   ],
   "source": [
    "user_input_1 = 5\n",
    "user_input_2 = 3\n",
    "\n",
    "try:\n",
    "    integer_1 = int(user_input_1)\n",
    "    integer_2 = int(user_input_2)\n",
    "    \n",
    "    result = integer_1 / integer_2\n",
    "    print(f\"Ergebnis: {result}\")\n",
    "    \n",
    "except ValueError:\n",
    "    print(\"Ungültige Eingabe! Du musst eine ganze Zahl eingeben.\")\n",
    "    \n",
    "except ZeroDivisionError:\n",
    "    print(\"Division durch Null ist nicht erlaubt!\")"
   ]
  }
 ],
 "metadata": {
  "kernelspec": {
   "display_name": "Python 3 (ipykernel)",
   "language": "python",
   "name": "python3"
  },
  "language_info": {
   "codemirror_mode": {
    "name": "ipython",
    "version": 3
   },
   "file_extension": ".py",
   "mimetype": "text/x-python",
   "name": "python",
   "nbconvert_exporter": "python",
   "pygments_lexer": "ipython3",
   "version": "3.8.16"
  }
 },
 "nbformat": 4,
 "nbformat_minor": 5
}
