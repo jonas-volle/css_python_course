{
 "cells": [
  {
   "cell_type": "markdown",
   "id": "9d6e3f96",
   "metadata": {},
   "source": [
    "# Tag 1 - Übung 1"
   ]
  },
  {
   "cell_type": "markdown",
   "id": "7f1caa2c",
   "metadata": {},
   "source": [
    "**Aufgabe 1:** Erstellen Sie ein dictionary `stage_1` mit den folgenden key:value Paaren, stage_num:1, start:Bilbao, end:Bilbao, km:182. Printen Sie das dictionary anschließend."
   ]
  },
  {
   "cell_type": "code",
   "execution_count": 1,
   "id": "5dcb0a26",
   "metadata": {},
   "outputs": [
    {
     "name": "stdout",
     "output_type": "stream",
     "text": [
      "{'stage_num': 1, 'start': 'Bilbao', 'end': 'Bilbao', 'km': 182}\n"
     ]
    }
   ],
   "source": [
    "stage_1 = {'stage_num' : 1,\n",
    "          'start' : 'Bilbao',\n",
    "          'end' : 'Bilbao',\n",
    "          'km' : 182}\n",
    "\n",
    "print(stage_1)"
   ]
  },
  {
   "cell_type": "markdown",
   "id": "b16f32b5",
   "metadata": {},
   "source": [
    "**Aufgabe 2:** Erstellen Sie ein dictionary `stage_2` mit den folgenden key:value Paaren: stage_num:2, start:Vitoria-Gasteiz, end:Saint-Sebastien, km:209. Printen Sie das dictionary anschließend."
   ]
  },
  {
   "cell_type": "code",
   "execution_count": 2,
   "id": "8485ed58",
   "metadata": {},
   "outputs": [
    {
     "name": "stdout",
     "output_type": "stream",
     "text": [
      "{'stage_num': 2, 'start': 'Vitoria-Gasteiz', 'end': 'Saint-Sebastien', 'km': 209}\n"
     ]
    }
   ],
   "source": [
    "stage_2 = {'stage_num' : 2,\n",
    "          'start' : 'Vitoria-Gasteiz',\n",
    "          'end' : 'Saint-Sebastien',\n",
    "          'km' : 209}\n",
    "\n",
    "print(stage_2)"
   ]
  },
  {
   "cell_type": "markdown",
   "id": "773c2538",
   "metadata": {},
   "source": [
    "**Aufgabe 3:** Speichern Sie beide dictionaries in einer Liste mit dem Namen `tdf_stages_23`."
   ]
  },
  {
   "cell_type": "code",
   "execution_count": 4,
   "id": "75fee5b7",
   "metadata": {},
   "outputs": [
    {
     "data": {
      "text/plain": [
       "[{'stage_num': 1, 'start': 'Bilbao', 'end': 'Bilbao', 'km': 182},\n",
       " {'stage_num': 2,\n",
       "  'start': 'Vitoria-Gasteiz',\n",
       "  'end': 'Saint-Sebastien',\n",
       "  'km': 209}]"
      ]
     },
     "execution_count": 4,
     "metadata": {},
     "output_type": "execute_result"
    }
   ],
   "source": [
    "tdf_stages = [stage_1, stage_2]\n",
    "tdf_stages"
   ]
  },
  {
   "cell_type": "markdown",
   "id": "d5dbd02a",
   "metadata": {},
   "source": [
    "**Aufgabe 4**: Fügen Sie der Liste tdf_stages_23 einen weiteren Eintrag hinzu. stage_num:3, start:Amorebieta-Etxano, end:Bayonne, km: 187"
   ]
  },
  {
   "cell_type": "code",
   "execution_count": 6,
   "id": "5ad9a051",
   "metadata": {},
   "outputs": [
    {
     "data": {
      "text/plain": [
       "[{'stage_num': 1, 'start': 'Bilbao', 'end': 'Bilbao', 'km': 182},\n",
       " {'stage_num': 2,\n",
       "  'start': 'Vitoria-Gasteiz',\n",
       "  'end': 'Saint-Sebastien',\n",
       "  'km': 209},\n",
       " {'stage_num': 3, 'start': 'Amorebieta-Etxano', 'end': 'Bayonne', 'km': 187}]"
      ]
     },
     "execution_count": 6,
     "metadata": {},
     "output_type": "execute_result"
    }
   ],
   "source": [
    "stage_3 = {'stage_num' : 3,\n",
    "          'start' : 'Amorebieta-Etxano',\n",
    "          'end' : 'Bayonne',\n",
    "          'km' : 187}\n",
    "tdf_stages.append(stage_3)\n",
    "tdf_stages"
   ]
  },
  {
   "cell_type": "markdown",
   "id": "f5944851",
   "metadata": {},
   "source": [
    "**Aufgabe 5:** Indizieren Sie die folgenden Werte:\n",
    "- Den Startort der zweiten Etappe\n",
    "- Die Kilometeranzahl der ersten Etappe\n",
    "- Den Endort der dritten Etappe"
   ]
  },
  {
   "cell_type": "code",
   "execution_count": 9,
   "id": "f2244114",
   "metadata": {},
   "outputs": [
    {
     "data": {
      "text/plain": [
       "'Vitoria-Gasteiz'"
      ]
     },
     "execution_count": 9,
     "metadata": {},
     "output_type": "execute_result"
    }
   ],
   "source": [
    "tdf_stages[1]['start']"
   ]
  },
  {
   "cell_type": "code",
   "execution_count": 10,
   "id": "12cbc2fb",
   "metadata": {},
   "outputs": [
    {
     "data": {
      "text/plain": [
       "182"
      ]
     },
     "execution_count": 10,
     "metadata": {},
     "output_type": "execute_result"
    }
   ],
   "source": [
    "tdf_stages[0]['km']"
   ]
  },
  {
   "cell_type": "code",
   "execution_count": 11,
   "id": "0da1194b",
   "metadata": {},
   "outputs": [
    {
     "data": {
      "text/plain": [
       "'Bayonne'"
      ]
     },
     "execution_count": 11,
     "metadata": {},
     "output_type": "execute_result"
    }
   ],
   "source": [
    "tdf_stages[2]['end']"
   ]
  },
  {
   "cell_type": "markdown",
   "id": "0619d2d0",
   "metadata": {},
   "source": [
    "**Aufgabe 6:** Schreiben Sie die Funktion `clean_string` die einen string bereinigt. Diese Funktion sollte alle Buchstaben in kleine Buchstaben verwandeln, alle ! und . entfernen und alle überflüssigen Leerzeichen entfernen. Wenden Sie diese Funktion auf den String `my_string` an."
   ]
  },
  {
   "cell_type": "code",
   "execution_count": 12,
   "id": "bbdfd44d",
   "metadata": {},
   "outputs": [],
   "source": [
    "my_string = '   Das HIER ist ein   ..  unordentlicher String!!!!!'"
   ]
  },
  {
   "cell_type": "code",
   "execution_count": 15,
   "id": "87b59fe7",
   "metadata": {},
   "outputs": [],
   "source": [
    "def clean_string(string):\n",
    "    # alle ! entfernen\n",
    "    string_temp = string.replace('!', '')\n",
    "    # Alle Punkte entfernen\n",
    "    string_temp = string_temp.replace('.', '')\n",
    "    # lowercase\n",
    "    string_temp = string_temp.lower()\n",
    "    # leerzeichen\n",
    "    string_temp = ' '.join(string_temp.split())\n",
    "    \n",
    "    return string_temp"
   ]
  },
  {
   "cell_type": "code",
   "execution_count": 16,
   "id": "0605012a",
   "metadata": {},
   "outputs": [
    {
     "data": {
      "text/plain": [
       "'das hier ist ein unordentlicher string'"
      ]
     },
     "execution_count": 16,
     "metadata": {},
     "output_type": "execute_result"
    }
   ],
   "source": [
    "clean_string(my_string)"
   ]
  },
  {
   "cell_type": "markdown",
   "id": "42cd452d",
   "metadata": {},
   "source": [
    "**Aufgabe 7:** Wenden Sie Ihre Funktion mit einer list comrehension auf die List `my_strings` an. Speichern Sie das Ergebnis in der variable `my_clean_strings`. Printen Sie die Variable anschließend."
   ]
  },
  {
   "cell_type": "code",
   "execution_count": 18,
   "id": "3b466b6e",
   "metadata": {},
   "outputs": [],
   "source": [
    "my_strings = ['   Ein WEITERER . richtig unORDENLICHER!!! string', 'UND     NOCH einer!!!', ' SOOOO  VIELE strings...   ']"
   ]
  },
  {
   "cell_type": "code",
   "execution_count": 20,
   "id": "dd3166ff",
   "metadata": {},
   "outputs": [
    {
     "name": "stdout",
     "output_type": "stream",
     "text": [
      "['ein weiterer richtig unordenlicher string', 'und noch einer', 'soooo viele strings']\n"
     ]
    }
   ],
   "source": [
    "my_clean_strings = [clean_string(s) for s in my_strings]\n",
    "print(my_clean_strings)"
   ]
  },
  {
   "cell_type": "code",
   "execution_count": null,
   "id": "e8ddf14e",
   "metadata": {},
   "outputs": [],
   "source": []
  },
  {
   "cell_type": "code",
   "execution_count": null,
   "id": "da01547f",
   "metadata": {},
   "outputs": [],
   "source": []
  }
 ],
 "metadata": {
  "kernelspec": {
   "display_name": "Python 3 (ipykernel)",
   "language": "python",
   "name": "python3"
  },
  "language_info": {
   "codemirror_mode": {
    "name": "ipython",
    "version": 3
   },
   "file_extension": ".py",
   "mimetype": "text/x-python",
   "name": "python",
   "nbconvert_exporter": "python",
   "pygments_lexer": "ipython3",
   "version": "3.8.16"
  }
 },
 "nbformat": 4,
 "nbformat_minor": 5
}
