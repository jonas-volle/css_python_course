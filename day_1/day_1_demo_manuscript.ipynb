{
 "cells": [
  {
   "cell_type": "markdown",
   "id": "82f730a8",
   "metadata": {},
   "source": [
    "# Einführung in Python für die Computational Social Science (CSS)\n",
    "\n",
    "## Jonas Volle\n",
    "Wissenschaftlicher Mitarbeiter  \n",
    "Chair of Methodology and Empirical Social Research  \n",
    "Otto-von-Guericke-Universität\n",
    "\n",
    "[jonas.volle@ovgu.de](mailto:jonas.volle@ovgu.de)\n",
    "\n",
    "**Sprechstunde**: individuell nach vorheriger Anmeldung per [Mail](mailto:jonas.volle@ovgu.de)\n",
    "\n",
    "Freitag, 16.06.2023"
   ]
  },
  {
   "cell_type": "markdown",
   "id": "b6862188",
   "metadata": {},
   "source": [
    "**Quelle:** Ich orientiere mich für diese Sitzung an den Kapiteln 2 und 3 aus dem Buch:  \n",
    "\n",
    "McLevey, John. 2021. Doing Computational Social Science: A Practical Introduction. 1st ed. Thousand Oaks: SAGE Publications.\n"
   ]
  },
  {
   "cell_type": "markdown",
   "id": "f278555f",
   "metadata": {},
   "source": [
    "# Tag 1: Grundlagen"
   ]
  },
  {
   "cell_type": "markdown",
   "id": "6877dff4",
   "metadata": {},
   "source": [
    "## Inhalt\n",
    "\n",
    "- Grundlegende Datentypen und Ausdrücke\n",
    "- Variablen und Zuweisungen\n",
    "- Objekte und Methoden\n",
    "- Vergleiche und Loops\n",
    "- Datenstrukturen (Lists, Tuples, Dictionaries)\n",
    "- Funktionen\n"
   ]
  },
  {
   "cell_type": "markdown",
   "id": "101c8c35",
   "metadata": {},
   "source": [
    "## 1. Grundlegende Datentypen und Ausdrücke"
   ]
  },
  {
   "cell_type": "markdown",
   "id": "e465b782",
   "metadata": {},
   "source": [
    "Jeder Wert (value) in Python hat einen bestimmten Datentyp. Die wichtigsten Datentypen sind:\n",
    "- `integers` (e.g. 42)\n",
    "- `floats` (e.g. 42.0)\n",
    "- `strings` (z.B. 'The Hitchhiker's Guide to the Galaxy' or 'cats are the best')\n",
    "- `Boolean` (`True` oder `False`)"
   ]
  },
  {
   "cell_type": "markdown",
   "id": "44c06b3d",
   "metadata": {},
   "source": [
    "### integers"
   ]
  },
  {
   "cell_type": "code",
   "execution_count": 164,
   "id": "e40298c2",
   "metadata": {},
   "outputs": [
    {
     "data": {
      "text/plain": [
       "42"
      ]
     },
     "execution_count": 164,
     "metadata": {},
     "output_type": "execute_result"
    }
   ],
   "source": [
    "42"
   ]
  },
  {
   "cell_type": "code",
   "execution_count": 165,
   "id": "07054a0f",
   "metadata": {},
   "outputs": [
    {
     "data": {
      "text/plain": [
       "int"
      ]
     },
     "execution_count": 165,
     "metadata": {},
     "output_type": "execute_result"
    }
   ],
   "source": [
    "type(42)"
   ]
  },
  {
   "cell_type": "markdown",
   "id": "47edd3ae",
   "metadata": {},
   "source": [
    "### floats"
   ]
  },
  {
   "cell_type": "code",
   "execution_count": 166,
   "id": "b8e505ec",
   "metadata": {},
   "outputs": [
    {
     "data": {
      "text/plain": [
       "42.2"
      ]
     },
     "execution_count": 166,
     "metadata": {},
     "output_type": "execute_result"
    }
   ],
   "source": [
    "42.2"
   ]
  },
  {
   "cell_type": "code",
   "execution_count": 167,
   "id": "470a5dd5",
   "metadata": {},
   "outputs": [
    {
     "data": {
      "text/plain": [
       "float"
      ]
     },
     "execution_count": 167,
     "metadata": {},
     "output_type": "execute_result"
    }
   ],
   "source": [
    "type(42.2)"
   ]
  },
  {
   "cell_type": "markdown",
   "id": "8169796e",
   "metadata": {},
   "source": [
    "### strings"
   ]
  },
  {
   "cell_type": "markdown",
   "id": "6bb686ae",
   "metadata": {},
   "source": [
    "Strings sind Sequenzen von Buchstaben, die in einfache `''` oder doppelte Anführungszeichen `\"\"` eingeschlossen sind. Welche Variante verwendet wird ist dabei egal, sie muss nur konsistent verwendet werden. Wenn Anführungszeichen und Apostrophe im `string` enthalten sind, muss der String mit der anderen Art der Anführungszeichen begonnen oder geschlossen werden."
   ]
  },
  {
   "cell_type": "code",
   "execution_count": 168,
   "id": "2b1ab1f0",
   "metadata": {},
   "outputs": [
    {
     "data": {
      "text/plain": [
       "\"That's correct.\""
      ]
     },
     "execution_count": 168,
     "metadata": {},
     "output_type": "execute_result"
    }
   ],
   "source": [
    "\"That's correct.\""
   ]
  },
  {
   "cell_type": "code",
   "execution_count": 169,
   "id": "068245d0",
   "metadata": {},
   "outputs": [
    {
     "data": {
      "text/plain": [
       "'My teacher said, \"That is correct.\"'"
      ]
     },
     "execution_count": 169,
     "metadata": {},
     "output_type": "execute_result"
    }
   ],
   "source": [
    "'My teacher said, \"That is correct.\"'"
   ]
  },
  {
   "cell_type": "code",
   "execution_count": 170,
   "id": "e655b5a9",
   "metadata": {},
   "outputs": [
    {
     "data": {
      "text/plain": [
       "str"
      ]
     },
     "execution_count": 170,
     "metadata": {},
     "output_type": "execute_result"
    }
   ],
   "source": [
    "type(\"That's correct.\")"
   ]
  },
  {
   "cell_type": "markdown",
   "id": "ec8547e7",
   "metadata": {},
   "source": [
    "### Boolean\n",
    "\n",
    "Boolesche Datentyp können wie Werte `True` oder `False` haben."
   ]
  },
  {
   "cell_type": "code",
   "execution_count": 171,
   "id": "a1ece5f8",
   "metadata": {},
   "outputs": [
    {
     "data": {
      "text/plain": [
       "True"
      ]
     },
     "execution_count": 171,
     "metadata": {},
     "output_type": "execute_result"
    }
   ],
   "source": [
    "True"
   ]
  },
  {
   "cell_type": "code",
   "execution_count": 172,
   "id": "7576d2e5",
   "metadata": {},
   "outputs": [
    {
     "data": {
      "text/plain": [
       "False"
      ]
     },
     "execution_count": 172,
     "metadata": {},
     "output_type": "execute_result"
    }
   ],
   "source": [
    "False"
   ]
  },
  {
   "cell_type": "code",
   "execution_count": 173,
   "id": "2bc6a0f2",
   "metadata": {},
   "outputs": [
    {
     "data": {
      "text/plain": [
       "bool"
      ]
     },
     "execution_count": 173,
     "metadata": {},
     "output_type": "execute_result"
    }
   ],
   "source": [
    "type(False)"
   ]
  },
  {
   "cell_type": "markdown",
   "id": "a0031562",
   "metadata": {},
   "source": [
    "## Ausdrücke (expressions)"
   ]
  },
  {
   "cell_type": "markdown",
   "id": "8d700d2d",
   "metadata": {},
   "source": [
    "Ein Ausdruck (expression) besteht aus zwei oder mehr Werten (values), die mit einem Operator verbunden sind.\n",
    "\n",
    "Python kann z.B. als Taschenrechner genutzt werden:"
   ]
  },
  {
   "cell_type": "code",
   "execution_count": 174,
   "id": "b3af7444",
   "metadata": {},
   "outputs": [
    {
     "data": {
      "text/plain": [
       "4"
      ]
     },
     "execution_count": 174,
     "metadata": {},
     "output_type": "execute_result"
    }
   ],
   "source": [
    "2 + 2 # Addition"
   ]
  },
  {
   "cell_type": "code",
   "execution_count": 175,
   "id": "1148adc4",
   "metadata": {},
   "outputs": [
    {
     "data": {
      "text/plain": [
       "18"
      ]
     },
     "execution_count": 175,
     "metadata": {},
     "output_type": "execute_result"
    }
   ],
   "source": [
    "2 * 9 # Multiplication"
   ]
  },
  {
   "cell_type": "code",
   "execution_count": 176,
   "id": "99764602",
   "metadata": {},
   "outputs": [
    {
     "data": {
      "text/plain": [
       "5.0"
      ]
     },
     "execution_count": 176,
     "metadata": {},
     "output_type": "execute_result"
    }
   ],
   "source": [
    "10 / 2 # Division"
   ]
  },
  {
   "cell_type": "code",
   "execution_count": 177,
   "id": "c566d955",
   "metadata": {},
   "outputs": [
    {
     "data": {
      "text/plain": [
       "64"
      ]
     },
     "execution_count": 177,
     "metadata": {},
     "output_type": "execute_result"
    }
   ],
   "source": [
    "2 ** 6 # Exponential"
   ]
  },
  {
   "cell_type": "code",
   "execution_count": 178,
   "id": "3b14392d",
   "metadata": {
    "scrolled": true
   },
   "outputs": [
    {
     "data": {
      "text/plain": [
       "65"
      ]
     },
     "execution_count": 178,
     "metadata": {},
     "output_type": "execute_result"
    }
   ],
   "source": [
    "2+9*7"
   ]
  },
  {
   "cell_type": "markdown",
   "id": "a9481d37",
   "metadata": {},
   "source": [
    "<div class='alert alert-block alert-warning'>\n",
    "Bei Ausdrücken mit mehreren Operatoren folgt Python der üblichen mathematischen Reihenfolge der Operationen. Z.B. Punkt vor Strichrechnung, Klammern etc.\n",
    "</div>"
   ]
  },
  {
   "cell_type": "markdown",
   "id": "26f3ea8d",
   "metadata": {},
   "source": [
    "Manche dieser Operatoren können auch mit `strings` angewendet werden, sie stehen dabei aber für **verschiedene** Dinge. Wird beispielsweise der Operator `+` in einem Ausdruck mit zwei `strings` verwendet, führt Python eine Verkettung der strings durch, indem er die beiden `strings` miteinander verbindet."
   ]
  },
  {
   "cell_type": "code",
   "execution_count": 179,
   "id": "c6627ab8",
   "metadata": {},
   "outputs": [
    {
     "name": "stdout",
     "output_type": "stream",
     "text": [
      "Miyoko is interested in a career in data science.\n"
     ]
    }
   ],
   "source": [
    "print('Miyoko is interested in ' + 'a career in data science.')"
   ]
  },
  {
   "cell_type": "markdown",
   "id": "2ca3c261",
   "metadata": {},
   "source": [
    "Python kann anhand des Kontexts (Datentyp) bestimmen, ob `+` eine Addition oder eine Verkettung von Zeichenketten sein soll: Je nachdem ob beide Elemente strings oder Zahlen sind. \n",
    "\n",
    "**Achtung:** Python gibt jedoch einen Fehler aus, wenn eine Zahl und ein string addiert bzw. verkettet werden soll."
   ]
  },
  {
   "cell_type": "code",
   "execution_count": 180,
   "id": "9b95efe4",
   "metadata": {},
   "outputs": [
    {
     "ename": "TypeError",
     "evalue": "unsupported operand type(s) for +: 'int' and 'str'",
     "output_type": "error",
     "traceback": [
      "\u001b[1;31m---------------------------------------------------------------------------\u001b[0m",
      "\u001b[1;31mTypeError\u001b[0m                                 Traceback (most recent call last)",
      "Cell \u001b[1;32mIn[180], line 1\u001b[0m\n\u001b[1;32m----> 1\u001b[0m \u001b[38;5;28mprint\u001b[39m(\u001b[38;5;241;43m42\u001b[39;49m\u001b[43m \u001b[49m\u001b[38;5;241;43m+\u001b[39;49m\u001b[43m \u001b[49m\u001b[38;5;124;43m'\u001b[39;49m\u001b[38;5;124;43mis the answer\u001b[39;49m\u001b[38;5;124;43m'\u001b[39;49m)\n",
      "\u001b[1;31mTypeError\u001b[0m: unsupported operand type(s) for +: 'int' and 'str'"
     ]
    }
   ],
   "source": [
    "print(42 + 'is the answer')"
   ]
  },
  {
   "cell_type": "markdown",
   "id": "19676899",
   "metadata": {},
   "source": [
    "Wir können die Zahl aber mit der `str()` Funktion in einen string umwandeln und dann beide strings miteinander verketten:"
   ]
  },
  {
   "cell_type": "code",
   "execution_count": 181,
   "id": "5ed61be7",
   "metadata": {},
   "outputs": [
    {
     "name": "stdout",
     "output_type": "stream",
     "text": [
      "42 is the answer\n"
     ]
    }
   ],
   "source": [
    "print(str(42) + ' is the answer')"
   ]
  },
  {
   "cell_type": "markdown",
   "id": "bd58e7bb",
   "metadata": {},
   "source": [
    "Für `strings` können wir auch den `*` Operator verwenden. In diesem Fall können wir einen `string` und einen `integer` kombinieren:"
   ]
  },
  {
   "cell_type": "code",
   "execution_count": 182,
   "id": "096252af",
   "metadata": {},
   "outputs": [
    {
     "name": "stdout",
     "output_type": "stream",
     "text": [
      "Sociology Sociology Sociology Sociology Sociology \n"
     ]
    }
   ],
   "source": [
    "print('Sociology ' * 5)"
   ]
  },
  {
   "cell_type": "code",
   "execution_count": 183,
   "id": "d3853f6d",
   "metadata": {},
   "outputs": [
    {
     "name": "stdout",
     "output_type": "stream",
     "text": [
      "Sociology Sociology Sociology Sociology Sociology super! super! super! \n"
     ]
    }
   ],
   "source": [
    "print('Sociology ' * 5 + 'super! ' * 3)"
   ]
  },
  {
   "cell_type": "markdown",
   "id": "b53b8bff",
   "metadata": {},
   "source": [
    "## 2. Variablen und Zuweisungen"
   ]
  },
  {
   "cell_type": "markdown",
   "id": "8c47eb00",
   "metadata": {},
   "source": [
    "Wir können Daten in *Variablen* durch *Zuweisung* speichern. Diese Zuweisung wird durch den Operator `=` angezeigt. Wir können diese Variablen so bezeichnen wie wir wollen. Wir müssen nur folgende Regeln beachten:\n",
    "\n",
    "- Wir dürfen nur *Zahlen*, *Buchstaben* und den *underscore* (`_`) verwenden\n",
    "- Wir dürfen den Namen nicht mit einer Zahl beginnen\n",
    "- Wir dürfen keine Wörter verwenden, die in Python reserviert sind (z.B. `class`, `print` oder `True`)"
   ]
  },
  {
   "cell_type": "markdown",
   "id": "bbb21a3c",
   "metadata": {},
   "source": [
    "<div class='alert alert-block alert-warning'>\n",
    "Verwenden Sie beschreibende Namen für Ihre Variablen (nennen Sie z. B. die Variable, die einen Nachnamen enthält, als String last_name, nicht ln). Dadurch wird Ihr Code viel lesbarer und ist für Sie oder Ihre Mitarbeiter:innen nach einiger Zeit leichter zu verstehen.\n",
    "</div>"
   ]
  },
  {
   "cell_type": "markdown",
   "id": "e8083420",
   "metadata": {},
   "source": [
    "Sie können sich eine Variable als einen beschrifteten Container vorstellen, der bestimmte Informationen speichert. Im folgenden Beispiel hat der Container ein \"Etikett\" namens `a_number` und speichert den Integer-Wert 16:"
   ]
  },
  {
   "cell_type": "code",
   "execution_count": 184,
   "id": "951fb00f",
   "metadata": {},
   "outputs": [],
   "source": [
    "a_number = 16"
   ]
  },
  {
   "cell_type": "code",
   "execution_count": 185,
   "id": "8929025e",
   "metadata": {},
   "outputs": [
    {
     "name": "stdout",
     "output_type": "stream",
     "text": [
      "16\n"
     ]
    }
   ],
   "source": [
    "print(a_number)"
   ]
  },
  {
   "cell_type": "markdown",
   "id": "9b1f0471",
   "metadata": {},
   "source": [
    "Sobald wir eine Variable erstellt haben, können wir diese Variable innerhalb von Ausdrücken verwenden:"
   ]
  },
  {
   "cell_type": "code",
   "execution_count": 186,
   "id": "5599c44c",
   "metadata": {},
   "outputs": [
    {
     "data": {
      "text/plain": [
       "256"
      ]
     },
     "execution_count": 186,
     "metadata": {},
     "output_type": "execute_result"
    }
   ],
   "source": [
    "a_number * a_number"
   ]
  },
  {
   "cell_type": "code",
   "execution_count": 187,
   "id": "09662491",
   "metadata": {},
   "outputs": [],
   "source": [
    "city = 'Magdeburg'\n",
    "country = 'Deutschland'"
   ]
  },
  {
   "cell_type": "code",
   "execution_count": 188,
   "id": "0f7cc49f",
   "metadata": {},
   "outputs": [
    {
     "name": "stdout",
     "output_type": "stream",
     "text": [
      "MagdeburgDeutschland\n"
     ]
    }
   ],
   "source": [
    "print(city + country)"
   ]
  },
  {
   "cell_type": "code",
   "execution_count": 189,
   "id": "19d04a01",
   "metadata": {},
   "outputs": [
    {
     "name": "stdout",
     "output_type": "stream",
     "text": [
      "Magdeburg ist eine Stadt in Deutschland\n"
     ]
    }
   ],
   "source": [
    "print(city + ' ist eine Stadt in ' + country)"
   ]
  },
  {
   "cell_type": "markdown",
   "id": "d7d014ee",
   "metadata": {},
   "source": [
    "Wir können die Ergebnisse eines Ausdrucks nicht nur printen, sondern auch in einer neuen Variable speichern:"
   ]
  },
  {
   "cell_type": "code",
   "execution_count": 190,
   "id": "97b17bce",
   "metadata": {},
   "outputs": [],
   "source": [
    "sentence = city + ' ist eine Stadt in ' + country"
   ]
  },
  {
   "cell_type": "code",
   "execution_count": 191,
   "id": "1a5dafb5",
   "metadata": {},
   "outputs": [
    {
     "name": "stdout",
     "output_type": "stream",
     "text": [
      "Magdeburg ist eine Stadt in Deutschland\n"
     ]
    }
   ],
   "source": [
    "print(sentence)"
   ]
  },
  {
   "cell_type": "markdown",
   "id": "8fe07ac9",
   "metadata": {},
   "source": [
    "## 3. Objekte und Methoden"
   ]
  },
  {
   "cell_type": "markdown",
   "id": "3e3eb845",
   "metadata": {},
   "source": [
    "Python ist eine *objektorientierte* Programmiersprache. Das bedeutet, dass Python Berechnungen mit *Objekten* durchführt."
   ]
  },
  {
   "cell_type": "markdown",
   "id": "8b144197",
   "metadata": {},
   "source": [
    "Ein Analogie:\n",
    "\n",
    "John hat zwei Katzen, Dorothy und Lando. Diese Katzen können verschiedene Aktionen ausführen, z. B.:\n",
    "\n",
    "- sich in kleine Pappkartons zwängen, um ein Nickerchen zu machen\n",
    "- aus einem tropfenden Wasserhahn trinken\n",
    "- auf Johns Tastatur legen, während er sie benutze\n",
    "- Yogamatten mit ihren Krallen zerreißen, wenn man sich länger als zehn Minuten von der Matte entfernt. \n",
    "\n",
    "Dorothy und Lando sind beide spezifische \"Instanzen\" der allgemeinen \"Klasse\" der Katzen. Als Katzen können sie einige spezielle Aktionen ausführen, darunter die oben genannten.  "
   ]
  },
  {
   "cell_type": "markdown",
   "id": "b2eb3806",
   "metadata": {},
   "source": [
    "In Python ist (fast) alles ein Objekt der einen oder anderen Art. Wie Dorothy und Lando sind Objekte spezifische Instanzen von allgemeineren Klassen. Da sie spezifische Instanzen sind, haben sie typischerweise einen Namen, der sich von ihrer Klasse unterscheidet.\n",
    "\n",
    "Das Objekt `sentence` ist eine Instanz der Klasse `string`. \n",
    "\n",
    "Objekte sind zu einer Reihe von Aktionen fähig, die **Methoden** genannt werden und die sie mit anderen Objekten derselben Klasse teilen.  \n",
    "\n",
    "In Python verfügen Strings über Methoden z.B. zur Konvertierung von Groß- zu Kleinbuchstaben und umgekehrt, zum Überprüfen des Vorhandenseins eines Wertes, zum Ersetzen eines substrings durch einen anderen und vieles mehr.  "
   ]
  },
  {
   "cell_type": "markdown",
   "id": "a6a61ff8",
   "metadata": {},
   "source": [
    "Um mehr über eine bestimmte Klasse und ihre Methoden zu erfahren, können Sie in der Regel die Online-Dokumentation lesen, die ? Funktion von Jupyter (z. B. a_number?) oder die `dir()`-Funktion von Python (z. B. `dir(a_number)`) verwenden."
   ]
  },
  {
   "cell_type": "code",
   "execution_count": 192,
   "id": "e28120a5",
   "metadata": {},
   "outputs": [
    {
     "data": {
      "text/plain": [
       "str"
      ]
     },
     "execution_count": 192,
     "metadata": {},
     "output_type": "execute_result"
    }
   ],
   "source": [
    "type(sentence)"
   ]
  },
  {
   "cell_type": "code",
   "execution_count": 193,
   "id": "6942ac7c",
   "metadata": {},
   "outputs": [
    {
     "data": {
      "text/plain": [
       "['__add__',\n",
       " '__class__',\n",
       " '__contains__',\n",
       " '__delattr__',\n",
       " '__dir__',\n",
       " '__doc__',\n",
       " '__eq__',\n",
       " '__format__',\n",
       " '__ge__',\n",
       " '__getattribute__',\n",
       " '__getitem__',\n",
       " '__getnewargs__',\n",
       " '__gt__',\n",
       " '__hash__',\n",
       " '__init__',\n",
       " '__init_subclass__',\n",
       " '__iter__',\n",
       " '__le__',\n",
       " '__len__',\n",
       " '__lt__',\n",
       " '__mod__',\n",
       " '__mul__',\n",
       " '__ne__',\n",
       " '__new__',\n",
       " '__reduce__',\n",
       " '__reduce_ex__',\n",
       " '__repr__',\n",
       " '__rmod__',\n",
       " '__rmul__',\n",
       " '__setattr__',\n",
       " '__sizeof__',\n",
       " '__str__',\n",
       " '__subclasshook__',\n",
       " 'capitalize',\n",
       " 'casefold',\n",
       " 'center',\n",
       " 'count',\n",
       " 'encode',\n",
       " 'endswith',\n",
       " 'expandtabs',\n",
       " 'find',\n",
       " 'format',\n",
       " 'format_map',\n",
       " 'index',\n",
       " 'isalnum',\n",
       " 'isalpha',\n",
       " 'isascii',\n",
       " 'isdecimal',\n",
       " 'isdigit',\n",
       " 'isidentifier',\n",
       " 'islower',\n",
       " 'isnumeric',\n",
       " 'isprintable',\n",
       " 'isspace',\n",
       " 'istitle',\n",
       " 'isupper',\n",
       " 'join',\n",
       " 'ljust',\n",
       " 'lower',\n",
       " 'lstrip',\n",
       " 'maketrans',\n",
       " 'partition',\n",
       " 'replace',\n",
       " 'rfind',\n",
       " 'rindex',\n",
       " 'rjust',\n",
       " 'rpartition',\n",
       " 'rsplit',\n",
       " 'rstrip',\n",
       " 'split',\n",
       " 'splitlines',\n",
       " 'startswith',\n",
       " 'strip',\n",
       " 'swapcase',\n",
       " 'title',\n",
       " 'translate',\n",
       " 'upper',\n",
       " 'zfill']"
      ]
     },
     "execution_count": 193,
     "metadata": {},
     "output_type": "execute_result"
    }
   ],
   "source": [
    "dir(sentence)"
   ]
  },
  {
   "cell_type": "code",
   "execution_count": 194,
   "id": "e5cd2078",
   "metadata": {},
   "outputs": [],
   "source": [
    "dir?"
   ]
  },
  {
   "cell_type": "markdown",
   "id": "7ccfef28",
   "metadata": {},
   "source": [
    "### Changing case"
   ]
  },
  {
   "cell_type": "markdown",
   "id": "e46c106b",
   "metadata": {},
   "source": [
    "Die folgenden Beispiele veranschaulichen einige gängige Methoden der Stringmanipulation.  \n",
    "\n",
    "Jedes Mal, wenn wir eine **Methode** verwenden, geben wir den Namen des Objekts gefolgt von einem `.` und dem Namen der Methode an. Um zum Beispiel die Groß- und Kleinschreibung von Zeichen in einer Zeichenkette zu ändern, können wir die Methoden `.upper()`, `.lower()` und `title()` verwenden."
   ]
  },
  {
   "cell_type": "code",
   "execution_count": 195,
   "id": "65be9922",
   "metadata": {},
   "outputs": [
    {
     "name": "stdout",
     "output_type": "stream",
     "text": [
      "Magdeburg\n"
     ]
    }
   ],
   "source": [
    "print(city)"
   ]
  },
  {
   "cell_type": "code",
   "execution_count": 196,
   "id": "26450f50",
   "metadata": {},
   "outputs": [
    {
     "data": {
      "text/plain": [
       "'MAGDEBURG'"
      ]
     },
     "execution_count": 196,
     "metadata": {},
     "output_type": "execute_result"
    }
   ],
   "source": [
    "city.upper()"
   ]
  },
  {
   "cell_type": "code",
   "execution_count": 197,
   "id": "999b4a59",
   "metadata": {},
   "outputs": [
    {
     "data": {
      "text/plain": [
       "'magdeburg'"
      ]
     },
     "execution_count": 197,
     "metadata": {},
     "output_type": "execute_result"
    }
   ],
   "source": [
    "city.lower()"
   ]
  },
  {
   "cell_type": "code",
   "execution_count": 198,
   "id": "c12a8528",
   "metadata": {},
   "outputs": [
    {
     "data": {
      "text/plain": [
       "'Magdeburg'"
      ]
     },
     "execution_count": 198,
     "metadata": {},
     "output_type": "execute_result"
    }
   ],
   "source": [
    "city.title()"
   ]
  },
  {
   "cell_type": "markdown",
   "id": "5205e19a",
   "metadata": {},
   "source": [
    "Technisch gesehen ändern die Methoden `.upper()` und `.lower()` den string selbst nicht, sondern erzeugen einen neuen string. Der obige Code gibt diese neuen string aus, aber Python hat den in `city` enthaltenen string nicht geändert. Um das zu tun, müssen wir `city` mit dem neuen string überschreiben:"
   ]
  },
  {
   "cell_type": "code",
   "execution_count": 199,
   "id": "c1502f63",
   "metadata": {},
   "outputs": [
    {
     "name": "stdout",
     "output_type": "stream",
     "text": [
      "Magdeburg\n"
     ]
    }
   ],
   "source": [
    "print(city)"
   ]
  },
  {
   "cell_type": "code",
   "execution_count": 200,
   "id": "aedd7790",
   "metadata": {},
   "outputs": [
    {
     "name": "stdout",
     "output_type": "stream",
     "text": [
      "MAGDEBURG\n"
     ]
    }
   ],
   "source": [
    "city = city.upper()\n",
    "print(city)"
   ]
  },
  {
   "cell_type": "markdown",
   "id": "88661348",
   "metadata": {},
   "source": [
    "Wir können auch prüfen, ob ein string einen anderen string enthält. Um zu prüfen, ob die Variable sentence den string 'Deutschland' enthält, können wir den `in` Operator verwenden. Python gibt `True` zurück, wenn 'Deutschland' in sentence enthalten ist, und `False`, wenn es nicht enthalten ist:"
   ]
  },
  {
   "cell_type": "code",
   "execution_count": 201,
   "id": "86cd7df1",
   "metadata": {},
   "outputs": [
    {
     "name": "stdout",
     "output_type": "stream",
     "text": [
      "Magdeburg ist eine Stadt in Deutschland\n"
     ]
    }
   ],
   "source": [
    "print(sentence)"
   ]
  },
  {
   "cell_type": "code",
   "execution_count": 202,
   "id": "54b536cf",
   "metadata": {},
   "outputs": [
    {
     "data": {
      "text/plain": [
       "True"
      ]
     },
     "execution_count": 202,
     "metadata": {},
     "output_type": "execute_result"
    }
   ],
   "source": [
    "'Deutschland' in sentence"
   ]
  },
  {
   "cell_type": "code",
   "execution_count": 203,
   "id": "f1cc047d",
   "metadata": {},
   "outputs": [
    {
     "data": {
      "text/plain": [
       "False"
      ]
     },
     "execution_count": 203,
     "metadata": {},
     "output_type": "execute_result"
    }
   ],
   "source": [
    "'Köln' in sentence"
   ]
  },
  {
   "cell_type": "markdown",
   "id": "82002d18",
   "metadata": {},
   "source": [
    "Wir können auch die Methode `.index()` verwenden, um die Anfangs-Indexposition für die Stelle zurückzugeben, an der ein substring (`country`) in einem string (`sentence`) erscheint. Wenn der substring nicht im string enthalten ist, gibt diese Methode einen Fehler aus."
   ]
  },
  {
   "cell_type": "code",
   "execution_count": 204,
   "id": "12b20be1",
   "metadata": {},
   "outputs": [
    {
     "name": "stdout",
     "output_type": "stream",
     "text": [
      "Magdeburg ist eine Stadt in Deutschland\n"
     ]
    }
   ],
   "source": [
    "print(sentence)"
   ]
  },
  {
   "cell_type": "code",
   "execution_count": 205,
   "id": "c0c65963",
   "metadata": {},
   "outputs": [
    {
     "name": "stdout",
     "output_type": "stream",
     "text": [
      "Deutschland\n"
     ]
    }
   ],
   "source": [
    "print(country)"
   ]
  },
  {
   "cell_type": "code",
   "execution_count": 206,
   "id": "e9a77701",
   "metadata": {},
   "outputs": [
    {
     "data": {
      "text/plain": [
       "28"
      ]
     },
     "execution_count": 206,
     "metadata": {},
     "output_type": "execute_result"
    }
   ],
   "source": [
    "sentence.index(country)"
   ]
  },
  {
   "cell_type": "markdown",
   "id": "b11f8c08",
   "metadata": {},
   "source": [
    "<div class='alert alert-block alert-warning'>\n",
    "    <b>Achtung!</b> Der index in Python beginnt bei 0!\n",
    "</div>"
   ]
  },
  {
   "cell_type": "code",
   "execution_count": 207,
   "id": "541878cd",
   "metadata": {},
   "outputs": [
    {
     "data": {
      "text/plain": [
       "0"
      ]
     },
     "execution_count": 207,
     "metadata": {},
     "output_type": "execute_result"
    }
   ],
   "source": [
    "sentence.index('Magdeburg')"
   ]
  },
  {
   "cell_type": "markdown",
   "id": "f256b652",
   "metadata": {},
   "source": [
    "Um ein substring durch einen andere substring zu ersetzen, können wir die Methode `.replace()` verwenden. Zum Beispiel, um Magdeburg durch Köln zu ersetzen:"
   ]
  },
  {
   "cell_type": "code",
   "execution_count": 208,
   "id": "332b781a",
   "metadata": {},
   "outputs": [
    {
     "name": "stdout",
     "output_type": "stream",
     "text": [
      "Köln ist eine Stadt in Deutschland\n"
     ]
    }
   ],
   "source": [
    "sentence = sentence.replace('Magdeburg', 'Köln')\n",
    "print(sentence)"
   ]
  },
  {
   "cell_type": "markdown",
   "id": "166266df",
   "metadata": {},
   "source": [
    "## Joining and splitting strings"
   ]
  },
  {
   "cell_type": "markdown",
   "id": "44937e93",
   "metadata": {},
   "source": [
    "Bei der Arbeit mit strings und anderen Textdaten kommt es häufig vor, dass wir einen string in mehrere Teile aufteilen oder zu einem bestimmten string zusammenfügen muss. Wenn wir die Methode `.split()` auf eine Zeichenkette ohne Argumente anwenden, teilt sie die Zeichenkette an Leerzeichen auf und gibt eine sogenannte Liste zurück:"
   ]
  },
  {
   "cell_type": "code",
   "execution_count": 209,
   "id": "9ba1e842",
   "metadata": {},
   "outputs": [
    {
     "name": "stdout",
     "output_type": "stream",
     "text": [
      "['Köln', 'ist', 'eine', 'Stadt', 'in', 'Deutschland']\n"
     ]
    }
   ],
   "source": [
    "sent_split_1 = sentence.split()\n",
    "print(sent_split_1)"
   ]
  },
  {
   "cell_type": "markdown",
   "id": "c8421233",
   "metadata": {},
   "source": [
    "Alternativ können wir `.split()` anweisen, eine Zeichenkette an bestimmten substrings aufzuteilen:"
   ]
  },
  {
   "cell_type": "code",
   "execution_count": 210,
   "id": "62ff2c33",
   "metadata": {},
   "outputs": [
    {
     "name": "stdout",
     "output_type": "stream",
     "text": [
      "['Köln ist ', ' Stadt in Deutschland']\n"
     ]
    }
   ],
   "source": [
    "sent_split_2 = sentence.split('eine')\n",
    "print(sent_split_2)"
   ]
  },
  {
   "cell_type": "markdown",
   "id": "a949e487",
   "metadata": {},
   "source": [
    "Um diese Elemente wieder zu einem einzigen string zusammenzufügen, verwenden wir `.join()`. Um diese Methode zu verwenden, geben wir zunächst das Trennzeichen an, das `.join()` zwischen die Elemente setzen soll, und übergeben dann die Elemente, die wir wieder zu einem string zusammenfügen wollen:"
   ]
  },
  {
   "cell_type": "code",
   "execution_count": 41,
   "id": "d7822d15",
   "metadata": {},
   "outputs": [
    {
     "name": "stdout",
     "output_type": "stream",
     "text": [
      "['Köln', 'ist', 'eine', 'Stadt', 'in', 'Deutschland']\n"
     ]
    }
   ],
   "source": [
    "print(sent_split_1)"
   ]
  },
  {
   "cell_type": "code",
   "execution_count": 211,
   "id": "30b520a5",
   "metadata": {},
   "outputs": [
    {
     "data": {
      "text/plain": [
       "'Köln ist eine Stadt in Deutschland'"
      ]
     },
     "execution_count": 211,
     "metadata": {},
     "output_type": "execute_result"
    }
   ],
   "source": [
    "joined = \" \".join(sent_split_1)\n",
    "joined"
   ]
  },
  {
   "cell_type": "code",
   "execution_count": 212,
   "id": "e5bfc165",
   "metadata": {},
   "outputs": [
    {
     "data": {
      "text/plain": [
       "'Köln-ist-eine-Stadt-in-Deutschland'"
      ]
     },
     "execution_count": 212,
     "metadata": {},
     "output_type": "execute_result"
    }
   ],
   "source": [
    "also_joined = \"-\".join(sent_split_1)\n",
    "also_joined"
   ]
  },
  {
   "cell_type": "markdown",
   "id": "d027b5be",
   "metadata": {},
   "source": [
    "## Leerzeichen entfernen"
   ]
  },
  {
   "cell_type": "markdown",
   "id": "dcbfb48a",
   "metadata": {},
   "source": [
    "Strings mit Textdaten aus der realen Welt haben oft viele Leerzeichen. Um diese Leerzeichen zu entfernen, können wir die Methoden `.strip()`, `.lstrip()` oder `.rstrip()` verwenden, um zusätzliche Leerzeichen aus dem gesamten string (ohne die Leerzeichen zwischen den Wörtern) oder vom Anfang oder Ende der Zeichenkette zu entfernen:"
   ]
  },
  {
   "cell_type": "code",
   "execution_count": 213,
   "id": "bf853105",
   "metadata": {},
   "outputs": [
    {
     "data": {
      "text/plain": [
       "' This      string has extra whitespace. '"
      ]
     },
     "execution_count": 213,
     "metadata": {},
     "output_type": "execute_result"
    }
   ],
   "source": [
    "with_whitespaces = ' This      string has extra whitespace. '\n",
    "with_whitespaces"
   ]
  },
  {
   "cell_type": "code",
   "execution_count": 214,
   "id": "cbcdb9fe",
   "metadata": {},
   "outputs": [
    {
     "data": {
      "text/plain": [
       "'This      string has extra whitespace.'"
      ]
     },
     "execution_count": 214,
     "metadata": {},
     "output_type": "execute_result"
    }
   ],
   "source": [
    "# Leerzeichen vorne und hinten entfernen\n",
    "with_whitespaces.strip()"
   ]
  },
  {
   "cell_type": "code",
   "execution_count": 215,
   "id": "d6e8edac",
   "metadata": {},
   "outputs": [
    {
     "data": {
      "text/plain": [
       "'This      string has extra whitespace. '"
      ]
     },
     "execution_count": 215,
     "metadata": {},
     "output_type": "execute_result"
    }
   ],
   "source": [
    "# Leerzeichen vorne (left) entfernen\n",
    "with_whitespaces.lstrip()"
   ]
  },
  {
   "cell_type": "code",
   "execution_count": 216,
   "id": "1cff61af",
   "metadata": {},
   "outputs": [
    {
     "data": {
      "text/plain": [
       "' This      string has extra whitespace.'"
      ]
     },
     "execution_count": 216,
     "metadata": {},
     "output_type": "execute_result"
    }
   ],
   "source": [
    "# Leerzeichen hinten (rechts) entfernen\n",
    "with_whitespaces.rstrip()"
   ]
  },
  {
   "cell_type": "markdown",
   "id": "094897ad",
   "metadata": {},
   "source": [
    "Um alle überflüssigen Leerzeichen zu entfernen (also auch die zwischen Wörtern) können wir die Methoden `.split()` und `.join()` kombinieren."
   ]
  },
  {
   "cell_type": "code",
   "execution_count": 217,
   "id": "0ead17d1",
   "metadata": {},
   "outputs": [
    {
     "data": {
      "text/plain": [
       "'This string has extra whitespace.'"
      ]
     },
     "execution_count": 217,
     "metadata": {},
     "output_type": "execute_result"
    }
   ],
   "source": [
    "without_whitespaces = \" \".join(with_whitespaces.split())\n",
    "without_whitespaces"
   ]
  },
  {
   "cell_type": "markdown",
   "id": "e77698c1",
   "metadata": {},
   "source": [
    "## Einfügen von Strings in andere Strings mit der  .format() Methode und f-string"
   ]
  },
  {
   "cell_type": "markdown",
   "id": "eef41bbb",
   "metadata": {},
   "source": [
    "Während wir `+` für die Verkettung von Strings verwenden können, ist es oft besser, die in Python eingebauten Werkzeuge für die String-Formatierung zu verwenden. Ein solches Werkzeug ist die passend benannte Methode zur String-Formatierung namens `.format()`."
   ]
  },
  {
   "cell_type": "code",
   "execution_count": 48,
   "id": "1574a4b3",
   "metadata": {},
   "outputs": [
    {
     "name": "stdout",
     "output_type": "stream",
     "text": [
      "Magdeburg is eine schöne Stadt in Deutschland.\n"
     ]
    }
   ],
   "source": [
    "a_string = \"{} is eine schöne Stadt in {}.\" \n",
    "print(a_string.format(city.title(), country))"
   ]
  },
  {
   "cell_type": "markdown",
   "id": "af577b1c",
   "metadata": {},
   "source": [
    "Der String in der ersten Zeile enthält zwei `{}`, und die `format()`-Methode in der nächsten Zeile hat zwei Argumente - `city.title()` und `country`. Bei der Ausführung ersetzt die Methode die ersten `{}` durch den Wert von `city.title()` und die zweiten `{}` durch den Wert von country."
   ]
  },
  {
   "cell_type": "markdown",
   "id": "cc196315",
   "metadata": {},
   "source": [
    "Wir können dies auch auf eine sauberere Weise tun. Wir können ein `f` vor unseren string setzen, um Python anzuweisen, einen `f-string` zu verwenden, der es uns ermöglicht, den Namen der Variablen, die den relevanten Wert enthält, innerhalb jedes `{} ` einzuschließen:"
   ]
  },
  {
   "cell_type": "code",
   "execution_count": 49,
   "id": "11fb352f",
   "metadata": {},
   "outputs": [
    {
     "name": "stdout",
     "output_type": "stream",
     "text": [
      "Magdeburg is eine schöne Stadt in Deutschland.\n"
     ]
    }
   ],
   "source": [
    "print(f\"{city.title()} is eine schöne Stadt in {country}.\")"
   ]
  },
  {
   "cell_type": "markdown",
   "id": "8f5ad139",
   "metadata": {},
   "source": [
    "In Python kann ein string so kurz wie null Zeichen sein (`\"\"` enthält keine Zeichen, ist aber ein gültiger string), oder beliebig lang (vorausgesetzt, er passt in den Speicher Ihres Systems).  \n",
    "\n",
    "Manchmal möchten Sie längere Strings erstellen oder manipulieren, wie z.B. das Kapitel eines Buches oder den gesamten Bericht eines Kongresses. In solchen Fällen ist es möglich, das Layout eines langen Textes beizubehalten, indem man überall dort, wo es einen Absatzumbruch gibt, \"Newline\"-Zeichen (`\\n`) verwendet. Wie Sie sich vorstellen können, wird dies jedoch sehr schnell unübersichtlich. Glücklicherweise verfügt Python über eine eingebaute Syntax zur Darstellung mehrzeiliger Strings, nämlich drei einfache (`'''`) oder doppelte (`\"\"\"`) Anführungszeichen in einer Reihe:"
   ]
  },
  {
   "cell_type": "code",
   "execution_count": 50,
   "id": "de1a6cbf",
   "metadata": {},
   "outputs": [],
   "source": [
    "multiline_string = \"\"\"\n",
    "You can work with strings longer than War and Peace, if you want. \n",
    "\n",
    "The strings can contain line breaks. \n",
    "\n",
    "\"\"\""
   ]
  },
  {
   "cell_type": "code",
   "execution_count": 51,
   "id": "7ee199ad",
   "metadata": {},
   "outputs": [
    {
     "data": {
      "text/plain": [
       "'\\nYou can work with strings longer than War and Peace, if you want. \\n\\nThe strings can contain line breaks. \\n\\n'"
      ]
     },
     "execution_count": 51,
     "metadata": {},
     "output_type": "execute_result"
    }
   ],
   "source": [
    "multiline_string"
   ]
  },
  {
   "cell_type": "code",
   "execution_count": 52,
   "id": "034eb54b",
   "metadata": {},
   "outputs": [
    {
     "name": "stdout",
     "output_type": "stream",
     "text": [
      "\n",
      "You can work with strings longer than War and Peace, if you want. \n",
      "\n",
      "The strings can contain line breaks. \n",
      "\n",
      "\n"
     ]
    }
   ],
   "source": [
    "print(multiline_string)"
   ]
  },
  {
   "cell_type": "markdown",
   "id": "0236d7dd",
   "metadata": {},
   "source": [
    "## Comparison and control flow"
   ]
  },
  {
   "cell_type": "markdown",
   "id": "0a9d855e",
   "metadata": {},
   "source": [
    "Wir wissen, wie wir unseren Computer anweisen können, einzelne Anweisungen auszuführen (z. B. 2 + 2 berechnen). Oft möchten wir jedoch nicht, dass unser Computer einfach eine Reihe von Einzelbefehlen von oben nach unten ausführt. Stattdessen möchten wir unserem Computer sagen können, dass er den Code in Abhängigkeit von einer oder mehreren Bedingungen ausführen soll. Dies wird als \"*controll flow*\" bezeichnet."
   ]
  },
  {
   "cell_type": "markdown",
   "id": "dab90bb8",
   "metadata": {},
   "source": [
    "Controll flow statements enthalten eine \"Bedingung\" (condition), die entweder als Wahr (`True`) oder Falsch (`False`) ausgewertet werden kann (dies sind boolesche Werte, nach dem Mathematiker George Boole), gefolgt von einer \"clause\", einem eingerückten Codeblock, der je nachdem, ob die Bedingung als `True` oder `False` ausgewertet wird, auszuführen ist. Mit anderen Worten, wir führen den Code der \"clause\" aus, wenn die Bedingung Wahr (`True`) ergibt, und überspringen diesen Code, wenn der Ausdruck als Falsch (`False`) bewertet wird."
   ]
  },
  {
   "cell_type": "markdown",
   "id": "0d73b3aa",
   "metadata": {},
   "source": [
    "| Vergleichs-Operator      | Bedeutung       |\n",
    "| :---- | :---- |\n",
    "| `==`      | gleich       |\n",
    "| `!=`   | nicht gleich        |\n",
    "| `>`   | größer als        |\n",
    "| `>=`   | größer oder gleich als        |\n",
    "| `<`   | kleiner als        |\n",
    "| `<=`   | kleiner oder gleich als        |"
   ]
  },
  {
   "cell_type": "markdown",
   "id": "bd153ddb",
   "metadata": {},
   "source": [
    "Alle Vergleichsoperatoren lösen einen Ausdruck in einen booleschen Wert auf."
   ]
  },
  {
   "cell_type": "code",
   "execution_count": 53,
   "id": "bbaa597f",
   "metadata": {},
   "outputs": [
    {
     "data": {
      "text/plain": [
       "False"
      ]
     },
     "execution_count": 53,
     "metadata": {},
     "output_type": "execute_result"
    }
   ],
   "source": [
    "country == country.upper()"
   ]
  },
  {
   "cell_type": "code",
   "execution_count": 54,
   "id": "6fe5690f",
   "metadata": {},
   "outputs": [
    {
     "data": {
      "text/plain": [
       "True"
      ]
     },
     "execution_count": 54,
     "metadata": {},
     "output_type": "execute_result"
    }
   ],
   "source": [
    "country != country.upper()"
   ]
  },
  {
   "cell_type": "code",
   "execution_count": 55,
   "id": "187e79ee",
   "metadata": {},
   "outputs": [
    {
     "data": {
      "text/plain": [
       "True"
      ]
     },
     "execution_count": 55,
     "metadata": {},
     "output_type": "execute_result"
    }
   ],
   "source": [
    "country == country"
   ]
  },
  {
   "cell_type": "code",
   "execution_count": 56,
   "id": "ca725fcd",
   "metadata": {},
   "outputs": [
    {
     "data": {
      "text/plain": [
       "True"
      ]
     },
     "execution_count": 56,
     "metadata": {},
     "output_type": "execute_result"
    }
   ],
   "source": [
    "52 < 64"
   ]
  },
  {
   "cell_type": "code",
   "execution_count": 57,
   "id": "e0bec04c",
   "metadata": {},
   "outputs": [
    {
     "data": {
      "text/plain": [
       "True"
      ]
     },
     "execution_count": 57,
     "metadata": {},
     "output_type": "execute_result"
    }
   ],
   "source": [
    "55 >= 55"
   ]
  },
  {
   "cell_type": "markdown",
   "id": "b4b2494e",
   "metadata": {},
   "source": [
    "Wir können diese Vergleichsoperatoren verwenden, um bedingten Code auszuführen."
   ]
  },
  {
   "cell_type": "markdown",
   "id": "9b38f351",
   "metadata": {},
   "source": [
    "## if, elif, else"
   ]
  },
  {
   "cell_type": "markdown",
   "id": "c8b63652",
   "metadata": {},
   "source": [
    "Ein if-statement beginnt mit `if`, gefolgt von einem Ausdruck, der als `True` oder `False` ausgewertet werden kann, und einem Doppelpunkt `:`.   \n",
    "Der Ausdruck ist die Bedingung, und der Doppelpunkt zeigt an, dass das, was folgt, die *clause* ist: der eingerückte Code, der ausgeführt wird, wenn die Bedingung `True` ist."
   ]
  },
  {
   "cell_type": "code",
   "execution_count": 58,
   "id": "b8880b26",
   "metadata": {},
   "outputs": [
    {
     "data": {
      "text/plain": [
       "'MAGDEBURG'"
      ]
     },
     "execution_count": 58,
     "metadata": {},
     "output_type": "execute_result"
    }
   ],
   "source": [
    "city"
   ]
  },
  {
   "cell_type": "code",
   "execution_count": 59,
   "id": "43a41f60",
   "metadata": {},
   "outputs": [
    {
     "name": "stdout",
     "output_type": "stream",
     "text": [
      "city has the value: 'MAGDEBURG'\n"
     ]
    }
   ],
   "source": [
    "if city == 'MAGDEBURG':\n",
    "    print(\"city has the value: 'MAGDEBURG'\")\n",
    "else:\n",
    "    print(\"city does not have the value: 'MAGDEBURG'\")"
   ]
  },
  {
   "cell_type": "code",
   "execution_count": 60,
   "id": "854d5678",
   "metadata": {},
   "outputs": [
    {
     "data": {
      "text/plain": [
       "'Deutschland'"
      ]
     },
     "execution_count": 60,
     "metadata": {},
     "output_type": "execute_result"
    }
   ],
   "source": [
    "country"
   ]
  },
  {
   "cell_type": "code",
   "execution_count": 61,
   "id": "29564c0a",
   "metadata": {},
   "outputs": [
    {
     "name": "stdout",
     "output_type": "stream",
     "text": [
      "country does not have the value: 'Köln'\n"
     ]
    }
   ],
   "source": [
    "if country == 'Köln': \n",
    "    print(\"country has the value: 'Köln'\") \n",
    "else:\n",
    "    print(\"country does not have the value: 'Köln'\")"
   ]
  },
  {
   "cell_type": "markdown",
   "id": "14d3fd24",
   "metadata": {},
   "source": [
    "Ein `else`-statement gibt an, dass Python den eingerückten Klauselcode unter `else` ausführen soll, wenn die vorhergehende Bedingung nicht den Wert `True` ergibt. In diesem Fall verwenden wir das `else`-statement, um anzuzeigen, dass eine Variable die Bedingung nicht erfüllt hat."
   ]
  },
  {
   "cell_type": "markdown",
   "id": "d6a8b304",
   "metadata": {},
   "source": [
    "In diesem Beispiel gibt es nur zwei Möglichkeiten: Wenn die Strings gleich sind, tun Sie das eine, wenn nicht, tun Sie etwas anderes.  \n",
    "Wir können `elif` oder `else-if` statements verwenden, um Code unter verschiedenen Bedingungen auszuführen."
   ]
  },
  {
   "cell_type": "markdown",
   "id": "71a9a6c9",
   "metadata": {},
   "source": [
    "Beachten Sie, dass die Verwendung eines elif-Statements funktionell der Verschachtelung eines if-statements innerhalb der Klausel einer else-Anweisung entspricht. Sie wird nur ausgeführt, wenn eine vorherige Bedingung als falsch bewertet wurde."
   ]
  },
  {
   "cell_type": "code",
   "execution_count": 62,
   "id": "0b1f4d94",
   "metadata": {},
   "outputs": [],
   "source": [
    "we_do_sentence = \"We're doing learning control flow\"\n",
    "learning_string = \"learning control flow\""
   ]
  },
  {
   "cell_type": "code",
   "execution_count": 219,
   "id": "0fc2cb7f",
   "metadata": {},
   "outputs": [
    {
     "name": "stdout",
     "output_type": "stream",
     "text": [
      "The second string is in the first string, but they are not equal to each other.\n"
     ]
    }
   ],
   "source": [
    "if we_do_sentence == learning_string: \n",
    "    print(\"These two strings are equal to each other!\") \n",
    "elif learning_string in we_do_sentence: \n",
    "    print(\"The second string is in the first string, but they are not equal to each other.\") \n",
    "else: \n",
    "    print(\"The two strings are NOT equal to each other and the second string is NOT in the first string.\")"
   ]
  },
  {
   "cell_type": "markdown",
   "id": "c821accb",
   "metadata": {},
   "source": [
    "Wir können diesen Code nach folgender Logik lesen: Wenn die erste Bedingung wahr ist, dann führe das erste print statement aus.  \n",
    "Wenn die erste Bedingung falsch ist, prüfe, ob die zweite Bedingung wahr ist. Wenn ja, wird das zweite print statement ausgeführt.  \n",
    "Wenn die vorangegangenen if- und elif-Anweisungen alle falsch waren, dann wird das letzte print statement ausgeführt."
   ]
  },
  {
   "cell_type": "markdown",
   "id": "35743383",
   "metadata": {},
   "source": [
    "### while loops"
   ]
  },
  {
   "cell_type": "markdown",
   "id": "1f1a4132",
   "metadata": {},
   "source": [
    "`if`-statements sind wahrscheinlich die häufigste Art von Anweisungen, die im Kontrollfluss verwendet werden, aber sie sind nicht die einzigen. Wir können auch ein `while` statement verwenden, um bedingten Code auszuführen. Ein while statement beginnt mit dem Wort `while` und wird von einem Ausdruck gefolgt, der auf True oder False ausgewertet werden kann. Sie können eine while-Schleife so lesen, als würde sie sagen: \"Wenn die Bedingung wahr ist, führe die Klausel aus. Wiederhole diesen Vorgang, bis die Bedingung Falsch ist oder du zum Abbruch aufgefordert wirst.\""
   ]
  },
  {
   "cell_type": "code",
   "execution_count": 221,
   "id": "5522aa97",
   "metadata": {},
   "outputs": [],
   "source": [
    "import time"
   ]
  },
  {
   "cell_type": "code",
   "execution_count": 224,
   "id": "e6fd01dd",
   "metadata": {},
   "outputs": [
    {
     "name": "stdout",
     "output_type": "stream",
     "text": [
      "It's Week 1. The course is still in progress.\n",
      "It's Week 2. The course is still in progress.\n",
      "It's Week 3. The course is still in progress.\n",
      "It's Week 4. The course is still in progress.\n",
      "It's Week 5. The course is still in progress.\n",
      "It's Week 6. The course is still in progress.\n",
      "It's Week 7. The course is still in progress.\n",
      "It's Week 8. The course is still in progress.\n",
      "It's Week 9. The course is still in progress.\n",
      "It's Week 10. The course is still in progress.\n",
      "It's Week 11. The course is still in progress.\n",
      "It's Week 12. The course is still in progress.\n",
      "\n",
      "The course is \"complete\". Congratulations!\n"
     ]
    }
   ],
   "source": [
    "week = 1 \n",
    "\n",
    "while week <= 12:\n",
    "    \n",
    "    print(f\"It's Week {week}. The course is still in progress.\") \n",
    "    \n",
    "    week += 1 # equivalent to week = week + 1 \n",
    "    \n",
    "    time.sleep(1)\n",
    "\n",
    "print('\\nThe course is \"complete\". Congratulations!') # Diese Zeile ist nicht eingerückt! Durchführung erst nachdem der while Loop beendet ist."
   ]
  },
  {
   "cell_type": "markdown",
   "id": "6b231b9c",
   "metadata": {},
   "source": [
    "<div class='alert alert-block alert-warning'>\n",
    "    Kommentare in Python beginnen mit #. Alles, was in der Zeile nach dem # steht, gilt nicht als Code und wird nicht ausgeführt.\n",
    "</div>"
   ]
  },
  {
   "cell_type": "markdown",
   "id": "f2228b1a",
   "metadata": {},
   "source": [
    "### Kombination von Vergleichen mit and/or"
   ]
  },
  {
   "cell_type": "markdown",
   "id": "0eb49f04",
   "metadata": {},
   "source": [
    "Es kann sinnvoll sein, Vergleiche in einer Bedingung mit `and` oder `or` zu kombinieren, um noch mehr Kontrolle über den Code auszuüben, der unter verschiedenen Bedingungen ausgeführt wird."
   ]
  },
  {
   "cell_type": "code",
   "execution_count": 65,
   "id": "8be47da1",
   "metadata": {},
   "outputs": [
    {
     "name": "stdout",
     "output_type": "stream",
     "text": [
      "Ja! Das ist der richtige Satz!\n"
     ]
    }
   ],
   "source": [
    "sentence = 'Magdeburg ist eine schöne Stadt!' \n",
    "\n",
    "if len(sentence) > 30 and sentence == 'Magdeburg ist eine schöne Stadt!':\n",
    "    print(\"Ja! Das ist der richtige Satz!\")\n",
    "else:\n",
    "    print('Nein! Das ist der falsche Satz!')"
   ]
  },
  {
   "cell_type": "markdown",
   "id": "af0ca577",
   "metadata": {},
   "source": [
    "Die Bedingung in der ersten Zeile oben verwendet `and`, um zwei Vergleiche miteinander zu verknüpfen. Bei der Verwendung von `and` wird die Zeile als `True` ausgewertet, wenn beide Vergleiche `True` sind. Wenn einer der beiden Vergleiche als `False` bewertet wird, wird die Zeile als `False` bewertet."
   ]
  },
  {
   "cell_type": "code",
   "execution_count": 66,
   "id": "dc9fe9d5",
   "metadata": {},
   "outputs": [
    {
     "data": {
      "text/plain": [
       "True"
      ]
     },
     "execution_count": 66,
     "metadata": {},
     "output_type": "execute_result"
    }
   ],
   "source": [
    "len(sentence) > 30"
   ]
  },
  {
   "cell_type": "code",
   "execution_count": 226,
   "id": "e750f21f",
   "metadata": {
    "scrolled": true
   },
   "outputs": [
    {
     "data": {
      "text/plain": [
       "False"
      ]
     },
     "execution_count": 226,
     "metadata": {},
     "output_type": "execute_result"
    }
   ],
   "source": [
    "sentence == 'Magdeburg ist eine schöne Stadt!'"
   ]
  },
  {
   "cell_type": "code",
   "execution_count": 68,
   "id": "e6af3247",
   "metadata": {},
   "outputs": [
    {
     "data": {
      "text/plain": [
       "True"
      ]
     },
     "execution_count": 68,
     "metadata": {},
     "output_type": "execute_result"
    }
   ],
   "source": [
    "len(sentence) > 30 and sentence == 'Magdeburg ist eine schöne Stadt!'"
   ]
  },
  {
   "cell_type": "code",
   "execution_count": 231,
   "id": "8e6574bd",
   "metadata": {},
   "outputs": [
    {
     "data": {
      "text/plain": [
       "True"
      ]
     },
     "execution_count": 231,
     "metadata": {},
     "output_type": "execute_result"
    }
   ],
   "source": [
    "True and True"
   ]
  },
  {
   "cell_type": "code",
   "execution_count": 229,
   "id": "4bc83a27",
   "metadata": {},
   "outputs": [
    {
     "data": {
      "text/plain": [
       "False"
      ]
     },
     "execution_count": 229,
     "metadata": {},
     "output_type": "execute_result"
    }
   ],
   "source": [
    "True and False"
   ]
  },
  {
   "cell_type": "markdown",
   "id": "e7292883",
   "metadata": {},
   "source": [
    "Alternativ könnten wir auch `or` verwenden. Im Folgenden wird diese Zeile als `or` ausgewertet, wenn einer der beiden Vergleiche als `True` ausgewertet wird."
   ]
  },
  {
   "cell_type": "code",
   "execution_count": 70,
   "id": "4e8fef73",
   "metadata": {},
   "outputs": [
    {
     "name": "stdout",
     "output_type": "stream",
     "text": [
      "Ja! Das ist der richtige Satz!\n"
     ]
    }
   ],
   "source": [
    "sentence = 'Magdeburg ist eine schöne Stadt!' \n",
    "\n",
    "if len(sentence) > 30 or sentence == 'Magdeburg ist eine schöne Stadt!':\n",
    "    print(\"Ja! Das ist der richtige Satz!\")\n",
    "else:\n",
    "    print('Nein! Das ist der falsche Satz!')"
   ]
  },
  {
   "cell_type": "code",
   "execution_count": 71,
   "id": "720d238f",
   "metadata": {},
   "outputs": [
    {
     "data": {
      "text/plain": [
       "True"
      ]
     },
     "execution_count": 71,
     "metadata": {},
     "output_type": "execute_result"
    }
   ],
   "source": [
    "True or False"
   ]
  },
  {
   "cell_type": "code",
   "execution_count": 72,
   "id": "124cd990",
   "metadata": {},
   "outputs": [
    {
     "data": {
      "text/plain": [
       "True"
      ]
     },
     "execution_count": 72,
     "metadata": {},
     "output_type": "execute_result"
    }
   ],
   "source": [
    "True or True"
   ]
  },
  {
   "cell_type": "code",
   "execution_count": 233,
   "id": "f1b28c2c",
   "metadata": {},
   "outputs": [
    {
     "data": {
      "text/plain": [
       "False"
      ]
     },
     "execution_count": 233,
     "metadata": {},
     "output_type": "execute_result"
    }
   ],
   "source": [
    "False or False"
   ]
  },
  {
   "cell_type": "markdown",
   "id": "9e797cce",
   "metadata": {},
   "source": [
    "Wir können auch den Begriff `not` verwenden. Dieser Begriff führt dazu, dass ein Ausdruck `True` zurückgibt, wenn er `False` ist und umgekehrt."
   ]
  },
  {
   "cell_type": "code",
   "execution_count": 74,
   "id": "31391302",
   "metadata": {},
   "outputs": [
    {
     "name": "stdout",
     "output_type": "stream",
     "text": [
      "Nein! Das ist der falsche Satz!\n"
     ]
    }
   ],
   "source": [
    "sentence = 'Magdeburg ist eine schöne Stadt!' \n",
    "\n",
    "if not sentence == 'Köln ist eine schöne Stadt!':\n",
    "    print(\"Nein! Das ist der falsche Satz!\")"
   ]
  },
  {
   "cell_type": "markdown",
   "id": "4bd7a3cf",
   "metadata": {},
   "source": [
    "Es ist möglich, so viele Vergleiche zu kombinieren, wie Sie möchten, aber wenn Sie zu weit gehen, kann Ihr Code etwas schwerer zu lesen sein. Die Konvention in Python ist es, jeden Vergleich in `()` zu verpacken, was den Code sauberer und leichter lesbar macht."
   ]
  },
  {
   "cell_type": "code",
   "execution_count": 75,
   "id": "406192cf",
   "metadata": {},
   "outputs": [
    {
     "name": "stdout",
     "output_type": "stream",
     "text": [
      "Ja! Das ist ein richtiger Satz!\n"
     ]
    }
   ],
   "source": [
    "if (len(sentence) > 30 and len(sentence) < 100) or (sentence == 'Magdeburg ist eine schöne Stadt!'):\n",
    "    print(\"Ja! Das ist ein richtiger Satz!\")"
   ]
  },
  {
   "cell_type": "code",
   "execution_count": null,
   "id": "b5cdc6de",
   "metadata": {},
   "outputs": [],
   "source": []
  },
  {
   "cell_type": "markdown",
   "id": "e92d71ba",
   "metadata": {},
   "source": [
    "### Tracebacks"
   ]
  },
  {
   "cell_type": "markdown",
   "id": "bac56182",
   "metadata": {},
   "source": [
    "Machmal funktioniert etwas mit unserem Code nicht. Python gibt dann einen speziellen Report zurück, der *Traceback* genannt wird."
   ]
  },
  {
   "cell_type": "code",
   "execution_count": 234,
   "id": "f11a2e0b",
   "metadata": {},
   "outputs": [
    {
     "ename": "SyntaxError",
     "evalue": "unexpected EOF while parsing (1169786166.py, line 1)",
     "output_type": "error",
     "traceback": [
      "\u001b[1;36m  Cell \u001b[1;32mIn[234], line 1\u001b[1;36m\u001b[0m\n\u001b[1;33m    str(5\u001b[0m\n\u001b[1;37m         ^\u001b[0m\n\u001b[1;31mSyntaxError\u001b[0m\u001b[1;31m:\u001b[0m unexpected EOF while parsing\n"
     ]
    }
   ],
   "source": [
    "# SyntaxError\n",
    "str(5"
   ]
  },
  {
   "cell_type": "code",
   "execution_count": 237,
   "id": "a5ea0653",
   "metadata": {},
   "outputs": [
    {
     "ename": "NameError",
     "evalue": "name 'test' is not defined",
     "output_type": "error",
     "traceback": [
      "\u001b[1;31m---------------------------------------------------------------------------\u001b[0m",
      "\u001b[1;31mNameError\u001b[0m                                 Traceback (most recent call last)",
      "Cell \u001b[1;32mIn[237], line 2\u001b[0m\n\u001b[0;32m      1\u001b[0m \u001b[38;5;66;03m# NameError\u001b[39;00m\n\u001b[1;32m----> 2\u001b[0m \u001b[43mtest\u001b[49m\n",
      "\u001b[1;31mNameError\u001b[0m: name 'test' is not defined"
     ]
    }
   ],
   "source": [
    "# NameError\n",
    "test"
   ]
  },
  {
   "cell_type": "code",
   "execution_count": 238,
   "id": "ec2a4316",
   "metadata": {},
   "outputs": [
    {
     "ename": "TypeError",
     "evalue": "unsupported operand type(s) for +: 'int' and 'str'",
     "output_type": "error",
     "traceback": [
      "\u001b[1;31m---------------------------------------------------------------------------\u001b[0m",
      "\u001b[1;31mTypeError\u001b[0m                                 Traceback (most recent call last)",
      "Cell \u001b[1;32mIn[238], line 2\u001b[0m\n\u001b[0;32m      1\u001b[0m \u001b[38;5;66;03m# TypeError\u001b[39;00m\n\u001b[1;32m----> 2\u001b[0m \u001b[38;5;241;43m5\u001b[39;49m\u001b[43m \u001b[49m\u001b[38;5;241;43m+\u001b[39;49m\u001b[43m \u001b[49m\u001b[38;5;124;43m'\u001b[39;49m\u001b[38;5;124;43mhallo\u001b[39;49m\u001b[38;5;124;43m'\u001b[39;49m\n",
      "\u001b[1;31mTypeError\u001b[0m: unsupported operand type(s) for +: 'int' and 'str'"
     ]
    }
   ],
   "source": [
    "# TypeError\n",
    "5 + 'hallo'"
   ]
  },
  {
   "cell_type": "markdown",
   "id": "3b264ec2",
   "metadata": {},
   "source": [
    "### try/except"
   ]
  },
  {
   "cell_type": "markdown",
   "id": "4738744f",
   "metadata": {},
   "source": [
    "Wir können zwischen mindestens zwei Klassen von Fehlern unterscheiden.  \n",
    "\n",
    "1. Wenn der Code gegen eine der Grammatikregeln von Python verstößt, z. B. Klammern nicht richtig schließt, erhalten Sie einen **Syntaxfehler**.  \n",
    "2. Eine Ausnahme (**exception**) tritt auf, wenn syntaktisch korrekter Code trotzdem einen Fehler erzeugt (z.B. TypeError, NameError). \n",
    "\n",
    "Der Unterschied zwischen *Syntaxfehlern* und *exceptions* ist folgender: *Syntaxfehler* werden erkannt, während der Code geparst wird, **bevor** er ausgeführt wird. Ein *Sytaxfehler* führt dann dazu, dass der Code überhaupt nicht ausgeführt wird. *Exceptions* treten **während** der Ausführung auf und müssen nicht unbedingt dazu führen, dass die Ausführung fehlschlägt."
   ]
  },
  {
   "cell_type": "markdown",
   "id": "3b0e2443",
   "metadata": {},
   "source": [
    "Wenn eine *exception* irgendeines Typs auftritt, hält Python standardmäßig die Ausführung des Codes an und gibt einen Traceback aus. Obwohl dies oft eine nützliche Funktion ist, ist es nicht immer das, was wir wollen. Manchmal wissen wir, dass ein Teil des Codes, den wir geschrieben haben, wahrscheinlich auf eine ganz bestimmte Art von Fehler stoßen wird, und wir möchten lieber, dass Python den Fehler auf irgendeine Weise behandelt und den Rest unseres Codes weiter ausführt. In diesen Fällen können wir `try-` und `except`-Anweisungen verwenden.  \n",
    "Im Allgemeinen sollten Sie `try`/`except` nicht verwenden, um Syntaxfehler zu behandeln. Das ist in der Regel nicht möglich, da, wie bereits erwähnt, der Syntaxfehler die Ausführung unterbricht, bevor überhaupt versucht wird, den Code auszuführen."
   ]
  },
  {
   "cell_type": "markdown",
   "id": "4380e8ad",
   "metadata": {},
   "source": [
    "Die `try`-Anweisung wird vor einem eingerückten Codeblock verwendet und zeigt an, dass Python versuchen soll, den Code im eingerückten Block auszuführen. Wenn Python bei der Ausführung des in einem `try`-Block enthaltenen Codes auf einen Fehler stößt, hält es die Ausführung nicht sofort an: Stattdessen prüft es zunächst alle folgenden except-Anweisungen, um zu sehen, ob die aufgetretene Ausnahme aufgelistet ist (z. B. `except ValueError:`). Ist dies der Fall, führt Python den Code im entsprechenden except-Block aus, bevor es normal weitergeht."
   ]
  },
  {
   "cell_type": "code",
   "execution_count": 240,
   "id": "c2f3293f",
   "metadata": {},
   "outputs": [
    {
     "name": "stdout",
     "output_type": "stream",
     "text": [
      "Please enter which week you will start in.\n"
     ]
    },
    {
     "ename": "ValueError",
     "evalue": "invalid literal for int() with base 10: 'seven'",
     "output_type": "error",
     "traceback": [
      "\u001b[1;31m---------------------------------------------------------------------------\u001b[0m",
      "\u001b[1;31mValueError\u001b[0m                                Traceback (most recent call last)",
      "Cell \u001b[1;32mIn[240], line 3\u001b[0m\n\u001b[0;32m      1\u001b[0m \u001b[38;5;28mprint\u001b[39m(\u001b[38;5;124m\"\u001b[39m\u001b[38;5;124mPlease enter which week you will start in.\u001b[39m\u001b[38;5;124m\"\u001b[39m) \n\u001b[0;32m      2\u001b[0m user_input \u001b[38;5;241m=\u001b[39m \u001b[38;5;124m\"\u001b[39m\u001b[38;5;124mseven\u001b[39m\u001b[38;5;124m\"\u001b[39m \n\u001b[1;32m----> 3\u001b[0m week \u001b[38;5;241m=\u001b[39m \u001b[38;5;28;43mint\u001b[39;49m\u001b[43m(\u001b[49m\u001b[43muser_input\u001b[49m\u001b[43m)\u001b[49m \n\u001b[0;32m      5\u001b[0m \u001b[38;5;28;01mwhile\u001b[39;00m week \u001b[38;5;241m<\u001b[39m\u001b[38;5;241m=\u001b[39m \u001b[38;5;241m12\u001b[39m: \n\u001b[0;32m      6\u001b[0m     \u001b[38;5;28mprint\u001b[39m(\u001b[38;5;124mf\u001b[39m\u001b[38;5;124m\"\u001b[39m\u001b[38;5;124mIt\u001b[39m\u001b[38;5;124m'\u001b[39m\u001b[38;5;124ms Week \u001b[39m\u001b[38;5;132;01m{\u001b[39;00mweek\u001b[38;5;132;01m}\u001b[39;00m\u001b[38;5;124m. The course is still in progress.\u001b[39m\u001b[38;5;124m\"\u001b[39m) \n",
      "\u001b[1;31mValueError\u001b[0m: invalid literal for int() with base 10: 'seven'"
     ]
    }
   ],
   "source": [
    "print(\"Please enter which week you will start in.\") \n",
    "user_input = \"seven\" \n",
    "week = int(user_input) \n",
    "\n",
    "while week <= 12: \n",
    "    print(f\"It's Week {week}. The course is still in progress.\") \n",
    "    week += 1 # equivalent to week = week + 1 \n",
    "    \n",
    "print('\\nThe course is \"complete\". Congratulations!')"
   ]
  },
  {
   "cell_type": "markdown",
   "id": "cd1eac08",
   "metadata": {},
   "source": [
    "Sie sollten eine ValueError-exception sehen. Das macht Sinn. Python weiß von Natur aus nicht, wie der string seven als Integer zu interpretieren ist, und auch wenn es möglich ist, haben wir es nicht angewiesen, dies zu tun. Wir können try und except verwenden, um einige der Fälle von Wertfehlern abzufangen, ohne unsere ursprüngliche Funktionalität zu opfern. Dazu müssen wir zunächst herausfinden, wo der Fehler herkommt. Dazu können wir den Traceback verwenden, den Python ausgibt, wenn die exception auftritt: Es sieht so aus, als ob Zeile 3 der Übeltäter ist. Versuchen wir, diese Zeile in einen `try`-Block einzuschließen und dann `except ValueError` plus etwas Code zur string-Umwandlung zu verwenden, um den Fehler zu behandeln. Gehen wir davon aus, dass die Teilnehmer den Kurs nur in den ersten 3 Wochen beginnen können, und berücksichtigen wir diese in unserem try-Block:"
   ]
  },
  {
   "cell_type": "code",
   "execution_count": 245,
   "id": "f833b645",
   "metadata": {},
   "outputs": [
    {
     "name": "stdout",
     "output_type": "stream",
     "text": [
      "Please enter which of weeks.\n",
      "three\n",
      "ValueError. Moment, ich probiere da was aus...\n",
      "AH! Du meinst also 3\n",
      "let's go!\n",
      "It's Week 3. The course is still in progress.\n",
      "It's Week 4. The course is still in progress.\n",
      "It's Week 5. The course is still in progress.\n",
      "It's Week 6. The course is still in progress.\n",
      "It's Week 7. The course is still in progress.\n",
      "It's Week 8. The course is still in progress.\n",
      "It's Week 9. The course is still in progress.\n",
      "It's Week 10. The course is still in progress.\n",
      "It's Week 11. The course is still in progress.\n",
      "It's Week 12. The course is still in progress.\n",
      "\n",
      "The course is \"complete\". Congratulations!\n"
     ]
    }
   ],
   "source": [
    "print(\"Please enter which of weeks.\") \n",
    "user_input = \"three\" \n",
    "\n",
    "try: \n",
    "    print(user_input)\n",
    "    week = int(user_input) \n",
    "    \n",
    "except ValueError: \n",
    "    \n",
    "    print('ValueError. Moment, ich probiere da was aus...')\n",
    "    \n",
    "    if user_input.lower().strip() == \"one\": \n",
    "        print('AH! Du meinst also 1')\n",
    "        week = 1 \n",
    "        \n",
    "    elif user_input.lower().strip() == \"two\":\n",
    "        print('AH! Du meinst also 2')\n",
    "        week = 2 \n",
    "    elif user_input.lower().strip() == \"three\":\n",
    "        print('AH! Du meinst also 3')\n",
    "        week = 3\n",
    "    else: \n",
    "        raise ValueError(\"I don't recognize that as a valid number! Try again!\") \n",
    "\n",
    "print(\"let's go!\")\n",
    "        \n",
    "while week <= 12: \n",
    "    print(f\"It's Week {week}. The course is still in progress.\") \n",
    "    week += 1 # equivalent to week = week + 1 \n",
    "\n",
    "print('\\nThe course is \"complete\". Congratulations!')"
   ]
  },
  {
   "cell_type": "markdown",
   "id": "d46d41b9",
   "metadata": {},
   "source": [
    "Beachten Sie, dass die `else`-Anweisung, wenn sie ausgeführt wird, erneut einen ValueError auslöst (wenn auch mit einer anderen Meldung). Anstatt davon auszugehen, dass Ihre Umgehung in jedem Fall funktioniert, sollten Sie manuell eine exception auslösen, wenn alles andere fehlschlägt. Auf diese Weise hat Python eine Möglichkeit, Ihnen mitzuteilen, dass Ihre Lösung fehlerhaft ist und Sie wieder coden müssen.  "
   ]
  },
  {
   "cell_type": "markdown",
   "id": "4560ca57",
   "metadata": {},
   "source": [
    "`Try` und `except` sind sehr wertvolle Werkzeuge. Verwenden Sie sie aber nur, wenn Sie genau wissen welche Fehler in Ihrem Code vorkommen können, bzw. erwartbar sind. Z.B. beim webscraping, für den Fall, wenn eine Webseite nicht geladen werden kann."
   ]
  },
  {
   "cell_type": "code",
   "execution_count": null,
   "id": "a9356951",
   "metadata": {},
   "outputs": [],
   "source": []
  },
  {
   "cell_type": "markdown",
   "id": "7f0d3246",
   "metadata": {},
   "source": [
    "## 5. Datenstrukturen (Lists, Tuples, Dictionaries)"
   ]
  },
  {
   "cell_type": "markdown",
   "id": "5af1f025",
   "metadata": {},
   "source": [
    "### Listen\n",
    "\n",
    "In Python sind Listen geordnete Sammlungen beliebiger Objekte, wie z. B. Strings, Ganzzahlen, Fließkommazahlen oder andere Datenstrukturen - sogar andere Listen. Die Elemente in einer Liste können vom gleichen Typ sein, müssen es aber nicht. Python-Listen sind sehr flexibel. Sie können Informationen verschiedener Art in einer Liste mischen, Sie können der Liste während des laufenden Betriebs Informationen hinzufügen, und Sie können alle in der Liste enthaltenen Informationen entfernen oder ändern. Dies ist in anderen Sprachen nicht immer der Fall. Die einfachste Liste sieht wie folgt aus:"
   ]
  },
  {
   "cell_type": "code",
   "execution_count": 80,
   "id": "c1ca90b4",
   "metadata": {},
   "outputs": [
    {
     "data": {
      "text/plain": [
       "[]"
      ]
     },
     "execution_count": 80,
     "metadata": {},
     "output_type": "execute_result"
    }
   ],
   "source": [
    "my_list = []\n",
    "my_list"
   ]
  },
  {
   "cell_type": "code",
   "execution_count": 81,
   "id": "23947851",
   "metadata": {},
   "outputs": [
    {
     "data": {
      "text/plain": [
       "[]"
      ]
     },
     "execution_count": 81,
     "metadata": {},
     "output_type": "execute_result"
    }
   ],
   "source": [
    "my_list = list()\n",
    "my_list"
   ]
  },
  {
   "cell_type": "markdown",
   "id": "07100b1c",
   "metadata": {},
   "source": [
    "Alle Listen beginnen und enden mit eckigen Klammern `[]`, und die Elemente werden durch ein Komma getrennt. Im Folgenden definieren wir zwei Listen mit Strings (Megastädte in einer Liste und ihre Länder in einer anderen) und eine Liste mit Zahlen (Einwohnerzahl der Städte im Jahr 2018)."
   ]
  },
  {
   "cell_type": "code",
   "execution_count": 246,
   "id": "33cdd10b",
   "metadata": {},
   "outputs": [],
   "source": [
    "megacities = ['Tokyo','Delhi','Shanghai','Sao Paulo','Mexico City','Cairo','Dhaka','Mumbai','Beijing','Osaka']\n",
    "countries = ['Japan','India','China','Brazil','Mexico','Egypt','Bangladesh','India','China','Japan']\n",
    "pop2018 = [37468000, 28514000, 25582000, 21650000, 21581000, 20076000, 19980000, 19618000, 19578000, 19281000]"
   ]
  },
  {
   "cell_type": "code",
   "execution_count": 247,
   "id": "21e4fbc9",
   "metadata": {},
   "outputs": [
    {
     "data": {
      "text/plain": [
       "['Tokyo',\n",
       " 'Delhi',\n",
       " 'Shanghai',\n",
       " 'Sao Paulo',\n",
       " 'Mexico City',\n",
       " 'Cairo',\n",
       " 'Dhaka',\n",
       " 'Mumbai',\n",
       " 'Beijing',\n",
       " 'Osaka']"
      ]
     },
     "execution_count": 247,
     "metadata": {},
     "output_type": "execute_result"
    }
   ],
   "source": [
    "megacities"
   ]
  },
  {
   "cell_type": "markdown",
   "id": "62df1725",
   "metadata": {},
   "source": [
    "Jedes Element in einer Liste hat einen Index, der auf seiner Position in der Liste basiert. Indizes sind ganze Zahlen, und wie in den meisten anderen Programmiersprachen beginnt die Indizierung in Python bei 0, was bedeutet, dass der erste Eintrag in einer Liste - oder in allem anderen, was in Python indiziert wird - bei 0 beginnt. In der Liste der Megastädte ist der Index für Tokio 0, Delhi ist 1, Shanghai ist 2, und so weiter.  \n",
    "\n",
    "Wir können den Index verwenden, um ein bestimmtes Element aus einer Liste auszuwählen, indem wir den Namen der Liste und dann die Indexnummer in eckigen Klammern eingeben:"
   ]
  },
  {
   "cell_type": "code",
   "execution_count": 84,
   "id": "15c34b05",
   "metadata": {},
   "outputs": [
    {
     "data": {
      "text/plain": [
       "'Sao Paulo'"
      ]
     },
     "execution_count": 84,
     "metadata": {},
     "output_type": "execute_result"
    }
   ],
   "source": [
    "megacities[3]"
   ]
  },
  {
   "cell_type": "markdown",
   "id": "f592e0c2",
   "metadata": {},
   "source": [
    "Wir können auch auf einzelne Einträge zugreifen, indem wir vom Ende der Liste aus arbeiten. Dazu verwenden wir ein `-`-Zeichen in den Klammern. Beachten Sie, dass wir, anders als beim Aufwärtszählen von 0, nicht von '-0' abwärts zählen. Während `[2]` das dritte Element angibt, gibt `[-2]` das vorletzte Element an. 'China' aus der `countries` Liste, können wir so auswählen:"
   ]
  },
  {
   "cell_type": "code",
   "execution_count": 252,
   "id": "d21d7142",
   "metadata": {},
   "outputs": [
    {
     "data": {
      "text/plain": [
       "['Japan',\n",
       " 'India',\n",
       " 'China',\n",
       " 'Brazil',\n",
       " 'Mexico',\n",
       " 'Egypt',\n",
       " 'Bangladesh',\n",
       " 'India',\n",
       " 'China',\n",
       " 'Japan']"
      ]
     },
     "execution_count": 252,
     "metadata": {},
     "output_type": "execute_result"
    }
   ],
   "source": [
    "countries"
   ]
  },
  {
   "cell_type": "code",
   "execution_count": 249,
   "id": "90df9261",
   "metadata": {},
   "outputs": [
    {
     "data": {
      "text/plain": [
       "'China'"
      ]
     },
     "execution_count": 249,
     "metadata": {},
     "output_type": "execute_result"
    }
   ],
   "source": [
    "countries[8]"
   ]
  },
  {
   "cell_type": "code",
   "execution_count": 86,
   "id": "c4cd0b30",
   "metadata": {},
   "outputs": [
    {
     "data": {
      "text/plain": [
       "'China'"
      ]
     },
     "execution_count": 86,
     "metadata": {},
     "output_type": "execute_result"
    }
   ],
   "source": [
    "countries[-2]"
   ]
  },
  {
   "cell_type": "markdown",
   "id": "53872356",
   "metadata": {},
   "source": [
    "Wenn wir auf ein einzelnes Element in einer Liste zugreifen, gibt Python das Element in seinem Datentyp zurück. So gibt  `megacities[3]` beispielsweise \"Sao Paulo\" als String zurück, und `pop2018[3]` liefert die Ganzzahl 21650000. Wir können jede beliebige Methode verwenden, die mit diesem bestimmten Datentyp verknüpft ist:"
   ]
  },
  {
   "cell_type": "code",
   "execution_count": 87,
   "id": "aebe30aa",
   "metadata": {},
   "outputs": [
    {
     "data": {
      "text/plain": [
       "64950000"
      ]
     },
     "execution_count": 87,
     "metadata": {},
     "output_type": "execute_result"
    }
   ],
   "source": [
    "pop2018[3]*3"
   ]
  },
  {
   "cell_type": "code",
   "execution_count": 88,
   "id": "6d240e62",
   "metadata": {},
   "outputs": [
    {
     "data": {
      "text/plain": [
       "'SAO PAULO'"
      ]
     },
     "execution_count": 88,
     "metadata": {},
     "output_type": "execute_result"
    }
   ],
   "source": [
    "megacities[3].upper()"
   ]
  },
  {
   "cell_type": "markdown",
   "id": "ece13243",
   "metadata": {},
   "source": [
    "Die Verwendung von eckigen Klammern für den Zugriff auf ein Element in einer Liste (oder einem Tupel, einer Menge oder einem Wörterbuch) wird als Indexierung bezeichnet.  \n",
    "Wenn wir mehrere Elemente auswählen möchten können wir die sclice-Notation verwenden, bei der zwei Indexpositionen durch einen Doppelpunkt getrennt sind:"
   ]
  },
  {
   "cell_type": "code",
   "execution_count": 89,
   "id": "221802fb",
   "metadata": {},
   "outputs": [
    {
     "data": {
      "text/plain": [
       "['Tokyo', 'Delhi', 'Shanghai']"
      ]
     },
     "execution_count": 89,
     "metadata": {},
     "output_type": "execute_result"
    }
   ],
   "source": [
    "megacities[0:3]"
   ]
  },
  {
   "cell_type": "markdown",
   "id": "af9e3eee",
   "metadata": {},
   "source": [
    "Die Verwendung eines Slice zur Indexierung einer Liste gibt das Element an der Position der ersten Ganzzahl sowie jedes Element an jeder Position zwischen der ersten und der zweiten Ganzzahl zurück. Das Element, das durch die zweite ganze Zahl indiziert ist, wird nicht zurückgegeben. Um die letzten drei Einträge unserer Liste abzurufen, würden Sie Folgendes verwenden"
   ]
  },
  {
   "cell_type": "code",
   "execution_count": 253,
   "id": "8b513113",
   "metadata": {},
   "outputs": [
    {
     "data": {
      "text/plain": [
       "['Japan',\n",
       " 'India',\n",
       " 'China',\n",
       " 'Brazil',\n",
       " 'Mexico',\n",
       " 'Egypt',\n",
       " 'Bangladesh',\n",
       " 'India',\n",
       " 'China',\n",
       " 'Japan']"
      ]
     },
     "execution_count": 253,
     "metadata": {},
     "output_type": "execute_result"
    }
   ],
   "source": [
    "countries"
   ]
  },
  {
   "cell_type": "code",
   "execution_count": 90,
   "id": "5bcb9baa",
   "metadata": {},
   "outputs": [
    {
     "data": {
      "text/plain": [
       "['India', 'China', 'Japan']"
      ]
     },
     "execution_count": 90,
     "metadata": {},
     "output_type": "execute_result"
    }
   ],
   "source": [
    "countries[7:10]"
   ]
  },
  {
   "cell_type": "markdown",
   "id": "e5f7fb0a",
   "metadata": {},
   "source": [
    "Sie können auch die Slice-Notation mit einer fehlenden ganzen Zahl verwenden, um alle Elemente einer Liste bis zu - oder ab - einer bestimmten Indexposition zurückzugeben. Im Folgenden finden Sie die ersten drei Megastädte,"
   ]
  },
  {
   "cell_type": "code",
   "execution_count": 91,
   "id": "9c3eeced",
   "metadata": {},
   "outputs": [
    {
     "data": {
      "text/plain": [
       "['Tokyo', 'Delhi', 'Shanghai']"
      ]
     },
     "execution_count": 91,
     "metadata": {},
     "output_type": "execute_result"
    }
   ],
   "source": [
    "megacities[:3]"
   ]
  },
  {
   "cell_type": "markdown",
   "id": "84d07bec",
   "metadata": {},
   "source": [
    "und die letzten sieben:"
   ]
  },
  {
   "cell_type": "code",
   "execution_count": 92,
   "id": "60ad2e0c",
   "metadata": {},
   "outputs": [
    {
     "data": {
      "text/plain": [
       "['Sao Paulo', 'Mexico City', 'Cairo', 'Dhaka', ' Mumbai', 'Beijing', 'Osaka']"
      ]
     },
     "execution_count": 92,
     "metadata": {},
     "output_type": "execute_result"
    }
   ],
   "source": [
    "megacities[-7:]"
   ]
  },
  {
   "cell_type": "markdown",
   "id": "c685e547",
   "metadata": {},
   "source": [
    "### Looping over lists"
   ]
  },
  {
   "cell_type": "markdown",
   "id": "43c8a877",
   "metadata": {},
   "source": [
    "Pythons Listen sind iterierbare Objekte, was bedeutet, dass wir über die Elemente der Liste iterieren (oder loopen) können, um Code für jedes einzelne Element auszuführen. Dies wird üblicherweise mit einer *for-Schleife* durchgeführt. Im Folgenden wird die Liste Megastädte durchlaufen und jedes Element ausgedruckt:"
   ]
  },
  {
   "cell_type": "code",
   "execution_count": 254,
   "id": "190e5ab2",
   "metadata": {},
   "outputs": [
    {
     "name": "stdout",
     "output_type": "stream",
     "text": [
      "Tokyo\n",
      "Delhi\n",
      "Shanghai\n",
      "Sao Paulo\n",
      "Mexico City\n",
      "Cairo\n",
      "Dhaka\n",
      "Mumbai\n",
      "Beijing\n",
      "Osaka\n"
     ]
    }
   ],
   "source": [
    "for city in megacities: \n",
    "    print(city)"
   ]
  },
  {
   "cell_type": "markdown",
   "id": "3781a33c",
   "metadata": {},
   "source": [
    "Dieser Code erstellt eine temporäre Variable namens city, die auf das aktuelle Element der Megastädte verweist, über die iteriert wird. Der Name für diese Variable sollte etwas Beschreibendes sein, das Ihnen etwas über die Elemente der Liste verrät."
   ]
  },
  {
   "cell_type": "markdown",
   "id": "08e26f84",
   "metadata": {},
   "source": [
    "### Ändern von Listen"
   ]
  },
  {
   "cell_type": "markdown",
   "id": "07921eb9",
   "metadata": {},
   "source": [
    "Listen können auf verschiedene Weise geändert werden. Wir können die Elemente in der Liste wie andere Werte ändern, z. B. den String \"Mexico City\" in \"Ciudad de México\", indem wir den Index des Werts verwenden:"
   ]
  },
  {
   "cell_type": "code",
   "execution_count": 259,
   "id": "abd21efd",
   "metadata": {},
   "outputs": [
    {
     "name": "stdout",
     "output_type": "stream",
     "text": [
      "['Tokyo', 'Delhi', 'Shanghai', 'Sao Paulo', 'Ciudad de México', 'Cairo', 'Dhaka', 'Mumbai', 'Beijing', 'Osaka']\n"
     ]
    }
   ],
   "source": [
    "megacities[4] = 'Ciudad de México' \n",
    "print(megacities)"
   ]
  },
  {
   "cell_type": "markdown",
   "id": "377145d9",
   "metadata": {},
   "source": [
    "Wir wollen oft Elemente einer Liste hinzufügen oder entfernen. Fügen wir Karachi zu unseren drei Listen hinzu, indem wir die Methode `.append()` verwenden:"
   ]
  },
  {
   "cell_type": "code",
   "execution_count": 260,
   "id": "361aaba6",
   "metadata": {},
   "outputs": [],
   "source": [
    "megacities.append('Karachi') \n",
    "countries.append('Pakistan')\n",
    "pop2018.append(16000000)"
   ]
  },
  {
   "cell_type": "code",
   "execution_count": 261,
   "id": "9995921b",
   "metadata": {},
   "outputs": [
    {
     "data": {
      "text/plain": [
       "['Tokyo',\n",
       " 'Delhi',\n",
       " 'Shanghai',\n",
       " 'Sao Paulo',\n",
       " 'Ciudad de México',\n",
       " 'Cairo',\n",
       " 'Dhaka',\n",
       " 'Mumbai',\n",
       " 'Beijing',\n",
       " 'Osaka',\n",
       " 'Karachi']"
      ]
     },
     "execution_count": 261,
     "metadata": {},
     "output_type": "execute_result"
    }
   ],
   "source": [
    "megacities"
   ]
  },
  {
   "cell_type": "markdown",
   "id": "8ac34ef7",
   "metadata": {},
   "source": [
    "Sie werden `.append()` häufig verwenden. Es ist ein sehr bequemer Weg, um eine Liste dynamisch zu erstellen und zu verändern. Lassen Sie uns eine neue Liste erstellen, die einen formatierten String für jede Stadt enthalten soll."
   ]
  },
  {
   "cell_type": "code",
   "execution_count": 255,
   "id": "e3572198",
   "metadata": {},
   "outputs": [],
   "source": [
    "city_strings = [] \n",
    "\n",
    "for city in megacities:\n",
    "    city_string_tmp = f\"What's the population of {city}?\" \n",
    "    city_strings.append(city_string_tmp)"
   ]
  },
  {
   "cell_type": "code",
   "execution_count": 257,
   "id": "a7e6ba0c",
   "metadata": {},
   "outputs": [
    {
     "data": {
      "text/plain": [
       "[\"What's the population of Tokyo?\",\n",
       " \"What's the population of Delhi?\",\n",
       " \"What's the population of Shanghai?\",\n",
       " \"What's the population of Sao Paulo?\",\n",
       " \"What's the population of Mexico City?\",\n",
       " \"What's the population of Cairo?\",\n",
       " \"What's the population of Dhaka?\",\n",
       " \"What's the population of Mumbai?\",\n",
       " \"What's the population of Beijing?\",\n",
       " \"What's the population of Osaka?\"]"
      ]
     },
     "execution_count": 257,
     "metadata": {},
     "output_type": "execute_result"
    }
   ],
   "source": [
    "city_strings"
   ]
  },
  {
   "cell_type": "code",
   "execution_count": 256,
   "id": "4c109610",
   "metadata": {},
   "outputs": [
    {
     "name": "stdout",
     "output_type": "stream",
     "text": [
      "What's the population of Tokyo?\n",
      "What's the population of Delhi?\n",
      "What's the population of Shanghai?\n",
      "What's the population of Sao Paulo?\n",
      "What's the population of Mexico City?\n",
      "What's the population of Cairo?\n",
      "What's the population of Dhaka?\n",
      "What's the population of Mumbai?\n",
      "What's the population of Beijing?\n",
      "What's the population of Osaka?\n"
     ]
    }
   ],
   "source": [
    "for city_string in city_strings: \n",
    "    print(city_string)"
   ]
  },
  {
   "cell_type": "markdown",
   "id": "e3103efd",
   "metadata": {},
   "source": [
    "Das Entfernen von items ist ebenso einfach. Es gibt mehrere Möglichkeiten, aber `.remove()` ist eine der gängigsten:"
   ]
  },
  {
   "cell_type": "code",
   "execution_count": 262,
   "id": "33413ed5",
   "metadata": {},
   "outputs": [],
   "source": [
    "megacities.remove('Karachi') \n",
    "countries.remove('Pakistan') \n",
    "pop2018.remove(16000000)"
   ]
  },
  {
   "cell_type": "code",
   "execution_count": 263,
   "id": "5e85e145",
   "metadata": {},
   "outputs": [
    {
     "data": {
      "text/plain": [
       "['Tokyo',\n",
       " 'Delhi',\n",
       " 'Shanghai',\n",
       " 'Sao Paulo',\n",
       " 'Ciudad de México',\n",
       " 'Cairo',\n",
       " 'Dhaka',\n",
       " 'Mumbai',\n",
       " 'Beijing',\n",
       " 'Osaka']"
      ]
     },
     "execution_count": 263,
     "metadata": {},
     "output_type": "execute_result"
    }
   ],
   "source": [
    "megacities"
   ]
  },
  {
   "cell_type": "markdown",
   "id": "2787a47a",
   "metadata": {},
   "source": [
    "Manchmal möchte man die Ordnung einer Liste ändern. Normalerweise wird die Liste auf irgendeine Weise sortiert (z. B. alphabetisch, absteigend). Im Folgenden erstellen wir eine Kopie von Megastädte und sortieren sie alphabetisch. Da wir das Originalobjekt nicht verändern wollen, erstellen wir explizit eine neue Kopie mit der Methode `.copy()`:"
   ]
  },
  {
   "cell_type": "code",
   "execution_count": 264,
   "id": "8ed60bbc",
   "metadata": {},
   "outputs": [
    {
     "name": "stdout",
     "output_type": "stream",
     "text": [
      "['Beijing', 'Cairo', 'Ciudad de México', 'Delhi', 'Dhaka', 'Mumbai', 'Osaka', 'Sao Paulo', 'Shanghai', 'Tokyo']\n"
     ]
    }
   ],
   "source": [
    "megacities_copy = megacities.copy() \n",
    "megacities_copy.sort() \n",
    "print(megacities_copy)"
   ]
  },
  {
   "cell_type": "markdown",
   "id": "7ee05ee1",
   "metadata": {},
   "source": [
    "Beachten Sie, dass wir beim Aufruf von `.sort()`  kein `=` verwenden. Diese Methode wird 'in-place' ausgeführt, d.h. sie verändert das Objekt, das sie aufruft. Die Zuweisung von `megacities_copy.sort()` gibt tatsächlich `None` zurück, ein spezieller Wert in Python."
   ]
  },
  {
   "cell_type": "markdown",
   "id": "057fc276",
   "metadata": {},
   "source": [
    "Bei Anwendung auf eine Liste von Zahlen sortiert `.sort()` die Liste von der kleinsten zur größten Zahl um:"
   ]
  },
  {
   "cell_type": "code",
   "execution_count": 265,
   "id": "b016d999",
   "metadata": {},
   "outputs": [
    {
     "name": "stdout",
     "output_type": "stream",
     "text": [
      "[19281000, 19578000, 19618000, 19980000, 20076000, 21581000, 21650000, 25582000, 28514000, 37468000]\n"
     ]
    }
   ],
   "source": [
    "pop_copy = pop2018.copy() \n",
    "pop_copy.sort() \n",
    "print(pop_copy)"
   ]
  },
  {
   "cell_type": "markdown",
   "id": "5b1f8869",
   "metadata": {},
   "source": [
    "Um eine Liste in umgekehrter alphabetischer Reihenfolge oder von der größten zur kleinsten Zahl zu sortieren, können wir das Argument `reverse=True` in der `.sort()`-Methode verwende."
   ]
  },
  {
   "cell_type": "code",
   "execution_count": 266,
   "id": "809f837f",
   "metadata": {},
   "outputs": [
    {
     "name": "stdout",
     "output_type": "stream",
     "text": [
      "[37468000, 28514000, 25582000, 21650000, 21581000, 20076000, 19980000, 19618000, 19578000, 19281000]\n"
     ]
    }
   ],
   "source": [
    "pop_copy.sort(reverse=True) \n",
    "print(pop_copy)"
   ]
  },
  {
   "cell_type": "code",
   "execution_count": 267,
   "id": "a8dec78f",
   "metadata": {},
   "outputs": [
    {
     "name": "stdout",
     "output_type": "stream",
     "text": [
      "['Tokyo', 'Shanghai', 'Sao Paulo', 'Osaka', 'Mumbai', 'Dhaka', 'Delhi', 'Ciudad de México', 'Cairo', 'Beijing']\n"
     ]
    }
   ],
   "source": [
    "megacities_copy.sort(reverse=True) \n",
    "print(megacities_copy)"
   ]
  },
  {
   "cell_type": "markdown",
   "id": "713e7d15",
   "metadata": {},
   "source": [
    "### Zipping and unzipping lists"
   ]
  },
  {
   "cell_type": "markdown",
   "id": "d571ae11",
   "metadata": {},
   "source": [
    "Wenn Sie Daten haben, die über mehrere Listen verteilt sind, kann es nützlich sein, diese Listen zusammenzuzippen, so dass alle Elemente mit einem Index von 0 miteinander verbunden sind, alle Elemente mit einem Index von 1 und so weiter. Der einfachste Weg, dies zu tun, ist die Verwendung der Funktion `zip()`, die im folgenden Codeblock dargestellt ist."
   ]
  },
  {
   "cell_type": "code",
   "execution_count": 268,
   "id": "a88614b7",
   "metadata": {},
   "outputs": [
    {
     "name": "stdout",
     "output_type": "stream",
     "text": [
      "('Tokyo', 'Japan', 37468000)\n",
      "('Delhi', 'India', 28514000)\n",
      "('Shanghai', 'China', 25582000)\n",
      "('Sao Paulo', 'Brazil', 21650000)\n",
      "('Ciudad de México', 'Mexico', 21581000)\n",
      "('Cairo', 'Egypt', 20076000)\n",
      "('Dhaka', 'Bangladesh', 19980000)\n",
      "('Mumbai', 'India', 19618000)\n",
      "('Beijing', 'China', 19578000)\n",
      "('Osaka', 'Japan', 19281000)\n"
     ]
    }
   ],
   "source": [
    "for paired in zip(megacities,countries, pop2018): \n",
    "    print(paired)"
   ]
  },
  {
   "cell_type": "markdown",
   "id": "92111f79",
   "metadata": {},
   "source": [
    "Das eigentliche Objekt, das die Funktion `zip()` zurückgibt, ist ein \"zip-Objekt\", in dem unsere Daten als eine Reihe von Tupeln gespeichert sind. Wir können diese gezippten Tupel mit der Funktion `list()` in eine Liste von Tupeln umwandeln:"
   ]
  },
  {
   "cell_type": "code",
   "execution_count": 115,
   "id": "0eb1e110",
   "metadata": {},
   "outputs": [
    {
     "name": "stdout",
     "output_type": "stream",
     "text": [
      "[('Tokyo', 'Japan', 37468000), ('Delhi', 'India', 28514000), ('Shanghai', 'China', 25582000), ('Sao Paulo', 'Brazil', 21650000), ('Mexico City', 'Mexico', 21581000), ('Cairo', 'Egypt', 20076000), ('Dhaka', 'Bangladesh', 19980000), ('Mumbai', 'India', 19618000), ('Beijing', 'China', 19578000), ('Osaka', 'Japan', 19281000)]\n"
     ]
    }
   ],
   "source": [
    "zipped_list = list(zip(megacities,countries,pop2018)) \n",
    "print(zipped_list)"
   ]
  },
  {
   "cell_type": "markdown",
   "id": "841f89d9",
   "metadata": {},
   "source": [
    "Es ist auch möglich, eine gezippte Liste mit Hilfe des `*`-Operators und der Mehrfachzuweisung (auch \"unpacking\" genannt) zu entpacken, wodurch wir mehreren Variablen in einer einzigen Zeile mehrere Werte zuweisen können. Der folgende Code gibt zum Beispiel drei Objekte zurück. Wir weisen jedes einer Variablen auf der linken Seite des `=`-Zeichens zu."
   ]
  },
  {
   "cell_type": "code",
   "execution_count": 269,
   "id": "1d93ed69",
   "metadata": {},
   "outputs": [
    {
     "name": "stdout",
     "output_type": "stream",
     "text": [
      "('Tokyo', 'Delhi', 'Shanghai', 'Sao Paulo', 'Mexico City', 'Cairo', 'Dhaka', 'Mumbai', 'Beijing', 'Osaka')\n",
      "('Japan', 'India', 'China', 'Brazil', 'Mexico', 'Egypt', 'Bangladesh', 'India', 'China', 'Japan')\n",
      "(37468000, 28514000, 25582000, 21650000, 21581000, 20076000, 19980000, 19618000, 19578000, 19281000)\n"
     ]
    }
   ],
   "source": [
    "city_unzip, country_unzip, pop_unzip = zip(*zipped_list) \n",
    "print(city_unzip) \n",
    "print(country_unzip) \n",
    "print(pop_unzip)"
   ]
  },
  {
   "cell_type": "markdown",
   "id": "f95cf226",
   "metadata": {},
   "source": [
    "### List comprehensions"
   ]
  },
  {
   "cell_type": "markdown",
   "id": "1437f59a",
   "metadata": {},
   "source": [
    "Zuvor haben wir eine leere Liste erstellt und sie mit `.append()` in einer for-Schleife aufgefüllt. Wir können auch die *list comprehension* verwenden, welche das gleiche Ergebnis in einer einzigen Codezeile liefern kann. Zur Veranschaulichung wollen wir versuchen, die Anzahl der Zeichen im Namen jedes Landes in der Länderliste mit einer for-Schleife und anschließend mit einer *list comprehension* zu zählen."
   ]
  },
  {
   "cell_type": "code",
   "execution_count": 270,
   "id": "1cc6568a",
   "metadata": {},
   "outputs": [
    {
     "name": "stdout",
     "output_type": "stream",
     "text": [
      "[5, 5, 5, 6, 6, 5, 10, 5, 5, 5]\n"
     ]
    }
   ],
   "source": [
    "len_country_name = [] \n",
    "\n",
    "for country in countries: \n",
    "    n_chars_tmp = len(country) \n",
    "    len_country_name.append(n_chars_tmp) \n",
    "\n",
    "print(len_country_name)"
   ]
  },
  {
   "cell_type": "code",
   "execution_count": 271,
   "id": "6ba46b0a",
   "metadata": {},
   "outputs": [
    {
     "name": "stdout",
     "output_type": "stream",
     "text": [
      "[5, 5, 5, 6, 6, 5, 10, 5, 5, 5]\n"
     ]
    }
   ],
   "source": [
    "len_country_name = [len(country) for country in countries] \n",
    "\n",
    "print(len_country_name)"
   ]
  },
  {
   "cell_type": "markdown",
   "id": "2b0cf2c1",
   "metadata": {},
   "source": [
    "*List comprehension* können anfangs etwas ungewohnt sein, aber mit etwas Übung werden sie einfacher. Das Wichtigste, was Sie sich merken müssen, ist, dass *list comprehensions* immer folgendes enthalten:  \n",
    "\n",
    "1. den Ausdruck selbst, der auf jedes Element der ursprünglichen Liste angewandt wird (in diesem Fall `len()`), \n",
    "2. den Namen der temporären Variable der auf das iterierbare Objekt verweist (in diesem Fall `country`) \n",
    "3. das iterierbare Objekt (in diesem Fall die Liste `countries`)\n",
    "\n",
    "Häufig möchten wir unseren for-Schleifen und `list comprehension` eine Bedingung hinzufügen. Erstellen wir eine neue Liste von Städten mit mehr als 20.500.000 Einwohnern mit Hilfe der Funktion `zip()`:"
   ]
  },
  {
   "cell_type": "code",
   "execution_count": 119,
   "id": "91502f60",
   "metadata": {},
   "outputs": [
    {
     "name": "stdout",
     "output_type": "stream",
     "text": [
      "[['Tokyo', 37468000], ['Delhi', 28514000], ['Shanghai', 25582000], ['Sao Paulo', 21650000], ['Mexico City', 21581000]]\n"
     ]
    }
   ],
   "source": [
    "biggest = [[city, population] for city, population in zip(megacities, pop2018) if population > 20500000] \n",
    "\n",
    "print(biggest)"
   ]
  },
  {
   "cell_type": "markdown",
   "id": "b7216fa4",
   "metadata": {},
   "source": [
    "Das Ergebnis - biggest - ist eine Liste von Listen. Wir können mit verschachtelten Datenstrukturen wie dieser arbeiten, indem wir die gleichen Werkzeuge verwenden, die wir für flache Datenstrukturen benutzen. Zum Beispiel,"
   ]
  },
  {
   "cell_type": "code",
   "execution_count": 120,
   "id": "27306fd1",
   "metadata": {},
   "outputs": [
    {
     "name": "stdout",
     "output_type": "stream",
     "text": [
      "The population of Tokyo in 2018 was 37468000\n",
      "The population of Delhi in 2018 was 28514000\n",
      "The population of Shanghai in 2018 was 25582000\n",
      "The population of Sao Paulo in 2018 was 21650000\n",
      "The population of Mexico City in 2018 was 21581000\n"
     ]
    }
   ],
   "source": [
    "for city in biggest: \n",
    "    print(f'The population of {city[0]} in 2018 was {city[1]}')"
   ]
  },
  {
   "cell_type": "markdown",
   "id": "e9d8985b",
   "metadata": {},
   "source": [
    "Wann sollten Sie eine for-Schleife und wann eine *list comprehension* verwenden?  \n",
    "\n",
    "In vielen Fällen ist das eine Frage der persönlichen Vorliebe. *List Comprehensions* sind etwas übersichtlicher aber mit etwas Python-Erfahrung dennoch lesbar. Sie werden jedoch sehr schnell unleserlich, wenn Sie viele Operationen für jedes Element durchführen müssen oder wenn Sie auch nur eine leicht komplexe bedingte Logik/Bedingung haben. In diesen Fällen sollten Sie auf jeden Fall *list comprehensions* vermeiden. Wir wollen immer sicherstellen, dass unser Code so lesbar wie möglich ist."
   ]
  },
  {
   "cell_type": "markdown",
   "id": "37501cd5",
   "metadata": {},
   "source": [
    "### Listen kopieren"
   ]
  },
  {
   "cell_type": "code",
   "execution_count": 277,
   "id": "ec52e5a7",
   "metadata": {},
   "outputs": [
    {
     "name": "stdout",
     "output_type": "stream",
     "text": [
      "['Japan', 'India', 'China', 'Brazil', 'Mexico', 'Egypt', 'Bangladesh', 'India', 'China', 'Japan', 'Germany']\n"
     ]
    }
   ],
   "source": [
    "countries_copy = countries \n",
    "print(countries_copy)"
   ]
  },
  {
   "cell_type": "code",
   "execution_count": 278,
   "id": "bfc288fc",
   "metadata": {},
   "outputs": [],
   "source": [
    "countries_copy.append('USA')"
   ]
  },
  {
   "cell_type": "code",
   "execution_count": 281,
   "id": "1512af12",
   "metadata": {},
   "outputs": [
    {
     "data": {
      "text/plain": [
       "['Japan',\n",
       " 'India',\n",
       " 'China',\n",
       " 'Brazil',\n",
       " 'Mexico',\n",
       " 'Egypt',\n",
       " 'Bangladesh',\n",
       " 'India',\n",
       " 'China',\n",
       " 'Japan',\n",
       " 'Germany',\n",
       " 'USA']"
      ]
     },
     "execution_count": 281,
     "metadata": {},
     "output_type": "execute_result"
    }
   ],
   "source": [
    "countries"
   ]
  },
  {
   "cell_type": "code",
   "execution_count": 282,
   "id": "0120fd48",
   "metadata": {},
   "outputs": [
    {
     "name": "stdout",
     "output_type": "stream",
     "text": [
      "['Japan', 'India', 'China', 'Brazil', 'Mexico', 'Egypt', 'Bangladesh', 'India', 'China', 'Japan', 'Germany', 'USA']\n"
     ]
    }
   ],
   "source": [
    "countries_copy_copy = countries.copy()\n",
    "print(countries_copy_copy)"
   ]
  },
  {
   "cell_type": "code",
   "execution_count": 287,
   "id": "7871a48e",
   "metadata": {},
   "outputs": [
    {
     "data": {
      "text/plain": [
       "['Japan',\n",
       " 'India',\n",
       " 'China',\n",
       " 'Brazil',\n",
       " 'Mexico',\n",
       " 'Egypt',\n",
       " 'Bangladesh',\n",
       " 'India',\n",
       " 'China',\n",
       " 'Japan',\n",
       " 'Germany',\n",
       " 'USA',\n",
       " 'France',\n",
       " 'France']"
      ]
     },
     "execution_count": 287,
     "metadata": {},
     "output_type": "execute_result"
    }
   ],
   "source": [
    "countries_copy_copy.append('France')\n",
    "countries_copy_copy"
   ]
  },
  {
   "cell_type": "code",
   "execution_count": 286,
   "id": "ff1ac652",
   "metadata": {},
   "outputs": [
    {
     "data": {
      "text/plain": [
       "['Japan',\n",
       " 'India',\n",
       " 'China',\n",
       " 'Brazil',\n",
       " 'Mexico',\n",
       " 'Egypt',\n",
       " 'Bangladesh',\n",
       " 'India',\n",
       " 'China',\n",
       " 'Japan',\n",
       " 'Germany',\n",
       " 'USA']"
      ]
     },
     "execution_count": 286,
     "metadata": {},
     "output_type": "execute_result"
    }
   ],
   "source": [
    "countries"
   ]
  },
  {
   "cell_type": "code",
   "execution_count": null,
   "id": "7b680f36",
   "metadata": {},
   "outputs": [],
   "source": []
  },
  {
   "cell_type": "code",
   "execution_count": null,
   "id": "94a232fd",
   "metadata": {},
   "outputs": [],
   "source": []
  },
  {
   "cell_type": "markdown",
   "id": "7d72ec99",
   "metadata": {},
   "source": [
    "Dieser Code scheint eine Kopie von Ländern zu erzeugen, aber das ist eine Illusion. Wenn wir eine Liste mit dem Operator `=` kopieren, erstellen wir **kein** neues Objekt. Stattdessen haben wir einen neuen Variablennamen erstellt, der auf das ursprüngliche Objekt im Speicher verweist. Wir haben ein Objekt mit zwei Namen, anstatt zwei verschiedene Objekte. Alle Änderungen, die mit `countries_copy` vorgenommen werden, ändern das gleiche Objekt im Speicher, das durch `countries` beschrieben wird. Wenn wir Karachi an `countries_copy` anhängen und `countries` ausdrucken, würden wir Karachi sehen, und umgekehrt. Wenn wir die ursprüngliche Liste beibehalten und Änderungen an der zweiten vornehmen wollen, ist dies nicht möglich. Stattdessen können wir die Methode `.copy()` verwenden, um eine flache Kopie der ursprünglichen Liste zu erstellen, oder `.deepcopy()`, um eine tiefe Kopie zu erstellen. Um den Unterschied zu verstehen, vergleichen Sie eine flache Liste (z. B. `[1, 2, 3]`) mit einer Liste von Listen (z. B. `[[1, 2, 3], [4, 5, 6]]`). Die Liste der Listen ist verschachtelt; sie ist tiefer als die flache Liste. Wenn wir eine flache Kopie (d. h. .copy()) der flachen Liste erstellen, erzeugt Python ein neues Objekt, das vom Original unabhängig ist. Wenn wir jedoch eine flache Kopie der verschachtelten Listen von Listen erstellen, erzeugt Python nur ein neues Objekt für die äußere Liste; es ist nur eine Ebene tief. Die Inhalte der inneren Listen `[1, 2, 3]` und `[4, 5, 6]` wurden nicht kopiert, sie sind nur Verweise auf die ursprünglichen Listen. Mit anderen Worten: Die äußeren Listen (Länge 2) sind unabhängig voneinander, aber die inneren Listen (Länge 3) sind Verweise auf dasselbe Objekt im Speicher. Wenn wir mit verschachtelten Datenstrukturen arbeiten, wie z. B. Listen von Listen, müssen wir `.deepcopy()` verwenden, wenn wir ein neues Objekt erstellen wollen, das völlig unabhängig vom Original ist."
   ]
  },
  {
   "cell_type": "markdown",
   "id": "5f8b404b",
   "metadata": {},
   "source": [
    "### not in or in?"
   ]
  },
  {
   "cell_type": "markdown",
   "id": "273e614d",
   "metadata": {},
   "source": [
    "Listen, die im Forschungskontext verwendet werden, sind in der Regel viel größer als die Beispiele hier. Sie können Tausende oder sogar Millionen von Einträgen enthalten. Um herauszufinden, ob eine Liste einen bestimmten Wert enthält oder nicht, können wir, anstatt eine gedruckte Liste manuell zu durchsuchen, die Operatoren in und not in verwenden, die True oder False auswerten:"
   ]
  },
  {
   "cell_type": "code",
   "execution_count": 288,
   "id": "7bc403e9",
   "metadata": {},
   "outputs": [
    {
     "data": {
      "text/plain": [
       "True"
      ]
     },
     "execution_count": 288,
     "metadata": {},
     "output_type": "execute_result"
    }
   ],
   "source": [
    "'Mexico' in countries"
   ]
  },
  {
   "cell_type": "code",
   "execution_count": 289,
   "id": "fb574725",
   "metadata": {},
   "outputs": [
    {
     "data": {
      "text/plain": [
       "False"
      ]
     },
     "execution_count": 289,
     "metadata": {},
     "output_type": "execute_result"
    }
   ],
   "source": [
    "'Mexico' not in countries"
   ]
  },
  {
   "cell_type": "markdown",
   "id": "056eb066",
   "metadata": {},
   "source": [
    "Diese Operatoren können bei der Verwendung von Bedingungen sehr nützlich sein."
   ]
  },
  {
   "cell_type": "code",
   "execution_count": 290,
   "id": "500b590e",
   "metadata": {},
   "outputs": [
    {
     "name": "stdout",
     "output_type": "stream",
     "text": [
      "Toronto was not one of the 10 largest cities in the world in 2018.\n"
     ]
    }
   ],
   "source": [
    "to_check = 'Toronto' \n",
    "if to_check in megacities: \n",
    "    print(f'{to_check} was one of the 10 largest cities in the world in 2018.') \n",
    "else: \n",
    "    print(f'{to_check} was not one of the 10 largest cities in the world in 2018.')"
   ]
  },
  {
   "cell_type": "markdown",
   "id": "5aeecb12",
   "metadata": {},
   "source": [
    "### Using enumerate"
   ]
  },
  {
   "cell_type": "markdown",
   "id": "36502ab9",
   "metadata": {},
   "source": [
    "In manchen Fällen möchten wir gleichzeitig auf das Element und seine Indexposition in einer Liste zugreifen. Dies können wir mit der Funktion `enumerate()` erreichen. Erinnern Sie sich an die drei Listen aus dem Megacity-Beispiel. Die Informationen über jede Megastadt sind auf drei Listen verteilt, aber die Indizes werden von diesen Listen gemeinsam genutzt. Im Folgenden zählen wir die Megastädte auf, indem wir eine temporäre Variable für die Indexposition (i) und jedes Element (Stadt) erstellen und darüber iterieren. Wir verwenden diese Werte, um den Namen der Stadt zu drucken, und greifen dann über die Indexposition auf Informationen über Land und Stadtbevölkerung zu. Dies funktioniert natürlich nur, weil die Elemente in der Liste geordnet sind und in jeder Liste gemeinsam genutzt werden."
   ]
  },
  {
   "cell_type": "code",
   "execution_count": 292,
   "id": "6d10ad38",
   "metadata": {},
   "outputs": [
    {
     "name": "stdout",
     "output_type": "stream",
     "text": [
      "Tokyo, Japan, has 37468000 residents.\n",
      "Delhi, India, has 28514000 residents.\n",
      "Shanghai, China, has 25582000 residents.\n",
      "Sao Paulo, Brazil, has 21650000 residents.\n",
      "Ciudad de México, Mexico, has 21581000 residents.\n",
      "Cairo, Egypt, has 20076000 residents.\n",
      "Dhaka, Bangladesh, has 19980000 residents.\n",
      "Mumbai, India, has 19618000 residents.\n",
      "Beijing, China, has 19578000 residents.\n",
      "Osaka, Japan, has 19281000 residents.\n"
     ]
    }
   ],
   "source": [
    "for i, city in enumerate(megacities): \n",
    "    print(f'{city}, {countries[i]}, has {str(pop2018[i])} residents.')"
   ]
  },
  {
   "cell_type": "markdown",
   "id": "16aa1a51",
   "metadata": {},
   "source": [
    "Wie bereits erwähnt, können wir beliebig viele Zeilen in den eingerückten Codeblock einer for-Schleife einfügen, wodurch unnötige Iterationen vermieden werden können. Wenn Sie viele Operationen mit Elementen in einer Liste von Tupeln durchführen müssen, ist es besser, die Datenstruktur einmal zu durchlaufen und alle erforderlichen Operationen durchzuführen, als die Liste mehrmals zu durchlaufen und jedes Mal nur eine kleine Anzahl von Operationen auszuführen. Je nachdem, was Sie erreichen wollen, möchten Sie vielleicht auch die temporären Objekte in Ihrer for-Schleife iterieren. Python erlaubt dies! Innerhalb des eingerückten Codeblocks Ihrer for-Schleife können Sie eine weitere for-Schleife einfügen (und eine weitere innerhalb dieser Schleife, und so weiter)."
   ]
  },
  {
   "cell_type": "markdown",
   "id": "c7e11ba0",
   "metadata": {},
   "source": [
    "### Tuples"
   ]
  },
  {
   "cell_type": "markdown",
   "id": "bd15fe25",
   "metadata": {},
   "source": [
    "In Python ist jedes Objekt entweder veränderlich oder unveränderlich. Wir haben gerade gezeigt, dass Listen in vielerlei Hinsicht veränderbar sind: Hinzufügen und Entfernen von Einträgen, Sortieren und so weiter. Jeder Datentyp in Python, bei dem man etwas an seiner Zusammensetzung ändern kann (Anzahl der Einträge, Werte der Einträge), ist veränderbar. Datentypen, die nach ihrer Instanziierung keine Änderungen zulassen, sind unveränderlich.    \n",
    "\n",
    "Ein Tupel ist eine geordnete, unveränderliche series von Objekten. Man kann sich Tupel als eine besondere Art von Liste vorstellen, die nach der Erstellung nicht mehr geändert werden kann. Syntaktisch gesehen werden die Werte in einem Tupel in `()` und nicht in `[]` gespeichert. Ein leeres Tupel kann auf ähnliche Weise wie eine Liste erzeugt werden:"
   ]
  },
  {
   "cell_type": "code",
   "execution_count": 306,
   "id": "917842d2",
   "metadata": {},
   "outputs": [],
   "source": [
    "my_empty_tuple_1 = () \n",
    "my_empty_tuple_2 = tuple()"
   ]
  },
  {
   "cell_type": "code",
   "execution_count": null,
   "id": "b1b0b97b",
   "metadata": {},
   "outputs": [],
   "source": [
    "a_useful_tuple = (2, 7, 4)"
   ]
  },
  {
   "cell_type": "markdown",
   "id": "fa723041",
   "metadata": {},
   "source": [
    "Mit den Funktionen `tuple()` und `list()` können wir leicht zwischen Tupeln und Listen konvertieren:"
   ]
  },
  {
   "cell_type": "code",
   "execution_count": 309,
   "id": "23dc9342",
   "metadata": {},
   "outputs": [
    {
     "name": "stdout",
     "output_type": "stream",
     "text": [
      "<class 'list'>\n"
     ]
    }
   ],
   "source": [
    "print(type(countries)) "
   ]
  },
  {
   "cell_type": "code",
   "execution_count": 310,
   "id": "dedb9c6a",
   "metadata": {},
   "outputs": [
    {
     "name": "stdout",
     "output_type": "stream",
     "text": [
      "<class 'tuple'>\n"
     ]
    }
   ],
   "source": [
    "countries_tuple = tuple(countries) \n",
    "print(type(countries_tuple))"
   ]
  },
  {
   "cell_type": "markdown",
   "id": "43e96ff7",
   "metadata": {},
   "source": [
    "Es gibt viele Verwendungszwecke für Tupel: Wenn Sie unbedingt sicherstellen müssen, dass die Reihenfolge einer series von Objekten erhalten bleibt, verwenden Sie ein Tupel, um dies zu garantieren."
   ]
  },
  {
   "cell_type": "code",
   "execution_count": 308,
   "id": "df61b364",
   "metadata": {},
   "outputs": [
    {
     "data": {
      "text/plain": [
       "['Bangladesh',\n",
       " 'Brazil',\n",
       " 'China',\n",
       " 'China',\n",
       " 'Egypt',\n",
       " 'Germany',\n",
       " 'India',\n",
       " 'India',\n",
       " 'Japan',\n",
       " 'Japan',\n",
       " 'Mexico',\n",
       " 'USA']"
      ]
     },
     "execution_count": 308,
     "metadata": {},
     "output_type": "execute_result"
    }
   ],
   "source": [
    "countries_sorted = countries.copy() \n",
    "countries_sorted.sort() \n",
    "countries_sorted"
   ]
  },
  {
   "cell_type": "code",
   "execution_count": 311,
   "id": "1bc11450",
   "metadata": {},
   "outputs": [
    {
     "ename": "AttributeError",
     "evalue": "'tuple' object has no attribute 'sort'",
     "output_type": "error",
     "traceback": [
      "\u001b[1;31m---------------------------------------------------------------------------\u001b[0m",
      "\u001b[1;31mAttributeError\u001b[0m                            Traceback (most recent call last)",
      "Cell \u001b[1;32mIn[311], line 1\u001b[0m\n\u001b[1;32m----> 1\u001b[0m \u001b[43mcountries_tuple\u001b[49m\u001b[38;5;241;43m.\u001b[39;49m\u001b[43msort\u001b[49m()\n",
      "\u001b[1;31mAttributeError\u001b[0m: 'tuple' object has no attribute 'sort'"
     ]
    }
   ],
   "source": [
    "countries_tuple.sort()"
   ]
  },
  {
   "cell_type": "markdown",
   "id": "11cd0eac",
   "metadata": {},
   "source": [
    "### Dictionaries"
   ]
  },
  {
   "cell_type": "markdown",
   "id": "5290bf11",
   "metadata": {},
   "source": [
    "Eine weitere Python-Datenstruktur, die Sie häufig sehen und verwenden werden, ist das Wörterbuch. Im Gegensatz zu Listen sind Wörterbücher dazu gedacht, zusammengehörige Informationen miteinander zu verbinden. Wörterbücher bieten einen flexiblen Ansatz für die Speicherung von Schlüssel-Wert-Paaren. Jeder Schlüssel muss ein unveränderliches Python-Objekt sein, z. B. eine ganze Zahl, ein Float, ein String oder ein Tupel, und es darf keine doppelten Schlüssel geben. Werte können jede Art von Objekt sein. Wir können auf Werte zugreifen, indem wir den entsprechenden Schlüssel angeben."
   ]
  },
  {
   "cell_type": "markdown",
   "id": "e2ee495b",
   "metadata": {},
   "source": [
    "Während bei Listen eckige Klammern `[]` und bei Tupeln runde Klammern `()` verwendet werden, werden in Pythons Dictionaries Schlüssel:Wert-Paare in geschweifte Klammern `{}` verpackt, wobei die Schlüssel und Werte durch einen Doppelpunkt `:` und jedes Paar durch ein `,` getrennt werden. Zum Beispiel,"
   ]
  },
  {
   "cell_type": "code",
   "execution_count": 293,
   "id": "1c10e32e",
   "metadata": {},
   "outputs": [
    {
     "name": "stdout",
     "output_type": "stream",
     "text": [
      "{'country': 'Japan', 'pop2018': 37468000}\n"
     ]
    }
   ],
   "source": [
    "tokyo = { \n",
    "    'country' : 'Japan', \n",
    "    'pop2018': 37468000 }\n",
    "print(tokyo)"
   ]
  },
  {
   "cell_type": "markdown",
   "id": "de7d9e97",
   "metadata": {},
   "source": [
    "Bei der Erstellung eines Wörterbuchs können beliebig viele Schlüssel verwendet werden. Um schnell auf eine Liste aller Schlüssel im Wörterbuch zuzugreifen, können wir die Methode `.keys()` verwenden:"
   ]
  },
  {
   "cell_type": "code",
   "execution_count": 134,
   "id": "ebcaba10",
   "metadata": {},
   "outputs": [
    {
     "name": "stdout",
     "output_type": "stream",
     "text": [
      "dict_keys(['country', 'pop2018'])\n"
     ]
    }
   ],
   "source": [
    "print(tokyo.keys())"
   ]
  },
  {
   "cell_type": "markdown",
   "id": "0be62da2",
   "metadata": {},
   "source": [
    "Um auf einen bestimmten Wert in einem Wörterbuch zuzugreifen, geben wir den Namen des Wörterbuchobjekts gefolgt vom Namen des Schlüssels, auf dessen Wert wir zugreifen möchten, in eckigen Klammern und Anführungszeichen an. So greifen wir auf die Bevölkerung unseres Wörterbuchs tokyo zu:"
   ]
  },
  {
   "cell_type": "code",
   "execution_count": 294,
   "id": "70fe601d",
   "metadata": {},
   "outputs": [
    {
     "data": {
      "text/plain": [
       "37468000"
      ]
     },
     "execution_count": 294,
     "metadata": {},
     "output_type": "execute_result"
    }
   ],
   "source": [
    "tokyo['pop2018']"
   ]
  },
  {
   "cell_type": "markdown",
   "id": "ce4bd5cf",
   "metadata": {},
   "source": [
    "Wie Listen können auch Wörterbücher während der Arbeit geändert werden. Wir können ein neues Schlüssel-Wert-Paar zu tokyo hinzufügen - z. B. die Bevölkerungsdichte des Großraums Tokio - und dabei dieselbe Syntax verwenden, die wir für den Verweis auf einen Schlüssel gelernt haben, nur dass wir auch einen Wert zuweisen. Da der Schlüssel, auf den wir verweisen, nicht im Wörterbuch vorhanden ist, weiß Python, dass wir ein neues Schlüssel-Wert-Paar erstellen und nicht ein altes durch einen neuen Wert ersetzen. Wenn wir das Wörterbuch ausdrucken, können wir sehen, dass unser neues Paar hinzugefügt wurde."
   ]
  },
  {
   "cell_type": "code",
   "execution_count": 295,
   "id": "74ee13f1",
   "metadata": {},
   "outputs": [
    {
     "name": "stdout",
     "output_type": "stream",
     "text": [
      "{'country': 'Japan', 'pop2018': 37468000, 'density': 1178.4}\n"
     ]
    }
   ],
   "source": [
    "tokyo['density'] = 1178.4 \n",
    "print(tokyo)"
   ]
  },
  {
   "cell_type": "markdown",
   "id": "08afd5d4",
   "metadata": {},
   "source": [
    "In diesem Fall haben wir mit einem Wörterbuch begonnen, das bereits einige Schlüssel-Wert-Paare enthielt, als wir das Wörterbuch zum ersten Mal definierten. Wir hätten aber auch mit einem leeren Wörterbuch beginnen und es mit Hilfe der soeben erlernten Methode mit Schlüssel-Wert-Paaren füllen können."
   ]
  },
  {
   "cell_type": "code",
   "execution_count": 296,
   "id": "fcf866b7",
   "metadata": {},
   "outputs": [
    {
     "name": "stdout",
     "output_type": "stream",
     "text": [
      "{'country': 'India', 'pop2018': 28514000, 'density': 11312}\n"
     ]
    }
   ],
   "source": [
    "delhi = {} \n",
    "delhi['country'] = 'India' \n",
    "delhi['pop2018'] = 28514000 \n",
    "delhi['density'] = 11312 \n",
    "\n",
    "print(delhi)"
   ]
  },
  {
   "cell_type": "markdown",
   "id": "683a03ea",
   "metadata": {},
   "source": [
    "### Nested data structures"
   ]
  },
  {
   "cell_type": "markdown",
   "id": "1a0de838",
   "metadata": {},
   "source": [
    "Listen, Tupel und Wörterbücher können auf verschiedene Weise verschachtelt werden, einschließlich der Verwendung von Wörterbüchern als Elemente in einer Liste, Listen als Elemente in Listen und Listen als Elemente in Wörterbüchern. Andere Arten von verschachtelten Datenstrukturen sind ebenfalls möglich. Die Arbeit mit diesen verschachtelten Strukturen ist sehr einfach. Unabhängig von der Position des Wertes in der verschachtelten Datenstruktur können Sie die für diesen Typ geeigneten Methoden verwenden."
   ]
  },
  {
   "cell_type": "markdown",
   "id": "3f080184",
   "metadata": {},
   "source": [
    "Wenn wir ein Wörterbuch haben, das Listen als Werte enthält, können wir auf die Werte zugreifen indem wir zunächst den key und dann den index subscripten."
   ]
  },
  {
   "cell_type": "code",
   "execution_count": 297,
   "id": "cab6beb1",
   "metadata": {},
   "outputs": [
    {
     "name": "stdout",
     "output_type": "stream",
     "text": [
      "{'cities': ['Tokyo', 'Yokohama', 'Osaka', 'Nagoya', 'Sapporo', 'Kobe', 'Kyoto', 'Fukuoka', 'Kawasaki', 'Saitama'], 'populations': [37, 3.7, 8.81, 9.5, 2.7, 1.5, 1.47, 5.6, 1.5, 1.3]}\n"
     ]
    }
   ],
   "source": [
    "japan = {} \n",
    "japan['cities'] = ['Tokyo', 'Yokohama', 'Osaka', 'Nagoya', 'Sapporo', 'Kobe', 'Kyoto', 'Fukuoka', 'Kawasaki', 'Saitama'] \n",
    "japan['populations'] = [37, 3.7, 8.81, 9.5, 2.7, 1.5, 1.47, 5.6, 1.5, 1.3] \n",
    "\n",
    "print(japan)"
   ]
  },
  {
   "cell_type": "code",
   "execution_count": 298,
   "id": "a57e88ed",
   "metadata": {},
   "outputs": [
    {
     "data": {
      "text/plain": [
       "'Sapporo'"
      ]
     },
     "execution_count": 298,
     "metadata": {},
     "output_type": "execute_result"
    }
   ],
   "source": [
    "japan['cities'][4]"
   ]
  },
  {
   "cell_type": "markdown",
   "id": "37101e7b",
   "metadata": {},
   "source": [
    "### Lists of dictionaries"
   ]
  },
  {
   "cell_type": "markdown",
   "id": "4a18febb",
   "metadata": {},
   "source": [
    "Wir können Wörterbücher auch als Elemente in einer Liste speichern. Zuvor haben wir die Wörterbücher tokyo und delhi erstellt. Beide enthalten die gleichen Schlüssel: Land und Bevölkerung. Das Hinzufügen dieser oder anderer Wörterbücher zu einer Liste ist ganz einfach. Zum Beispiel,"
   ]
  },
  {
   "cell_type": "code",
   "execution_count": 299,
   "id": "97070d41",
   "metadata": {},
   "outputs": [],
   "source": [
    "top_two = [tokyo, delhi]"
   ]
  },
  {
   "cell_type": "code",
   "execution_count": 300,
   "id": "e0f210c6",
   "metadata": {},
   "outputs": [
    {
     "name": "stdout",
     "output_type": "stream",
     "text": [
      "{'country': 'Japan', 'pop2018': 37468000, 'density': 1178.4}\n",
      "{'country': 'India', 'pop2018': 28514000, 'density': 11312}\n"
     ]
    }
   ],
   "source": [
    "for city in top_two: \n",
    "    print(city)"
   ]
  },
  {
   "cell_type": "code",
   "execution_count": 301,
   "id": "87e2dc6b",
   "metadata": {},
   "outputs": [
    {
     "name": "stdout",
     "output_type": "stream",
     "text": [
      "JAPAN\n",
      "INDIA\n"
     ]
    }
   ],
   "source": [
    "for city in top_two: \n",
    "    print(city['country'].upper())"
   ]
  },
  {
   "cell_type": "code",
   "execution_count": 305,
   "id": "1d7ae12c",
   "metadata": {},
   "outputs": [
    {
     "data": {
      "text/plain": [
       "28514000"
      ]
     },
     "execution_count": 305,
     "metadata": {},
     "output_type": "execute_result"
    }
   ],
   "source": [
    "top_two[1]['pop2018']"
   ]
  },
  {
   "cell_type": "markdown",
   "id": "ea798988",
   "metadata": {},
   "source": [
    "## Custom functions"
   ]
  },
  {
   "cell_type": "markdown",
   "id": "dfb3541d",
   "metadata": {},
   "source": [
    "Bisher haben wir einige Funktionen verwendet, die in Python eingebaut sind, z. B. `print()` und `len()`. In diesen und anderen Fällen nehmen die eingebauten Funktionen eine Eingabe entgegen, führen einige Operationen durch und geben dann eine Ausgabe zurück. Wenn wir zum Beispiel der Funktion `len()` einen String übergeben, berechnet sie die Anzahl der Zeichen in diesem String und gibt eine ganze Zahl zurück:"
   ]
  },
  {
   "cell_type": "code",
   "execution_count": 302,
   "id": "fcad6a67",
   "metadata": {},
   "outputs": [
    {
     "data": {
      "text/plain": [
       "18"
      ]
     },
     "execution_count": 302,
     "metadata": {},
     "output_type": "execute_result"
    }
   ],
   "source": [
    "seoul = 'Seoul, South Korea' \n",
    "len(seoul)"
   ]
  },
  {
   "cell_type": "markdown",
   "id": "46863f09",
   "metadata": {},
   "source": [
    "Wir hätten die Länge des Strings auch ohne len() berechnen können, zum Beispiel"
   ]
  },
  {
   "cell_type": "code",
   "execution_count": 303,
   "id": "209e3f69",
   "metadata": {},
   "outputs": [
    {
     "name": "stdout",
     "output_type": "stream",
     "text": [
      "18\n"
     ]
    }
   ],
   "source": [
    "length = 0 \n",
    "for character in seoul: \n",
    "    length += 1 \n",
    "\n",
    "print(length)"
   ]
  },
  {
   "cell_type": "markdown",
   "id": "8326a2d0",
   "metadata": {},
   "source": [
    "Beide Teile des Codes berechnen die Länge des in `seoul` gespeicherten Strings, aber die Verwendung von `len()` vermeidet unnötige Arbeit. Wir verwenden Funktionen, um die Vorteile der Abstraktion zu nutzen: Wir wandeln wiederkehrende Aufgaben und Text in komprimierte und leicht zusammenzufassende Werkzeuge um. Moderne Software wie Python basiert auf Jahrzehnten der Abstraktion. Wir programmieren nicht in Binärform, weil wir diesen Prozess abstrahiert haben und zu höheren Sprachen und Funktionen übergegangen sind, die uns Zeit, Platz und Gehirnleistung sparen. Das ist es, was Sie anstreben sollten, wenn Sie Ihre eigenen Funktionen schreiben: Identifizieren Sie kleine Aufgaben oder Probleme, die Sie häufig wiederholen, und schreiben Sie eine gut benannte Funktion, die sie jedes Mal auf die gleiche Weise behandelt, so dass Sie Funktionen kombinieren können, um größere und komplexere Probleme anzugehen."
   ]
  },
  {
   "cell_type": "markdown",
   "id": "54449f8d",
   "metadata": {},
   "source": [
    "Stellen Sie sich eine Reihe von Operationen vor, die wir mehrfach anwenden müssen, jedes Mal mit einer anderen Eingabe. Sie beginnen damit, eine dieser Eingaben auszuwählen und den Code zu schreiben, der das gewünschte Endergebnis liefert. Wie geht es nun weiter? Eine Möglichkeit, die ich nicht empfehle, ist das Kopieren und Einfügen des Codes für jeden der Eingänge. Sobald Sie den Code kopiert haben, ändern Sie die Namen der Ein- und Ausgänge so, dass Sie für jeden Eingang den gewünschten Ausgang erhalten."
   ]
  },
  {
   "cell_type": "markdown",
   "id": "7bc40b4f",
   "metadata": {},
   "source": [
    "Was passiert, wenn Sie ein Problem im Code entdecken oder ihn verbessern wollen? Sie müssen die relevanten Teile Ihres Codes an mehreren Stellen ändern, und jedes Mal riskieren Sie, etwas zu übersehen oder einen Fehler zu machen. Zu allem Überfluss ist das Skript viel länger als nötig, und die Abfolge der Operationen ist viel schwieriger zu verfolgen und auszuwerten."
   ]
  },
  {
   "cell_type": "markdown",
   "id": "3f444338",
   "metadata": {},
   "source": [
    "Stattdessen könnten wir unsere eigenen Funktionen schreiben, mit denen wir Teile des Codes strategisch wiederverwenden können. Wenn wir ein Problem entdecken oder etwas ändern wollen, dann müssen wir die Änderung nur an einer Stelle vornehmen. Wenn wir unsere aktualisierte Funktion ausführen, wird sie zuverlässig die gewünschte neue Ausgabe erzeugen. Wir können unsere Funktionen in einem separaten Skript speichern und sie an anderer Stelle importieren, wodurch diese Skripte und Notizbücher übersichtlicher und leichter zu verstehen sind. Und wenn wir gute beschreibende Namen für unsere Funktionen verwenden - etwas, das wir später besprechen werden -, dann können wir von den Details auf niedriger Ebene abstrahieren und uns auf die übergeordneten Details dessen konzentrieren, was wir zu tun versuchen. Das ist immer eine gute Idee, aber es ist besonders hilfreich, wenn nicht sogar unerlässlich, wenn man an großen Projekten arbeitet."
   ]
  },
  {
   "cell_type": "markdown",
   "id": "2d5b0b87",
   "metadata": {},
   "source": [
    "Das Schreiben eigener Funktionen ist also eine sehr leistungsfähige Methode, um unseren Code aufzuteilen und zu organisieren. Es bietet uns viele der gleichen Vorteile wie die Verwendung von eingebauten Funktionen oder Funktionen aus anderen Paketen, aber auch ein paar zusätzliche Vorteile:"
   ]
  },
  {
   "cell_type": "markdown",
   "id": "b900ef08",
   "metadata": {},
   "source": [
    "- Wiederverwendbar - machen Sie keine Arbeit, die bereits erledigt wurde \n",
    "- Abstraktion - abstrahieren Sie Details auf niedriger Ebene, damit Sie sich auf Konzepte und Logik auf höherer Ebene konzentrieren können \n",
    "- Reduzieren Sie das Fehlerpotenzial - wenn Sie einen Fehler finden, brauchen Sie ihn nur an einer Stelle zu beheben \n",
    "- Kürzere und besser lesbare Skripte - viel einfacher zu lesen, zu verstehen und zu bewerten"
   ]
  },
  {
   "cell_type": "markdown",
   "id": "a476bc13",
   "metadata": {},
   "source": [
    "### Writing custom functions"
   ]
  },
  {
   "cell_type": "markdown",
   "id": "d4ccc6ef",
   "metadata": {},
   "source": [
    "Um eine Funktion in Python zu definieren, beginnt man mit dem Schlüsselwort `def`, gefolgt vom Namen der Funktion, Klammern mit den Argumenten, die die Funktion annehmen soll, und einem `:`. Der gesamte Code, der ausgeführt wird, wenn die Funktion aufgerufen wird, ist in einem eingerückten Block enthalten. Im Folgenden definieren wir eine Funktion namens `welcome()`, die einen Namen annimmt und eine Begrüßung ausgibt:"
   ]
  },
  {
   "cell_type": "code",
   "execution_count": 304,
   "id": "25d8bb74",
   "metadata": {},
   "outputs": [
    {
     "name": "stdout",
     "output_type": "stream",
     "text": [
      "Hi, Jonas! Good to see you.\n"
     ]
    }
   ],
   "source": [
    "def welcome(name): \n",
    "    print(f'Hi, {name}! Good to see you.') \n",
    "\n",
    "welcome('Jonas')"
   ]
  },
  {
   "cell_type": "markdown",
   "id": "e4d1d83e",
   "metadata": {},
   "source": [
    "In diesem Fall gibt die Funktion einen neuen String auf dem Bildschirm aus. Das kann zwar nützlich sein, aber in den meisten Fällen wollen wir etwas mit der Eingabe machen und dann eine andere Ausgabe zurückgeben. Wenn eine Funktion, aus welchem Grund auch immer, keine Ausgabe zurückgibt, gibt sie trotzdem None zurück, wie die Methode .sort()."
   ]
  },
  {
   "cell_type": "code",
   "execution_count": 153,
   "id": "e69a7178",
   "metadata": {},
   "outputs": [],
   "source": [
    "def clean_string(some_string): \n",
    "    cleaned = some_string.strip().lower() \n",
    "    return cleaned"
   ]
  },
  {
   "cell_type": "code",
   "execution_count": 155,
   "id": "fb62d20f",
   "metadata": {},
   "outputs": [
    {
     "name": "stdout",
     "output_type": "stream",
     "text": [
      "hi my name is john mclevey.\n"
     ]
    }
   ],
   "source": [
    "cleaned_str = clean_string('Hi my name is John McLevey.   ') \n",
    "print(cleaned_str)"
   ]
  }
 ],
 "metadata": {
  "kernelspec": {
   "display_name": "Python 3 (ipykernel)",
   "language": "python",
   "name": "python3"
  },
  "language_info": {
   "codemirror_mode": {
    "name": "ipython",
    "version": 3
   },
   "file_extension": ".py",
   "mimetype": "text/x-python",
   "name": "python",
   "nbconvert_exporter": "python",
   "pygments_lexer": "ipython3",
   "version": "3.8.16"
  }
 },
 "nbformat": 4,
 "nbformat_minor": 5
}
