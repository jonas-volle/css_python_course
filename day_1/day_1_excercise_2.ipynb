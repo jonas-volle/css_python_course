{
 "cells": [
  {
   "cell_type": "markdown",
   "id": "9d6e3f96",
   "metadata": {},
   "source": [
    "# Tag 1 - Übung 2"
   ]
  },
  {
   "cell_type": "markdown",
   "id": "dfcb9687",
   "metadata": {},
   "source": [
    "**Aufgabe 1.1**: Erstellen sie drei Variablen mit den Namen `name`, `age` und `height` und weisen diesen die Werte Jan, 49 und 1.83 zu."
   ]
  },
  {
   "cell_type": "code",
   "execution_count": null,
   "id": "98198ec0",
   "metadata": {},
   "outputs": [],
   "source": []
  },
  {
   "cell_type": "markdown",
   "id": "40ed1db6",
   "metadata": {},
   "source": [
    "**Aufgabe 1.2**: Fügen Sie mit der `.format()` Methode die eben erstellten Variablen in den String `a_sentence` ein."
   ]
  },
  {
   "cell_type": "code",
   "execution_count": null,
   "id": "13043235",
   "metadata": {},
   "outputs": [],
   "source": [
    "a_sentence = \"{} ist {} Jahre alt und {} Meter groß.\""
   ]
  },
  {
   "cell_type": "code",
   "execution_count": null,
   "id": "13996e49",
   "metadata": {},
   "outputs": [],
   "source": []
  },
  {
   "cell_type": "markdown",
   "id": "c051bd8e",
   "metadata": {},
   "source": [
    "**Aufgabe 2.1**: Erstellen Sie ein if-else statement mit dem Sie prüfen, ob die eben erstellte Variable `name` identisch mit dem String `'Lance'` ist. Wenn die Bedingung `True` ergibt, printen Sie `'Ja! Der Name ist Lance!'`. Wenn die Bedingung `False` ergibt, printen Sie `Nein! Der Name ist nicht Lance!`"
   ]
  },
  {
   "cell_type": "code",
   "execution_count": null,
   "id": "1374d88d",
   "metadata": {},
   "outputs": [],
   "source": []
  },
  {
   "cell_type": "markdown",
   "id": "33b4a163",
   "metadata": {},
   "source": [
    "**Aufgabe 2.2**: Erstellen Sie ein if-elif-else statement mit dem Sie prüfen, ob die eben erstellte Variable `age` kleiner 40 oder kleiner 50 ist. Wenn die erste Bedingung `True` ergibt, printen Sie `'Jan ist jünger als 40!'`. Wenn die zweite Bedingung `True` ergibt, printen Sie `Jan ist jünger als 50!`. Wenn beide Bedingungen nicht wahr sind, printen Sie `'Jan ist schon sehr alt!'`"
   ]
  },
  {
   "cell_type": "code",
   "execution_count": null,
   "id": "2ed1265f",
   "metadata": {},
   "outputs": [],
   "source": []
  },
  {
   "cell_type": "markdown",
   "id": "2b134976",
   "metadata": {},
   "source": [
    "**Aufgabe 2.3 (extra)**: Lösen Sie die Aufgabe 2.2 indem Sie die Werte 40 und 50 nicht einzeln in das if-elif statement schreiben, sondern definieren Sie die variablen `age_1` und `age_2` mit diesen Werten. Benutzen Sie die Stringformatierung `f\"{}\"` um die Variablen `name`, `age_1` und `age_2` in die `print()` Ausdrücke einzubinden."
   ]
  },
  {
   "cell_type": "code",
   "execution_count": null,
   "id": "e958ff29",
   "metadata": {},
   "outputs": [],
   "source": [
    "age_1 = \n",
    "age_2 = "
   ]
  },
  {
   "cell_type": "markdown",
   "id": "3927f05a",
   "metadata": {},
   "source": [
    "**Aufgabe 2.4 (extra)**:  Ändern Sie die Variablen `age_1` und `age_2` zu 30 und 40 und schauen Sie was passiert."
   ]
  },
  {
   "cell_type": "code",
   "execution_count": null,
   "id": "c61b6dd3",
   "metadata": {},
   "outputs": [],
   "source": [
    "age_1 = \n",
    "age_2 = "
   ]
  },
  {
   "cell_type": "markdown",
   "id": "0097c432",
   "metadata": {},
   "source": [
    "**Aufgabe 3**:   \n",
    "\n",
    "a) Erstellen Sie die Variablen `stage` mit dem Wert `1` und die Variable `energie_gel_number` mit dem Wert 7.  \n",
    "b) Erstellen Sie einen `while`-Loop, der so lange ausgeführt wird, bis stage größer als 21 ist. Wenn `stage` kleiner gleich 21 ist printen Sie `f\"{name} fährt die Tour de France Etappe {stage} und hat dabei {energie_gel_number} Energiegels gegessen.\"`  \n",
    "c) Addieren Sie in jedem Durchgang des Loops zu `stage` den Wert 1 und zu `energie_gel_number` den Wert 7. (`+=`)  \n",
    "d) Wenn `stage` größer als 21 ist, printen Sie `Hurra! Jan hat es geschafft!`"
   ]
  },
  {
   "cell_type": "code",
   "execution_count": null,
   "id": "385f3a57",
   "metadata": {},
   "outputs": [],
   "source": []
  },
  {
   "cell_type": "markdown",
   "id": "24f5788e",
   "metadata": {},
   "source": [
    "**Aufgabe 4:** Prüfen Sie folgende Aussagen mit Hilfe eines Boolschen Ausdruck.\n",
    "\n",
    "- Ist die Variable `name` Marco oder Jan?\n",
    "- Ist `age` größer gleich 20 und kleiner gleich 40?\n",
    "- Ist `age` kleiner 50 und `height` größer 1.90?\n",
    "- Ist die Variable `name` Marco oder Jan und ist `age` kleiner 50 und `height` größer 1.90?"
   ]
  },
  {
   "cell_type": "code",
   "execution_count": null,
   "id": "d3dbd645",
   "metadata": {},
   "outputs": [],
   "source": []
  },
  {
   "cell_type": "code",
   "execution_count": null,
   "id": "9188c3de",
   "metadata": {},
   "outputs": [],
   "source": []
  },
  {
   "cell_type": "code",
   "execution_count": null,
   "id": "013b2bdd",
   "metadata": {},
   "outputs": [],
   "source": []
  },
  {
   "cell_type": "code",
   "execution_count": null,
   "id": "3b9a5285",
   "metadata": {},
   "outputs": [],
   "source": []
  },
  {
   "cell_type": "markdown",
   "id": "8c26795e",
   "metadata": {},
   "source": [
    "**Aufgabe 5:** Spiele Sie etwas mit dem try-except Block herum und gebe Sie verschiedene Werte ein. Welche Werte müssen Sie eingeben, um die jeweiligen exceptions auszulösen?"
   ]
  },
  {
   "cell_type": "code",
   "execution_count": null,
   "id": "bb3f142b",
   "metadata": {},
   "outputs": [],
   "source": [
    "user_input_1 = 5\n",
    "user_input_2 = 3\n",
    "\n",
    "try:\n",
    "    integer_1 = int(user_input_1)\n",
    "    integer_2 = int(user_input_2)\n",
    "    \n",
    "    result = integer_1 / integer_2\n",
    "    print(f\"Ergebnis: {result}\")\n",
    "    \n",
    "except ValueError:\n",
    "    print(\"Ungültige Eingabe! Du musst eine ganze Zahl eingeben.\")\n",
    "    \n",
    "except ZeroDivisionError:\n",
    "    print(\"Division durch Null ist nicht erlaubt!\")"
   ]
  }
 ],
 "metadata": {
  "kernelspec": {
   "display_name": "Python 3 (ipykernel)",
   "language": "python",
   "name": "python3"
  },
  "language_info": {
   "codemirror_mode": {
    "name": "ipython",
    "version": 3
   },
   "file_extension": ".py",
   "mimetype": "text/x-python",
   "name": "python",
   "nbconvert_exporter": "python",
   "pygments_lexer": "ipython3",
   "version": "3.8.16"
  }
 },
 "nbformat": 4,
 "nbformat_minor": 5
}
