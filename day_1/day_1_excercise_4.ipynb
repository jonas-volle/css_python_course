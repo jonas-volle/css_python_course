{
 "cells": [
  {
   "cell_type": "markdown",
   "id": "9d6e3f96",
   "metadata": {},
   "source": [
    "# Tag 1 - Übung 4"
   ]
  },
  {
   "cell_type": "markdown",
   "id": "7f1caa2c",
   "metadata": {},
   "source": [
    "**Aufgabe 1:** Erstellen Sie ein dictionary `stage_1` mit den folgenden key:value Paaren: \n",
    "\n",
    "stage_num:1,  \n",
    "start:Bilbao,  \n",
    "end:Bilbao,  \n",
    "km:182.   \n",
    "\n",
    "Printen Sie das dictionary anschließend."
   ]
  },
  {
   "cell_type": "code",
   "execution_count": null,
   "id": "5dcb0a26",
   "metadata": {},
   "outputs": [],
   "source": []
  },
  {
   "cell_type": "markdown",
   "id": "b16f32b5",
   "metadata": {},
   "source": [
    "**Aufgabe 2:** Erstellen Sie ein dictionary `stage_2` mit den folgenden key:value Paaren:  \n",
    "\n",
    "stage_num:2,  \n",
    "start:Vitoria-Gasteiz,  \n",
    "end:Saint-Sebastien,  \n",
    "km:209.  \n",
    "\n",
    "\n",
    "Printen Sie das dictionary anschließend."
   ]
  },
  {
   "cell_type": "code",
   "execution_count": null,
   "id": "8485ed58",
   "metadata": {},
   "outputs": [],
   "source": []
  },
  {
   "cell_type": "markdown",
   "id": "773c2538",
   "metadata": {},
   "source": [
    "**Aufgabe 3:** Speichern Sie beide dictionaries in einer Liste mit dem Namen `tdf_stages_23`."
   ]
  },
  {
   "cell_type": "code",
   "execution_count": null,
   "id": "75fee5b7",
   "metadata": {},
   "outputs": [],
   "source": []
  },
  {
   "cell_type": "markdown",
   "id": "d5dbd02a",
   "metadata": {},
   "source": [
    "**Aufgabe 4**: Fügen Sie der Liste tdf_stages_23 einen weiteren Eintrag hinzu. Die key:value Paare sind diesmal:  \n",
    "\n",
    "stage_num:3,  \n",
    "start:Amorebieta-Etxano,  \n",
    "end:Bayonne,  \n",
    "km: 187"
   ]
  },
  {
   "cell_type": "code",
   "execution_count": null,
   "id": "5ad9a051",
   "metadata": {},
   "outputs": [],
   "source": []
  },
  {
   "cell_type": "markdown",
   "id": "f5944851",
   "metadata": {},
   "source": [
    "**Aufgabe 5:** Indizieren Sie die folgenden Werte:\n",
    "- Den Startort der zweiten Etappe\n",
    "- Die Kilometeranzahl der ersten Etappe\n",
    "- Den Endort der dritten Etappe"
   ]
  },
  {
   "cell_type": "code",
   "execution_count": null,
   "id": "f2244114",
   "metadata": {},
   "outputs": [],
   "source": []
  },
  {
   "cell_type": "code",
   "execution_count": null,
   "id": "12cbc2fb",
   "metadata": {},
   "outputs": [],
   "source": []
  },
  {
   "cell_type": "code",
   "execution_count": null,
   "id": "0da1194b",
   "metadata": {},
   "outputs": [],
   "source": []
  },
  {
   "cell_type": "markdown",
   "id": "0619d2d0",
   "metadata": {},
   "source": [
    "**Aufgabe 6:** Schreiben Sie die Funktion `clean_string` die einen string bereinigt. Diese Funktion sollte:  \n",
    "\n",
    "- alle Buchstaben in kleine Buchstaben verwandeln,  \n",
    "- alle !  \n",
    "- und . entfernen   \n",
    "- und alle überflüssigen Leerzeichen entfernen.  \n",
    "\n",
    "Wenden Sie diese Funktion auf den String `my_string` an."
   ]
  },
  {
   "cell_type": "code",
   "execution_count": null,
   "id": "bbdfd44d",
   "metadata": {},
   "outputs": [],
   "source": [
    "my_string = '   Das HIER ist ein   ..  unordentlicher String!!!!!'"
   ]
  },
  {
   "cell_type": "code",
   "execution_count": null,
   "id": "87b59fe7",
   "metadata": {},
   "outputs": [],
   "source": []
  },
  {
   "cell_type": "code",
   "execution_count": null,
   "id": "0605012a",
   "metadata": {},
   "outputs": [],
   "source": []
  },
  {
   "cell_type": "markdown",
   "id": "42cd452d",
   "metadata": {},
   "source": [
    "**Aufgabe 7:** Wenden Sie Ihre Funktion mit einer list comrehension auf die Liste `my_strings` an. Speichern Sie das Ergebnis in der variable `my_clean_strings`. Printen Sie die Variable anschließend."
   ]
  },
  {
   "cell_type": "code",
   "execution_count": null,
   "id": "3b466b6e",
   "metadata": {},
   "outputs": [],
   "source": [
    "my_strings = ['   Ein WEITERER . richtig unORDENLICHER!!! string', 'UND     NOCH einer!!!', ' SOOOO  VIELE strings...   ']"
   ]
  },
  {
   "cell_type": "code",
   "execution_count": null,
   "id": "dd3166ff",
   "metadata": {},
   "outputs": [],
   "source": []
  }
 ],
 "metadata": {
  "kernelspec": {
   "display_name": "Python 3 (ipykernel)",
   "language": "python",
   "name": "python3"
  },
  "language_info": {
   "codemirror_mode": {
    "name": "ipython",
    "version": 3
   },
   "file_extension": ".py",
   "mimetype": "text/x-python",
   "name": "python",
   "nbconvert_exporter": "python",
   "pygments_lexer": "ipython3",
   "version": "3.8.16"
  }
 },
 "nbformat": 4,
 "nbformat_minor": 5
}
