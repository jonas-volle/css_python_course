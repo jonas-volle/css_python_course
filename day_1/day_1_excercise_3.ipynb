{
 "cells": [
  {
   "cell_type": "markdown",
   "id": "9d6e3f96",
   "metadata": {},
   "source": [
    "# Tag 1 - Übung 3"
   ]
  },
  {
   "cell_type": "markdown",
   "id": "7f1caa2c",
   "metadata": {},
   "source": [
    "**Aufgabe 1:** Wählen Sie die folgenden Personen aus der Liste `cyclists_names` durch Indizierung mit Rechteckigen Klammern aus:"
   ]
  },
  {
   "cell_type": "code",
   "execution_count": null,
   "id": "22dc449c",
   "metadata": {},
   "outputs": [],
   "source": [
    "cyclists_names = ['Jan Ullrich', 'Lance Armstrong', 'Eddy Merckx', 'Chris Froome', 'Tadej Pogacar']"
   ]
  },
  {
   "cell_type": "code",
   "execution_count": null,
   "id": "518927d4",
   "metadata": {},
   "outputs": [],
   "source": [
    "# Eddy Merckx\n"
   ]
  },
  {
   "cell_type": "code",
   "execution_count": null,
   "id": "10c7b960",
   "metadata": {},
   "outputs": [],
   "source": [
    "# Tadej Pogacar\n"
   ]
  },
  {
   "cell_type": "code",
   "execution_count": null,
   "id": "0304b1ef",
   "metadata": {},
   "outputs": [],
   "source": [
    "# Jan Ullrich, Lance Armstrong und Eddy Merckx\n"
   ]
  },
  {
   "cell_type": "markdown",
   "id": "d09dc4b8",
   "metadata": {},
   "source": [
    "**Aufgabe 2:** Printen Sie jedes Element in der Liste cyclists_names mittels eines for-loops"
   ]
  },
  {
   "cell_type": "code",
   "execution_count": null,
   "id": "6ed1875f",
   "metadata": {},
   "outputs": [],
   "source": []
  },
  {
   "cell_type": "markdown",
   "id": "addfa7dd",
   "metadata": {},
   "source": [
    "**Aufgabe 3:** Fügen Sie der Liste `cyclists_names` den Namen 'Geraint Thomas' hinzu und printen Sie die Liste anschließend."
   ]
  },
  {
   "cell_type": "code",
   "execution_count": null,
   "id": "1d951b07",
   "metadata": {},
   "outputs": [],
   "source": []
  },
  {
   "cell_type": "markdown",
   "id": "b13ff48f",
   "metadata": {},
   "source": [
    "**Aufgabe 4:** Löschen Sie 'Lance Armstrong' von der Liste `cyclists_names` und printen Sie die Liste anschließend."
   ]
  },
  {
   "cell_type": "code",
   "execution_count": null,
   "id": "7359c3a4",
   "metadata": {},
   "outputs": [],
   "source": []
  },
  {
   "cell_type": "markdown",
   "id": "c9a8e9d3",
   "metadata": {},
   "source": [
    "**Aufgabe 5:** Erstellen Sie eine neue Liste mit dem Namen `cyclists_names_len` mit Hilfe einer List comprehension in der Sie die Länge (`len()`) der einzelnen Namen aus `cyclists_names` speichern. Printen Sie `cyclists_names_len` anschließend."
   ]
  },
  {
   "cell_type": "code",
   "execution_count": null,
   "id": "b733ad59",
   "metadata": {},
   "outputs": [],
   "source": []
  },
  {
   "cell_type": "markdown",
   "id": "8f065b39",
   "metadata": {},
   "source": [
    "**Aufgabe 6:** Erstellen Sie mit einer List comprehension eine Liste mit den Namen aus cyclists_names, die mehr als 11 Zeichen haben."
   ]
  },
  {
   "cell_type": "code",
   "execution_count": null,
   "id": "88b6c937",
   "metadata": {},
   "outputs": [],
   "source": []
  },
  {
   "cell_type": "markdown",
   "id": "ad1a8b29",
   "metadata": {},
   "source": [
    "**Aufgabe 7**: Zipen Sie die drei untenstehenden Listen und weisen Sie diese der Variable `cyclists_zip` zu. Erstellen Sie mittels list comprehension eine Liste mit Namen der Radfahrer mit mehr als 2 Tour de France Titeln auf Grundlage von `cyclists_zip`."
   ]
  },
  {
   "cell_type": "code",
   "execution_count": null,
   "id": "f799a5cd",
   "metadata": {},
   "outputs": [],
   "source": [
    "cyclists_names = ['Jan Ullrich', 'Lance Armstrong', 'Eddy Merckx', 'Chris Froome', 'Tadej Pogacar', 'Geraint Thomas']\n",
    "cyclists_names_len = [11, 15, 11, 12, 13, 14]\n",
    "cyclists_tdf_wins = [1, 0, 5, 4, 2, 1]"
   ]
  },
  {
   "cell_type": "code",
   "execution_count": null,
   "id": "6c69e21f",
   "metadata": {},
   "outputs": [],
   "source": []
  }
 ],
 "metadata": {
  "kernelspec": {
   "display_name": "Python 3 (ipykernel)",
   "language": "python",
   "name": "python3"
  },
  "language_info": {
   "codemirror_mode": {
    "name": "ipython",
    "version": 3
   },
   "file_extension": ".py",
   "mimetype": "text/x-python",
   "name": "python",
   "nbconvert_exporter": "python",
   "pygments_lexer": "ipython3",
   "version": "3.8.16"
  }
 },
 "nbformat": 4,
 "nbformat_minor": 5
}
