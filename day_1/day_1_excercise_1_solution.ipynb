{
 "cells": [
  {
   "cell_type": "markdown",
   "id": "9d6e3f96",
   "metadata": {},
   "source": [
    "# Tag 1 - Übung 1"
   ]
  },
  {
   "cell_type": "markdown",
   "id": "7f1caa2c",
   "metadata": {},
   "source": [
    "**Aufgabe 1:** Erstellen Sie drei Variablen mit den Namen `my_integer`, `my_float`, `my_string` und weisen diesen Variablen jeweils einen integer, float und string Wert zu. Printen Sie die Variablen anschließend."
   ]
  },
  {
   "cell_type": "code",
   "execution_count": 1,
   "id": "fa436c02",
   "metadata": {},
   "outputs": [],
   "source": [
    "my_integer = 1567\n",
    "my_float = 567.9\n",
    "my_string = 'Das hier ist ein Test-String!'"
   ]
  },
  {
   "cell_type": "code",
   "execution_count": 3,
   "id": "84b20db0",
   "metadata": {},
   "outputs": [
    {
     "name": "stdout",
     "output_type": "stream",
     "text": [
      "1567\n",
      "567.9\n",
      "Das hier ist ein Test-String!\n"
     ]
    }
   ],
   "source": [
    "print(my_integer)\n",
    "print(my_float)\n",
    "print(my_string)"
   ]
  },
  {
   "cell_type": "markdown",
   "id": "38864054",
   "metadata": {},
   "source": [
    "**Aufgabe 2:** Multiplizieren Sie den Wert von `my_integer` mit 7 und printen Sie das Ergebnis"
   ]
  },
  {
   "cell_type": "code",
   "execution_count": 6,
   "id": "55d5d05a",
   "metadata": {},
   "outputs": [
    {
     "name": "stdout",
     "output_type": "stream",
     "text": [
      "10969\n"
     ]
    }
   ],
   "source": [
    "print(my_integer * 7)"
   ]
  },
  {
   "cell_type": "markdown",
   "id": "95f95e00",
   "metadata": {},
   "source": [
    "**Aufgabe 3**: Verknüpfen Sie bitte Ihrer Variable `my_string` und die Zahl `42` mit dem `+` Operator und printen Sie das Ergebnis 10 Mal."
   ]
  },
  {
   "cell_type": "code",
   "execution_count": 8,
   "id": "274423de",
   "metadata": {},
   "outputs": [
    {
     "name": "stdout",
     "output_type": "stream",
     "text": [
      "Das hier ist ein Test-String!42Das hier ist ein Test-String!42Das hier ist ein Test-String!42Das hier ist ein Test-String!42Das hier ist ein Test-String!42Das hier ist ein Test-String!42Das hier ist ein Test-String!42Das hier ist ein Test-String!42Das hier ist ein Test-String!42Das hier ist ein Test-String!42\n"
     ]
    }
   ],
   "source": [
    "print((my_string + str(42)) * 10)"
   ]
  },
  {
   "cell_type": "markdown",
   "id": "0ee16eb8",
   "metadata": {},
   "source": [
    "**Aufgabe 4:** "
   ]
  },
  {
   "cell_type": "markdown",
   "id": "4b4707a2",
   "metadata": {},
   "source": [
    "1. Erstellen Sie die Variable `my_sentence` mit dem String `'Python lernen macht Spaß!'` und printen Sie diese anschließend."
   ]
  },
  {
   "cell_type": "code",
   "execution_count": 26,
   "id": "8dd33c8e",
   "metadata": {},
   "outputs": [
    {
     "name": "stdout",
     "output_type": "stream",
     "text": [
      "Python lernen    macht Spaß!\n"
     ]
    }
   ],
   "source": [
    "my_sentence = 'Python lernen macht Spaß!'\n",
    "print(my_sentence)"
   ]
  },
  {
   "cell_type": "markdown",
   "id": "a9959a87",
   "metadata": {},
   "source": [
    "2. Ersetzen Sie das Wort `Spaß` mit `großen Spaß` mit der Methode `.replace` und weisen Sie das Ergebnis der Variable `my_sentence_new` zu. Printen Sie das Ergebnis anschließend."
   ]
  },
  {
   "cell_type": "code",
   "execution_count": 27,
   "id": "96e522b7",
   "metadata": {},
   "outputs": [
    {
     "name": "stdout",
     "output_type": "stream",
     "text": [
      "Python lernen    macht großen Spaß!\n"
     ]
    }
   ],
   "source": [
    "my_sentence_new = my_sentence.replace('Spaß', 'großen Spaß')\n",
    "print(my_sentence_new)"
   ]
  },
  {
   "cell_type": "markdown",
   "id": "1f89c46e",
   "metadata": {},
   "source": [
    "3. Verwandeln Sie die Variable `my_sentence_new` in einen Satz mit ausschließlich kleinen Buchtaben mit der `.lower` Methode. Entfernen Sie das Ausrufezeichen. Zerteilen Sie den Satz anschließend in einzelne Wörter mit der `.split` Methode und weisen Sie das Ergebnis der neuen Variable `my_sentence_lower` zu. Printen Sie die Variable `my_sentence_lower` anschließend."
   ]
  },
  {
   "cell_type": "code",
   "execution_count": 28,
   "id": "94869d1d",
   "metadata": {},
   "outputs": [
    {
     "name": "stdout",
     "output_type": "stream",
     "text": [
      "['python', 'lernen', 'macht', 'großen', 'spaß!']\n"
     ]
    }
   ],
   "source": [
    "my_sentence_lower = my_sentence_new.lower().split()\n",
    "print(my_sentence_lower)"
   ]
  },
  {
   "cell_type": "markdown",
   "id": "1bbef308",
   "metadata": {},
   "source": [
    "4. Prüfen Sie anschließend, ob das Wort `'python'` Teil der Liste `my_sentence_lower` ist."
   ]
  },
  {
   "cell_type": "code",
   "execution_count": 25,
   "id": "41713299",
   "metadata": {},
   "outputs": [
    {
     "data": {
      "text/plain": [
       "True"
      ]
     },
     "execution_count": 25,
     "metadata": {},
     "output_type": "execute_result"
    }
   ],
   "source": [
    "'python' in my_sentence_lower"
   ]
  },
  {
   "cell_type": "markdown",
   "id": "95011659",
   "metadata": {},
   "source": [
    "**Aufgabe 5**: Entfernen Sie aus dem string `sentence_with_whitespaces` alle überflüssigen Leerzeichen und verwandeln Sie alle Buchtsaben in Kleinbuchstaben. Weisen Sie das Ergebnis der Variable `sentence_without_whitespaces` zu und printen Sie diese anschließend."
   ]
  },
  {
   "cell_type": "code",
   "execution_count": 29,
   "id": "e3dcb7e3",
   "metadata": {},
   "outputs": [],
   "source": [
    "sentence_with_whitespaces = '   In Python ist   alles      ein Objekt'"
   ]
  },
  {
   "cell_type": "code",
   "execution_count": 34,
   "id": "73a8b34d",
   "metadata": {},
   "outputs": [
    {
     "name": "stdout",
     "output_type": "stream",
     "text": [
      "in python ist alles ein objekt\n"
     ]
    }
   ],
   "source": [
    "sentence_without_whitespaces = ' '.join(sentence_with_whitespaces.lower().split())\n",
    "print(sentence_without_whitespaces)"
   ]
  }
 ],
 "metadata": {
  "kernelspec": {
   "display_name": "Python 3 (ipykernel)",
   "language": "python",
   "name": "python3"
  },
  "language_info": {
   "codemirror_mode": {
    "name": "ipython",
    "version": 3
   },
   "file_extension": ".py",
   "mimetype": "text/x-python",
   "name": "python",
   "nbconvert_exporter": "python",
   "pygments_lexer": "ipython3",
   "version": "3.8.16"
  }
 },
 "nbformat": 4,
 "nbformat_minor": 5
}
