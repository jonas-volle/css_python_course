{
 "cells": [
  {
   "cell_type": "markdown",
   "id": "82f730a8",
   "metadata": {},
   "source": [
    "# Einführung in Python für die Computational Social Science (CSS)\n",
    "\n",
    "## Jonas Volle\n",
    "Wissenschaftlicher Mitarbeiter  \n",
    "Chair of Methodology and Empirical Social Research  \n",
    "Otto-von-Guericke-Universität\n",
    "\n",
    "[jonas.volle@ovgu.de](mailto:jonas.volle@ovgu.de)\n",
    "\n",
    "**Sprechstunde**: individuell nach vorheriger Anmeldung per [Mail](mailto:jonas.volle@ovgu.de)\n",
    "\n",
    "Samstag, 17.06.2023"
   ]
  },
  {
   "cell_type": "markdown",
   "id": "c0e01ee4",
   "metadata": {},
   "source": [
    "**Quelle:** Ich orientiere mich für diese Sitzung in Teilen am Kapitel 7 aus dem Buch:  \n",
    "\n",
    "McLevey, John. 2021. Doing Computational Social Science: A Practical Introduction. 1st ed. Thousand Oaks: SAGE Publications.\n",
    "\n",
    "und der Introduction to Computational Social Science methods with Python von GESIS unter: https://github.com/gesiscss/css_methods_python "
   ]
  },
  {
   "cell_type": "markdown",
   "id": "f278555f",
   "metadata": {},
   "source": [
    "# Tag 4: \n",
    "- Visualisierung\n",
    "- explorative Datenanalyse\n",
    "- Kurzer Exkurs zu Textanalysen"
   ]
  },
  {
   "cell_type": "code",
   "execution_count": null,
   "id": "11d22a6e",
   "metadata": {},
   "outputs": [],
   "source": [
    "import pandas as pd \n",
    "import numpy as np "
   ]
  },
  {
   "cell_type": "markdown",
   "id": "f6c1c1da",
   "metadata": {},
   "source": [
    "## Beschreibung und Visualisierung von Verteilungen"
   ]
  },
  {
   "cell_type": "code",
   "execution_count": null,
   "id": "bf15b0ab",
   "metadata": {},
   "outputs": [],
   "source": []
  },
  {
   "cell_type": "code",
   "execution_count": null,
   "id": "bdd571b7",
   "metadata": {},
   "outputs": [],
   "source": []
  },
  {
   "cell_type": "markdown",
   "id": "b8343191",
   "metadata": {},
   "source": [
    "Für **metrische** Daten können wir Statistiken, wie Median, Mittelwert oder Standardabweichung berechnen."
   ]
  },
  {
   "cell_type": "code",
   "execution_count": null,
   "id": "b12e7823",
   "metadata": {},
   "outputs": [],
   "source": []
  },
  {
   "cell_type": "code",
   "execution_count": null,
   "id": "dc16e4de",
   "metadata": {},
   "outputs": [],
   "source": [
    "print(f'Median Egalitarian Democracy Score: {}') \n",
    "print(f'Mean Egalitarian Democracy Score: {}') \n",
    "print(f'Standard Deviation: {}')"
   ]
  },
  {
   "cell_type": "markdown",
   "id": "fdfe482d",
   "metadata": {},
   "source": [
    "Mit `numpy` können wir die Statistiken runden:"
   ]
  },
  {
   "cell_type": "code",
   "execution_count": null,
   "id": "5840d1df",
   "metadata": {},
   "outputs": [],
   "source": [
    "print(f'Median Egalitarian Democracy Score: {}') \n",
    "print(f'Mean Egalitarian Democracy Score: {}') \n",
    "print(f'Standard Deviation: {}')"
   ]
  },
  {
   "cell_type": "markdown",
   "id": "de4a22c8",
   "metadata": {},
   "source": [
    "Für **kategoriale** Daten können wir uns einzigartige (unique) Elemente ansehen:"
   ]
  },
  {
   "cell_type": "code",
   "execution_count": null,
   "id": "1dfd741c",
   "metadata": {},
   "outputs": [],
   "source": []
  },
  {
   "cell_type": "markdown",
   "id": "031ff56c",
   "metadata": {},
   "source": [
    "und das Auftreten der Kategorien zählen."
   ]
  },
  {
   "cell_type": "code",
   "execution_count": null,
   "id": "95cd59f5",
   "metadata": {},
   "outputs": [],
   "source": []
  },
  {
   "cell_type": "code",
   "execution_count": null,
   "id": "4ae7efb6",
   "metadata": {},
   "outputs": [],
   "source": []
  },
  {
   "cell_type": "markdown",
   "id": "27b9ce13",
   "metadata": {},
   "source": [
    "Aus dieser Statistik können wir auch einen schönen Plot erzeugen. Hierfür verwenden wir das Paket `seaborn`. Die Dokumentation finden wir unter: https://seaborn.pydata.org/index.html"
   ]
  },
  {
   "cell_type": "code",
   "execution_count": null,
   "id": "a83aef6d",
   "metadata": {},
   "outputs": [],
   "source": []
  },
  {
   "cell_type": "code",
   "execution_count": null,
   "id": "45585bb3",
   "metadata": {},
   "outputs": [],
   "source": []
  },
  {
   "cell_type": "markdown",
   "id": "30556923",
   "metadata": {},
   "source": [
    "Wir können die Autoren auf der y-Achse auch sortieren:"
   ]
  },
  {
   "cell_type": "code",
   "execution_count": null,
   "id": "3356f1b4",
   "metadata": {},
   "outputs": [],
   "source": []
  },
  {
   "cell_type": "markdown",
   "id": "10cb261a",
   "metadata": {},
   "source": [
    "Und die Labels umbenennen:"
   ]
  },
  {
   "cell_type": "code",
   "execution_count": null,
   "id": "551f4bd0",
   "metadata": {},
   "outputs": [],
   "source": [
    "region_strings = { 1: \"Western Europe\", \n",
    "                  2: \"Northern Europe\", \n",
    "                  3: \"Southern Europe\", \n",
    "                  4: \"Eastern Europe\", \n",
    "                  5: \"Northern Africa\", \n",
    "                  6: \"Western Africa\", \n",
    "                  7: \"Middle Africa\",\n",
    "                  8: \"Eastern Africa\", \n",
    "                  9: \"Southern Africa\", \n",
    "                  10: \"Western Asia\", \n",
    "                  11: \"Central Asia\", \n",
    "                  12: \"East Asia\", \n",
    "                  13: \"South-East Asia\", \n",
    "                  14: \"South Asia\", \n",
    "                  15: \"Oceania\", # (including Australia and the Pacific) \n",
    "                  16: \"North America\", \n",
    "                  17: \"Central America\", \n",
    "                  18: \"South America\", \n",
    "                  19: \"Caribbean\" # (including Belize, Cuba, Haiti, Dominican Republic and Guyana) \n",
    "                 }"
   ]
  },
  {
   "cell_type": "code",
   "execution_count": null,
   "id": "795eec35",
   "metadata": {},
   "outputs": [],
   "source": []
  },
  {
   "cell_type": "code",
   "execution_count": null,
   "id": "4e8bc3c1",
   "metadata": {},
   "outputs": [],
   "source": []
  },
  {
   "cell_type": "code",
   "execution_count": null,
   "id": "3a11d25f",
   "metadata": {},
   "outputs": [],
   "source": []
  },
  {
   "cell_type": "code",
   "execution_count": null,
   "id": "5e2819a6",
   "metadata": {},
   "outputs": [],
   "source": []
  },
  {
   "cell_type": "markdown",
   "id": "f4644222",
   "metadata": {},
   "source": [
    "### Univariate Histogramme"
   ]
  },
  {
   "cell_type": "markdown",
   "id": "97cf38a7",
   "metadata": {},
   "source": [
    "Um uns die Verteilung metrischer Variablen anzusehen, können wir Histogramme verwenden:"
   ]
  },
  {
   "cell_type": "code",
   "execution_count": null,
   "id": "2a472c69",
   "metadata": {},
   "outputs": [],
   "source": []
  },
  {
   "cell_type": "markdown",
   "id": "4193ed2f",
   "metadata": {},
   "source": [
    "Wir können dieses Histogramm anpassen wie wir wollen. Wir können z.B. die Anzahl der bins verändern:"
   ]
  },
  {
   "cell_type": "code",
   "execution_count": null,
   "id": "b9b932d9",
   "metadata": {},
   "outputs": [],
   "source": []
  },
  {
   "cell_type": "markdown",
   "id": "fe17667d",
   "metadata": {},
   "source": [
    "oder die Breite der bins verändern:"
   ]
  },
  {
   "cell_type": "code",
   "execution_count": null,
   "id": "4f93c4a0",
   "metadata": {},
   "outputs": [],
   "source": []
  },
  {
   "cell_type": "markdown",
   "id": "22e4020b",
   "metadata": {},
   "source": [
    "Dem Histogramm können wir z.B. auch eine Dichtefunktion hinzufügen:"
   ]
  },
  {
   "cell_type": "code",
   "execution_count": null,
   "id": "4598af82",
   "metadata": {},
   "outputs": [],
   "source": []
  },
  {
   "cell_type": "markdown",
   "id": "84d106d6",
   "metadata": {},
   "source": [
    "### Bosplots\n",
    "\n",
    "Die Verteilung des Egalitarian Democracy Index können wir uns auch mit einem Boxplot ansehen:"
   ]
  },
  {
   "cell_type": "code",
   "execution_count": null,
   "id": "f32dffb6",
   "metadata": {},
   "outputs": [],
   "source": []
  },
  {
   "cell_type": "code",
   "execution_count": null,
   "id": "7dfd6c09",
   "metadata": {},
   "outputs": [],
   "source": []
  },
  {
   "cell_type": "markdown",
   "id": "9821378f",
   "metadata": {},
   "source": [
    "### Konditionale Histogramme"
   ]
  },
  {
   "cell_type": "markdown",
   "id": "0b683083",
   "metadata": {},
   "source": [
    "Wir können mit `.displot()` die Verteilungen einer Variable unter einer Bedingung ansehen. In diesem Fall die Verteilung des Egalitarian Democracy Index unter der Bedingung, dass die jeweiligen Länder Demokratien sind (`e_boix_regime == 1`) oder nicht (`e_boix_regime == 0`)."
   ]
  },
  {
   "cell_type": "code",
   "execution_count": null,
   "id": "7c6ab185",
   "metadata": {},
   "outputs": [],
   "source": []
  },
  {
   "cell_type": "markdown",
   "id": "1c4d3ddb",
   "metadata": {},
   "source": [
    "Wir können diese beiden Hstogramme auch in einem Koordinatensystem ansehen:"
   ]
  },
  {
   "cell_type": "code",
   "execution_count": null,
   "id": "e7a049a0",
   "metadata": {},
   "outputs": [],
   "source": [
    "grayscale_cmap = sns.cubehelix_palette(50,\n",
    "                                       hue=0.05,\n",
    "                                       rot=0,\n",
    "                                       light=0.9,\n",
    "                                       dark=0,\n",
    "                                       as_cmap =True) "
   ]
  },
  {
   "cell_type": "markdown",
   "id": "805b0c3c",
   "metadata": {},
   "source": [
    "Auch hier können wir wieder Dichtefunktionen hinzufügen:"
   ]
  },
  {
   "cell_type": "code",
   "execution_count": null,
   "id": "8828444c",
   "metadata": {},
   "outputs": [],
   "source": [
    "grayscale_cmap = sns.cubehelix_palette(50, hue=0.05, rot=0, light=0.9, dark=0, as_cmap =True) \n",
    "\n"
   ]
  },
  {
   "cell_type": "markdown",
   "id": "8c7aeaf3",
   "metadata": {},
   "source": [
    "Diese zwei bedingten Verteilungen, können wir uns auch mit Boxplots ansehen:"
   ]
  },
  {
   "cell_type": "code",
   "execution_count": null,
   "id": "7dec7835",
   "metadata": {},
   "outputs": [],
   "source": []
  },
  {
   "cell_type": "markdown",
   "id": "78635c02",
   "metadata": {},
   "source": [
    "### Visualisierung gemeinsamer Verteilungen"
   ]
  },
  {
   "cell_type": "markdown",
   "id": "1687fd9a",
   "metadata": {},
   "source": [
    "#### Kreuztabellen\n",
    "\n",
    "Die gemeinsame Verteilung zweier kategorialer Variablen können wir mit einer Kreuztabelle untersuchen:"
   ]
  },
  {
   "cell_type": "code",
   "execution_count": null,
   "id": "b9cb8f39",
   "metadata": {},
   "outputs": [],
   "source": []
  },
  {
   "cell_type": "code",
   "execution_count": null,
   "id": "48832327",
   "metadata": {},
   "outputs": [],
   "source": []
  },
  {
   "cell_type": "markdown",
   "id": "e5ff3189",
   "metadata": {},
   "source": [
    "### Scatterplots"
   ]
  },
  {
   "cell_type": "markdown",
   "id": "c6e0b73e",
   "metadata": {},
   "source": [
    "Um den zusammenhang zweier metrischer Variablen zu beobachten, können wir Scatterplots verwenden:"
   ]
  },
  {
   "cell_type": "code",
   "execution_count": null,
   "id": "fc5563a6",
   "metadata": {},
   "outputs": [],
   "source": []
  },
  {
   "cell_type": "markdown",
   "id": "8e8779ff",
   "metadata": {},
   "source": [
    "In diesem Plot überlappen sich die Punkte sehr. Wir können die Transparenz der Punkte mit `alpha` etwas heruntersetzen und so die Ansammlungen von Datenpunkten besser sehen:"
   ]
  },
  {
   "cell_type": "code",
   "execution_count": null,
   "id": "64c59684",
   "metadata": {},
   "outputs": [],
   "source": []
  },
  {
   "cell_type": "markdown",
   "id": "1b0c9675",
   "metadata": {},
   "source": [
    "### Line of best fit\n",
    "\n",
    "Unter Annahme eines linearen Zusammenhangs, können wir eine Regressionsline/Korrelationslinie in die Daten plotten, die den Abstand zwischen sich selbst und jeder Beobachtung minimiert."
   ]
  },
  {
   "cell_type": "code",
   "execution_count": null,
   "id": "5038e940",
   "metadata": {},
   "outputs": [],
   "source": []
  },
  {
   "cell_type": "code",
   "execution_count": null,
   "id": "b023d686",
   "metadata": {},
   "outputs": [],
   "source": []
  },
  {
   "cell_type": "code",
   "execution_count": null,
   "id": "c8abe6da",
   "metadata": {},
   "outputs": [],
   "source": []
  },
  {
   "cell_type": "markdown",
   "id": "05b0fe72",
   "metadata": {},
   "source": [
    "### Korrelation\n",
    "\n",
    "Die Korrelation können wir ganz einfach mit der `.corr()` Funktion berechnen:\n",
    "\n",
    "Die Korrelation ist ein Maß für die lineare Beziehung bzw. Abhängigkeit zwischen zwei Variablen. Wenn zwei Variablen eine starke lineare Beziehung aufweisen - mit anderen Worten, wenn ein hohes Maß an Abhängigkeit zwischen ihnen besteht -, dann können wir die Werte der einen Variablen verwenden, um die Werte der anderen vorherzusagen. Die Korrelation beschreibt die standardisierte Richtung einer linearen Beziehung zwischen Variablen sowie die Stärke dieser Beziehung. Die Korrelationskoeffizienten liegen zwischen -1 und +1, wobei ein Koeffizient von 1 für eine vollkommen lineare abhängige Beziehung zwischen zwei beliebigen Variablen steht. Ein Koeffizient von -1 steht ebenfalls für eine perfekt lineare abhängige Beziehung, allerdings in der entgegengesetzten Richtung."
   ]
  },
  {
   "cell_type": "code",
   "execution_count": null,
   "id": "4bcad117",
   "metadata": {},
   "outputs": [],
   "source": [
    "\n",
    "\n",
    "print(f'Correlation of v2x_libdem and v2x_partipdem: {}')\n",
    "print(f'Correlation of v2x_libdem and year: {}')"
   ]
  },
  {
   "cell_type": "markdown",
   "id": "85580762",
   "metadata": {},
   "source": [
    "Wenn wir mehrere metrische Variablen haben, deren Zusammenhang wir prüfen möchten, können wir eine Korrelationsmatrix erstellen, die die Korrelationswerte aller möglichen Kombinationen der variablen enthält:"
   ]
  },
  {
   "cell_type": "code",
   "execution_count": null,
   "id": "bef80126",
   "metadata": {},
   "outputs": [],
   "source": []
  },
  {
   "cell_type": "code",
   "execution_count": null,
   "id": "7e92656e",
   "metadata": {},
   "outputs": [],
   "source": []
  },
  {
   "cell_type": "markdown",
   "id": "ba169ac2",
   "metadata": {},
   "source": [
    "Diese Matrix können wir mit einer Heatmap darstellen:"
   ]
  },
  {
   "cell_type": "code",
   "execution_count": null,
   "id": "570ebfb8",
   "metadata": {},
   "outputs": [],
   "source": []
  },
  {
   "cell_type": "markdown",
   "id": "362c8675",
   "metadata": {},
   "source": [
    "Diese Heatmap spiegelt sich entlang der Diagonalen. Eine doppelte Hälfte können wir auch ausblenden, indem wir eine Maske erzeugen."
   ]
  },
  {
   "cell_type": "code",
   "execution_count": null,
   "id": "8768f19c",
   "metadata": {},
   "outputs": [],
   "source": []
  },
  {
   "cell_type": "code",
   "execution_count": null,
   "id": "4a298485",
   "metadata": {},
   "outputs": [],
   "source": []
  },
  {
   "cell_type": "code",
   "execution_count": null,
   "id": "ca8c0867",
   "metadata": {},
   "outputs": [],
   "source": []
  },
  {
   "cell_type": "code",
   "execution_count": null,
   "id": "cb920913",
   "metadata": {},
   "outputs": [],
   "source": []
  },
  {
   "cell_type": "markdown",
   "id": "a01bc150",
   "metadata": {},
   "source": [
    "### Schnelle Vergleiche mit Paarplots"
   ]
  },
  {
   "cell_type": "markdown",
   "id": "35c53d1f",
   "metadata": {},
   "source": [
    "Wenn wir eine Reihe an metrischen Variablen haben, die wir schnell miteinander vergleichen wollen. Können wir das mit `sns.pairplot()` tun."
   ]
  },
  {
   "cell_type": "code",
   "execution_count": null,
   "id": "0feb9d53",
   "metadata": {},
   "outputs": [],
   "source": []
  },
  {
   "cell_type": "code",
   "execution_count": null,
   "id": "3af027e5",
   "metadata": {},
   "outputs": [],
   "source": []
  },
  {
   "cell_type": "code",
   "execution_count": null,
   "id": "6ebde456",
   "metadata": {},
   "outputs": [],
   "source": []
  },
  {
   "cell_type": "markdown",
   "id": "6412470c",
   "metadata": {},
   "source": [
    "**Zeit für Übung 1**"
   ]
  },
  {
   "cell_type": "code",
   "execution_count": null,
   "id": "a8ae55bc",
   "metadata": {},
   "outputs": [],
   "source": []
  },
  {
   "cell_type": "markdown",
   "id": "bd21164a",
   "metadata": {},
   "source": [
    "## Textanalysen\n",
    "\n",
    "Nun ein kurzer Ausblick in die Textanalyse mit Python. Wir benutzen exemplarisch die Artikel, die wir von der cyclingnews Webseite gescraped haben."
   ]
  },
  {
   "cell_type": "code",
   "execution_count": null,
   "id": "61fe35a4",
   "metadata": {},
   "outputs": [],
   "source": []
  },
  {
   "cell_type": "code",
   "execution_count": null,
   "id": "cfd67437",
   "metadata": {},
   "outputs": [],
   "source": []
  },
  {
   "cell_type": "code",
   "execution_count": null,
   "id": "0f9bb6d5",
   "metadata": {},
   "outputs": [],
   "source": []
  },
  {
   "cell_type": "code",
   "execution_count": null,
   "id": "49a0fc80",
   "metadata": {},
   "outputs": [],
   "source": []
  },
  {
   "cell_type": "markdown",
   "id": "8fe43b25",
   "metadata": {},
   "source": [
    "Als nächstes müssen wir das Paket `spacy` installieren und ein Sprachmodel herunterladen."
   ]
  },
  {
   "cell_type": "code",
   "execution_count": null,
   "id": "c2dd02de",
   "metadata": {},
   "outputs": [],
   "source": [
    "#!conda install spacy"
   ]
  },
  {
   "cell_type": "code",
   "execution_count": null,
   "id": "e7f345a7",
   "metadata": {},
   "outputs": [],
   "source": [
    "#!python -m spacy download en_core_web_sm"
   ]
  },
  {
   "cell_type": "code",
   "execution_count": null,
   "id": "6f08db8b",
   "metadata": {},
   "outputs": [],
   "source": [
    "# import von spacy\n"
   ]
  },
  {
   "cell_type": "code",
   "execution_count": null,
   "id": "f3824ba2",
   "metadata": {},
   "outputs": [],
   "source": [
    "# Laden des kleinen englischen Sprachmodels\n"
   ]
  },
  {
   "cell_type": "markdown",
   "id": "d4f0f2ef",
   "metadata": {},
   "source": [
    "### Tokenization\n",
    "\n",
    "Die durch Leerzeichen und Interpunktion getrennten Wörter eines Textdokuments werden als Token bezeichnet."
   ]
  },
  {
   "cell_type": "code",
   "execution_count": null,
   "id": "b1a655f4",
   "metadata": {},
   "outputs": [],
   "source": []
  },
  {
   "cell_type": "code",
   "execution_count": null,
   "id": "eb6a3a29",
   "metadata": {},
   "outputs": [],
   "source": []
  },
  {
   "cell_type": "code",
   "execution_count": null,
   "id": "24d2d4aa",
   "metadata": {},
   "outputs": [],
   "source": []
  },
  {
   "cell_type": "code",
   "execution_count": null,
   "id": "88135159",
   "metadata": {},
   "outputs": [],
   "source": []
  },
  {
   "cell_type": "code",
   "execution_count": null,
   "id": "c17979c3",
   "metadata": {},
   "outputs": [],
   "source": []
  },
  {
   "cell_type": "code",
   "execution_count": null,
   "id": "f622716c",
   "metadata": {},
   "outputs": [],
   "source": []
  },
  {
   "cell_type": "code",
   "execution_count": null,
   "id": "b94b5642",
   "metadata": {},
   "outputs": [],
   "source": []
  },
  {
   "cell_type": "code",
   "execution_count": null,
   "id": "a066c5df",
   "metadata": {},
   "outputs": [],
   "source": []
  },
  {
   "cell_type": "code",
   "execution_count": null,
   "id": "2c347497",
   "metadata": {},
   "outputs": [],
   "source": []
  },
  {
   "cell_type": "code",
   "execution_count": null,
   "id": "9b8769bb",
   "metadata": {},
   "outputs": [],
   "source": []
  },
  {
   "cell_type": "markdown",
   "id": "2b50dae8",
   "metadata": {},
   "source": [
    "### Lemmatization\n",
    "\n",
    "Ein Lemma ist die Grundform eines Wortes.  \n",
    "\n",
    "go, goes, went, gone oder going --> go"
   ]
  },
  {
   "cell_type": "code",
   "execution_count": null,
   "id": "74bb36dd",
   "metadata": {},
   "outputs": [],
   "source": [
    "\n",
    "\n",
    "# Process the text with spaCy and perform lemmatization\n"
   ]
  },
  {
   "cell_type": "code",
   "execution_count": null,
   "id": "4def5351",
   "metadata": {},
   "outputs": [],
   "source": []
  },
  {
   "cell_type": "code",
   "execution_count": null,
   "id": "73bab2c6",
   "metadata": {},
   "outputs": [],
   "source": [
    "# Print words and extractes lemmas\n"
   ]
  },
  {
   "cell_type": "code",
   "execution_count": null,
   "id": "b0cfa5ba",
   "metadata": {},
   "outputs": [],
   "source": []
  },
  {
   "cell_type": "code",
   "execution_count": null,
   "id": "61a195cf",
   "metadata": {},
   "outputs": [],
   "source": []
  },
  {
   "cell_type": "code",
   "execution_count": null,
   "id": "77953b3e",
   "metadata": {},
   "outputs": [],
   "source": []
  },
  {
   "cell_type": "markdown",
   "id": "a4255094",
   "metadata": {},
   "source": [
    "### Stemming\n",
    "\n",
    "Beim Stemming werden die Suffixe von Wörtern entfernt, um eine vereinfachte Form des Wortes zu erhalten.\n",
    "\n",
    "running, runner, run -> run\n",
    "\n",
    "Ein weit verbreiteter Stemming Algorithmus ist der von Porter."
   ]
  },
  {
   "cell_type": "code",
   "execution_count": null,
   "id": "a90cfd2d",
   "metadata": {},
   "outputs": [],
   "source": [
    "# !conda install nltk"
   ]
  },
  {
   "cell_type": "code",
   "execution_count": null,
   "id": "487fc581",
   "metadata": {},
   "outputs": [],
   "source": [
    "# !python -m nltk.downloader popular"
   ]
  },
  {
   "cell_type": "code",
   "execution_count": null,
   "id": "a39081c0",
   "metadata": {},
   "outputs": [],
   "source": []
  },
  {
   "cell_type": "code",
   "execution_count": null,
   "id": "bb191e92",
   "metadata": {},
   "outputs": [],
   "source": []
  },
  {
   "cell_type": "code",
   "execution_count": null,
   "id": "d55deea7",
   "metadata": {},
   "outputs": [],
   "source": []
  },
  {
   "cell_type": "code",
   "execution_count": null,
   "id": "ab4e5ddc",
   "metadata": {},
   "outputs": [],
   "source": []
  },
  {
   "cell_type": "code",
   "execution_count": null,
   "id": "d8524bac",
   "metadata": {},
   "outputs": [],
   "source": [
    "# Finally we can recover the text of the tweet after lemmatization\n"
   ]
  },
  {
   "cell_type": "code",
   "execution_count": null,
   "id": "a244de37",
   "metadata": {},
   "outputs": [],
   "source": []
  },
  {
   "cell_type": "code",
   "execution_count": null,
   "id": "18581d36",
   "metadata": {},
   "outputs": [],
   "source": []
  },
  {
   "cell_type": "markdown",
   "id": "e1bf414c",
   "metadata": {},
   "source": [
    "### N-grams\n",
    "\n",
    "N-grams sind Kombinationen von n Wörtern. Das Paket `gensim` kann u.a. Worte erkennen, die oft zusammen auftauchen."
   ]
  },
  {
   "cell_type": "code",
   "execution_count": null,
   "id": "e4235b19",
   "metadata": {},
   "outputs": [],
   "source": [
    "# import gensim\n",
    "\n",
    "# gensim expect as input tokenized texts\n"
   ]
  },
  {
   "cell_type": "code",
   "execution_count": null,
   "id": "b6983abc",
   "metadata": {},
   "outputs": [],
   "source": [
    "# extract bigrams\n"
   ]
  },
  {
   "cell_type": "code",
   "execution_count": null,
   "id": "25c5cd66",
   "metadata": {},
   "outputs": [],
   "source": [
    "# visualize the extracted bigrams\n"
   ]
  },
  {
   "cell_type": "markdown",
   "id": "b3a4fd7b",
   "metadata": {},
   "source": [
    "### Stopwords\n",
    "\n",
    "Stoppwörter sind Wörter, die häufig in einer Sprache verwendet werden, aber normalerweise keine große Bedeutung oder keinen semantischen Wert haben, wenn sie im Kontext verwendet werden. Beispiele für Stoppwörter im Englischen sind \"the\", \"a\", \"an\", \"and\", \"in\", \"on\", \"is\", \"are\", \"for\", \"with\" und so weiter."
   ]
  },
  {
   "cell_type": "code",
   "execution_count": null,
   "id": "e2e26526",
   "metadata": {},
   "outputs": [],
   "source": [
    "# import spacy stopwords"
   ]
  },
  {
   "cell_type": "code",
   "execution_count": null,
   "id": "26aaaa77",
   "metadata": {},
   "outputs": [],
   "source": [
    "\n",
    "# Process the text with spaCy\n",
    "\n",
    "\n",
    "# Define the list of stop words\n"
   ]
  },
  {
   "cell_type": "code",
   "execution_count": null,
   "id": "55964e42",
   "metadata": {},
   "outputs": [],
   "source": [
    "# Remove stop words from the text\n"
   ]
  },
  {
   "cell_type": "code",
   "execution_count": null,
   "id": "006a5caa",
   "metadata": {},
   "outputs": [],
   "source": [
    "# Print the original and filtered text, and the stop words removed\n"
   ]
  },
  {
   "cell_type": "code",
   "execution_count": null,
   "id": "cf481433",
   "metadata": {},
   "outputs": [],
   "source": []
  },
  {
   "cell_type": "code",
   "execution_count": null,
   "id": "92becfba",
   "metadata": {},
   "outputs": [],
   "source": []
  },
  {
   "cell_type": "code",
   "execution_count": null,
   "id": "b87cde5b",
   "metadata": {},
   "outputs": [],
   "source": [
    "# add stopwords to list\n"
   ]
  },
  {
   "cell_type": "code",
   "execution_count": null,
   "id": "92718018",
   "metadata": {},
   "outputs": [],
   "source": []
  },
  {
   "cell_type": "markdown",
   "id": "bb85003e",
   "metadata": {},
   "source": [
    "### Parts of Speech"
   ]
  },
  {
   "cell_type": "markdown",
   "id": "c687558a",
   "metadata": {},
   "source": [
    "English has 9 main categories:\n",
    "\n",
    "verb — Expresses an action or a state of being. E.g. jump, is, write, become  \n",
    "noun — identifies a person, a place or a thing or names of particular of one of these (pronoun). E.g. man, house, happiness  \n",
    "pronoun — can replace a noun or noun phrase. E.g. she, we, they, it  \n",
    "determiner — Is placed in front of a noun to express a quantity or clarify  what the noun refers to \n",
    "adjective — modifies a noun or a pronoun. E.g. pretty, old, blue, smart  \n",
    "adverb — modifies a verb, an adjective, or another adverb. E.g. gently, extremely, carefully, well  \n",
    "preposition — Connect a noun/pronoun to other parts of the sentence. E.g. by, with, about, until  \n",
    "conjunction — glue words, clauses, and sentences together. E.g. and, but, or, while, because  \n",
    "interjection — Expresses emotion in a sudden or exclamatory way. E.g. oh!, wow!, oops!  "
   ]
  },
  {
   "cell_type": "code",
   "execution_count": null,
   "id": "5ab3bcff",
   "metadata": {},
   "outputs": [],
   "source": [
    "for token in doc:\n",
    "    print(token.text, token.pos_)"
   ]
  },
  {
   "cell_type": "code",
   "execution_count": null,
   "id": "b7adf18c",
   "metadata": {},
   "outputs": [],
   "source": [
    "spacy.explain(\"PROPN\")"
   ]
  },
  {
   "cell_type": "code",
   "execution_count": null,
   "id": "7af976a3",
   "metadata": {},
   "outputs": [],
   "source": []
  },
  {
   "cell_type": "code",
   "execution_count": null,
   "id": "4113fd19",
   "metadata": {},
   "outputs": [],
   "source": []
  },
  {
   "cell_type": "code",
   "execution_count": null,
   "id": "75853381",
   "metadata": {},
   "outputs": [],
   "source": []
  },
  {
   "cell_type": "markdown",
   "id": "05194ae4",
   "metadata": {},
   "source": [
    "### Preprocessing Pipeline\n",
    "\n",
    "Verschiedene Vorverarbeitungsschritte können wir in einer Pipeline an Funktionen zusammenfassen:"
   ]
  },
  {
   "cell_type": "code",
   "execution_count": null,
   "id": "0ba2b64a",
   "metadata": {},
   "outputs": [],
   "source": [
    "import spacy\n",
    "import re # regex\n",
    "from nltk.tokenize import word_tokenize\n",
    "from spacy.lang.en.stop_words import STOP_WORDS\n",
    "nlp = spacy.load(\"en_core_web_sm\")"
   ]
  },
  {
   "cell_type": "markdown",
   "id": "2d002345",
   "metadata": {},
   "source": [
    "Sonderzeichen, Zahlen, Zeilenumbrüch etc. entfernen. In dieser Funktion benutzen wir reguläre Ausdrücke `regex`. Eine Übersicht über diese Ausdrücke finden wir z.B. hier: https://images.datacamp.com/image/upload/v1665049611/Marketing/Blog/Regular_Expressions_Cheat_Sheet.pdf"
   ]
  },
  {
   "cell_type": "code",
   "execution_count": null,
   "id": "3709cff0",
   "metadata": {},
   "outputs": [],
   "source": [
    "def clean_text(text):\n",
    "\n",
    "    # remove punctuation and special characters\n",
    "    pattern = r\"[^\\w\\s]\"\n",
    "    \n",
    "\n",
    "    # remove numbers\n",
    "    pattern = r\"\\d+\"\n",
    "    \n",
    "\n",
    "    # remove all non-ASCII characters\n",
    "    pattern = r\"[^\\x00-\\x7F]+\"\n",
    "    \n",
    "\n",
    "    # remove new line characters\n",
    "    \n",
    "\n",
    "    # remove empty spaces left by regex\n",
    "    \n",
    "    \n",
    "    return text_clean"
   ]
  },
  {
   "cell_type": "markdown",
   "id": "e5e3266c",
   "metadata": {},
   "source": [
    "... Tokenisierung"
   ]
  },
  {
   "cell_type": "code",
   "execution_count": null,
   "id": "0634c7a4",
   "metadata": {},
   "outputs": [],
   "source": []
  },
  {
   "cell_type": "markdown",
   "id": "31e87934",
   "metadata": {},
   "source": [
    "... Stopwords entfernen"
   ]
  },
  {
   "cell_type": "code",
   "execution_count": null,
   "id": "d84ba8de",
   "metadata": {},
   "outputs": [],
   "source": [
    "\n"
   ]
  },
  {
   "cell_type": "markdown",
   "id": "a97c0122",
   "metadata": {},
   "source": [
    "... Bigrams hinzufügen"
   ]
  },
  {
   "cell_type": "code",
   "execution_count": null,
   "id": "afb9525f",
   "metadata": {},
   "outputs": [],
   "source": []
  },
  {
   "cell_type": "markdown",
   "id": "727c4d2d",
   "metadata": {},
   "source": [
    "... stemmen"
   ]
  },
  {
   "cell_type": "code",
   "execution_count": null,
   "id": "9c0774f1",
   "metadata": {},
   "outputs": [],
   "source": []
  },
  {
   "cell_type": "markdown",
   "id": "8280a9fc",
   "metadata": {},
   "source": [
    "... lemmatisieren"
   ]
  },
  {
   "cell_type": "code",
   "execution_count": null,
   "id": "72f8e9f9",
   "metadata": {},
   "outputs": [],
   "source": []
  },
  {
   "cell_type": "code",
   "execution_count": null,
   "id": "414f3b35",
   "metadata": {},
   "outputs": [],
   "source": []
  },
  {
   "cell_type": "markdown",
   "id": "9c2863c6",
   "metadata": {},
   "source": [
    "Alle Funktionen können wir jetzt in eine Pipeline integrieren. Diese Funktion nimmt einen Textkorpus auf. Ein Textkorpus besteht aus einer Reihe an Dokumenten. Diese Dokumente können z.B. in einer Liste oder einem array gespeichert sein."
   ]
  },
  {
   "cell_type": "code",
   "execution_count": null,
   "id": "9e9320ab",
   "metadata": {},
   "outputs": [],
   "source": [
    "def pipeline(corpus):\n",
    "    print(\"Cleaning text...\")\n",
    "    corpus = [clean_text(text) for text in corpus]\n",
    "\n",
    "    print(\"Tokenization...\")\n",
    "    corpus = tokenization(corpus)\n",
    "\n",
    "    print(\"Lowercasing...\")\n",
    "    corpus = [[el.lower() for el in text] for text in corpus]\n",
    "\n",
    "    print(\"Stop Words removal...\")\n",
    "    corpus = remove_stop_words(corpus)\n",
    "    \n",
    "    print(\"Extract bigrams...\")\n",
    "    corpus = add_bigrams(corpus)\n",
    "\n",
    "    print(\"Lemmatization...\")\n",
    "    corpus = lemmatization(corpus)\n",
    "\n",
    "    print(\"Stop Words removal after lemmatizing...\")\n",
    "    corpus = remove_stop_words(corpus, stop_words)\n",
    "\n",
    "    print(\"Removing tokens that are too short...\")\n",
    "    corpus = [[c for c in text if len(c) > 2] for text in corpus]\n",
    "\n",
    "    return corpus"
   ]
  },
  {
   "cell_type": "markdown",
   "id": "e38799e2",
   "metadata": {},
   "source": [
    "Nun erstellen wir unseren Corpus:"
   ]
  },
  {
   "cell_type": "code",
   "execution_count": null,
   "id": "b80ebffa",
   "metadata": {},
   "outputs": [],
   "source": []
  },
  {
   "cell_type": "code",
   "execution_count": null,
   "id": "d6c3c89b",
   "metadata": {},
   "outputs": [],
   "source": []
  },
  {
   "cell_type": "code",
   "execution_count": null,
   "id": "965d4e67",
   "metadata": {},
   "outputs": [],
   "source": []
  },
  {
   "cell_type": "code",
   "execution_count": null,
   "id": "f95ad8f9",
   "metadata": {},
   "outputs": [],
   "source": []
  },
  {
   "cell_type": "code",
   "execution_count": null,
   "id": "2138c083",
   "metadata": {},
   "outputs": [],
   "source": []
  },
  {
   "cell_type": "code",
   "execution_count": null,
   "id": "d3728f5b",
   "metadata": {},
   "outputs": [],
   "source": [
    "\n",
    "\n",
    "# we create a dictionary\n",
    "dictionary = Dictionary(corpus_p)"
   ]
  },
  {
   "cell_type": "code",
   "execution_count": null,
   "id": "7b2db5e9",
   "metadata": {},
   "outputs": [],
   "source": [
    "# covert the corpus to bag of words format \n"
   ]
  },
  {
   "cell_type": "code",
   "execution_count": null,
   "id": "678362c2",
   "metadata": {},
   "outputs": [],
   "source": [
    "print(\"Number of words in the dictionary: {0}\".format(len(dictionary)))\n",
    "print(\"Dictionary first 5 elements (id, token):\", list(dictionary.items())[:5])"
   ]
  },
  {
   "cell_type": "code",
   "execution_count": null,
   "id": "8caf1ef0",
   "metadata": {},
   "outputs": [],
   "source": [
    "print(\"First document in bag-of-words format (raw):\", document_term_matrix[0])"
   ]
  },
  {
   "cell_type": "code",
   "execution_count": null,
   "id": "1ad15439",
   "metadata": {},
   "outputs": [],
   "source": [
    "print(\"First document in bag-of-words format (word, frequency):\",\n",
    "      [[dictionary[id], freq] for id, freq in document_term_matrix[0]])"
   ]
  },
  {
   "cell_type": "markdown",
   "id": "f316e096",
   "metadata": {},
   "source": [
    "Top words im Corpus:"
   ]
  },
  {
   "cell_type": "code",
   "execution_count": null,
   "id": "5bbfccc2",
   "metadata": {},
   "outputs": [],
   "source": [
    "cn_top_words = pd.DataFrame([[dictionary[id], freq] for id, freq in dictionary.cfs.items()],\n",
    "                            columns=['word', 'count']).sort_values('count', ascending=False).head(20)\n",
    "\n",
    "cn_top_words"
   ]
  },
  {
   "cell_type": "code",
   "execution_count": null,
   "id": "a3956c0e",
   "metadata": {},
   "outputs": [],
   "source": []
  },
  {
   "cell_type": "markdown",
   "id": "18faf49d",
   "metadata": {},
   "source": [
    "### export"
   ]
  },
  {
   "cell_type": "code",
   "execution_count": null,
   "id": "6007ce2d",
   "metadata": {},
   "outputs": [],
   "source": []
  },
  {
   "cell_type": "markdown",
   "id": "214698dc",
   "metadata": {},
   "source": [
    "### Topic Model\n",
    "\n",
    "Topic Models sind probabilistische Modelle, die zur Bestimmung von semantischen Clustern in Dokumentensammlungen verwendet werden. Sie eignen sich für die Erforschung von Textdaten, da sie thematische Strukturen finden, die nicht im Voraus definiert sind. Die Berechnung zielt darauf ab, die proportionale Zusammensetzung einer festen Anzahl von Themen in den Dokumenten einer Sammlung zu bestimmen. Diese semantischen Cluster können wir als Themen interpretieren.\n",
    "\n",
    "Topic Modelle liefern Wahrscheinlichkeitsverteilungen über die Menge aller Wörter für jedes Thema und Wahrscheinlichkeitsverteilungen über die Menge der Themen für jedes Dokument. Jede kleinste Analyseeinheit (z. B. ein Wort oder ein n-Gramm) hat eine Wahrscheinlichkeit, zu jedem Thema zu gehören, und jedes Thema hat eine Wahrscheinlichkeit, in jedem Dokument aufzutreten. Ein Thema wird semantisch interpretierbar durch die n wahrscheinlichsten Wörter, die es enthält."
   ]
  },
  {
   "cell_type": "code",
   "execution_count": null,
   "id": "1f33eb73",
   "metadata": {},
   "outputs": [],
   "source": []
  },
  {
   "cell_type": "code",
   "execution_count": null,
   "id": "2a8eb591",
   "metadata": {},
   "outputs": [],
   "source": [
    "# print the topics and associated keywords\n"
   ]
  },
  {
   "cell_type": "markdown",
   "id": "00c0d68c",
   "metadata": {},
   "source": [
    "Auswahl des Modells anhand des Kohärenz Scores. \n",
    "\n",
    "\n",
    "Die Topic Kohärenz bewerten ein einzelnes Topic, indem sie den Grad der semantischen Ähnlichkeit zwischen hoch bewerteten Wörtern im Thema messen. Diese Messungen helfen bei der Unterscheidung zwischen Themen, die semantisch interpretierbar sind, und Themen, die Artefakte statistischer Inferenz sind.  Zusätzlich können wir verschiedene Modelle mit dem Wert der mittleren Kohärenz vergleichen."
   ]
  },
  {
   "cell_type": "code",
   "execution_count": null,
   "id": "dd30e408",
   "metadata": {},
   "outputs": [],
   "source": [
    "from gensim.models import CoherenceModel\n",
    "\n",
    "scores = []\n",
    "models = []\n",
    "\n",
    "for num_topics in np.arange(5, 20):\n",
    "\n",
    "    # fit LDA model\n",
    "    lda_model = LdaModel(document_term_matrix,\n",
    "                         id2word=dictionary,\n",
    "                         num_topics=num_topics,\n",
    "                         random_state=12345\n",
    "                        )\n",
    "\n",
    "    # compute Coherence Score\n",
    "    coherence_model_lda = CoherenceModel(model=lda_model,\n",
    "                                         texts=corpus_p,\n",
    "                                         dictionary=dictionary)\n",
    "    \n",
    "    coherence_lda = coherence_model_lda.get_coherence()\n",
    "    print('\\nCoherence Score with {0} topics: {1}'.format(num_topics, coherence_lda))\n",
    "\n",
    "    scores.append([num_topics, coherence_lda])\n",
    "    models.append(lda_model)"
   ]
  },
  {
   "cell_type": "code",
   "execution_count": null,
   "id": "23e73316",
   "metadata": {},
   "outputs": [],
   "source": [
    "scores_df = pd.DataFrame(scores, columns=['num_topic', 'coherence_score'])"
   ]
  },
  {
   "cell_type": "code",
   "execution_count": null,
   "id": "9065228e",
   "metadata": {},
   "outputs": [],
   "source": [
    "ax = sns.lineplot(data=scores_df,\n",
    "                  x='num_topic', \n",
    "                  y='coherence_score')\n",
    "plt.show()"
   ]
  },
  {
   "cell_type": "code",
   "execution_count": null,
   "id": "8a9998ff",
   "metadata": {},
   "outputs": [],
   "source": [
    "scores_df[scores_df.coherence_score == max(scores_df.coherence_score)]"
   ]
  },
  {
   "cell_type": "code",
   "execution_count": null,
   "id": "e6fa158d",
   "metadata": {},
   "outputs": [],
   "source": [
    "# best model\n",
    "lda_model_best = models[8]"
   ]
  },
  {
   "cell_type": "code",
   "execution_count": null,
   "id": "92623bee",
   "metadata": {},
   "outputs": [],
   "source": [
    "# pyldavis"
   ]
  }
 ],
 "metadata": {
  "kernelspec": {
   "display_name": "Python 3 (ipykernel)",
   "language": "python",
   "name": "python3"
  },
  "language_info": {
   "codemirror_mode": {
    "name": "ipython",
    "version": 3
   },
   "file_extension": ".py",
   "mimetype": "text/x-python",
   "name": "python",
   "nbconvert_exporter": "python",
   "pygments_lexer": "ipython3",
   "version": "3.8.16"
  }
 },
 "nbformat": 4,
 "nbformat_minor": 5
}
