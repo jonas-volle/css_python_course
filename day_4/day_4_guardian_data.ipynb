{
 "cells": [
  {
   "cell_type": "markdown",
   "id": "c7a93d4c",
   "metadata": {},
   "source": [
    "# Tag 4 - Guardian Data"
   ]
  },
  {
   "cell_type": "code",
   "execution_count": 3,
   "id": "622b44a6",
   "metadata": {},
   "outputs": [],
   "source": [
    "import cred \n",
    "GUARDIAN_KEY = cred.GUARDIAN_KEY"
   ]
  },
  {
   "cell_type": "code",
   "execution_count": 20,
   "id": "4004726c",
   "metadata": {},
   "outputs": [],
   "source": [
    "import requests\n",
    "import pandas as pd\n",
    "import time\n",
    "from bs4 import BeautifulSoup"
   ]
  },
  {
   "cell_type": "code",
   "execution_count": 6,
   "id": "6217bd89",
   "metadata": {},
   "outputs": [],
   "source": [
    "# API Endpoint\n",
    "API_ENDPOINT = 'http://content.guardianapis.com/search' "
   ]
  },
  {
   "cell_type": "code",
   "execution_count": 12,
   "id": "6e4f2f92",
   "metadata": {},
   "outputs": [],
   "source": [
    "PARAMS = {\n",
    "    'api-key': GUARDIAN_KEY,\n",
    "    'from-date': '2023-06-20', \n",
    "    'to-date': '2023-06-30', \n",
    "    'lang': 'en', \n",
    "    'production-office': 'uk',  \n",
    "    'show-fields': 'wordcount,body,byline' ,\n",
    "    'page-size': 50, # 50 Artikel je Seite\n",
    "} \n",
    "\n",
    "response = requests.get(API_ENDPOINT, params=PARAMS) \n",
    "response_dict = response.json()['response']"
   ]
  },
  {
   "cell_type": "code",
   "execution_count": 14,
   "id": "5925f314",
   "metadata": {},
   "outputs": [
    {
     "data": {
      "text/plain": [
       "36"
      ]
     },
     "execution_count": 14,
     "metadata": {},
     "output_type": "execute_result"
    }
   ],
   "source": [
    "response_dict['pages']"
   ]
  },
  {
   "cell_type": "code",
   "execution_count": 17,
   "id": "d857ea2b",
   "metadata": {},
   "outputs": [
    {
     "name": "stdout",
     "output_type": "stream",
     "text": [
      "page: 1 of 1 - Articles (total): 1754\n",
      "page: 2 of 36 - Articles (total): 1754\n",
      "page: 3 of 36 - Articles (total): 1754\n",
      "page: 4 of 36 - Articles (total): 1754\n",
      "page: 5 of 36 - Articles (total): 1754\n",
      "page: 6 of 36 - Articles (total): 1754\n",
      "page: 7 of 36 - Articles (total): 1754\n",
      "page: 8 of 36 - Articles (total): 1754\n",
      "page: 9 of 36 - Articles (total): 1754\n",
      "page: 10 of 36 - Articles (total): 1754\n",
      "page: 11 of 36 - Articles (total): 1754\n",
      "page: 12 of 36 - Articles (total): 1754\n",
      "page: 13 of 36 - Articles (total): 1754\n",
      "page: 14 of 36 - Articles (total): 1754\n",
      "page: 15 of 36 - Articles (total): 1754\n",
      "page: 16 of 36 - Articles (total): 1754\n",
      "page: 17 of 36 - Articles (total): 1754\n",
      "page: 18 of 36 - Articles (total): 1754\n",
      "page: 19 of 36 - Articles (total): 1754\n",
      "page: 20 of 36 - Articles (total): 1754\n",
      "page: 21 of 36 - Articles (total): 1754\n",
      "page: 22 of 36 - Articles (total): 1754\n",
      "page: 23 of 36 - Articles (total): 1754\n",
      "page: 24 of 36 - Articles (total): 1754\n",
      "page: 25 of 36 - Articles (total): 1754\n",
      "page: 26 of 36 - Articles (total): 1754\n",
      "page: 27 of 36 - Articles (total): 1754\n",
      "page: 28 of 36 - Articles (total): 1754\n",
      "page: 29 of 36 - Articles (total): 1754\n",
      "page: 30 of 36 - Articles (total): 1754\n",
      "page: 31 of 36 - Articles (total): 1754\n",
      "page: 32 of 36 - Articles (total): 1754\n",
      "page: 33 of 36 - Articles (total): 1754\n",
      "page: 34 of 36 - Articles (total): 1754\n",
      "page: 35 of 36 - Articles (total): 1754\n",
      "page: 36 of 36 - Articles (total): 1754\n"
     ]
    }
   ],
   "source": [
    "all_results = [] \n",
    "cur_page = 1 \n",
    "total_pages = 1\n",
    "\n",
    "while (cur_page <= total_pages) and (cur_page < 40): # with a fail safe \n",
    "    \n",
    "    # Make a API request \n",
    "    PARAMS['page'] = cur_page \n",
    "    response = requests.get(API_ENDPOINT, params=PARAMS) \n",
    "    response_dict = response.json()['response'] \n",
    "    \n",
    "    print(f\"page: {cur_page} of {total_pages} - Articles (total): {response_dict['total']}\")\n",
    "    \n",
    "    # Update our master results list \n",
    "    all_results += (response_dict['results']) \n",
    "    \n",
    "    # Update our loop variables \n",
    "    total_pages = response_dict['pages'] \n",
    "    cur_page += 1 \n",
    "    \n",
    "    # sleep for 1 second\n",
    "    time.sleep(1)\n",
    "    "
   ]
  },
  {
   "cell_type": "code",
   "execution_count": 18,
   "id": "7f0853ba",
   "metadata": {},
   "outputs": [
    {
     "data": {
      "text/html": [
       "<div>\n",
       "<style scoped>\n",
       "    .dataframe tbody tr th:only-of-type {\n",
       "        vertical-align: middle;\n",
       "    }\n",
       "\n",
       "    .dataframe tbody tr th {\n",
       "        vertical-align: top;\n",
       "    }\n",
       "\n",
       "    .dataframe thead th {\n",
       "        text-align: right;\n",
       "    }\n",
       "</style>\n",
       "<table border=\"1\" class=\"dataframe\">\n",
       "  <thead>\n",
       "    <tr style=\"text-align: right;\">\n",
       "      <th></th>\n",
       "      <th>id</th>\n",
       "      <th>type</th>\n",
       "      <th>sectionId</th>\n",
       "      <th>sectionName</th>\n",
       "      <th>webPublicationDate</th>\n",
       "      <th>webTitle</th>\n",
       "      <th>webUrl</th>\n",
       "      <th>apiUrl</th>\n",
       "      <th>isHosted</th>\n",
       "      <th>pillarId</th>\n",
       "      <th>pillarName</th>\n",
       "      <th>fields.byline</th>\n",
       "      <th>fields.body</th>\n",
       "      <th>fields.wordcount</th>\n",
       "    </tr>\n",
       "  </thead>\n",
       "  <tbody>\n",
       "    <tr>\n",
       "      <th>0</th>\n",
       "      <td>crosswords/prize/29111</td>\n",
       "      <td>crossword</td>\n",
       "      <td>crosswords</td>\n",
       "      <td>Crosswords</td>\n",
       "      <td>2023-06-30T23:00:03Z</td>\n",
       "      <td>Prize crossword No 29,111</td>\n",
       "      <td>https://www.theguardian.com/crosswords/prize/2...</td>\n",
       "      <td>https://content.guardianapis.com/crosswords/pr...</td>\n",
       "      <td>False</td>\n",
       "      <td>pillar/lifestyle</td>\n",
       "      <td>Lifestyle</td>\n",
       "      <td>Paul</td>\n",
       "      <td></td>\n",
       "      <td>0</td>\n",
       "    </tr>\n",
       "    <tr>\n",
       "      <th>1</th>\n",
       "      <td>crosswords/weekend/651</td>\n",
       "      <td>crossword</td>\n",
       "      <td>crosswords</td>\n",
       "      <td>Crosswords</td>\n",
       "      <td>2023-06-30T23:00:03Z</td>\n",
       "      <td>Weekend crossword No 651</td>\n",
       "      <td>https://www.theguardian.com/crosswords/weekend...</td>\n",
       "      <td>https://content.guardianapis.com/crosswords/we...</td>\n",
       "      <td>False</td>\n",
       "      <td>pillar/lifestyle</td>\n",
       "      <td>Lifestyle</td>\n",
       "      <td>Sy</td>\n",
       "      <td></td>\n",
       "      <td>0</td>\n",
       "    </tr>\n",
       "    <tr>\n",
       "      <th>2</th>\n",
       "      <td>media/2023/jun/30/jeremy-clarkson-sun-article-...</td>\n",
       "      <td>article</td>\n",
       "      <td>media</td>\n",
       "      <td>Media</td>\n",
       "      <td>2023-06-30T21:00:00Z</td>\n",
       "      <td>Jeremy Clarkson’s Sun article on Meghan was se...</td>\n",
       "      <td>https://www.theguardian.com/media/2023/jun/30/...</td>\n",
       "      <td>https://content.guardianapis.com/media/2023/ju...</td>\n",
       "      <td>False</td>\n",
       "      <td>pillar/news</td>\n",
       "      <td>News</td>\n",
       "      <td>Jim Waterson and Alexandra Topping</td>\n",
       "      <td>&lt;p&gt;Jeremy Clarkson discriminated against the D...</td>\n",
       "      <td>885</td>\n",
       "    </tr>\n",
       "    <tr>\n",
       "      <th>3</th>\n",
       "      <td>society/2023/jun/30/nhs-plan-the-numbers-are-i...</td>\n",
       "      <td>article</td>\n",
       "      <td>society</td>\n",
       "      <td>Society</td>\n",
       "      <td>2023-06-30T20:53:57Z</td>\n",
       "      <td>NHS plan: the numbers are impressive, but wher...</td>\n",
       "      <td>https://www.theguardian.com/society/2023/jun/3...</td>\n",
       "      <td>https://content.guardianapis.com/society/2023/...</td>\n",
       "      <td>False</td>\n",
       "      <td>pillar/news</td>\n",
       "      <td>News</td>\n",
       "      <td>Denis Campbell  Health policy editor</td>\n",
       "      <td>&lt;p&gt;It was on 8 November 2017 that Jeremy Hunt,...</td>\n",
       "      <td>546</td>\n",
       "    </tr>\n",
       "    <tr>\n",
       "      <th>4</th>\n",
       "      <td>sport/2023/jun/30/keely-hodgkinson-suffers-fir...</td>\n",
       "      <td>article</td>\n",
       "      <td>sport</td>\n",
       "      <td>Sport</td>\n",
       "      <td>2023-06-30T20:46:50Z</td>\n",
       "      <td>Keely Hodgkinson suffers first defeat of the y...</td>\n",
       "      <td>https://www.theguardian.com/sport/2023/jun/30/...</td>\n",
       "      <td>https://content.guardianapis.com/sport/2023/ju...</td>\n",
       "      <td>False</td>\n",
       "      <td>pillar/sport</td>\n",
       "      <td>Sport</td>\n",
       "      <td>Sean Ingle</td>\n",
       "      <td>&lt;p&gt;During her brilliant young career, Keely Ho...</td>\n",
       "      <td>352</td>\n",
       "    </tr>\n",
       "  </tbody>\n",
       "</table>\n",
       "</div>"
      ],
      "text/plain": [
       "                                                  id       type   sectionId   \n",
       "0                             crosswords/prize/29111  crossword  crosswords  \\\n",
       "1                             crosswords/weekend/651  crossword  crosswords   \n",
       "2  media/2023/jun/30/jeremy-clarkson-sun-article-...    article       media   \n",
       "3  society/2023/jun/30/nhs-plan-the-numbers-are-i...    article     society   \n",
       "4  sport/2023/jun/30/keely-hodgkinson-suffers-fir...    article       sport   \n",
       "\n",
       "  sectionName    webPublicationDate   \n",
       "0  Crosswords  2023-06-30T23:00:03Z  \\\n",
       "1  Crosswords  2023-06-30T23:00:03Z   \n",
       "2       Media  2023-06-30T21:00:00Z   \n",
       "3     Society  2023-06-30T20:53:57Z   \n",
       "4       Sport  2023-06-30T20:46:50Z   \n",
       "\n",
       "                                            webTitle   \n",
       "0                          Prize crossword No 29,111  \\\n",
       "1                           Weekend crossword No 651   \n",
       "2  Jeremy Clarkson’s Sun article on Meghan was se...   \n",
       "3  NHS plan: the numbers are impressive, but wher...   \n",
       "4  Keely Hodgkinson suffers first defeat of the y...   \n",
       "\n",
       "                                              webUrl   \n",
       "0  https://www.theguardian.com/crosswords/prize/2...  \\\n",
       "1  https://www.theguardian.com/crosswords/weekend...   \n",
       "2  https://www.theguardian.com/media/2023/jun/30/...   \n",
       "3  https://www.theguardian.com/society/2023/jun/3...   \n",
       "4  https://www.theguardian.com/sport/2023/jun/30/...   \n",
       "\n",
       "                                              apiUrl  isHosted   \n",
       "0  https://content.guardianapis.com/crosswords/pr...     False  \\\n",
       "1  https://content.guardianapis.com/crosswords/we...     False   \n",
       "2  https://content.guardianapis.com/media/2023/ju...     False   \n",
       "3  https://content.guardianapis.com/society/2023/...     False   \n",
       "4  https://content.guardianapis.com/sport/2023/ju...     False   \n",
       "\n",
       "           pillarId pillarName                         fields.byline   \n",
       "0  pillar/lifestyle  Lifestyle                                  Paul  \\\n",
       "1  pillar/lifestyle  Lifestyle                                    Sy   \n",
       "2       pillar/news       News    Jim Waterson and Alexandra Topping   \n",
       "3       pillar/news       News  Denis Campbell  Health policy editor   \n",
       "4      pillar/sport      Sport                            Sean Ingle   \n",
       "\n",
       "                                         fields.body fields.wordcount  \n",
       "0                                                                   0  \n",
       "1                                                                   0  \n",
       "2  <p>Jeremy Clarkson discriminated against the D...              885  \n",
       "3  <p>It was on 8 November 2017 that Jeremy Hunt,...              546  \n",
       "4  <p>During her brilliant young career, Keely Ho...              352  "
      ]
     },
     "execution_count": 18,
     "metadata": {},
     "output_type": "execute_result"
    }
   ],
   "source": [
    "all_results_df = pd.json_normalize(all_results)\n",
    "all_results_df.head()"
   ]
  },
  {
   "cell_type": "code",
   "execution_count": 21,
   "id": "a7c37b93",
   "metadata": {},
   "outputs": [],
   "source": [
    "all_results_df['text'] = [BeautifulSoup(i, \"html.parser\").text for i in all_results_df['fields.body']]"
   ]
  },
  {
   "cell_type": "code",
   "execution_count": null,
   "id": "8ffcc9b0",
   "metadata": {},
   "outputs": [],
   "source": []
  },
  {
   "cell_type": "code",
   "execution_count": 24,
   "id": "5c38344f",
   "metadata": {},
   "outputs": [],
   "source": [
    "# rename columns\n",
    "all_results_df = all_results_df.rename(columns={'webTitle':'article_title',\n",
    "                                                'webUrl':'article_url',\n",
    "                                                'fields.byline':'article_author',\n",
    "                                               'webPublicationDate': 'article_date'})"
   ]
  },
  {
   "cell_type": "code",
   "execution_count": 34,
   "id": "2df8bc82",
   "metadata": {},
   "outputs": [],
   "source": [
    "all_results_df_f = all_results_df[['article_date', 'sectionName', 'article_title', 'article_url', 'article_author', 'text']].copy()"
   ]
  },
  {
   "cell_type": "code",
   "execution_count": 35,
   "id": "27601c35",
   "metadata": {},
   "outputs": [],
   "source": [
    "all_results_df_f = all_results_df_f[all_results_df_f.text != ''].reset_index(drop=True)"
   ]
  },
  {
   "cell_type": "code",
   "execution_count": null,
   "id": "8c9c02a1",
   "metadata": {},
   "outputs": [],
   "source": [
    "    "
   ]
  },
  {
   "cell_type": "code",
   "execution_count": 36,
   "id": "fbe8c109",
   "metadata": {},
   "outputs": [],
   "source": [
    "all_results_df_f.to_csv('../data/guardian_articles_23_06_20-23_06_30.csv', index=False)"
   ]
  },
  {
   "cell_type": "code",
   "execution_count": null,
   "id": "cb51aa09",
   "metadata": {},
   "outputs": [],
   "source": []
  }
 ],
 "metadata": {
  "kernelspec": {
   "display_name": "Python 3 (ipykernel)",
   "language": "python",
   "name": "python3"
  },
  "language_info": {
   "codemirror_mode": {
    "name": "ipython",
    "version": 3
   },
   "file_extension": ".py",
   "mimetype": "text/x-python",
   "name": "python",
   "nbconvert_exporter": "python",
   "pygments_lexer": "ipython3",
   "version": "3.8.16"
  }
 },
 "nbformat": 4,
 "nbformat_minor": 5
}
