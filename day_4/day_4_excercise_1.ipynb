{
 "cells": [
  {
   "cell_type": "markdown",
   "id": "0c65d1f7",
   "metadata": {},
   "source": [
    "# Tag 4 - Übung 1"
   ]
  },
  {
   "cell_type": "code",
   "execution_count": null,
   "id": "351fb148",
   "metadata": {},
   "outputs": [],
   "source": [
    "import pandas as pd\n",
    "import seaborn as sns\n",
    "import matplotlib.pyplot as plt"
   ]
  },
  {
   "cell_type": "code",
   "execution_count": null,
   "id": "4402b019",
   "metadata": {},
   "outputs": [],
   "source": [
    "df = pd.read_stata('../data/ALLBUS_2021.dta', convert_categoricals=False)[['sex', 'scage', 'rb07', 'pa01', 'incc']]"
   ]
  },
  {
   "cell_type": "code",
   "execution_count": null,
   "id": "0da129f6",
   "metadata": {},
   "outputs": [],
   "source": [
    "df = df[(df.sex >= 0) & (df.scage >= 0) & (df.rb07 >= 0) & (df.pa01 >= 0) & (df.incc >= 0)].reset_index(drop=True).copy()"
   ]
  },
  {
   "cell_type": "code",
   "execution_count": null,
   "id": "fa372ce4",
   "metadata": {},
   "outputs": [],
   "source": [
    "# rb07 RELIGIOSITAETSSKALA 1 nicht religiös - 10 religiös\n",
    "# pa01 LINKS-RECHTS-SELBSTEINSTUFUNG 1: links - 10 rechts\n",
    "# sex Geschlecht 1 männlich, 2 weiblich, 3 divers\n",
    "# scage Alter \n",
    "# incc Einkommen Kat"
   ]
  },
  {
   "cell_type": "markdown",
   "id": "47baec4c",
   "metadata": {},
   "source": [
    "Beantworten Sie mit einem Countplot (`sns.countplot()`) die folgende Frage: *Wie viele Männer und wie viele Frauen haben an der Umfrage teilgenommen?*"
   ]
  },
  {
   "cell_type": "code",
   "execution_count": null,
   "id": "dab527b4",
   "metadata": {},
   "outputs": [],
   "source": []
  },
  {
   "cell_type": "markdown",
   "id": "40779bb7",
   "metadata": {},
   "source": [
    "Ersetzen Sie mit hilfe eines Dictionaries und der `.replace()` Methode die Werte 1 durch \"männlich\", die Werte 2 durch \"weiblich\" und die Werte 3 durch \"divers\"."
   ]
  },
  {
   "cell_type": "code",
   "execution_count": null,
   "id": "af9310e3",
   "metadata": {},
   "outputs": [],
   "source": []
  },
  {
   "cell_type": "code",
   "execution_count": null,
   "id": "c3cc08b1",
   "metadata": {},
   "outputs": [],
   "source": []
  },
  {
   "cell_type": "markdown",
   "id": "c69d3de8",
   "metadata": {},
   "source": [
    "Erstelln Sie nun noch einmal den Countplot von eben nun mit den Labels. "
   ]
  },
  {
   "cell_type": "code",
   "execution_count": null,
   "id": "fce4c29c",
   "metadata": {},
   "outputs": [],
   "source": []
  },
  {
   "cell_type": "markdown",
   "id": "eb48497d",
   "metadata": {},
   "source": [
    " Beantworten Sie mit einem Countplot (`sns.countplot()`) die folgende Frage: Wie verteilt sich die Links-Rechts Einschätzung (`pa01`) über alle Teilnehmenden?"
   ]
  },
  {
   "cell_type": "code",
   "execution_count": null,
   "id": "6d31baf5",
   "metadata": {
    "scrolled": false
   },
   "outputs": [],
   "source": []
  },
  {
   "cell_type": "markdown",
   "id": "c78eca22",
   "metadata": {},
   "source": [
    " Beantworten Sie mit einem Boxplot (`sns.boxplot()`) die folgende Frage: Wie verteilt sich die Religiösität (`rb07`) über alle Teilnehmenden?"
   ]
  },
  {
   "cell_type": "code",
   "execution_count": null,
   "id": "e38ef04e",
   "metadata": {},
   "outputs": [],
   "source": []
  },
  {
   "cell_type": "markdown",
   "id": "8f75540f",
   "metadata": {},
   "source": [
    "Beantworten Sie mit einem Distplot (`sns.distplot()`) die folgende Frage: Gibt es Unterschiede in der Links-Rechts Einschätzung zwischen Männern und Frauen?"
   ]
  },
  {
   "cell_type": "code",
   "execution_count": null,
   "id": "b09df138",
   "metadata": {},
   "outputs": [],
   "source": []
  },
  {
   "cell_type": "markdown",
   "id": "94409d29",
   "metadata": {},
   "source": [
    "Erstellen Sie den Distplot von eben und verwenden Sie diesmal aber den Parameter `hue` und nicht `col` für die Geschlechtsvariable."
   ]
  },
  {
   "cell_type": "code",
   "execution_count": null,
   "id": "17ac9f7e",
   "metadata": {},
   "outputs": [],
   "source": []
  },
  {
   "cell_type": "markdown",
   "id": "241b6387",
   "metadata": {},
   "source": [
    "Beantworten Sie mit einem Boxplot (sns.boxplot()) die folgende Frage: *Gibt es Unterschiede in der Religiösität (`rb07`) zwischen den Geschlechtern?*"
   ]
  },
  {
   "cell_type": "code",
   "execution_count": null,
   "id": "2990ee12",
   "metadata": {},
   "outputs": [],
   "source": []
  },
  {
   "cell_type": "markdown",
   "id": "be05d3ab",
   "metadata": {},
   "source": [
    "Wie korrelieren die Variablen Alter (`scage`) und Einkommen (`incc`)?"
   ]
  },
  {
   "cell_type": "code",
   "execution_count": null,
   "id": "f2966eae",
   "metadata": {},
   "outputs": [],
   "source": []
  },
  {
   "cell_type": "code",
   "execution_count": null,
   "id": "c0803b45",
   "metadata": {},
   "outputs": [],
   "source": []
  },
  {
   "cell_type": "markdown",
   "id": "a5ec301e",
   "metadata": {},
   "source": [
    "Erstellen Sie eine Scatterplot mit dem Sie sich den Zusammenhang der Variablen Alter (`scage`) und Einkommen (`incc`) ansehen. Wie sieht der Zusammenhang aus?"
   ]
  },
  {
   "cell_type": "code",
   "execution_count": null,
   "id": "c7d42043",
   "metadata": {},
   "outputs": [],
   "source": []
  }
 ],
 "metadata": {
  "kernelspec": {
   "display_name": "Python 3 (ipykernel)",
   "language": "python",
   "name": "python3"
  },
  "language_info": {
   "codemirror_mode": {
    "name": "ipython",
    "version": 3
   },
   "file_extension": ".py",
   "mimetype": "text/x-python",
   "name": "python",
   "nbconvert_exporter": "python",
   "pygments_lexer": "ipython3",
   "version": "3.8.16"
  }
 },
 "nbformat": 4,
 "nbformat_minor": 5
}
